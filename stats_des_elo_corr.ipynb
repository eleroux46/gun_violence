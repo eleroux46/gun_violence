{
 "cells": [
  {
   "cell_type": "code",
   "execution_count": null,
   "metadata": {},
   "outputs": [],
   "source": [
    "import seaborn as sns\n"
   ]
  },
  {
   "cell_type": "markdown",
   "metadata": {},
   "source": [
    "### Attention ici c'est du code qui doit aller à la suite de stat_des_elo pour fonctionner mais je n'arrivais pas à le mettre sur git car le fichier est trop grand. Pour pouvoir résoudre le problème il va effectivement falloir imprimer les bases de travail en csv je pense mais quand j'ai essayé la première fois mon kernel n'a pas supporté. "
   ]
  },
  {
   "cell_type": "markdown",
   "metadata": {},
   "source": [
    "### Tentative de mise en avant de corrélations sans base supplémentaire"
   ]
  },
  {
   "cell_type": "code",
   "execution_count": null,
   "metadata": {},
   "outputs": [],
   "source": [
    "updated_base=updated_base.reset_index()\n"
   ]
  },
  {
   "cell_type": "code",
   "execution_count": null,
   "metadata": {},
   "outputs": [],
   "source": [
    "merge_sus=pd.merge(updated_base, df_suspects, how='outer', left_on='index', right_on='id')\n",
    "merge_sus.head()\n"
   ]
  },
  {
   "cell_type": "code",
   "execution_count": null,
   "metadata": {},
   "outputs": [],
   "source": [
    "merge_sus.rename(columns={'age_group':'age_group_sus', 'genre':'genre_sus', 'status':'status_sus'}, inplace=True)\n",
    "merge_sus.head()"
   ]
  },
  {
   "cell_type": "code",
   "execution_count": null,
   "metadata": {},
   "outputs": [],
   "source": [
    "merge_tot=pd.merge(merge_sus, df_victim, how='outer', right_on='id', left_on='index')\n"
   ]
  },
  {
   "cell_type": "code",
   "execution_count": null,
   "metadata": {},
   "outputs": [],
   "source": [
    "merge_tot.rename(columns={'id_x':'id_sus', 'id_y':'id_vict', 'age_group':'age_group_vict', 'genre':'genre_vict', 'status':'status_vict'}, inplace=True)"
   ]
  },
  {
   "cell_type": "code",
   "execution_count": null,
   "metadata": {},
   "outputs": [],
   "source": [
    "\n",
    "liste_var=['date', 'city_or_county', 'n_killed', 'n_injured', 'gun_stolen', 'gun_type', 'incident_characteristics',\n",
    "    \"n_guns_involved\", 'month_year', 'indic_suicide', 'age_group_sus', 'genre_sus', 'status_sus', 'age_group_vict', 'genre_vict', 'status_vict' ]"
   ]
  },
  {
   "cell_type": "code",
   "execution_count": null,
   "metadata": {},
   "outputs": [],
   "source": [
    "base_var=merge_tot[liste_var]\n",
    "base_var.head()"
   ]
  },
  {
   "cell_type": "markdown",
   "metadata": {},
   "source": [
    "Maintenant que les principales variables sont dans une même base, il va falloir transformer celles sur lesquelles on veut faire des corrélations en indicatrices. "
   ]
  },
  {
   "cell_type": "code",
   "execution_count": null,
   "metadata": {},
   "outputs": [],
   "source": [
    "def crea_indic(colonne, val1, nom_nouvelle_col):\n",
    "    liste_indic=[]\n",
    "    for i in base_var[colonne]:\n",
    "        #print(i,type(i))\n",
    "        \n",
    "        if i!=None:\n",
    "            if type(i)==str:\n",
    "                if val1 in i :\n",
    "                    liste_indic.append(1)\n",
    "                else:\n",
    "                    liste_indic.append(0)\n",
    "            else:\n",
    "                liste_indic.append(0)\n",
    "        else:\n",
    "            liste_indic.append(0)\n",
    "    base_var[nom_nouvelle_col]=liste_indic\n",
    "\n",
    "\n",
    "ATTETION UNE DIFFERENT POUR L'AGE ENTRE 18625\n",
    "            "
   ]
  },
  {
   "cell_type": "code",
   "execution_count": null,
   "metadata": {},
   "outputs": [],
   "source": [
    "transfo_indic=[('age_group_sus', 'Adult 18+', 'sus_adulte'),\n",
    "    ('age_group_vict', 'Adult 18+', 'vict_adulte'),\n",
    "    ('genre_sus', 'Male', 'sus_male'),\n",
    "    ('genre_vict', 'Male', 'vict_male'),\n",
    "    ('status_sus', 'Injured', 'sus_injured'),\n",
    "    ('status_sus', 'Arrested', 'sus_arrested'),\n",
    "    ('status_sus', 'Unharmed', 'sus_unharmed'),\n",
    "    ('status_sus', 'Killed', 'sus_killed'),\n",
    "    ('status_vict', 'Injured', 'vict_injured'),\n",
    "    ('status_vict', 'Arrested', 'vict_arrested'),\n",
    "    ('status_vict', 'Unharmed', 'vict_unharmed'),\n",
    "    ('status_vict', 'Killed', 'vict_killed'),\n",
    "    ('gun_type', 'Handgun', 'handgun_1'),\n",
    "    ('gun_type', 'Rifle', 'rifle_1'),\n",
    "    ('gun_type', '9mm', '9mm_1'),\n",
    "    ('gun_type', 'Shotgun', 'shotgun_1'),\n",
    "    ('gun_type_y', 'Handgun', 'handgun_2'),\n",
    "    ('gun_type_y', 'Rifle', 'rifle_2'),\n",
    "    ('gun_type_y', '9mm', '9mm_2'),\n",
    "    ('gun_type_y', 'Shotgun', 'shotgun_2')]\n",
    "\n",
    "for colonne, val1, nom_nouvelle_col in transfo_indic: \n",
    "    crea_indic(colonne, val1, nom_nouvelle_col)"
   ]
  },
  {
   "cell_type": "markdown",
   "metadata": {},
   "source": [
    "On pourrait également en faire sur le type d'arme mais je ne m'y suis pas penchée encore."
   ]
  },
  {
   "cell_type": "code",
   "execution_count": null,
   "metadata": {},
   "outputs": [],
   "source": [
    "base_var.head()\n",
    "var_non_num=['date', 'city_or_county', 'gun_stolen', 'gun_type', 'incident_characteristics', 'age_group_sus',\t'genre_sus',\n",
    "\t'status_sus',\t'age_group_vict',\t'genre_vict',\t'status_vict', 'month_year']"
   ]
  },
  {
   "cell_type": "code",
   "execution_count": null,
   "metadata": {},
   "outputs": [],
   "source": [
    "#pd.unique(base_var['n_guns_involved'])"
   ]
  },
  {
   "cell_type": "code",
   "execution_count": null,
   "metadata": {},
   "outputs": [],
   "source": [
    "g1 = sns.heatmap(base_var.drop(var_non_num, axis=1).corr(), cmap='coolwarm', annot=True, fmt=\".2f\")"
   ]
  },
  {
   "cell_type": "markdown",
   "metadata": {},
   "source": [
    "Pas convaincue de la pertinence de ce truc, les seuls ayant l'air un minimum creusables sont celles entre sus_male/vict_male à 0.39, sus_male/sus_arrested/sus_unharmed, vict_male/vict_injured, sus_arrested/sus_unharmed, vict_killed/indic_suicide, vict_killed/vict_male. (méthodo à revoir aussi car je mélange des indicatrices et des nombres non-normalisés donc jsp si d'un pdv mathématique c'est ok). "
   ]
  },
  {
   "cell_type": "code",
   "execution_count": null,
   "metadata": {},
   "outputs": [],
   "source": [
    "#g2 = pd.plotting.scatter_matrix(base_var.drop(var_non_num, axis=1), figsize = (15,15))"
   ]
  }
 ],
 "metadata": {
  "language_info": {
   "name": "python"
  }
 },
 "nbformat": 4,
 "nbformat_minor": 2
}
