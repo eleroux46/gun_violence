{
 "cells": [
  {
   "cell_type": "markdown",
   "metadata": {},
   "source": [
    "### Statistiques concernant les cararactéristiques des incidents ayant fait des victimes : comment expliquer le nombre de victimes en fonction de l'incident ?"
   ]
  },
  {
   "cell_type": "code",
   "execution_count": null,
   "metadata": {},
   "outputs": [],
   "source": [
    "import numpy as np\n",
    "import pandas as pd\n",
    "import geopandas as gpd\n",
    "import matplotlib.pyplot as plt\n",
    "from shapely.geometry import Point\n",
    "from plotly.offline import init_notebook_mode\n",
    "init_notebook_mode(connected= True)\n",
    "import plotly.express as px"
   ]
  },
  {
   "cell_type": "code",
   "execution_count": null,
   "metadata": {},
   "outputs": [],
   "source": [
    "pd.set_option('display.max_columns', None)"
   ]
  },
  {
   "cell_type": "code",
   "execution_count": null,
   "metadata": {},
   "outputs": [],
   "source": [
    "url=\"https://drive.google.com/file/d/1LO4i_-TkSmxnR0dgO5_lVLZ35FtGTNzA/view?usp=drive_link\"\n",
    "url=\"https://drive.google.com/uc?export=download&confirm=1&id=\" + url.split(\"/\")[-2]\n",
    "total_db = pd.read_csv(url)\n",
    "total_db.sample(5)"
   ]
  },
  {
   "cell_type": "code",
   "execution_count": null,
   "metadata": {},
   "outputs": [],
   "source": [
    "gun_violence_db = pd.read_csv('data/gun_violence_db.csv')\n",
    "gun_violence_db.sample(5)"
   ]
  },
  {
   "cell_type": "code",
   "execution_count": null,
   "metadata": {},
   "outputs": [],
   "source": [
    "from shapely import wkt\n",
    "def wkt_loads(x):\n",
    "    try:\n",
    "        return wkt.loads(x)\n",
    "    except Exception:\n",
    "        return None\n",
    "total_db = total_db.dropna(subset=['geometry'])\n",
    "total_db['geometry'] = total_db['geometry'].apply(wkt_loads)"
   ]
  },
  {
   "cell_type": "code",
   "execution_count": null,
   "metadata": {},
   "outputs": [],
   "source": [
    "total_db = total_db.loc[total_db['Etat'] != 'Alaska']\n",
    "total_db = total_db.loc[total_db['Etat'] != 'Hawaii']\n",
    "\n",
    "gun_violence_db = gun_violence_db.loc[gun_violence_db['state'] != 'Alaska']\n",
    "gun_violence_db = gun_violence_db.loc[gun_violence_db['state'] != 'Hawaii']\n"
   ]
  },
  {
   "cell_type": "code",
   "execution_count": null,
   "metadata": {},
   "outputs": [],
   "source": [
    "total_db_geo = (\n",
    "    gpd.GeoDataFrame(total_db)\n",
    "    .set_geometry('geometry')\n",
    "    .set_crs('EPSG:4269')\n",
    ")"
   ]
  },
  {
   "cell_type": "code",
   "execution_count": null,
   "metadata": {},
   "outputs": [],
   "source": [
    "#changement de valeur pour Richmond, Virginia car valeur aberrante de 8.755 alors qu'il y avait 204 214\thabitants en 2010\n",
    "total_db_geo.loc[total_db_geo['id_county'] == 30306, 'resident_pop_year_2013'] = 204.214 \n",
    "total_db_geo.loc[total_db_geo['id_county'] == 30306, 'resident_pop_year_2014'] = 204.214 \n",
    "total_db_geo.loc[total_db_geo['id_county'] == 30306, 'resident_pop_year_2015'] = 204.214 \n",
    "total_db_geo.loc[total_db_geo['id_county'] == 30306, 'resident_pop_year_2016'] = 204.214 \n",
    "total_db_geo.loc[total_db_geo['id_county'] == 30306, 'resident_pop_year_2017'] = 204.214 \n",
    "total_db_geo.loc[total_db_geo['id_county'] == 30306, 'resident_pop_year_2018'] = 204.214"
   ]
  },
  {
   "cell_type": "code",
   "execution_count": null,
   "metadata": {},
   "outputs": [],
   "source": [
    "total_pop=total_db_geo.groupby('Etat').agg({'resident_pop_year_2015':'sum'}).reset_index()\n",
    "total_pop.rename(columns={'resident_pop_year_2015':'pop_state_2015'}, inplace=True)\n",
    "total_pop"
   ]
  },
  {
   "cell_type": "code",
   "execution_count": null,
   "metadata": {},
   "outputs": [],
   "source": [
    "total_db_geo=total_db_geo.merge(total_pop, on ='Etat', how='left')"
   ]
  },
  {
   "cell_type": "code",
   "execution_count": null,
   "metadata": {},
   "outputs": [],
   "source": [
    "from shapely.geometry import Point\n",
    "\n",
    "geometry = [Point(xy) for xy in zip(gun_violence_db['longitude'], gun_violence_db['latitude'])]\n",
    "gun_violence_geo = gpd.GeoDataFrame(gun_violence_db, geometry=geometry, crs='EPSG:4326')\n",
    "\n",
    "gun_violence_geo = gun_violence_geo.set_crs('EPSG:4326')\n",
    "gun_violence_geo = gun_violence_geo[gun_violence_geo.geometry.x <= -50]"
   ]
  },
  {
   "cell_type": "code",
   "execution_count": null,
   "metadata": {},
   "outputs": [],
   "source": [
    "total_db_geo=total_db_geo.to_crs('EPSG:4326')"
   ]
  },
  {
   "cell_type": "code",
   "execution_count": null,
   "metadata": {},
   "outputs": [],
   "source": [
    "merge_geo = gpd.sjoin(gun_violence_geo, total_db_geo, predicate='within')\n",
    "merge_geo.to_csv('rendu_final/data/merge_geo.csv')"
   ]
  },
  {
   "cell_type": "code",
   "execution_count": null,
   "metadata": {},
   "outputs": [],
   "source": [
    "geom_county=total_db_geo[['id_county','geometry']]\n",
    "geom_county.head()"
   ]
  },
  {
   "cell_type": "code",
   "execution_count": null,
   "metadata": {},
   "outputs": [],
   "source": [
    "merge_geo2=pd.merge(merge_geo, geom_county, on='id_county')\n",
    "merge_geo2.head()"
   ]
  },
  {
   "cell_type": "code",
   "execution_count": null,
   "metadata": {},
   "outputs": [],
   "source": [
    "merge_geo = merge_geo2.rename(columns={'geometry_x': 'point_geometry', 'geometry_y': 'polygon_geometry'})\n",
    "merge_geo.head()"
   ]
  },
  {
   "cell_type": "code",
   "execution_count": null,
   "metadata": {},
   "outputs": [],
   "source": [
    "base_totale=merge_geo.copy()"
   ]
  },
  {
   "cell_type": "markdown",
   "metadata": {},
   "source": [
    "## Après cet import et traitement rapide des données, on peut passer aux statistiques"
   ]
  },
  {
   "cell_type": "code",
   "execution_count": null,
   "metadata": {},
   "outputs": [],
   "source": [
    "print(\"I. Les dates des incidents peuvent-elles avoir un effet sur les conséquences de celui-ci ? \\n \\n Nous allons commencer cette analyse des conséquences des incidents en termes de victimes (blessés et morts) par l'étude des effets potentiels de la date sur le nombre et la gravité des incidents.\")"
   ]
  },
  {
   "cell_type": "code",
   "execution_count": null,
   "metadata": {},
   "outputs": [],
   "source": [
    "base_totale['date']=pd.to_datetime(base_totale['date'])"
   ]
  },
  {
   "cell_type": "code",
   "execution_count": null,
   "metadata": {},
   "outputs": [],
   "source": [
    "grouped_data = base_totale.groupby(base_totale['date'].dt.year).agg({\n",
    "    'n_injured': 'sum',\n",
    "    'n_killed': 'sum'\n",
    "}).reset_index()\n",
    "\n",
    "fig1 = px.bar(\n",
    "    grouped_data,\n",
    "    x=grouped_data['date'],\n",
    "    y=['n_injured', 'n_killed'],\n",
    "    labels={\"date\": \"année\", \"value\": \"Nombre de victimes\", \"variable\": \"Type de victime\"},\n",
    "    title=\"Nombre de victimes d'incidents par arme à feu par an\",\n",
    "    color_discrete_map={\"n_injured\": \"firebrick\", \"n_killed\": \"steelblue\"},\n",
    ")\n",
    "\n",
    "fig1.update_layout(barmode='group')  # Display bars side by side\n",
    "\n",
    "fig1.show()\n"
   ]
  },
  {
   "cell_type": "code",
   "execution_count": null,
   "metadata": {},
   "outputs": [],
   "source": [
    "print(\"Ce graphique nous montre que, non seulement le nombre d'incidents par arme à feu augmente sur nos 4 années complètes considérées, mais que le nombre de victimes (blessés et tués) augmente également.\\nAinsi, les conséquences de ces incidents touchent de plus en plus d'individus au fur et à mesure des années.\")"
   ]
  },
  {
   "cell_type": "code",
   "execution_count": null,
   "metadata": {},
   "outputs": [],
   "source": [
    "grouped_data2 = base_totale.groupby(base_totale['date'].dt.year).agg({\n",
    "    'n_injured': 'mean',\n",
    "    'n_killed': 'mean'\n",
    "}).reset_index()\n",
    "\n",
    "grouped_data2=grouped_data2.loc[grouped_data2['date'].isin([2014,2015,2016,2017])]\n",
    "\n",
    "fig2 = px.bar(\n",
    "    grouped_data2,\n",
    "    x=grouped_data2['date'],\n",
    "    y=['n_injured', 'n_killed'],\n",
    "    labels={\"date\": \"mois\", \"value\": \"Moyenne de victimes par incident\", \"variable\": \"Type de victime\"},\n",
    "    title=\"Nombre moyen de victimes par incident par arme à feu par an\",\n",
    "    color_discrete_map={\"n_injured\": \"firebrick\", \"n_killed\": \"steelblue\"},\n",
    ")\n",
    "\n",
    "fig2.update_layout(barmode='group')  # Display bars side by side\n",
    "\n",
    "fig2.show()"
   ]
  },
  {
   "cell_type": "code",
   "execution_count": null,
   "metadata": {},
   "outputs": [],
   "source": [
    "print(\"Ce second graphique nous montre que l'augmentation des victimes repérée précédemment est liée quasiment exclusivement à l'augementation du nombre d'incident, car le nombre de victime par incident reste relativement stable sur les 4 années observées, mis à part une légèrement augementation du nombre de blessés moyen par incident entre 2014 et 2015.\")"
   ]
  },
  {
   "cell_type": "code",
   "execution_count": null,
   "metadata": {},
   "outputs": [],
   "source": [
    "grouped_data3 = base_totale.loc[base_totale['date'].dt.year.isin([2014,2015,2016,2017])].groupby(\n",
    "    base_totale['date'].dt.month).agg({\n",
    "    'n_injured': 'sum',\n",
    "    'n_killed': 'sum'\n",
    "}).reset_index()\n",
    "\n",
    "\n",
    "fig3 = px.bar(\n",
    "    grouped_data3,\n",
    "    x=grouped_data3['date'],\n",
    "    y=['n_injured', 'n_killed'],\n",
    "    labels={\"date\": \"Mois\", \"value\": \"Nombre de victimes\", \"variable\": \"Type de victime\"},\n",
    "    title=\"Nombre de victimes d'incidents par arme à feu par mois (cumulé de 2014 à 2017)\",\n",
    "    color_discrete_map={\"n_injured\": \"firebrick\", \"n_killed\": \"steelblue\"},\n",
    ")\n",
    "\n",
    "fig3.update_layout(barmode='group')  # Display bars side by side\n",
    "\n",
    "fig3.show()\n",
    "\n"
   ]
  },
  {
   "cell_type": "code",
   "execution_count": null,
   "metadata": {},
   "outputs": [],
   "source": [
    "grouped_data4 = base_totale.loc[base_totale['date'].dt.year.isin([2014,2015,2016,2017])].groupby(\n",
    "    base_totale['date'].dt.month).agg({\n",
    "    'n_injured': 'mean',\n",
    "    'n_killed': 'mean'\n",
    "}).reset_index()\n",
    "\n",
    "\n",
    "fig4 = px.bar(\n",
    "    grouped_data4,\n",
    "    x=grouped_data4['date'],\n",
    "    y=['n_injured', 'n_killed'],\n",
    "    labels={\"date\": \"année\", \"value\": \"Nombre moyen de victimes par incident\", \"variable\": \"Type de victime\"},\n",
    "    title=\"Moyenne de victimes d'incident par arme à feu par mois (entre 2014 et 2017)\",\n",
    "    color_discrete_map={\"n_injured\": \"firebrick\", \"n_killed\": \"steelblue\"},\n",
    ")\n",
    "\n",
    "fig4.update_layout(barmode='group')  # Display bars side by side\n",
    "\n",
    "fig4.show()"
   ]
  },
  {
   "cell_type": "code",
   "execution_count": null,
   "metadata": {},
   "outputs": [],
   "source": [
    "print(\"On retrouve ici la même variation que pour le nombre d'incidents : il y a plus de blessés et de morts par arme à feu pendant l'été aux Etats-Unis que pendant l'hiver. \\nDe plus, même si le nombre de morts par incident reste stable autour de 0,25, le nombre moyen de victimes par incident varie de 0.46 en Février à 0.55 en Juillet. \\nIl semble donc exister un effet de la saisonnalité sur le nombre d'incidents mais également sur leur gravité et leurs conséquences en termes de victimes.\")"
   ]
  },
  {
   "cell_type": "code",
   "execution_count": null,
   "metadata": {},
   "outputs": [],
   "source": [
    "print(\"\\n II. Le type d'armes utilisé influe-t-il le nombre de victimes lors d'un incident ? \\n\")"
   ]
  },
  {
   "cell_type": "code",
   "execution_count": null,
   "metadata": {},
   "outputs": [],
   "source": [
    "grouped_data5 = base_totale.groupby('gun_type').agg({\n",
    "    'n_injured': 'sum',\n",
    "    'n_killed': 'sum'\n",
    "}).reset_index()\n",
    "\n",
    "\n",
    "fig5 = px.bar(\n",
    "    grouped_data5,\n",
    "    x=grouped_data5['gun_type'],\n",
    "    y=['n_injured', 'n_killed'],\n",
    "    labels={\"gun_type\": \"Arme\", \"value\": \"Nombre de victimes\", \"variable\": \"Type de victime\"},\n",
    "    title=\"Nombre de victimes en fonction de l'arme à feu\",\n",
    "    color_discrete_map={\"n_injured\": \"firebrick\", \"n_killed\": \"steelblue\"},\n",
    ")\n",
    "\n",
    "fig5.update_layout(barmode='group')  # Display bars side by side\n",
    "\n",
    "fig5.show()"
   ]
  },
  {
   "cell_type": "code",
   "execution_count": null,
   "metadata": {},
   "outputs": [],
   "source": [
    "print(\"Ce graphique, en échelle logarithmique pour la lisibilité, nous montre que, de manière générale, les armes utilisées font un nombre similaire de blessés et de morts. Il n'y a donc pas d'arme qui ne fasse que des blessés mais pas de mort et inversement. \\n De plus,les quatre types d'armes faisant le plus de victimes sont les mêmes que celles présentes dans le plus d'incidents (Handgun, Rifle, Shotgun, 9mm).\")"
   ]
  },
  {
   "cell_type": "code",
   "execution_count": null,
   "metadata": {},
   "outputs": [],
   "source": [
    "grouped_data6 = base_totale.groupby('gun_type').agg({\n",
    "    'n_injured': 'mean',\n",
    "    'n_killed': 'mean'\n",
    "}).reset_index()\n",
    "\n",
    "\n",
    "fig6 = px.bar(\n",
    "    grouped_data6,\n",
    "    x=grouped_data6['gun_type'],\n",
    "    y=['n_injured', 'n_killed'],\n",
    "    labels={\"gun_type\": \"Arme\", \"value\": \"Nombre moyen de victimes par incident\", \"variable\": \"Type de victime\"},\n",
    "    title=\"Nombre moyen de victimes par incident en fonction de l'arme à feu\",\n",
    "    color_discrete_map={\"n_injured\": \"firebrick\", \"n_killed\": \"steelblue\"},\n",
    ")\n",
    "\n",
    "fig6.update_layout(barmode='group')  # Display bars side by side\n",
    "\n",
    "fig6.show()"
   ]
  },
  {
   "cell_type": "code",
   "execution_count": null,
   "metadata": {},
   "outputs": [],
   "source": [
    "print(\"Concernant les types d'armes qui étaient significatives en termes de nombre de victimes, on remarque que celle qui fait le plus de blessés et de morts en moyenne est la carabine ('Rifle'), suivie du fusil de chasse ('Shotgun'). \\n Ces deux armes sont des armes militaires ou de chasse, elles sont donc probablement possédées par des personnes plus à l'aise avec les armes ou plus puissantes, ce qui pourrait expliquer qu'elles fassent plus de victimes. \\n L'arme de poing fait mois de blessés et morts en moyenne que ces deux armes précédentes et le '9mm' fait particulièrement peu de victimes en moyenne en comparaison avec les autres. \\n Il ne faut pas oublier la catégorie 'arme inconnue' qui fait plus de victimes en moyenne que la carabine et qui représente un échantillon bien plus grand.\")"
   ]
  },
  {
   "cell_type": "code",
   "execution_count": null,
   "metadata": {},
   "outputs": [],
   "source": [
    "grouped_data7 = base_totale.groupby('young_sus').agg({\n",
    "    'n_injured': 'mean',\n",
    "    'n_killed': 'mean',\n",
    "    'pop_state_2015':'first'\n",
    "}).reset_index()\n",
    "\n",
    "fig7 = px.bar(\n",
    "    grouped_data7,\n",
    "    x=grouped_data7['young_sus'],\n",
    "    y=['n_injured', 'n_killed'],\n",
    "    labels={\"young_sus\": \"Suspect entre 18 et 25 ans (1)\", \"value\": \"Moyenne du nombre de victimes\", \"variable\": \"Type de victime\"},\n",
    "    title=\"Nombre moyen de victimes en fonction de l'âge du suspect\",\n",
    "    color_discrete_map={\"n_injured\": \"firebrick\", \"n_killed\": \"steelblue\"},\n",
    ")\n",
    "\n",
    "fig7.update_layout(barmode='group')  # Display bars side by side\n",
    "\n",
    "fig7.show()"
   ]
  },
  {
   "cell_type": "code",
   "execution_count": null,
   "metadata": {},
   "outputs": [],
   "source": [
    "print(\"Lorsque le suspect est jeune, entre 18 et 25 ans, il provoque en moyenne plus de morts lors d'un incident par arme à feu que lorsqu'il appartient à une autre catégorie d'âge (0.28 contre 0.24). \\n Néanmoins, un suspect entre 18 et 25 ans fait, en moyenne, moins de blessés qu'un autre type de suspect (0.38 contre 0.53).\")"
   ]
  },
  {
   "cell_type": "code",
   "execution_count": null,
   "metadata": {},
   "outputs": [],
   "source": [
    "print(\" \\n IV. Les circonstances de l'incident par arme à feu influencent-elles ses conséquences ? \\n \")"
   ]
  },
  {
   "cell_type": "code",
   "execution_count": null,
   "metadata": {},
   "outputs": [],
   "source": [
    "grouped_data8 = base_totale.groupby('relation').agg({\n",
    "    'n_injured': 'mean',\n",
    "    'n_killed':'mean'\n",
    "}).reset_index()\n",
    "\n",
    "\n",
    "fig8 = px.bar(\n",
    "    grouped_data8,\n",
    "    x=grouped_data8['relation'],\n",
    "    y=['n_injured', 'n_killed'],\n",
    "    labels={\"relation\": \"Relation entre suspect(s) et victime(s)\", \"value\": \"Moyenne du nombre de victimes\", \"variable\": \"Type de victime\"},\n",
    "    title=\"Nombre moyen de victimes en fonction de la relation du suspect aux victimes\",\n",
    "    color_discrete_map={\"n_injured\": \"firebrick\", \"n_killed\": \"steelblue\"},\n",
    ")\n",
    "\n",
    "fig8.update_layout(barmode='group')  # Display bars side by side\n",
    "\n",
    "fig8.show()"
   ]
  },
  {
   "cell_type": "code",
   "execution_count": null,
   "metadata": {},
   "outputs": [],
   "source": [
    "print(\"Ce graphique mets en évidence de fortes disparités de conséquences selon les différents types d'incidents par arme à feu, ici caractérisés par les différentes relation du suspect aux victimes. \\nEn effet, on remarque que le type d'incident provoquant, en moyenne, le plus de blessés et de morts est la tuerie de masse. Lorsque le suspect connaît les victimes, celles-ci ont plus de chances de mourir que d'être blessées (en moyenne presque 3 morts mais 1 blessé) alors que quand les victimes sont inconnues, celles-ci ont plus de chances d'être blessées que tuées (en moyenne 4 blessés mais 1.4 morts). \\nLe deuxième type d'incident par arme à feu provoquant le plus de morts sont les incidents dans le cadre familial. Lorsque la victime et un(e) (ex-)partnaire du suspect, il y a en moyenne 0.7 morts (et 0.3 blessés) et lorsqu'elle fait partie de la famille du suspect, il y a en moyenne 0.8 morts (et 0.4 blessés). \\nAinsi, les violences conjugales et intrafamiliales font partie des violences par arme à feu les plus meurtrières, avant les violences entre gangs, par exemple. \\nAprès les tueries de masse, les incidents par arme à feu provoquant le plus de blessés sont les violences de gangs (0.8 blessés et 0.47 morts en moyenne) puis les vols à main armée (0.7 blessés et 0.2 morts en moyenne).\")"
   ]
  },
  {
   "cell_type": "code",
   "execution_count": null,
   "metadata": {},
   "outputs": [],
   "source": [
    "grouped_data9 = base_totale.groupby('relation').agg({\n",
    "    'n_injured': 'sum',\n",
    "    'n_killed': 'sum'\n",
    "}).reset_index()\n",
    "\n",
    "\n",
    "fig9 = px.bar(\n",
    "    grouped_data9,\n",
    "    x=grouped_data9['relation'],\n",
    "    y=['n_injured', 'n_killed'],\n",
    "    labels={\"relation\": \"Relation entre suspect(s) et victime(s)\", \"value\": \"nombre de victimes\", \"variable\": \"Type de victime\"},\n",
    "    title=\"Nombre de victimes en fonction de la relation du suspect aux victimes\",\n",
    "    color_discrete_map={\"n_injured\": \"firebrick\", \"n_killed\": \"steelblue\"}\n",
    ")\n",
    "\n",
    "fig9.update_layout(barmode='group')  # Display bars side by side\n",
    "\n",
    "fig9.show()"
   ]
  },
  {
   "cell_type": "code",
   "execution_count": null,
   "metadata": {},
   "outputs": [],
   "source": [
    "print(f\"Ce graphique reprenant la même classification des types d'incidents par arme à feu que le précédent permet de se rendre compte des conséquences de ces incidents à l'échelle agrégée plutôt qu'en moyenne. \\nLe type d'incidents provoquant le plus de blessés est alors le vol à main armé ({3535/grouped_data9['n_injured'].sum()*100}% des blessés dont la relation avec le suspect est précisée), notamment en raison de leur fréquence très élevée. \\nLes violences conjugales et intrafamiliales sont le type d'incident par arme à feu le plus meurtrier ({(3009+2556)/grouped_data9['n_killed'].sum()*100}% des morts dont on connaît la relation au suspect).\")"
   ]
  },
  {
   "cell_type": "code",
   "execution_count": null,
   "metadata": {},
   "outputs": [],
   "source": [
    "print(\"\\nV. Les conséquences d'un incident dépendent-elles de l'Etat dans lequel celui-ci s'est déroulé ?\\n \\nCette analyse des incidents en fonction des Etats sera complétée par une visualisation cartographique dans la partie suivante. \\nIntéressons nous d'abord aux nombre de victimes des incidents par arme à feu dans chaque Etat.\")"
   ]
  },
  {
   "cell_type": "code",
   "execution_count": null,
   "metadata": {},
   "outputs": [],
   "source": [
    "grouped_data10 = base_totale.groupby('state').agg({\n",
    "    'n_injured': 'sum',\n",
    "    'n_killed': 'sum'\n",
    "}).reset_index()\n",
    "\n",
    "\n",
    "fig10 = px.bar(\n",
    "    grouped_data10,\n",
    "    x=grouped_data10['state'],\n",
    "    y=['n_injured', 'n_killed'],\n",
    "    labels={\"state\": \"Etat\", \"value\": \"Nombre de victimes par incident\", \"variable\": \"Type de victime\"},\n",
    "    title=\"Nombre de victimes d'incident par arme à feu par Etat\",\n",
    "    color_discrete_map={\"n_injured\": \"firebrick\", \"n_killed\": \"steelblue\"},\n",
    ")\n",
    "\n",
    "fig10.update_layout(barmode='group')  # Display bars side by side\n",
    "\n",
    "fig10.show()"
   ]
  },
  {
   "cell_type": "code",
   "execution_count": null,
   "metadata": {},
   "outputs": [],
   "source": [
    "print(\"Ce graphique mets en évidence les Etats dans lesquels les victimes sont les plus nombreuses. Les Etats dans lesquels il y a eu le plus de blessés sont l'Illinois, le Maryland, la Virginie et le Missouri alors que ceux dans lesquels il y a eu le plus de morts sont la Californie, le Missouri, le Maryland, la Virginie et le Texas. \\nOn voit déjà ici que selon l'endroit où un incident par arme à feu se déroule, il n'a pas les mêmes conséquences. Il y a donc des caractéristiques spécifiques aux Etats qui doivent expliquer ces différences. \\nOn peut également remarquer que ces Etats ne sont pas exactement les mêmes que ceux dans lesquels il y a le plus d'incidents par arme à feu, un incident ne semble donc pas avoir la même gravité en termes de conséquences partout.\")"
   ]
  },
  {
   "cell_type": "code",
   "execution_count": null,
   "metadata": {},
   "outputs": [],
   "source": [
    "grouped_data11 = base_totale.groupby('state').agg({\n",
    "    'n_injured': 'mean',\n",
    "    'n_killed': 'mean'\n",
    "}).reset_index()\n",
    "\n",
    "\n",
    "fig11 = px.bar(\n",
    "    grouped_data11,\n",
    "    x=grouped_data11['state'],\n",
    "    y=['n_injured', 'n_killed'],\n",
    "    labels={\"state\": \"Etat\", \"value\": \"Moyenne du nombre de victimes par incident\", \"variable\": \"Type de victime\"},\n",
    "    title=\"Nombre moyen de victimes par incident par arme à feu par Etat\",\n",
    "    color_discrete_map={\"n_injured\": \"firebrick\", \"n_killed\": \"steelblue\"},\n",
    ")\n",
    "\n",
    "fig11.update_layout(barmode='group')  # Display bars side by side\n",
    "\n",
    "fig11.show()"
   ]
  },
  {
   "cell_type": "code",
   "execution_count": null,
   "metadata": {},
   "outputs": [],
   "source": [
    "print(\"Même si les disparités entre Etats se sont atténuées par rapport au graphique précédent, ce graphique nous permet tout de même de mettre en évidence des différences en terme de nombre moyen de victimes par incident. \\nAinsi, dans l'Illinois, les incidents font en moyenne plus de blessés que dans les autres Etats (presque 0,8 par incident) alors qu'ils font relativement peu de morts (0,18). \\nAu contraire, dans certains Etats tels que l'Arizona, les incidents font un nombre moyen de blessés (0.46) mais la moyenne de morts par incident est très élevée (quasiment 0,47 par incident). \\nLes taux de mortalité et de 'blessure' d'un incident varient donc beaucoup d'un Etat à l'autre, et ne sont pas nécessairement corrélés. Dans certains Etats, les incidents font peu de morts et peu de blessés (Maine, New Hampshire), \\ndans d'autres ils font beaucoup de blessés et de morts (Arizona), dans d'autres encore ils font beaucoup de blessés et peu de morts (Illinois, Maryland) et finalement ils peuvent même faire plus de morts que de blessés en moyenne (Wyoming, Montana, Idaho).\")"
   ]
  },
  {
   "cell_type": "code",
   "execution_count": null,
   "metadata": {},
   "outputs": [],
   "source": [
    "grouped_data12 = base_totale.groupby('state').agg({\n",
    "    'n_injured': 'sum',\n",
    "    'n_killed': 'sum',\n",
    "    'pop_state_2015':'first'\n",
    "}).reset_index()\n",
    "grouped_data12['injured_per_100K']=grouped_data12[\"n_injured\"]/grouped_data12['pop_state_2015']*100\n",
    "grouped_data12['killed_per_100K']=grouped_data12[\"n_killed\"]/grouped_data12['pop_state_2015']*100\n",
    "\n",
    "fig12 = px.bar(\n",
    "    grouped_data12,\n",
    "    x=grouped_data12['state'],\n",
    "    y=['injured_per_100K', 'killed_per_100K'],\n",
    "    labels={\"state\": \"Etat\", \"value\": \"nombre de victimes pour 100 000 habitants\", \"variable\": \"Type de victime\"},\n",
    "    title=\"Nombre de victimes d'incident par arme à feu pour 100 000 habitants par Etat\",\n",
    "    color_discrete_map={\"injured_per_100K\": \"firebrick\", \"killed_per_100K\": \"steelblue\"},\n",
    ")\n",
    "\n",
    "fig12.update_layout(barmode='group')  # Display bars side by side\n",
    "\n",
    "fig12.show()"
   ]
  },
  {
   "cell_type": "code",
   "execution_count": null,
   "metadata": {},
   "outputs": [],
   "source": [
    "print(\"Ce graphique mets en évidence les Etats ayant le plus de blessés et de tués lors d'incidents par arme à feu pour 100 000 habitants. \\nL'Etat District of Columbia est ici un outlier, alors qu'il ne l'était pas dans les autres mesures des conséquences des incidents, ce qui pourrait indiquer une erreur ou simplement une très forte concentration de victimes en comparaison à la taille de l'Etat. \\nOn retrouve les Etats du Maryland, Missouri, Virginie et Illinois comme ceux dans lesquels les incidents par arme à feu font le plus de blessés et de morts. \\nEn dehors de ces 11 Etats dans lesquels les incidents par arme à feu ont fait plus de 50 blessés pour 100 000  habitants entre 2013 et 2018, les autres sont tous relativement similaires et les incidents qui s'y déroulent ont provoqué entre 5 et 35 blessés pour 100 000 habitants.\")"
   ]
  },
  {
   "cell_type": "code",
   "execution_count": null,
   "metadata": {},
   "outputs": [],
   "source": [
    "grouped_data13 = base_totale.groupby('state').agg({\n",
    "    'n_killed': 'mean',\n",
    "    'indic_suicide':'mean'\n",
    "}).reset_index()\n",
    "\n",
    "\n",
    "fig13 = px.bar(\n",
    "    grouped_data13,\n",
    "    x=grouped_data13['state'],\n",
    "    y=['n_killed', 'indic_suicide'],\n",
    "    labels={\"state\": \"Etat\", \"value\": \"Moyenne du nb de morts par incident, taux de suicide\", \"variable\": \"Décès\"},\n",
    "    title=\"Comparaison du nombre moyen de morts par incident et du taux de suicide parmi les incidents, par Etat\",\n",
    "    color_discrete_map={\"n_killed\": \"firebrick\", \"indic_suicide\": \"steelblue\"},\n",
    ")\n",
    "\n",
    "fig13.update_layout(barmode='group')  # Display bars side by side\n",
    "\n",
    "fig13.show()"
   ]
  },
  {
   "cell_type": "code",
   "execution_count": null,
   "metadata": {},
   "outputs": [],
   "source": [
    "print(f\"La proportion de suicide parmi les incidents varie largement d'un Etat à l'autre, probablement en raison de caractéristiques socio-démographiques et économiques de ces Etats. On voit que cette proportion est la plus élevée dans l'Arizona (0.28), le Nevada, le Texas, l'Utah et l'Idaho. \\nCette proportion est fortement corrélée au nombre de morts ({base_totale['indic_suicide'].corr(base_totale['n_killed'])}), ce qui est logique car la réalisation d'un suicide implique au moins un mort, mais elle est également négativement corrélée au nombre de blessés ({base_totale['indic_suicide'].corr(base_totale['n_injured'])}), \\nce qui pourrait expliquer, en partie, pourquoi ces Etats précédemment mentionnés font partie de ceux dans lesquels le nombre de blessés et le nombre de morts par arme à feu sont relativement proches, au contraires d'Etats dans lesquels le nombre de blessés est largement supérieur à celui des morts.\")"
   ]
  }
 ],
 "metadata": {
  "kernelspec": {
   "display_name": "base",
   "language": "python",
   "name": "python3"
  },
  "language_info": {
   "codemirror_mode": {
    "name": "ipython",
    "version": 3
   },
   "file_extension": ".py",
   "mimetype": "text/x-python",
   "name": "python",
   "nbconvert_exporter": "python",
   "pygments_lexer": "ipython3",
   "version": "3.10.13"
  }
 },
 "nbformat": 4,
 "nbformat_minor": 2
}
