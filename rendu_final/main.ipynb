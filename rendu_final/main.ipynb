{
 "cells": [
  {
   "cell_type": "markdown",
   "metadata": {},
   "source": [
    "# Comment expliquer la violence par armes à feu aux Etats-Unis ?\n",
    "\n",
    "*Python pour la data science - Matis Bruneau, Eloïse Leroux, Matthieu Grenier - 2023-2024*\n",
    "\n",
    "Au cours de ce projet, nous essayons de fournir des éléments de réponse autour de la question de la violence par armes à feu aux Etats-Unis. Autrement dit, est-il possible d'identifier certains facteurs à l'origine de ces indicidents ? Deux questions majeures traversent cette analyse : 1) Peut-on prédire la fréquence de ces incidents ? 2) Peut-on prédire les conséquences humaines et matérielles de ces incidents ?\n",
    "\n",
    "Ce projet est motivé par une [base de données](https://github.com/jamesqo/gun-violence-data) recensant tous les incidents impliquant des armes à feu ayant survenu aux Etats-Unis entre 2013 et 2018, soit près de 260 000 entrées.\n",
    "\n",
    "\n",
    "Afin d'en proposer une étude cohérente, nous nous appuyons sur plusieurs autres sources de données : une série de données socio-économiques auprès des comtés américains, leur positionnement politique, le nombre de *background checks* par Etat, et une synthèse des différences de législation entre Etats."
   ]
  },
  {
   "cell_type": "markdown",
   "metadata": {},
   "source": [
    "## 1 - Récupération et traitement des données\n",
    "\n",
    "Une première phase d'extraction et de traitement de nos données est nécessaire avant de pouvoir produire une quelconque analyse sur le sujet. En effet, nous nous appuyons sur 5 bases de données différentes, toutes en accès public :\n",
    "\n",
    "| Nom de la base  | Description  | Source  | Mode d'extraction  |\n",
    "|---|---|---|---|\n",
    "| gun_violence_db   | Incidents par armes à feu aux USA entre 2013 et 2018  |  Gun Violence Archive | CSV  |\n",
    "|  counties_db   | Caractéristiques socio-économiques des comtés américains  | FRED (Federal Reserve Economic Data)  | API   |\n",
    "| geo_counties  |  Fonds de cartes des comtés américains  | United States Census Bureau  | SHP  |\n",
    "| legislation_db  | Différences de législation entre Etats concernant les armes à feu   | Boston University School of Public Health  | CSV  |\n",
    "| bg_checks_db | Nombre de *background checks* réalisés par le FBI  | FBI  |  CSV |\n",
    "| vote_db   | Part de vote démocrate et républicain par comté  | GitHub  (FOX News) | CSV  |  \n",
    "\n",
    "La grande majorité des variables d'intérêt contenues dans ces bases de données sont retenues sur la même plage temporelle que celle des données principales analysées (2013-2018). Seule la base legislation_db ne conserve que les données de l'année 2015, en retenant les lois anti-armes à feu en vigueur au cours de cette année.\n",
    "\n",
    "Pour la plupart des données, les fichiers CSV sont directement téléchargés. Nénanoins l'API FRED présente un nombre de requêtes limité par minute, c'est pourquoi il n'est pas conseillé (à moins d'avoir 2h30 devant soi) de réexécuter le code des cellules concernées.\n",
    "\n",
    "Le développement complet sur le mode d'extraction ainsi que les codes associés peut être trouvé sur [ce notebook](./traitements_donnes.ipynb).\n"
   ]
  },
  {
   "cell_type": "markdown",
   "metadata": {},
   "source": [
    "## 2 - Analyse prédictive de la violence armée en fonction des caractéristiques individuelles\n",
    "\n",
    "Dans cette partie, nous essayons de décrire les tendances générales des incidents pour pouvoir commencer le travail d'élaboration de notre modèle prédictif. Nous étudions d'abord la réalisation des incidents, c'est-à-dire les caractéristiques générales les entourant. Puis, nous étudions les conséquences humaines de la réalisation de ces incidents."
   ]
  },
  {
   "cell_type": "markdown",
   "metadata": {},
   "source": [
    "### A) Fréquence des incidents "
   ]
  },
  {
   "cell_type": "code",
   "execution_count": null,
   "metadata": {},
   "outputs": [],
   "source": [
    "%run 1_traitement_gun_violence.ipynb"
   ]
  },
  {
   "cell_type": "code",
   "execution_count": null,
   "metadata": {},
   "outputs": [],
   "source": [
    "%run 1_stat_desc_gun_violence.ipynb"
   ]
  },
  {
   "cell_type": "markdown",
   "metadata": {},
   "source": [
    "### B) Conséquences humaines des incidents"
   ]
  },
  {
   "cell_type": "code",
   "execution_count": null,
   "metadata": {},
   "outputs": [],
   "source": [
    "%run 2_stat_des_consequences.ipynb"
   ]
  },
  {
   "cell_type": "markdown",
   "metadata": {},
   "source": [
    "## 3 - Analyse prédictive de la violence par armes à feu à partir des caractéristiques structurelles des comtés\n",
    "\n",
    "A présent, nous nous intéressons au caractère prédictif des incidents à partir des comtés où ils sont survenus. Autrement dit, nous proposons une étude des effets structurels des comtés : chômage, population, vote, etc. \n"
   ]
  },
  {
   "cell_type": "code",
   "execution_count": null,
   "metadata": {},
   "outputs": [],
   "source": [
    "%run 3_stat_des_counties.ipynb"
   ]
  },
  {
   "cell_type": "markdown",
   "metadata": {},
   "source": [
    "## 4 - Modélisation par régression linéaire\n",
    "\n",
    "Enfin, nous proposons ici un modèle linéaire ayant pour objectif de prédire le nombre d'incidents par armes à feu allant survenir **dans chaque comté**, ainsi que le nombre de morts et le nombre de blessés. Nous utilisons à cette effigie 7 variables d'intérêt, toutes mesurées en 2015:\n",
    "| Nom de la variable  | Description  |\n",
    "|---|---|\n",
    "| med_h_income_year_2015   | Revenu médian  |\n",
    "|  unemp_rate_year_2015  | Taux de chômage  |\n",
    "| snap_beneficiaries_year_2015  |  Nombre de bénéficiaires de l'aide alimentaire |\n",
    "| bachelors_deg_year_2015  | Part de la population détentrice d'un *Bachelor's Degree*   |\n",
    "| bchecks_2015 | Nombre de *background checks* réalisés par le FBI  |\n",
    "| score_legis   | Score de législation  |\n",
    "| pop_density | Densité de population du comté|\n",
    "\n",
    "Les résultats de ces régressions sont présentées et les commentaires associés sont présentés ci-dessous.\n",
    "\n",
    "Nous effectuons également une analyse par Lasso pour vérifier que toutes les variables contribuent à la baisse de l'erreur quadratique moyenne."
   ]
  },
  {
   "cell_type": "code",
   "execution_count": null,
   "metadata": {},
   "outputs": [],
   "source": [
    "%run 4_modelisation.ipynb"
   ]
  },
  {
   "cell_type": "markdown",
   "metadata": {},
   "source": [
    "## Conclusion \n",
    "\n",
    "Au cours de ce projet, nous avons exploré diverses pistes pour chercher à prédire la fréquence et les conséquences en termes de victimes des incidents par arme à feu. \n",
    "Concernant l’analyse des variables plus « individuelles » des incidents par arme à feu, il semble que certaines variables permettent de prédire, au tout du moins de s’attendre à, un nombre plus élevé de victimes (blessés et morts). Par exemple, la moyenne de morts par incident est plus élevée en été, quand l’arme utilisée est une carabine, quand l’incident a lieu dans le cadre familial ou conjugal ou quand il a lieu dans l’Arizona, etc. \n",
    "Néanmoins, concernant l’analyse des variables structurelles des comtés et Etats dans lesquels ces incidents se déroulent, assez peu de corrélations significatives ont été relevées même s’il existe une corrélation positive entre le nombre d’incident par tête et la part du vote démocrate dans le comté, ainsi qu’avec la part de bénéficiaires de l’aide alimentaire."
   ]
  }
 ],
 "metadata": {
  "kernelspec": {
   "display_name": "base",
   "language": "python",
   "name": "python3"
  },
  "language_info": {
   "codemirror_mode": {
    "name": "ipython",
    "version": 3
   },
   "file_extension": ".py",
   "mimetype": "text/x-python",
   "name": "python",
   "nbconvert_exporter": "python",
   "pygments_lexer": "ipython3",
   "version": "3.10.13"
  }
 },
 "nbformat": 4,
 "nbformat_minor": 2
}
