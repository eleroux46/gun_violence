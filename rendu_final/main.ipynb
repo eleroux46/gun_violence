{
 "cells": [
  {
   "cell_type": "markdown",
   "metadata": {},
   "source": [
    "# Comment expliquer la violence par armes à feu aux Etats-Unis ?\n",
    "\n",
    "*Python pour la data science - Matis Bruneau, Eloïse Leroux, Matthieu Grenier - 2023-2024*\n",
    "\n",
    "Au cours de ce projet, nous essayons de fournir des éléments de réponse autour de la question de la violence par armes à feu aux Etats-Unis. Autrement dit, est-il possible d'identifier certains facteurs à l'origine de ces indicidents ? Deux questions majeures traversent cette analyse : 1) Peut-on prédire la fréquence de ces incidents ? 2) Peut-on prédire les conséquences humaines et matérielles de ces incidents ?\n",
    "\n",
    "Ce projet est motivé par une [base de données](https://github.com/jamesqo/gun-violence-data) recensant tous les incidents impliquant des armes à feu ayant survenu aux Etats-Unis entre 2013 et 2018, soit près de 260 000 entrées.\n",
    "\n",
    "\n",
    "Afin d'en proposer une étude cohérente, nous nous appuyons sur plusieurs autres sources de données : une série de données socio-économiques auprès des comtés américains, leur positionnement politique, le nombre de *abckground checks* par Etat, et une synthèse des différences de législation entre Etats."
   ]
  },
  {
   "cell_type": "markdown",
   "metadata": {},
   "source": [
    "## 1 - Récupération et traitement des données\n",
    "\n",
    "Une première phase d'extraction et de traitement de nos données est nécessaire avant de pouvoir produire une quelconque analyse sur le sujet. En effet, nous nous appuyons sur 5 bases de données différentes, toutes en accès public :\n",
    "\n",
    "| Nom de la base  | Description  | Source  | Mode d'extraction  |\n",
    "|---|---|---|---|\n",
    "| gun_violence_db   | Incidents par armes à feu aux USA entre 2013 et 2018  |  Gun Violence Archive | CSV  |\n",
    "|  counties_db   | Caractéristiques socio-économiques des comtés américains  | FRED (Federal Reserve Economic Data)  | API   |\n",
    "| geo_counties  |  Fonds de cartes des comtés américains  | United States Census Bureau  | SHP  |\n",
    "| legislation_db  | Différences de législation entre Etats concernant les armes à feu   | Boston University School of Public Health  | CSV  |\n",
    "| bg_checks_db | Nombre de *background checks* réalisés par le FBI  | FBI  |  CSV |\n",
    "| vote_db   | Part de vote démocrate et républicain par comté  | GitHub  (FOX News) | CSV  |  \n",
    "\n",
    "La grande majorité des variables d'intérêt contenues dans ces bases de données sont retenues sur la même plage temporelle que celle des données principales analysées (2013-2018). Seule la base legislation_db ne conserve que les données de l'année 2015, en retenant les lois anti-armes à feu en vigueur au cours de cette année.\n",
    "\n",
    "Pour la plupart des données, les fichiers CSV sont directement téléchargés. Nénanoins l'API FRED présente un nombre de requêtes limité par minute, c'est pourquoi il n'est pas conseillé (à moins d'avoir 2h30 devant soi) de réexécuter le code des cellules concernées.\n",
    "\n",
    "Le développement complet sur le mode d'extraction ainsi que les codes associés peut être trouvé sur [ce notebook](./traitements_donnes.ipynb).\n"
   ]
  },
  {
   "cell_type": "markdown",
   "metadata": {},
   "source": [
    "## 2 - Analyse prédictive de la violence armée en fonction des caractéristiques individuelles\n",
    "\n",
    "Texte introductif"
   ]
  },
  {
   "cell_type": "markdown",
   "metadata": {},
   "source": [
    "### A) Fréquence des incidents "
   ]
  },
  {
   "cell_type": "markdown",
   "metadata": {},
   "source": [
    "### B) Conséquences humaines des incidents"
   ]
  },
  {
   "cell_type": "markdown",
   "metadata": {},
   "source": [
    "## 3 - Prédire la violence par armes à feu à partir des caractéristiques structurelles des comtés\n",
    "\n",
    "### A) Sur la fréquence des incidents\n",
    "\n",
    "### B) Sur les conséquences des incidents\n"
   ]
  },
  {
   "cell_type": "markdown",
   "metadata": {},
   "source": [
    "## 4 - Modélisation par régression linéaire"
   ]
  }
 ],
 "metadata": {
  "kernelspec": {
   "display_name": "base",
   "language": "python",
   "name": "python3"
  },
  "language_info": {
   "codemirror_mode": {
    "name": "ipython",
    "version": 3
   },
   "file_extension": ".py",
   "mimetype": "text/x-python",
   "name": "python",
   "nbconvert_exporter": "python",
   "pygments_lexer": "ipython3",
   "version": "3.10.13"
  }
 },
 "nbformat": 4,
 "nbformat_minor": 2
}
