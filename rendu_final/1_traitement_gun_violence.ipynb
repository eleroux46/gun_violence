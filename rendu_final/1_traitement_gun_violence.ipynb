{
 "cells": [
  {
   "cell_type": "markdown",
   "metadata": {},
   "source": [
    "Import des packages"
   ]
  },
  {
   "cell_type": "code",
   "execution_count": null,
   "metadata": {},
   "outputs": [],
   "source": [
    "import numpy as np\n",
    "import pandas as pd\n",
    "import geopandas as gpd\n",
    "import matplotlib.pyplot as plt"
   ]
  },
  {
   "cell_type": "markdown",
   "metadata": {},
   "source": [
    "#### Import de la base de données sur les incidents par arme à feu aux Etats-Unis entre 2013 et 2018."
   ]
  },
  {
   "cell_type": "code",
   "execution_count": null,
   "metadata": {},
   "outputs": [],
   "source": [
    "url=\"https://drive.google.com/file/d/1GGOLMc_Ow9yZC9sICegPegDggQuHOD3t/view?usp=drive_link\"\n",
    "url=\"https://drive.google.com/uc?export=download&confirm=1&id=\" + url.split(\"/\")[-2]\n",
    "base = pd.read_csv(url)"
   ]
  },
  {
   "cell_type": "code",
   "execution_count": null,
   "metadata": {},
   "outputs": [],
   "source": [
    "pd.set_option('display.max_columns', None)\n",
    "base.head()"
   ]
  },
  {
   "cell_type": "markdown",
   "metadata": {},
   "source": [
    "#### Création de fonctions permettant de transformer les colonnes codées pour comporter des dictionnaires et des listes."
   ]
  },
  {
   "cell_type": "code",
   "execution_count": null,
   "metadata": {},
   "outputs": [],
   "source": [
    "import re"
   ]
  },
  {
   "cell_type": "code",
   "execution_count": null,
   "metadata": {},
   "outputs": [],
   "source": [
    "def convert_to_dict(value):\n",
    "    if pd.isna(value):\n",
    "        return value\n",
    "\n",
    "    if '||' not in str(value):\n",
    "\n",
    "        #some are corrupted: '|' instead of '||'\n",
    "        if '|' not in str(value):\n",
    "\n",
    "            result_dict = {}\n",
    "            #Some are corrupted : 1: instead of ::\n",
    "            if '::' in str(value):\n",
    "                key, val = re.split(r'::?|:', str(value))\n",
    "                result_dict[int(key)] = val\n",
    "            elif ':' in str(value):\n",
    "                key, val = value.split(':', 1)\n",
    "                result_dict[int(key)] = val\n",
    "            else:\n",
    "                result_dict={0:value}\n",
    "        \n",
    "        else: \n",
    "            pairs = str(value).split('|')\n",
    "            pairs[1].strip(\"'])\")\n",
    "\n",
    "            result_dict = {}\n",
    "            for pair in pairs:\n",
    "                #Some are corrupted : 1: instead of ::\n",
    "                if '::' in pair:\n",
    "                    key, val = re.split(r'::?|:', str(pair))\n",
    "                    result_dict[int(key)] = val\n",
    "                elif ':' in pair:\n",
    "                    key, val = pair.split(':', 1)\n",
    "                    result_dict[int(key)] = val\n",
    "                else:\n",
    "                    key, val=0,pair\n",
    "                    result_dict[key]=val\n",
    "\n",
    "        return result_dict\n",
    "\n",
    "    if '||' in str(value):\n",
    "\n",
    "        pairs = re.split(r'\\|\\|?\\|', str(value))\n",
    "\n",
    "        result_dict = {}\n",
    "        for pair in pairs:\n",
    "            #Some are corrupted : 1: instead of ::\n",
    "            if '::' in pair:\n",
    "                key, val = re.split(r'::?|:', str(pair))\n",
    "                result_dict[int(key)] = val\n",
    "            elif ':' in pair:\n",
    "                key, val = pair.split(':', 1)\n",
    "                result_dict[int(key)] = val\n",
    "            else:\n",
    "                key, val=0,pair\n",
    "                result_dict[key]=val\n",
    "        return result_dict\n",
    "\n",
    "\n",
    "updated_base = base.copy()\n",
    "list_of_dict_columns = ['gun_stolen', 'gun_type', 'participant_age', 'participant_age_group', 'participant_gender', 'participant_relationship', 'participant_status', 'participant_type']\n",
    "updated_base[list_of_dict_columns] = updated_base[list_of_dict_columns].applymap(convert_to_dict)\n",
    "updated_base.head()"
   ]
  },
  {
   "cell_type": "code",
   "execution_count": null,
   "metadata": {},
   "outputs": [],
   "source": [
    "def convert_to_list(value):\n",
    "    if pd.isna(value):\n",
    "        return value\n",
    "\n",
    "    if '||' in str(value):\n",
    "        liste = value.split('||')\n",
    "        return liste\n",
    "\n",
    "\n",
    "list_of_list_columns = ['incident_characteristics', 'sources']\n",
    "updated_base[list_of_list_columns] = updated_base[list_of_list_columns].applymap(convert_to_list)\n",
    "updated_base.head()\n"
   ]
  },
  {
   "cell_type": "markdown",
   "metadata": {},
   "source": [
    "### Création d'indicatrices pour pouvoir accéder à l'information disponible dans des listes"
   ]
  },
  {
   "cell_type": "code",
   "execution_count": null,
   "metadata": {},
   "outputs": [],
   "source": [
    "def make_indic1(var,description,new_var):\n",
    "    list_indic=[]\n",
    "\n",
    "    for i in updated_base[var]:\n",
    "        if i is not None:\n",
    "            if description in str(i) :\n",
    "                list_indic.append(1)\n",
    "            else:\n",
    "                list_indic.append(0)\n",
    "        else:\n",
    "            list_indic.append(0)\n",
    "        \n",
    "\n",
    "    updated_base[new_var]=list_indic"
   ]
  },
  {
   "cell_type": "code",
   "execution_count": null,
   "metadata": {},
   "outputs": [],
   "source": [
    "carac=[(\"incident_characteristics\",\"uicide\",\"indic_suicide\"),\n",
    "    (\"incident_characteristics\",\"efensive\",\"indic_defens\"),\n",
    "    (\"incident_characteristics\", \"chool\", \"indic_school\"),\n",
    "    (\"incident_characteristics\",\"Home Invasion\", \"indic_home_inv\"),\n",
    "    (\"incident_characteristics\",\"ccident\",\"indic_accident\")]\n",
    "    #excluding the first letter of the word because of the case-sensitivity\n",
    "\n",
    "for var,description,new_var in carac:\n",
    "    make_indic1(var,description,new_var)\n",
    "\n",
    "updated_base.head()"
   ]
  },
  {
   "cell_type": "markdown",
   "metadata": {},
   "source": [
    "Export de la base en csv pour pouvoir être utilisée dans les statistiques descriptives dans le fichier stat_desc_gun_violence.ipynb."
   ]
  },
  {
   "cell_type": "code",
   "execution_count": null,
   "metadata": {},
   "outputs": [],
   "source": [
    "updated_base.to_csv('data/gun_violence_db.csv')"
   ]
  },
  {
   "cell_type": "markdown",
   "metadata": {},
   "source": [
    "### Création d'une base de données comprenant les informations relatives aux suspects"
   ]
  },
  {
   "cell_type": "code",
   "execution_count": null,
   "metadata": {},
   "outputs": [],
   "source": [
    "data_suspects=[]\n",
    "index=0\n",
    "\n",
    "for i in updated_base['participant_type']:\n",
    "    if type(i)==dict and len(i)>0:\n",
    "        for key,value in i.items():\n",
    "            if value=='Subject-Suspect':\n",
    "                result_dict={'id':index}\n",
    "\n",
    "                if type(updated_base['participant_age_group'][index])==dict:\n",
    "                    if key in updated_base['participant_age_group'][index].keys():\n",
    "                        result_dict['age_group_sus']=updated_base['participant_age_group'][index][key]\n",
    "                else:\n",
    "                    result_dict['age_group_sus']=np.nan\n",
    "                \n",
    "                if type(updated_base['participant_age'][index])==dict:\n",
    "                    if key in updated_base['participant_age'][index].keys():\n",
    "                        result_dict['age_sus']=updated_base['participant_age'][index][key]\n",
    "                else:\n",
    "                    result_dict['age_sus']=np.nan\n",
    "\n",
    "                if type(updated_base['participant_gender'][index])==dict:\n",
    "                    if key in updated_base['participant_gender'][index].keys():\n",
    "                        result_dict['gender_sus']=updated_base['participant_gender'][index][key]\n",
    "                else:\n",
    "                    result_dict['gender_sus']=np.nan\n",
    "\n",
    "                if type(updated_base['participant_status'][index])==dict:\n",
    "                    if key in updated_base['participant_status'][index].keys():\n",
    "                        result_dict['status_sus']=updated_base['participant_status'][index][key]\n",
    "                else:\n",
    "                    result_dict['status_sus']=np.nan\n",
    "\n",
    "                if type(updated_base['gun_type'][index])==dict:\n",
    "                    if key in updated_base['gun_type'][index].keys():\n",
    "                        result_dict['gun_type']=updated_base['gun_type'][index][key]\n",
    "                else:\n",
    "                    result_dict['gun_type']=np.nan\n",
    "\n",
    "                if type(updated_base['gun_stolen'][index])==dict:\n",
    "                    if key in updated_base['gun_stolen'][index].keys():\n",
    "                        result_dict['gun_stolen']=updated_base['gun_stolen'][index][key]\n",
    "                else:\n",
    "                    result_dict['gun_stolen']=np.nan\n",
    "                \n",
    "                if type(updated_base['participant_relationship'][index])==dict:\n",
    "                    if key in updated_base['participant_relationship'][index].keys():\n",
    "                        result_dict['relation']=updated_base['participant_relationship'][index][key]\n",
    "                else:\n",
    "                    result_dict['relation']=np.nan\n",
    "\n",
    "\n",
    "                data_suspects.append(result_dict)\n",
    "\n",
    "    elif np.isnan(i)==False:\n",
    "        if updated_base['participant_type'][i]=='Subject-Suspect':\n",
    "            result_dict={'id':index}\n",
    "\n",
    "            if type(updated_base['participant_age_group'][index])==dict:\n",
    "                if key in updated_base['participant_age_group'][index].keys():\n",
    "                        result_dict['age_group_sus']=updated_base['participant_age_group'][index][key]\n",
    "            else:\n",
    "                result_dict['age_group_sus']=np.nan\n",
    "            \n",
    "            if type(updated_base['participant_age'][index])==dict:\n",
    "                if key in updated_base['participant_age'][index].keys():\n",
    "                    result_dict['age_sus']=updated_base['participant_age'][index][key]\n",
    "            else:\n",
    "                result_dict['age_sus']=np.nan\n",
    "\n",
    "            if type(updated_base['participant_gender'][index])==dict:\n",
    "                if key in updated_base['participant_gender'][index].keys():\n",
    "                    result_dict['gender_sus']=updated_base['participant_gender'][index][key]\n",
    "            else:\n",
    "                result_dict['gender_sus']=np.nan\n",
    "\n",
    "            if type(updated_base['participant_status'][index])==dict:\n",
    "                if key in updated_base['participant_status'][index].keys():\n",
    "                    result_dict['status_sus']=updated_base['participant_status'][index][key]\n",
    "            else:\n",
    "                result_dict['status_sus']=np.nan\n",
    "\n",
    "            if type(updated_base['gun_type'][index])==dict:\n",
    "                if key in updated_base['gun_type'][index].keys():\n",
    "                    result_dict['gun_type']=updated_base['gun_type'][index][key]\n",
    "            else:\n",
    "                result_dict['gun_type']=np.nan\n",
    "\n",
    "            if type(updated_base['gun_stolen'][index])==dict:\n",
    "                if key in updated_base['gun_stolen'][index].keys():\n",
    "                    result_dict['gun_stolen']=updated_base['gun_stolen'][index][key]\n",
    "            else:\n",
    "                result_dict['gun_stolen']=np.nan\n",
    "\n",
    "            if type(updated_base['participant_relationship'][index])==dict:\n",
    "                if key in updated_base['participant_relationship'][index].keys():\n",
    "                    result_dict['relation']=updated_base['participant_relationship'][index][key]\n",
    "            else:\n",
    "                result_dict['relation']=np.nan\n",
    "                \n",
    "            data_suspects.append(result_dict)\n",
    "\n",
    "    index+=1\n",
    "\n",
    "\n",
    "df_suspects=pd.DataFrame(data_suspects)"
   ]
  },
  {
   "cell_type": "code",
   "execution_count": null,
   "metadata": {},
   "outputs": [],
   "source": [
    "df_suspects.head()"
   ]
  },
  {
   "cell_type": "markdown",
   "metadata": {},
   "source": [
    "On obtient ici un dataframe permettant d'obtenir l'âge, le genre, le status et l'arme de tous les participants aux incidents caractérisés comme 'Subject-Suspect' afin de pouvoir faire des statistiques descriptives. La colonne 'id' corresponds à l'index de l'incident concerné dans la base updated_base. La colonne 'relation' correspond à la relation du suspect à la victime, ou la circonstance de l'incident. "
   ]
  },
  {
   "cell_type": "code",
   "execution_count": null,
   "metadata": {},
   "outputs": [],
   "source": [
    "df_suspects.to_csv('data/df_suspects.csv')"
   ]
  },
  {
   "cell_type": "markdown",
   "metadata": {},
   "source": [
    "### Création d'une base de données similaire contenant toutes les informations sur les victimes"
   ]
  },
  {
   "cell_type": "code",
   "execution_count": null,
   "metadata": {},
   "outputs": [],
   "source": [
    "data_victimes=[]\n",
    "index=0\n",
    "\n",
    "for i in updated_base['participant_type']:\n",
    "    if type(i)==dict and len(i)>0:\n",
    "        for key,value in i.items():\n",
    "            if value=='Victim':\n",
    "                result_dict={'id':index}\n",
    "\n",
    "                if type(updated_base['participant_age_group'][index])==dict:\n",
    "                    if key in updated_base['participant_age_group'][index].keys():\n",
    "                        result_dict['age_group_vict']=updated_base['participant_age_group'][index][key]\n",
    "                else:\n",
    "                    result_dict['age_group_vict']=np.nan\n",
    "                \n",
    "                if type(updated_base['participant_age'][index])==dict:\n",
    "                    if key in updated_base['participant_age'][index].keys():\n",
    "                        result_dict['age_vict']=updated_base['participant_age'][index][key]\n",
    "                else:\n",
    "                    result_dict['age_vict']=np.nan\n",
    "\n",
    "                if type(updated_base['participant_gender'][index])==dict:\n",
    "                    if key in updated_base['participant_gender'][index].keys():\n",
    "                        result_dict['gender_vict']=updated_base['participant_gender'][index][key]\n",
    "                else:\n",
    "                    result_dict['gender_vict']=np.nan\n",
    "\n",
    "                if type(updated_base['participant_status'][index])==dict:\n",
    "                    if key in updated_base['participant_status'][index].keys():\n",
    "                        result_dict['status_vict']=updated_base['participant_status'][index][key]\n",
    "                else:\n",
    "                    result_dict['status_vict']=np.nan\n",
    "\n",
    "                if type(updated_base['gun_type'][index])==dict:\n",
    "                    if key in updated_base['gun_type'][index].keys():\n",
    "                        result_dict['gun_type']=updated_base['gun_type'][index][key]\n",
    "                else:\n",
    "                    result_dict['gun_type']=np.nan\n",
    "\n",
    "                if type(updated_base['gun_stolen'][index])==dict:\n",
    "                    if key in updated_base['gun_stolen'][index].keys():\n",
    "                        result_dict['gun_stolen']=updated_base['gun_stolen'][index][key]\n",
    "                else:\n",
    "                    result_dict['gun_stolen']=np.nan\n",
    "            \n",
    "                \n",
    "                data_victimes.append(result_dict)\n",
    "\n",
    "\n",
    "    elif np.isnan(i)==False:\n",
    "        if updated_base['participant_type'][i]=='Victim':\n",
    "            result_dict={'id':index}\n",
    "            if type(updated_base['participant_age_group'][index])==dict:\n",
    "                    if key in updated_base['participant_age_group'][index].keys():\n",
    "                        result_dict['age_group_vict']=updated_base['participant_age_group'][index][key]\n",
    "            else:\n",
    "                result_dict['age_group_vict']=np.nan\n",
    "            \n",
    "            if type(updated_base['participant_age'][index])==dict:\n",
    "                if key in updated_base['participant_age'][index].keys():\n",
    "                    result_dict['age_vict']=updated_base['participant_age'][index][key]\n",
    "            else:\n",
    "                result_dict['age_vict']=np.nan\n",
    "\n",
    "            if type(updated_base['participant_gender'][index])==dict:\n",
    "                if key in updated_base['participant_gender'][index].keys():\n",
    "                    result_dict['gender_vict']=updated_base['participant_gender'][index][key]\n",
    "            else:\n",
    "                result_dict['gender_vict']=np.nan\n",
    "\n",
    "            if type(updated_base['participant_status'][index])==dict:\n",
    "                if key in updated_base['participant_status'][index].keys():\n",
    "                    result_dict['status_vict']=updated_base['participant_status'][index][key]\n",
    "            else:\n",
    "                result_dict['status_vict']=np.nan\n",
    "\n",
    "            if type(updated_base['gun_type'][index])==dict:\n",
    "                if key in updated_base['gun_type'][index].keys():\n",
    "                    result_dict['gun_type']=updated_base['gun_type'][index][key]\n",
    "            else:\n",
    "                result_dict['gun_type']=np.nan\n",
    "\n",
    "            if type(updated_base['gun_stolen'][index])==dict:\n",
    "                if key in updated_base['gun_stolen'][index].keys():\n",
    "                    result_dict['gun_stolen']=updated_base['gun_stolen'][index][key]\n",
    "            else:\n",
    "                result_dict['gun_stolen']=np.nan\n",
    "\n",
    "\n",
    "            data_victimes.append(result_dict)\n",
    "\n",
    "    index+=1\n",
    "\n",
    "\n",
    "df_victim=pd.DataFrame(data_victimes)"
   ]
  },
  {
   "cell_type": "code",
   "execution_count": null,
   "metadata": {},
   "outputs": [],
   "source": [
    "df_victim.head()"
   ]
  },
  {
   "cell_type": "code",
   "execution_count": null,
   "metadata": {},
   "outputs": [],
   "source": [
    "df_victim.to_csv('data/df_victim.csv')"
   ]
  },
  {
   "cell_type": "markdown",
   "metadata": {},
   "source": [
    "### Création d'indicatrices sur les variables d'intérêt identifiées\n",
    "\n",
    "Avoir des indicatrices sur ces sujets permettra d'obtenir plus facilement certaines informations clefs qui seront importantes lorsque l'on va croiser cette base de données avec des données extérieures"
   ]
  },
  {
   "cell_type": "code",
   "execution_count": null,
   "metadata": {},
   "outputs": [],
   "source": [
    "#création d'une base unique avec les informations sur les suspects et les victimes\n",
    "updated_base=updated_base.reset_index()\n",
    "merge_sus=pd.merge(updated_base, df_suspects, how='outer', left_on='index', right_on='id')\n",
    "merge_tot=pd.merge(merge_sus, df_victim, how='outer', right_on='id', left_on='index')\n",
    "merge_tot.head()"
   ]
  },
  {
   "cell_type": "code",
   "execution_count": null,
   "metadata": {},
   "outputs": [],
   "source": [
    "def make_indic2(var, val1, new_name):\n",
    "    list_indic=[]\n",
    "    for i in data_indic[var]:\n",
    "        \n",
    "        if i!=None:\n",
    "            if type(i)==str:\n",
    "                if val1 in i :\n",
    "                    list_indic.append(1)\n",
    "                else:\n",
    "                    list_indic.append(0)\n",
    "            else:\n",
    "                list_indic.append(np.nan)\n",
    "        else:\n",
    "            list_indic.append(np.nan)\n",
    "    data_indic[new_name]=list_indic"
   ]
  },
  {
   "cell_type": "code",
   "execution_count": null,
   "metadata": {},
   "outputs": [],
   "source": [
    "data_indic=merge_tot.copy()"
   ]
  },
  {
   "cell_type": "code",
   "execution_count": null,
   "metadata": {},
   "outputs": [],
   "source": [
    "to_indic=[('age_group_sus', 'Adult 18+', 'sus_adulte'),\n",
    "    ('age_group_vict', 'Adult 18+', 'vict_adulte'),\n",
    "    ('gender_sus', 'Male', 'sus_male'),\n",
    "    ('gender_vict', 'Male', 'vict_male'),\n",
    "    ('status_sus', 'Injured', 'sus_injured'),\n",
    "    ('status_sus', 'Arrested', 'sus_arrested'),\n",
    "    ('status_sus', 'Unharmed', 'sus_unharmed'),\n",
    "    ('status_sus', 'Killed', 'sus_killed'),\n",
    "    ('status_vict', 'Injured', 'vict_injured'),\n",
    "    ('status_vict', 'Arrested', 'vict_arrested'),\n",
    "    ('status_vict', 'Unharmed', 'vict_unharmed'),\n",
    "    ('status_vict', 'Killed', 'vict_killed'),\n",
    "    ('gun_type', 'Handgun', 'handgun_1'),\n",
    "    ('gun_type', 'Rifle', 'rifle_1'),\n",
    "    ('gun_type', '9mm', '9mm_1'),\n",
    "    ('gun_type', 'Shotgun', 'shotgun_1'),\n",
    "    ('gun_type_y', 'Handgun', 'handgun_2'),\n",
    "    ('gun_type_y', 'Rifle', 'rifle_2'),\n",
    "    ('gun_type_y', '9mm', '9mm_2'),\n",
    "    ('gun_type_y', 'Shotgun', 'shotgun_2')]\n",
    "\n",
    "for col, val1, new_name in to_indic: \n",
    "    make_indic2(col, val1, new_name)"
   ]
  },
  {
   "cell_type": "code",
   "execution_count": null,
   "metadata": {},
   "outputs": [],
   "source": [
    "data_indic.head()"
   ]
  },
  {
   "cell_type": "code",
   "execution_count": null,
   "metadata": {},
   "outputs": [],
   "source": [
    "#taking care of the issue of the gun_type variable\n",
    "\n",
    "def one_col(col1, col2, new_col):\n",
    "    data_indic[new_col] = np.where(\n",
    "        (data_indic[col1] == 1) | (data_indic[col2] == 1),  # If either column is 1\n",
    "        1,\n",
    "        np.where(\n",
    "            (data_indic[col1] == 0) | (data_indic[col2] == 0),  # If either column is 0\n",
    "            0,\n",
    "            np.nan  # If both columns are NaN\n",
    "        )\n",
    "    )"
   ]
  },
  {
   "cell_type": "code",
   "execution_count": null,
   "metadata": {},
   "outputs": [],
   "source": [
    "gun_type_list=[('handgun_1', 'handgun_2', 'handgun'),\n",
    "    ('rifle_1','rifle_2','rifle'),\n",
    "    ('9mm_1', '9mm_2', '9mm'),\n",
    "    ('shotgun_1','shotgun_2','shotgun')]\n",
    "\n",
    "for col1, col2, new_col in gun_type_list:\n",
    "    one_col(col1,col2, new_col)"
   ]
  },
  {
   "cell_type": "code",
   "execution_count": null,
   "metadata": {},
   "outputs": [],
   "source": [
    "del data_indic['9mm_1'], data_indic['9mm_2'], data_indic['rifle_1'], data_indic['rifle_2'], data_indic['handgun_1'], data_indic['handgun_2'], data_indic['shotgun_1'], data_indic['shotgun_2']"
   ]
  },
  {
   "cell_type": "code",
   "execution_count": null,
   "metadata": {},
   "outputs": [],
   "source": [
    "data_indic.head()"
   ]
  },
  {
   "cell_type": "code",
   "execution_count": null,
   "metadata": {},
   "outputs": [],
   "source": [
    "young=list(range(18,26))\n",
    "young=[str(num) for num in young]\n",
    "\n",
    "def indic_age(var, list1, new_name):\n",
    "    list_indic=[]\n",
    "    for i in data_indic[var]:\n",
    "        \n",
    "        if i!=None:\n",
    "            if type(i)==str:\n",
    "                if i in list1 :\n",
    "                    list_indic.append(1)\n",
    "                else:\n",
    "                    list_indic.append(0)\n",
    "            else:\n",
    "                list_indic.append(np.nan)\n",
    "        else:\n",
    "            list_indic.append(np.nan)\n",
    "    data_indic[new_name]=list_indic\n",
    "\n",
    "indic_age('age_sus', young, 'young_sus')\n",
    "indic_age('age_vict', young, 'young_vict')"
   ]
  },
  {
   "cell_type": "code",
   "execution_count": null,
   "metadata": {},
   "outputs": [],
   "source": [
    "col=list(data_indic.columns)\n",
    "col"
   ]
  },
  {
   "cell_type": "markdown",
   "metadata": {},
   "source": [
    "Maintenant que toutes les variables d'intérêt sont présentes dans le dataframe, on revient au format initial pour lequel il y avait une seule ligne par incident."
   ]
  },
  {
   "cell_type": "code",
   "execution_count": null,
   "metadata": {},
   "outputs": [],
   "source": [
    "aggregated_data = data_indic.groupby('incident_id').agg(\n",
    "    date=('date','first'), #using first to get the first non-null value\n",
    "    state=('state','first'),\n",
    "    city_or_county=('city_or_county','first'),\n",
    "    address=('address','first'),\n",
    "    n_killed=('n_killed', 'first'),\n",
    "    n_injured=('n_injured','first'),\n",
    "    incident_url=('incident_url','first'),\n",
    "    source_url=('source_url','first'),\n",
    "    incident_url_fields_missing=('incident_url_fields_missing','first'),\n",
    "    congressional_district=('congressional_district','first'),\n",
    "    gun_stolen=('gun_stolen_x','first'),\n",
    "    gun_type_dict=('gun_type_x','first'),\n",
    "    incident_characteristics=('incident_characteristics','first'),\n",
    "    latitude=('latitude','first'),\n",
    "    location_description=('location_description','first'),\n",
    "    longitude=('longitude','first'),\n",
    "    n_guns_involved=('n_guns_involved','first'),\n",
    "    notes=('notes','first'),\n",
    "    participant_age=('participant_age','first'),\n",
    "    participant_age_group=('participant_age_group','first'),\n",
    "    participant_gender=('participant_gender','first'),\n",
    "    participant_name=('participant_name','first'),\n",
    "    participant_relationship=('participant_relationship','first'),\n",
    "    participant_status=('participant_status','first'),\n",
    "    participant_type=('participant_type','first'),\n",
    "    sources=('sources','first'),\n",
    "    state_house_district=('state_house_district','first'),\n",
    "    state_senate_district=('state_senate_district','first'),\n",
    "    indic_suicide=('indic_suicide','first'),\n",
    "    indic_defens=('indic_defens','first'),\n",
    "    indic_school=('indic_school','first'),\n",
    "    indic_home_inv=('indic_home_inv','first'),\n",
    "    indic_accident=('indic_accident','first'),\n",
    "    gun_type=('gun_type_y','first'), #even if multiple guns could be used in one incident, keeping one is already a good enough information\n",
    "    relation=('relation', 'first'), #same reasoning\n",
    "    sus_adulte=('sus_adulte', lambda x: 1 if x.sum() >= 1 else 0), #custom lambda function used to indicate the presence instead of counting the indicators (because it would give corrupted answers because of the merged data)\n",
    "    vict_adulte=('vict_adulte', lambda x: 1 if x.sum() >= 1 else 0),\n",
    "    sus_male=('sus_male', lambda x: 1 if x.sum() >= 1 else 0),\n",
    "    vict_male=('vict_male', lambda x: 1 if x.sum() >= 1 else 0),\n",
    "    sus_injured=('sus_injured', lambda x: 1 if x.sum() >= 1 else 0),\n",
    "    sus_arrested=('sus_arrested', lambda x: 1 if x.sum() >= 1 else 0),\n",
    "    sus_unharmed=('sus_unharmed', lambda x: 1 if x.sum() >= 1 else 0),\n",
    "    sus_killed=('sus_killed', lambda x: 1 if x.sum() >= 1 else 0),\n",
    "    vict_injured=('vict_injured', lambda x: 1 if x.sum() >= 1 else 0),\n",
    "    vict_arrested=('vict_arrested', lambda x: 1 if x.sum() >= 1 else 0),\n",
    "    vict_unharmed=('vict_unharmed', lambda x: 1 if x.sum() >= 1 else 0),\n",
    "    vict_killed=('vict_killed', lambda x: 1 if x.sum() >= 1 else 0),\n",
    "    handgun=('handgun', lambda x: 1 if x.sum() >= 1 else 0),\n",
    "    rifle=('rifle', lambda x: 1 if x.sum() >= 1 else 0),\n",
    "    Nine_mm=('9mm', lambda x: 1 if x.sum() >= 1 else 0),\n",
    "    shotgun=('shotgun', lambda x: 1 if x.sum() >= 1 else 0),\n",
    "    young_sus=('young_sus', lambda x: 1 if x.sum() >= 1 else 0),\n",
    "    young_vict=('young_vict', lambda x: 1 if x.sum() >= 1 else 0)\n",
    ")\n",
    "\n",
    "aggregated_data.reset_index(inplace=True)"
   ]
  },
  {
   "cell_type": "code",
   "execution_count": null,
   "metadata": {},
   "outputs": [],
   "source": [
    "aggregated_data.head()"
   ]
  },
  {
   "cell_type": "code",
   "execution_count": null,
   "metadata": {},
   "outputs": [],
   "source": [
    "#sorting the dataframe by date to get the same order as in the original dataframe\n",
    "agg_sorted = aggregated_data.sort_values(by='date', ascending=True)\n",
    "agg_sorted"
   ]
  },
  {
   "cell_type": "code",
   "execution_count": 30,
   "metadata": {},
   "outputs": [],
   "source": [
    "agg_sorted.to_csv('data/gun_violence_db.csv')"
   ]
  }
 ],
 "metadata": {
  "kernelspec": {
   "display_name": "base",
   "language": "python",
   "name": "python3"
  },
  "language_info": {
   "codemirror_mode": {
    "name": "ipython",
    "version": 3
   },
   "file_extension": ".py",
   "mimetype": "text/x-python",
   "name": "python",
   "nbconvert_exporter": "python",
   "pygments_lexer": "ipython3",
   "version": "3.10.13"
  }
 },
 "nbformat": 4,
 "nbformat_minor": 2
}
