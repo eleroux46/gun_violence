{
 "cells": [
  {
   "cell_type": "code",
   "execution_count": null,
   "metadata": {},
   "outputs": [],
   "source": [
    "import numpy as np\n",
    "import pandas as pd\n",
    "import geopandas as gpd\n",
    "import matplotlib.pyplot as plt\n",
    "from shapely.geometry import Point\n",
    "import plotly.express as px\n",
    "import plotly.graph_objects as go\n",
    "import seaborn as sns"
   ]
  },
  {
   "cell_type": "code",
   "execution_count": null,
   "metadata": {},
   "outputs": [],
   "source": [
    "url=\"https://drive.google.com/file/d/1LO4i_-TkSmxnR0dgO5_lVLZ35FtGTNzA/view?usp=drive_link\"\n",
    "url=\"https://drive.google.com/uc?export=download&confirm=1&id=\" + url.split(\"/\")[-2]\n",
    "total_db = pd.read_csv(url)\n",
    "total_db.sample(5)"
   ]
  },
  {
   "cell_type": "code",
   "execution_count": 160,
   "metadata": {},
   "outputs": [
    {
     "data": {
      "text/html": [
       "<div>\n",
       "<style scoped>\n",
       "    .dataframe tbody tr th:only-of-type {\n",
       "        vertical-align: middle;\n",
       "    }\n",
       "\n",
       "    .dataframe tbody tr th {\n",
       "        vertical-align: top;\n",
       "    }\n",
       "\n",
       "    .dataframe thead th {\n",
       "        text-align: right;\n",
       "    }\n",
       "</style>\n",
       "<table border=\"1\" class=\"dataframe\">\n",
       "  <thead>\n",
       "    <tr style=\"text-align: right;\">\n",
       "      <th></th>\n",
       "      <th>Unnamed: 0</th>\n",
       "      <th>incident_id</th>\n",
       "      <th>date</th>\n",
       "      <th>state</th>\n",
       "      <th>city_or_county</th>\n",
       "      <th>address</th>\n",
       "      <th>n_killed</th>\n",
       "      <th>n_injured</th>\n",
       "      <th>incident_url</th>\n",
       "      <th>source_url</th>\n",
       "      <th>incident_url_fields_missing</th>\n",
       "      <th>congressional_district</th>\n",
       "      <th>gun_stolen</th>\n",
       "      <th>gun_type</th>\n",
       "      <th>incident_characteristics</th>\n",
       "      <th>latitude</th>\n",
       "      <th>location_description</th>\n",
       "      <th>longitude</th>\n",
       "      <th>n_guns_involved</th>\n",
       "      <th>notes</th>\n",
       "      <th>participant_age</th>\n",
       "      <th>participant_age_group</th>\n",
       "      <th>participant_gender</th>\n",
       "      <th>participant_name</th>\n",
       "      <th>participant_relationship</th>\n",
       "      <th>participant_status</th>\n",
       "      <th>participant_type</th>\n",
       "      <th>sources</th>\n",
       "      <th>state_house_district</th>\n",
       "      <th>state_senate_district</th>\n",
       "      <th>indic_suicide</th>\n",
       "      <th>indic_defens</th>\n",
       "      <th>indic_school</th>\n",
       "      <th>indic_home_inv</th>\n",
       "      <th>indic_accident</th>\n",
       "    </tr>\n",
       "  </thead>\n",
       "  <tbody>\n",
       "    <tr>\n",
       "      <th>149753</th>\n",
       "      <td>149753</td>\n",
       "      <td>670790</td>\n",
       "      <td>2016-10-05</td>\n",
       "      <td>District of Columbia</td>\n",
       "      <td>Washington</td>\n",
       "      <td>8th Street and D Street, NW</td>\n",
       "      <td>0</td>\n",
       "      <td>0</td>\n",
       "      <td>http://www.gunviolencearchive.org/incident/670790</td>\n",
       "      <td>https://twitter.com/DCPoliceDept/status/783843...</td>\n",
       "      <td>False</td>\n",
       "      <td>1.0</td>\n",
       "      <td>{0: 'Unknown'}</td>\n",
       "      <td>{0: 'Unknown'}</td>\n",
       "      <td>['Non-Shooting Incident', 'Car-jacking']</td>\n",
       "      <td>38.8948</td>\n",
       "      <td>NaN</td>\n",
       "      <td>-77.0230</td>\n",
       "      <td>1.0</td>\n",
       "      <td>NaN</td>\n",
       "      <td>NaN</td>\n",
       "      <td>{1: 'Adult 18+', 2: 'Adult 18+'}</td>\n",
       "      <td>{1: 'Male', 2: 'Male'}</td>\n",
       "      <td>NaN</td>\n",
       "      <td>NaN</td>\n",
       "      <td>{0: 'Unharmed', 1: 'Unharmed', 2: 'Unharmed'}</td>\n",
       "      <td>{0: 'Victim', 1: 'Subject-Suspect', 2: 'Subjec...</td>\n",
       "      <td>NaN</td>\n",
       "      <td>NaN</td>\n",
       "      <td>NaN</td>\n",
       "      <td>0</td>\n",
       "      <td>0</td>\n",
       "      <td>0</td>\n",
       "      <td>0</td>\n",
       "      <td>0</td>\n",
       "    </tr>\n",
       "    <tr>\n",
       "      <th>128521</th>\n",
       "      <td>128521</td>\n",
       "      <td>569732</td>\n",
       "      <td>2016-05-30</td>\n",
       "      <td>Georgia</td>\n",
       "      <td>Rome</td>\n",
       "      <td>Broad Street and Third Avenue</td>\n",
       "      <td>0</td>\n",
       "      <td>0</td>\n",
       "      <td>http://www.gunviolencearchive.org/incident/569732</td>\n",
       "      <td>http://www.northwestgeorgianews.com/rome/news/...</td>\n",
       "      <td>False</td>\n",
       "      <td>14.0</td>\n",
       "      <td>{0: 'Unknown'}</td>\n",
       "      <td>{0: '9mm'}</td>\n",
       "      <td>['Non-Shooting Incident', 'Gun(s) stolen from ...</td>\n",
       "      <td>34.2537</td>\n",
       "      <td>NaN</td>\n",
       "      <td>-85.1729</td>\n",
       "      <td>1.0</td>\n",
       "      <td>NaN</td>\n",
       "      <td>NaN</td>\n",
       "      <td>NaN</td>\n",
       "      <td>NaN</td>\n",
       "      <td>NaN</td>\n",
       "      <td>NaN</td>\n",
       "      <td>NaN</td>\n",
       "      <td>NaN</td>\n",
       "      <td>NaN</td>\n",
       "      <td>13.0</td>\n",
       "      <td>52.0</td>\n",
       "      <td>0</td>\n",
       "      <td>0</td>\n",
       "      <td>0</td>\n",
       "      <td>0</td>\n",
       "      <td>0</td>\n",
       "    </tr>\n",
       "    <tr>\n",
       "      <th>156296</th>\n",
       "      <td>156296</td>\n",
       "      <td>699420</td>\n",
       "      <td>2016-11-13</td>\n",
       "      <td>Indiana</td>\n",
       "      <td>Indianapolis</td>\n",
       "      <td>5150 West 38th Street</td>\n",
       "      <td>0</td>\n",
       "      <td>1</td>\n",
       "      <td>http://www.gunviolencearchive.org/incident/699420</td>\n",
       "      <td>http://wishtv.com/2016/11/13/one-injured-in-ni...</td>\n",
       "      <td>False</td>\n",
       "      <td>7.0</td>\n",
       "      <td>{0: 'Unknown'}</td>\n",
       "      <td>{0: 'Unknown'}</td>\n",
       "      <td>['Shot - Wounded/Injured', 'Bar/club incident ...</td>\n",
       "      <td>39.8240</td>\n",
       "      <td>Limelight Nightclub</td>\n",
       "      <td>-86.2477</td>\n",
       "      <td>1.0</td>\n",
       "      <td>Man shot at 2:0am in bar;</td>\n",
       "      <td>NaN</td>\n",
       "      <td>{0: 'Adult 18+', 1: 'Adult 18+'}</td>\n",
       "      <td>{0: 'Male'}</td>\n",
       "      <td>NaN</td>\n",
       "      <td>NaN</td>\n",
       "      <td>{0: 'Injured', 1: 'Unharmed'}</td>\n",
       "      <td>{0: 'Victim', 1: 'Subject-Suspect'}</td>\n",
       "      <td>NaN</td>\n",
       "      <td>94.0</td>\n",
       "      <td>33.0</td>\n",
       "      <td>0</td>\n",
       "      <td>0</td>\n",
       "      <td>0</td>\n",
       "      <td>0</td>\n",
       "      <td>0</td>\n",
       "    </tr>\n",
       "    <tr>\n",
       "      <th>77039</th>\n",
       "      <td>77039</td>\n",
       "      <td>365102</td>\n",
       "      <td>2015-06-27</td>\n",
       "      <td>New York</td>\n",
       "      <td>Plattekill</td>\n",
       "      <td>400 block of Crescent Avenue</td>\n",
       "      <td>1</td>\n",
       "      <td>0</td>\n",
       "      <td>http://www.gunviolencearchive.org/incident/365102</td>\n",
       "      <td>http://www.midhudsonnews.com/News/2015/Decembe...</td>\n",
       "      <td>False</td>\n",
       "      <td>19.0</td>\n",
       "      <td>{0: 'Unknown'}</td>\n",
       "      <td>{0: 'Shotgun'}</td>\n",
       "      <td>['Shot - Dead (murder, accidental, suicide)', ...</td>\n",
       "      <td>41.7021</td>\n",
       "      <td>NaN</td>\n",
       "      <td>-74.0380</td>\n",
       "      <td>1.0</td>\n",
       "      <td>perp stabbed 3 people, shot by vics fam member...</td>\n",
       "      <td>{0: '25'}</td>\n",
       "      <td>{0: 'Adult 18+'}</td>\n",
       "      <td>{0: 'Male'}</td>\n",
       "      <td>0::Rodshan Pittman</td>\n",
       "      <td>{0: 'Friends'}</td>\n",
       "      <td>{0: 'Killed'}</td>\n",
       "      <td>{0: 'Subject-Suspect'}</td>\n",
       "      <td>['http://www.dailyfreeman.com/general-news/201...</td>\n",
       "      <td>103.0</td>\n",
       "      <td>39.0</td>\n",
       "      <td>1</td>\n",
       "      <td>1</td>\n",
       "      <td>0</td>\n",
       "      <td>0</td>\n",
       "      <td>1</td>\n",
       "    </tr>\n",
       "    <tr>\n",
       "      <th>127010</th>\n",
       "      <td>127010</td>\n",
       "      <td>563099</td>\n",
       "      <td>2016-05-21</td>\n",
       "      <td>Illinois</td>\n",
       "      <td>Chicago</td>\n",
       "      <td>900 block of North Homan Avenue</td>\n",
       "      <td>0</td>\n",
       "      <td>1</td>\n",
       "      <td>http://www.gunviolencearchive.org/incident/563099</td>\n",
       "      <td>https://www.dnainfo.com/chicago/20160521/humbo...</td>\n",
       "      <td>False</td>\n",
       "      <td>7.0</td>\n",
       "      <td>NaN</td>\n",
       "      <td>NaN</td>\n",
       "      <td>NaN</td>\n",
       "      <td>41.8974</td>\n",
       "      <td>NaN</td>\n",
       "      <td>-87.7118</td>\n",
       "      <td>NaN</td>\n",
       "      <td>Humboldt Park - man shot while driving. lower ...</td>\n",
       "      <td>{0: '33'}</td>\n",
       "      <td>{0: 'Adult 18+'}</td>\n",
       "      <td>{0: 'Male'}</td>\n",
       "      <td>NaN</td>\n",
       "      <td>NaN</td>\n",
       "      <td>{0: 'Injured'}</td>\n",
       "      <td>{0: 'Victim'}</td>\n",
       "      <td>NaN</td>\n",
       "      <td>10.0</td>\n",
       "      <td>5.0</td>\n",
       "      <td>0</td>\n",
       "      <td>0</td>\n",
       "      <td>0</td>\n",
       "      <td>0</td>\n",
       "      <td>0</td>\n",
       "    </tr>\n",
       "  </tbody>\n",
       "</table>\n",
       "</div>"
      ],
      "text/plain": [
       "        Unnamed: 0  incident_id        date                 state  \\\n",
       "149753      149753       670790  2016-10-05  District of Columbia   \n",
       "128521      128521       569732  2016-05-30               Georgia   \n",
       "156296      156296       699420  2016-11-13               Indiana   \n",
       "77039        77039       365102  2015-06-27              New York   \n",
       "127010      127010       563099  2016-05-21              Illinois   \n",
       "\n",
       "       city_or_county                          address  n_killed  n_injured  \\\n",
       "149753     Washington      8th Street and D Street, NW         0          0   \n",
       "128521           Rome    Broad Street and Third Avenue         0          0   \n",
       "156296   Indianapolis            5150 West 38th Street         0          1   \n",
       "77039      Plattekill     400 block of Crescent Avenue         1          0   \n",
       "127010        Chicago  900 block of North Homan Avenue         0          1   \n",
       "\n",
       "                                             incident_url  \\\n",
       "149753  http://www.gunviolencearchive.org/incident/670790   \n",
       "128521  http://www.gunviolencearchive.org/incident/569732   \n",
       "156296  http://www.gunviolencearchive.org/incident/699420   \n",
       "77039   http://www.gunviolencearchive.org/incident/365102   \n",
       "127010  http://www.gunviolencearchive.org/incident/563099   \n",
       "\n",
       "                                               source_url  \\\n",
       "149753  https://twitter.com/DCPoliceDept/status/783843...   \n",
       "128521  http://www.northwestgeorgianews.com/rome/news/...   \n",
       "156296  http://wishtv.com/2016/11/13/one-injured-in-ni...   \n",
       "77039   http://www.midhudsonnews.com/News/2015/Decembe...   \n",
       "127010  https://www.dnainfo.com/chicago/20160521/humbo...   \n",
       "\n",
       "        incident_url_fields_missing  congressional_district      gun_stolen  \\\n",
       "149753                        False                     1.0  {0: 'Unknown'}   \n",
       "128521                        False                    14.0  {0: 'Unknown'}   \n",
       "156296                        False                     7.0  {0: 'Unknown'}   \n",
       "77039                         False                    19.0  {0: 'Unknown'}   \n",
       "127010                        False                     7.0             NaN   \n",
       "\n",
       "              gun_type                           incident_characteristics  \\\n",
       "149753  {0: 'Unknown'}           ['Non-Shooting Incident', 'Car-jacking']   \n",
       "128521      {0: '9mm'}  ['Non-Shooting Incident', 'Gun(s) stolen from ...   \n",
       "156296  {0: 'Unknown'}  ['Shot - Wounded/Injured', 'Bar/club incident ...   \n",
       "77039   {0: 'Shotgun'}  ['Shot - Dead (murder, accidental, suicide)', ...   \n",
       "127010             NaN                                                NaN   \n",
       "\n",
       "        latitude location_description  longitude  n_guns_involved  \\\n",
       "149753   38.8948                  NaN   -77.0230              1.0   \n",
       "128521   34.2537                  NaN   -85.1729              1.0   \n",
       "156296   39.8240  Limelight Nightclub   -86.2477              1.0   \n",
       "77039    41.7021                  NaN   -74.0380              1.0   \n",
       "127010   41.8974                  NaN   -87.7118              NaN   \n",
       "\n",
       "                                                    notes participant_age  \\\n",
       "149753                                                NaN             NaN   \n",
       "128521                                                NaN             NaN   \n",
       "156296                          Man shot at 2:0am in bar;             NaN   \n",
       "77039   perp stabbed 3 people, shot by vics fam member...       {0: '25'}   \n",
       "127010  Humboldt Park - man shot while driving. lower ...       {0: '33'}   \n",
       "\n",
       "                   participant_age_group      participant_gender  \\\n",
       "149753  {1: 'Adult 18+', 2: 'Adult 18+'}  {1: 'Male', 2: 'Male'}   \n",
       "128521                               NaN                     NaN   \n",
       "156296  {0: 'Adult 18+', 1: 'Adult 18+'}             {0: 'Male'}   \n",
       "77039                   {0: 'Adult 18+'}             {0: 'Male'}   \n",
       "127010                  {0: 'Adult 18+'}             {0: 'Male'}   \n",
       "\n",
       "          participant_name participant_relationship  \\\n",
       "149753                 NaN                      NaN   \n",
       "128521                 NaN                      NaN   \n",
       "156296                 NaN                      NaN   \n",
       "77039   0::Rodshan Pittman           {0: 'Friends'}   \n",
       "127010                 NaN                      NaN   \n",
       "\n",
       "                                   participant_status  \\\n",
       "149753  {0: 'Unharmed', 1: 'Unharmed', 2: 'Unharmed'}   \n",
       "128521                                            NaN   \n",
       "156296                  {0: 'Injured', 1: 'Unharmed'}   \n",
       "77039                                   {0: 'Killed'}   \n",
       "127010                                 {0: 'Injured'}   \n",
       "\n",
       "                                         participant_type  \\\n",
       "149753  {0: 'Victim', 1: 'Subject-Suspect', 2: 'Subjec...   \n",
       "128521                                                NaN   \n",
       "156296                {0: 'Victim', 1: 'Subject-Suspect'}   \n",
       "77039                              {0: 'Subject-Suspect'}   \n",
       "127010                                      {0: 'Victim'}   \n",
       "\n",
       "                                                  sources  \\\n",
       "149753                                                NaN   \n",
       "128521                                                NaN   \n",
       "156296                                                NaN   \n",
       "77039   ['http://www.dailyfreeman.com/general-news/201...   \n",
       "127010                                                NaN   \n",
       "\n",
       "        state_house_district  state_senate_district  indic_suicide  \\\n",
       "149753                   NaN                    NaN              0   \n",
       "128521                  13.0                   52.0              0   \n",
       "156296                  94.0                   33.0              0   \n",
       "77039                  103.0                   39.0              1   \n",
       "127010                  10.0                    5.0              0   \n",
       "\n",
       "        indic_defens  indic_school  indic_home_inv  indic_accident  \n",
       "149753             0             0               0               0  \n",
       "128521             0             0               0               0  \n",
       "156296             0             0               0               0  \n",
       "77039              1             0               0               1  \n",
       "127010             0             0               0               0  "
      ]
     },
     "execution_count": 160,
     "metadata": {},
     "output_type": "execute_result"
    }
   ],
   "source": [
    "gun_violence_db = pd.read_csv('/home/onyxia/gun_violence/rendu_final/data/gun_violence_db.csv')\n",
    "gun_violence_db.sample(5)"
   ]
  },
  {
   "cell_type": "code",
   "execution_count": null,
   "metadata": {},
   "outputs": [],
   "source": [
    "from shapely import wkt\n",
    "def wkt_loads(x):\n",
    "    try:\n",
    "        return wkt.loads(x)\n",
    "    except Exception:\n",
    "        return None\n",
    "total_db = total_db.dropna(subset=['geometry'])\n",
    "total_db['geometry'] = total_db['geometry'].apply(wkt_loads)"
   ]
  },
  {
   "cell_type": "code",
   "execution_count": null,
   "metadata": {},
   "outputs": [],
   "source": [
    "total_db = total_db.loc[total_db['Etat'] != 'Alaska']\n",
    "total_db = total_db.loc[total_db['Etat'] != 'Hawaii']\n",
    "\n",
    "gun_violence_db = gun_violence_db.loc[gun_violence_db['state'] != 'Alaska']\n",
    "gun_violence_db = gun_violence_db.loc[gun_violence_db['state'] != 'Hawaii']"
   ]
  },
  {
   "cell_type": "code",
   "execution_count": 163,
   "metadata": {},
   "outputs": [],
   "source": [
    "total_db_geo = (\n",
    "    gpd.GeoDataFrame(total_db)\n",
    "    .set_geometry('geometry')\n",
    "    .set_crs('EPSG:4269')\n",
    ")"
   ]
  },
  {
   "cell_type": "code",
   "execution_count": null,
   "metadata": {},
   "outputs": [],
   "source": [
    "#changement de valeur pour Richmond, Virginia car valeur aberrante de 8.755 alors qu'il y avait 204 214\thabitants en 2010\n",
    "total_db_geo.loc[total_db_geo['id_county'] == 30306, 'resident_pop_year_2013'] = 204.214 \n",
    "total_db_geo.loc[total_db_geo['id_county'] == 30306, 'resident_pop_year_2014'] = 204.214 \n",
    "total_db_geo.loc[total_db_geo['id_county'] == 30306, 'resident_pop_year_2015'] = 204.214 \n",
    "total_db_geo.loc[total_db_geo['id_county'] == 30306, 'resident_pop_year_2016'] = 204.214 \n",
    "total_db_geo.loc[total_db_geo['id_county'] == 30306, 'resident_pop_year_2017'] = 204.214 \n",
    "total_db_geo.loc[total_db_geo['id_county'] == 30306, 'resident_pop_year_2018'] = 204.214 "
   ]
  },
  {
   "cell_type": "code",
   "execution_count": null,
   "metadata": {},
   "outputs": [],
   "source": [
    "from shapely.geometry import Point\n",
    "\n",
    "geometry = [Point(xy) for xy in zip(gun_violence_db['longitude'], gun_violence_db['latitude'])]\n",
    "gun_violence_geo = gpd.GeoDataFrame(gun_violence_db, geometry=geometry, crs='EPSG:4326')\n",
    "\n",
    "gun_violence_geo = gun_violence_geo.set_crs('EPSG:4326')\n",
    "gun_violence_geo = gun_violence_geo[gun_violence_geo.geometry.x <= -50]"
   ]
  },
  {
   "cell_type": "markdown",
   "metadata": {},
   "source": [
    "Merge des deux bases"
   ]
  },
  {
   "cell_type": "code",
   "execution_count": null,
   "metadata": {},
   "outputs": [],
   "source": [
    "total_db_geo=total_db_geo.to_crs('EPSG:4326')\n",
    "merge_geo = gpd.sjoin(gun_violence_geo, total_db_geo, predicate='within')\n",
    "geom_county=total_db_geo[['id_county','geometry']]\n",
    "geom_county.head()"
   ]
  },
  {
   "cell_type": "code",
   "execution_count": null,
   "metadata": {},
   "outputs": [],
   "source": [
    "merge_geo2=pd.merge(merge_geo, geom_county, on='id_county')\n",
    "merge_geo2.head()"
   ]
  },
  {
   "cell_type": "code",
   "execution_count": null,
   "metadata": {},
   "outputs": [],
   "source": [
    "merge_geo = merge_geo2.rename(columns={'geometry_x': 'point_geometry', 'geometry_y': 'polygon_geometry'})\n",
    "merge_geo.head()"
   ]
  },
  {
   "cell_type": "code",
   "execution_count": null,
   "metadata": {},
   "outputs": [],
   "source": [
    "pd.set_option('display.max_columns', None)\n",
    "merge_geo.sample()"
   ]
  },
  {
   "cell_type": "markdown",
   "metadata": {},
   "source": [
    "# Stats descriptives sur les indicateurs socio-économiques des comtés\n",
    "## Revenu médian"
   ]
  },
  {
   "cell_type": "code",
   "execution_count": null,
   "metadata": {},
   "outputs": [],
   "source": [
    "print(\"I. Statistiques descriptives sur les indicateurs socio-économiques des comtés \\n\")\n",
    "print(\"Le revenu médian :\")"
   ]
  },
  {
   "cell_type": "code",
   "execution_count": null,
   "metadata": {},
   "outputs": [],
   "source": [
    "total_db_geo.plot(aspect = 1, figsize = (12,5), column = \"med_h_income_year_2013\", legend = True, cmap = \"plasma\", linewidth = 0.1)\n",
    "plt.title(\"Revenu médian annuel par foyer en 2013\")\n",
    "plt.show()"
   ]
  },
  {
   "cell_type": "markdown",
   "metadata": {},
   "source": [
    "Ces représentations sont difficilement lisibles car il y a beaucoup de comtés. Une solution est de classer les comtés et de les colorier en fonction de leur classement, en définissant par exemple 4 quantiles. "
   ]
  },
  {
   "cell_type": "code",
   "execution_count": null,
   "metadata": {},
   "outputs": [],
   "source": [
    "print(\"Ces représentations sont difficilement lisibles car il y a beaucoup de comtés. \\nUne solution est de classer les comtés et de les colorier en fonction de leur classement, en définissant par exemple 4 quantiles. \")"
   ]
  },
  {
   "cell_type": "code",
   "execution_count": null,
   "metadata": {},
   "outputs": [],
   "source": [
    "total_db_geo.plot(aspect = 1, figsize = (15,15), column = \"med_h_income_year_2013\", legend = True, \n",
    "scheme = \"Quantiles\", k = 4, linewidth = 0.1, legend_kwds={'loc': 'lower left'}) #scheme permet de découper en quantiles\n",
    "plt.title(\"Revenu médian annuel par foyer en 2013\")\n",
    "plt.show()"
   ]
  },
  {
   "cell_type": "markdown",
   "metadata": {},
   "source": [
    "Cette représentation a l'avantage de permettre de distinguer rapidement des groupes de comtés. Cependant, il faut garder en tête que la dernière catégorie recouvre beaucoup de valeurs différentes (du simple au double).\n",
    "\n",
    "On voit sur cette carte que les comtés du Sud-Ouest sont ceux avec le revenu médian le plus faible, alors que les plus rivhes se situent surtout au Nord."
   ]
  },
  {
   "cell_type": "code",
   "execution_count": null,
   "metadata": {},
   "outputs": [],
   "source": [
    "print(\"Cette représentation a l'avantage de permettre de distinguer rapidement des groupes de comtés. \\nCependant, il faut garder en tête que la dernière catégorie recouvre beaucoup de valeurs différentes (du simple au double).\")\n",
    "print(\"On voit sur cette carte que les comtés du Sud-Ouest sont ceux avec le revenu médian le plus faible, alors que les plus riches se situent surtout au Nord.\")"
   ]
  },
  {
   "cell_type": "code",
   "execution_count": null,
   "metadata": {},
   "outputs": [],
   "source": [
    "sns.set(style=\"ticks\")\n",
    "x = total_db_geo[\"med_h_income_year_2013\"] \n",
    "\n",
    "f, (ax_box, ax_hist) = plt.subplots(2, sharex=True, figsize = (10, 5), gridspec_kw={\"height_ratios\": (.15, .85)}) #on créé deux graphiques\n",
    "\n",
    "sns.boxplot(x=x, ax=ax_box) #on génère les graphiques à leur place\n",
    "sns.histplot(x=x, bins=30, ax=ax_hist)\n",
    "\n",
    "ax_box.set(yticks=[])\n",
    "sns.despine(ax=ax_hist) #on supprime les côtés\n",
    "sns.despine(ax=ax_box, left=True)\n",
    "\n",
    "plt.suptitle(\"Distribution du revenu annuel médian par foyer en 2013\")\n",
    "ax_hist.set_xlabel('Revenu annuel médian par foyer en 2013')"
   ]
  },
  {
   "cell_type": "code",
   "execution_count": null,
   "metadata": {},
   "outputs": [],
   "source": [
    "print(\"La distribution du revenu annuel médian par foyer en 2013 semble suivre une loi log-normale, car elle ressemble à une normale avec une plus grande queue à droite. \\nLe box-plot semble confirmer cela : les 'valeurs aberrantes' ne sont présentes qu'à droite de la distribution.\\n\")\n"
   ]
  },
  {
   "cell_type": "markdown",
   "metadata": {},
   "source": [
    "La distribution du revenu annuel médian par foyer en 2013 semble suivre une loi log-normale, car elle ressemble à une normale avec une plus grande queue à droite. Le box-plot semble confirmer cela : les \"valeurs aberrantes\" ne sont présentes qu'à droite de la distribution.\n",
    "\n",
    "## Proportion de détenteurs d'un bachelor"
   ]
  },
  {
   "cell_type": "code",
   "execution_count": null,
   "metadata": {},
   "outputs": [],
   "source": [
    "print(\"Proportion de détenteurs d'un bachelor : \")"
   ]
  },
  {
   "cell_type": "code",
   "execution_count": null,
   "metadata": {},
   "outputs": [],
   "source": [
    "total_db_geo.plot(aspect = 1, figsize = (15,15), column = \"bachelors_deg_year_2013\", legend = True, scheme = \"QUANTILES\", \n",
    "k=4, linewidth = 0.1, legend_kwds={'loc': 'lower left'})\n",
    "plt.title(\"Proportion de détenteurs d'un bachelor en 2013\")\n",
    "plt.show()"
   ]
  },
  {
   "cell_type": "markdown",
   "metadata": {},
   "source": [
    "A nouveau, le Nord-Est est privilégié, avec la plus grosse part de détententeurs de bachelors. Le Sud-Est est encore une fois défavorisé, avec preque tout le premier quantile situé à cet endroit."
   ]
  },
  {
   "cell_type": "code",
   "execution_count": null,
   "metadata": {},
   "outputs": [],
   "source": [
    "print(\"A nouveau, le Nord-Est est privilégié, avec la plus grosse part de détententeurs de bachelors. \\nLe Sud-Est est encore une fois défavorisé, avec la quasi-totalité du premier quantile située à cet endroit.\")"
   ]
  },
  {
   "cell_type": "code",
   "execution_count": null,
   "metadata": {},
   "outputs": [],
   "source": [
    "sns.set(style=\"ticks\")\n",
    "x = total_db_geo[\"bachelors_deg_year_2013\"] \n",
    "\n",
    "f, (ax_box, ax_hist) = plt.subplots(2, sharex=True, figsize = (10, 5), gridspec_kw={\"height_ratios\": (.15, .85)})\n",
    "\n",
    "sns.boxplot(x=x, ax=ax_box)\n",
    "sns.histplot(x=x, bins=30, ax=ax_hist)\n",
    "\n",
    "ax_box.set(yticks=[])\n",
    "sns.despine(ax=ax_hist)\n",
    "sns.despine(ax=ax_box, left=True)\n",
    "\n",
    "median_value = x.median()\n",
    "ax_hist.axvline(median_value, color='red', linestyle='dashed', linewidth=2, label='Median')\n",
    "\n",
    "plt.suptitle(\"Distribution de la proportion de diplômés de bachelor en 2013\")\n",
    "ax_hist.set_xlabel('Proportion de diplômés de bachelor en 2013')"
   ]
  },
  {
   "cell_type": "markdown",
   "metadata": {},
   "source": [
    "On obtient encore une fois une courbe normale biaisé vers la droite de la distribution. Les valeurs aberrantes sont toutes situées de ce côté de la distribution. On voit bien sur le boxplot les inégalités très importantes qui peut exister entre les comtés. Cela est assez logique : le comté étant un découpage relativement fin du territoire américain, il n'est pas étonnant de grosses variations à cette échelle.\n",
    "\n",
    "## Bénéficiaires du programme SNAP"
   ]
  },
  {
   "cell_type": "code",
   "execution_count": null,
   "metadata": {},
   "outputs": [],
   "source": [
    "print(\"On obtient encore une fois une courbe normale biaisée vers la droite de la distribution. Les valeurs aberrantes sont toutes situées de ce côté de la distribution. \\nOn voit bien sur le boxplot les inégalités très importantes qui peuvent exister entre les comtés. Cela est assez logique : le comté étant un découpage relativement fin du territoire américain, il n'est pas étonnant que de grosses variations existent à cette échelle.\\n\")\n",
    "print(\"Bénéficiaires du programme SNAP :\")"
   ]
  },
  {
   "cell_type": "code",
   "execution_count": null,
   "metadata": {},
   "outputs": [],
   "source": [
    "total_db_geo[\"snap_share_year_2013\"] = total_db_geo[\"snap_beneficiaries_year_2013\"] / total_db_geo[\"resident_pop_year_2013\"] / 1000\n",
    "total_db_geo.plot(aspect = 1, figsize = (15,15), column = \"snap_share_year_2013\", legend = True, scheme = \"QUANTILES\", \n",
    "k=4, linewidth = 0.1, legend_kwds={'loc': 'lower left'})\n",
    "plt.title(\"Proportion de bénéficiaires du programme SNAP en 2013 en %\")\n",
    "plt.show()"
   ]
  },
  {
   "cell_type": "markdown",
   "metadata": {},
   "source": [
    "On retrouve la distinction Nord-Est privilégié / Sud-Est défavorisé ici encore : les taux de bénéficaires les plus bas sont situés au Nord-Est et les plus importants dnas le Sud, et en particulier le Sud-Est. Le Nord et le centre du pays font partie des deux premiers quartiles, alors que le Nord-Ouest fait également partie des territoires avec la plus grande part de bénéficiaires."
   ]
  },
  {
   "cell_type": "code",
   "execution_count": null,
   "metadata": {},
   "outputs": [],
   "source": [
    "print(\"On retrouve la distinction Nord-Est privilégié / Sud-Est défavorisé ici encore : les taux de bénéficaires les plus bas sont situés au Nord-Est et les plus importants dnas le Sud, et en particulier le Sud-Est. \\nLe Nord et le centre du pays font partie des deux premiers quartiles, alors que le Nord-Ouest fait également partie des territoires avec la plus grande part de bénéficiaires.\")"
   ]
  },
  {
   "cell_type": "code",
   "execution_count": null,
   "metadata": {},
   "outputs": [],
   "source": [
    "\n",
    "sns.set(style=\"ticks\")\n",
    "x = total_db_geo[\"snap_share_year_2013\"] \n",
    "\n",
    "f, (ax_box, ax_hist) = plt.subplots(2, sharex=True, gridspec_kw={\"height_ratios\": (.15, .85)}, figsize=(10,5))\n",
    "\n",
    "sns.boxplot(x=x, ax=ax_box)\n",
    "sns.histplot(x=x, bins=30, ax=ax_hist)\n",
    "\n",
    "ax_box.set(yticks=[])\n",
    "sns.despine(ax=ax_hist)\n",
    "sns.despine(ax=ax_box, left=True)\n",
    "\n",
    "median_value = x.median()\n",
    "ax_hist.axvline(median_value, color='red', linestyle='dashed', linewidth=2, label='Median')\n",
    "\n",
    "plt.suptitle(\"Distribution de la proportion de bénéficiaire du SNAP en 2013 en %\")\n",
    "ax_hist.set_xlabel('Proportion de bénéficiaire du SNAP en 2013 en %')"
   ]
  },
  {
   "cell_type": "markdown",
   "metadata": {},
   "source": [
    "On retrouve globalement la même forme de distribution, mais un peu plus étalée que les deux vues précédemment. Encore une fois, la courbe en cloche est biaisée vers la droite, où se situent toutes les valeurs aberrantes. \n",
    "\n",
    "## Taux de chômage"
   ]
  },
  {
   "cell_type": "code",
   "execution_count": null,
   "metadata": {},
   "outputs": [],
   "source": [
    "print(\"On retrouve globalement la même forme de distribution, mais un peu plus étalée que les deux vues précédemment. Encore une fois, la courbe en cloche est biaisée vers la droite, où se situent toutes les valeurs aberrantes. \\n\")\n",
    "print(\"Taux de chômage :\")"
   ]
  },
  {
   "cell_type": "code",
   "execution_count": null,
   "metadata": {},
   "outputs": [],
   "source": [
    "total_db_geo.plot(aspect = 1, figsize = (15,15), column = \"unemp_rate_year_2013\", legend = True, scheme = \"QUANTILES\", k=4, \n",
    "linewidth = 0.1, legend_kwds={'loc': 'lower left'})\n",
    "plt.title(\"Taux de chômage en 2013\")\n",
    "plt.show()"
   ]
  },
  {
   "cell_type": "markdown",
   "metadata": {},
   "source": [
    "La répartition géographique du taux de chômage semble totalement différente des autres : toute la côte Ouest est dans le dernier quartile, et l'Est aussi, alors que c'est le centre qui a le taux de chômage le plus bas. Certaines zones connues pour leur désindustrialisation sont dans le dernier quartile, comme la région de Détroit par exemple."
   ]
  },
  {
   "cell_type": "code",
   "execution_count": null,
   "metadata": {},
   "outputs": [],
   "source": [
    "print(\"La répartition géographique du taux de chômage semble totalement différente des autres : toute la côte Ouest ainsi que l'Est sont dans le dernier quartile, alors que c'est le centre qui a le taux de chômage le plus faible. \\nCertaines zones connues pour leur désindustrialisation sont dans le dernier quartile, comme la région de Détroit par exemple.\")"
   ]
  },
  {
   "cell_type": "code",
   "execution_count": null,
   "metadata": {},
   "outputs": [],
   "source": [
    "sns.set(style=\"ticks\")\n",
    "x = total_db_geo[\"unemp_rate_year_2013\"] \n",
    "\n",
    "f, (ax_box, ax_hist) = plt.subplots(2, sharex=True, gridspec_kw={\"height_ratios\": (.15, .85)}, figsize=(10,5))\n",
    "\n",
    "sns.boxplot(x=x, ax=ax_box)\n",
    "sns.histplot(x=x, bins=30, ax=ax_hist)\n",
    "\n",
    "ax_box.set(yticks=[])\n",
    "sns.despine(ax=ax_hist)\n",
    "sns.despine(ax=ax_box, left=True)\n",
    "\n",
    "median_value = x.median()\n",
    "ax_hist.axvline(median_value, color='red', linestyle='dashed', linewidth=2, label='Median')\n",
    "\n",
    "plt.suptitle(\"Distribution du taux de chômage en 2013\")\n",
    "ax_hist.set_xlabel('Taux de chômage en 2013')"
   ]
  },
  {
   "cell_type": "markdown",
   "metadata": {},
   "source": [
    "La distribution a la forme que nous avons vu déjà plusieurs fois. On remarque que les valuers aberrantes sont de plus en plus espacées au fur et à mesure qu'elles augmentent.\n",
    "\n",
    "## Vote pour les démocrates à l'élection présidentielle de 2016"
   ]
  },
  {
   "cell_type": "code",
   "execution_count": null,
   "metadata": {},
   "outputs": [],
   "source": [
    "print(\"La forme de la distribution est de nouveau similaires à celles vues précédemments. \\nOn remarque que les valuers aberrantes sont de plus en plus espacées au fur et à mesure qu'elles augmentent.\\n\")\n",
    "print(\"Vote pour les démocrates à l'élection présidentielle de 2016\")"
   ]
  },
  {
   "cell_type": "code",
   "execution_count": null,
   "metadata": {},
   "outputs": [],
   "source": [
    "total_db_geo.plot(aspect = 1, figsize = (12,6), column = \"per_dem\", legend = True, linewidth = 0.1, cmap = \"RdBu\")\n",
    "plt.title(\"Part des votes pour les démocrates en 2016\")\n",
    "plt.show()"
   ]
  },
  {
   "cell_type": "markdown",
   "metadata": {},
   "source": [
    "Cette représentation a le défaut de laisser penser que les républicains ont largement gagné le vote de 2016, puisque la carte est en grande majorité rouge. Pour remédier à cela, il faut faire une représentation qui pondère le vote par la population résidente de 2016."
   ]
  },
  {
   "cell_type": "code",
   "execution_count": null,
   "metadata": {},
   "outputs": [],
   "source": [
    "print(\"Cette représentation a le défaut de laisser penser que les républicains ont largement gagné le vote de 2016, puisque la carte est en grande majorité rouge. \\nPour remédier à cela, il faut faire une représentation qui pondère le vote par la population résidente de 2016.\")"
   ]
  },
  {
   "cell_type": "code",
   "execution_count": null,
   "metadata": {},
   "outputs": [],
   "source": [
    "total_db_geo = total_db_geo.to_crs(4329)\n",
    "total_db_geo['centroid'] = total_db_geo['geometry'].centroid\n",
    "\n",
    "# Create a GeoDataFrame with centroids\n",
    "gdf_centroids = gpd.GeoDataFrame(total_db_geo[['resident_pop_year_2016', \"per_dem\", \"centroid\"]], geometry=total_db_geo['centroid'])\n",
    "\n",
    "# Plot\n",
    "# Plot polygons\n",
    "fig, ax = plt.subplots(figsize=(12, 6))\n",
    "total_db_geo.plot(ax=ax, color='lightgray', alpha=0.7, edgecolor='white', linewidth=0.1)\n",
    "\n",
    "# Plot centroids as dots with color and size based on variables\n",
    "sc = ax.scatter(\n",
    "    gdf_centroids['centroid'].x,\n",
    "    gdf_centroids['centroid'].y,\n",
    "    c=gdf_centroids['per_dem'],\n",
    "    cmap='RdBu',\n",
    "    s=gdf_centroids['resident_pop_year_2016']*0.5,\n",
    "    alpha=0.7,\n",
    "    marker='o',\n",
    "    edgecolors='black',  # Add black edges for better visibility\n",
    "    linewidths=1,        # Adjust linewidth of the edges\n",
    ")\n",
    "\n",
    "# Set plot title and labels\n",
    "plt.title('Représentation du votes démocrates en 2016, pondéré par la population de 2016')\n",
    "\n",
    "# Add colorbar\n",
    "cbar = plt.colorbar(sc, label='Part du vote démocrate')\n",
    "\n",
    "# Show the plot\n",
    "plt.show()"
   ]
  },
  {
   "cell_type": "markdown",
   "metadata": {},
   "source": [
    "Même si la carte n'est pas forcément évidente à lire à cause des chevauchements des cercles (dont la taille dépend de la population résidente), on voit que le bleu et le rouge (et donc les électeurs démocrates et républicains) sont relativement égaux sur le territoire, ce qui est plus fidèle au résultat de l'élection. La Californie et le Nord-Est (qui sont souvent favorisés dans les statistiques précédentes) sont plutôt démocrates, alors que le Sud-Est, plus défavorisé, penche plutôt en faveur des républicains"
   ]
  },
  {
   "cell_type": "code",
   "execution_count": null,
   "metadata": {},
   "outputs": [],
   "source": [
    "print(\"Même si la carte n'est pas forcément évidente à lire à cause des chevauchements des cercles (dont la taille dépend de la population résidente), on voit que le bleu et le rouge (et donc les électeurs démocrates et républicains) sont relativement égaux sur le territoire, ce qui est plus fidèle au résultat de l'élection. \\nLa Californie et le Nord-Est (qui sont souvent favorisés dans les statistiques précédentes) sont plutôt démocrates, alors que le Sud-Est, plus défavorisé, penche plutôt en faveur des républicains.\")\n",
    "print(\"De plus, si on s'intéresse uniquement à la taille des cercles, cette carte nous permet également de visualiser la densité de la population. Cette densité est beaucoup plus élevée sur la côte Ouest et sur la moitié Est du pays, au contraire du centre qui est relativement très peu densément peuplé et beaucoup plus rural.\")"
   ]
  },
  {
   "cell_type": "markdown",
   "metadata": {},
   "source": [
    "## Densité de population"
   ]
  },
  {
   "cell_type": "code",
   "execution_count": null,
   "metadata": {},
   "outputs": [],
   "source": [
    "total_db_geo[\"pop_density_2013\"] = total_db_geo[\"resident_pop_year_2013\"] / total_db_geo[\"geometry\"].area\n",
    "total_db_geo.plot(aspect = 1, figsize = (15,15), column = \"pop_density_2013\", legend = True, scheme = \"QUANTILES\", k=4, \n",
    "linewidth = 0.1, legend_kwds={'loc': 'lower left'})\n",
    "plt.title(\"Densité de population en 2013\")\n",
    "plt.show()"
   ]
  },
  {
   "cell_type": "markdown",
   "metadata": {},
   "source": [
    "On remarque que l'Est et les côtes du pays concentrent les territoires les plus denses, alors que que l'Ouest et le centre ont des densités plus faibles"
   ]
  },
  {
   "cell_type": "code",
   "execution_count": null,
   "metadata": {},
   "outputs": [],
   "source": [
    "print(\"On remarque que l'Est et les côtes du pays concentrent les territoires les plus denses, alors que que l'Ouest et le centre ont des densités plus faibles\")"
   ]
  },
  {
   "cell_type": "code",
   "execution_count": null,
   "metadata": {},
   "outputs": [],
   "source": [
    "sns.set(style=\"ticks\")\n",
    "x = total_db_geo[\"pop_density_2013\"] \n",
    "\n",
    "f, (ax_box, ax_hist) = plt.subplots(2, sharex=True, gridspec_kw={\"height_ratios\": (.15, .85)}, figsize=(10,5))\n",
    "\n",
    "sns.boxplot(x=x, ax=ax_box)\n",
    "sns.histplot(x=x, bins=30, ax=ax_hist)\n",
    "\n",
    "ax_box.set(yticks=[])\n",
    "sns.despine(ax=ax_hist)\n",
    "sns.despine(ax=ax_box, left=True)\n",
    "\n",
    "median_value = x.median()\n",
    "ax_hist.axvline(median_value, color='red', linestyle='dashed', linewidth=2, label='Median')\n",
    "\n",
    "plt.suptitle(\"Distribution de la densité de population en 2013\")\n",
    "ax_hist.set_xlabel('Densité')"
   ]
  },
  {
   "cell_type": "markdown",
   "metadata": {},
   "source": [
    "On remarque qu'il y a un outlier particulièrement surprenant, vérifions à la main ce qu'il est en est."
   ]
  },
  {
   "cell_type": "code",
   "execution_count": null,
   "metadata": {},
   "outputs": [],
   "source": [
    "print(\"On remarque qu'il y a un outlier particulièrement surprenant, vérifions à la main ce qu'il est en est.\")"
   ]
  },
  {
   "cell_type": "code",
   "execution_count": null,
   "metadata": {},
   "outputs": [],
   "source": [
    "total_db_geo[total_db_geo[\"pop_density_2013\"] == total_db_geo[\"pop_density_2013\"].max()]\n",
    "print(\"Le comté de Fairfax semble présenter une erreur, nous allons regarder la distributioin de la densité sans les valeurs trop extrêmes.\")"
   ]
  },
  {
   "cell_type": "code",
   "execution_count": null,
   "metadata": {},
   "outputs": [],
   "source": [
    "sns.set(style=\"ticks\")\n",
    "x = total_db_geo[total_db_geo[\"pop_density_2013\"] <  50000][\"pop_density_2013\"]\n",
    "\n",
    "f, (ax_box, ax_hist) = plt.subplots(2, sharex=True, gridspec_kw={\"height_ratios\": (.15, .85)}, figsize=(10,5))\n",
    "\n",
    "sns.boxplot(x=x, ax=ax_box)\n",
    "sns.histplot(x=x, bins=30, ax=ax_hist)\n",
    "\n",
    "ax_box.set(yticks=[])\n",
    "sns.despine(ax=ax_hist)\n",
    "sns.despine(ax=ax_box, left=True)\n",
    "\n",
    "median_value = x.median()\n",
    "ax_hist.axvline(median_value, color='red', linestyle='dashed', linewidth=2, label='Median')\n",
    "\n",
    "plt.suptitle(\"Distribution de la densité de population en 2013\")\n",
    "ax_hist.set_xlabel('Densité')"
   ]
  },
  {
   "cell_type": "markdown",
   "metadata": {},
   "source": [
    "La distribution possède de nombreux outliers à droite, même quand on se restreint à des valeurs plus faibles."
   ]
  },
  {
   "cell_type": "markdown",
   "metadata": {},
   "source": [
    "## Comparaison des différentes années\n",
    "\n",
    "Nous avons les données sur plusieurs années (entre 2013 et 2018, années de constitution de la base des incidents). Plutôt que faire une carte par année, nous allons vérifier que les données ne changent pas trop d'une année à l'autre, et que les tendances générales restent stables. Nous allons donc regarder les matrices de corrélation d'une même variable entre différentes années.\n",
    "\n",
    "### Chômage"
   ]
  },
  {
   "cell_type": "code",
   "execution_count": null,
   "metadata": {},
   "outputs": [],
   "source": [
    "print(\"\\nII. Comparaison des différentes années\\n\")\n",
    "print(\"Nous avons les données sur plusieurs années (entre 2013 et 2018, années de constitution de la base des incidents). \\nPlutôt que faire une carte par année, nous allons vérifier que les données ne changent pas trop d'une année à l'autre, et que les tendances générales restent stables. Nous allons donc regarder les matrices de corrélation d'une même variable entre différentes années.\\n\")\n",
    "print(\"Chômage :\")"
   ]
  },
  {
   "cell_type": "code",
   "execution_count": null,
   "metadata": {},
   "outputs": [],
   "source": [
    "matrix = total_db_geo[[\"unemp_rate_year_2013\", \"unemp_rate_year_2014\", \"unemp_rate_year_2015\", \n",
    "\"unemp_rate_year_2016\", \"unemp_rate_year_2017\", \"unemp_rate_year_2018\"]].corr()\n",
    "fig = px.imshow(matrix, title= \"Matrice de corrélation des taux de chômage\", labels = {\"color\" : \"Corrélation\"})\n",
    "fig.show()"
   ]
  },
  {
   "cell_type": "markdown",
   "metadata": {},
   "source": [
    "On voit que toutes les corrélations sont supérieures à 80%, ce qui est relativement important et laisse penser que le taux de chômage reste relativement stable sur les années."
   ]
  },
  {
   "cell_type": "code",
   "execution_count": null,
   "metadata": {},
   "outputs": [],
   "source": [
    "print(\"On voit que toutes les corrélations sont supérieures à 80%, ce qui est relativement important et laisse penser que le taux de chômage reste relativement stable sur les années considérées.\")"
   ]
  },
  {
   "cell_type": "code",
   "execution_count": null,
   "metadata": {},
   "outputs": [],
   "source": [
    "sns.set_theme(style=\"ticks\")\n",
    "x = total_db_geo[\"unemp_rate_year_2018\"]\n",
    "y = total_db_geo[\"unemp_rate_year_2013\"]\n",
    "joint_plot = sns.jointplot(x=x, y=y, kind=\"hex\", height = 5)\n",
    "joint_plot.set_axis_labels(\"Taux de chômage en 2018\", \"Taux de chômage en 2013\")\n",
    "joint_plot.fig.suptitle(\"Hexbin du taux de chômage entre 2013 et 2018\", y =1)"
   ]
  },
  {
   "cell_type": "markdown",
   "metadata": {},
   "source": [
    "Cet hexbin montre que les taux de chômage entre 2013 et 2018 sont effectivement positivement corrélés. On remarque également qu'il n'y a que très peu de comtés ayant un faible taux à une année et un taux important pour l'autre année, ce qui suggère que les analyses resteront valables peu importe l'année retenue pour cette variable. Il convient de vérifier cela pour les autres variables.\n",
    "\n",
    "### Revenu annuel médian par foyer"
   ]
  },
  {
   "cell_type": "code",
   "execution_count": null,
   "metadata": {},
   "outputs": [],
   "source": [
    "print(\"Cet hexbin montre que les taux de chômage entre 2013 et 2018 sont effectivement positivement corrélés. \\nOn remarque également qu'il n'y a que très peu de comtés ayant un faible taux à une année et un taux important pour l'autre année, ce qui suggère que les analyses resteront valables peu importe l'année retenue pour cette variable. \\nIl convient de vérifier cela pour les autres variables.\")\n",
    "print(\"\\nRevenu annuel médian par foyer :\")"
   ]
  },
  {
   "cell_type": "code",
   "execution_count": null,
   "metadata": {},
   "outputs": [],
   "source": [
    "matrix = total_db_geo[[\"med_h_income_year_2013\", \"med_h_income_year_2014\", \"med_h_income_year_2015\", \n",
    "\"med_h_income_year_2016\", \"med_h_income_year_2017\", \"med_h_income_year_2018\"]].corr()\n",
    "fig = px.imshow(matrix, title= \"Matrice de corrélation des revenues médians\", labels = {\"color\" : \"Corrélation\"})\n",
    "fig.show()"
   ]
  },
  {
   "cell_type": "code",
   "execution_count": null,
   "metadata": {},
   "outputs": [],
   "source": [
    "sns.set_theme(style=\"ticks\")\n",
    "x = total_db_geo[\"med_h_income_year_2018\"]\n",
    "y = total_db_geo[\"med_h_income_year_2013\"]\n",
    "joint_plot = sns.jointplot(x=x, y=y, kind=\"hex\")\n",
    "joint_plot.set_axis_labels(\"Revenu médian en 2018\", \"Revenu médian en 2013\")\n",
    "joint_plot.fig.suptitle(\"Hexbin du revenu annuel médian par foyer entre 2013 et 2018\", y = 1)"
   ]
  },
  {
   "cell_type": "markdown",
   "metadata": {},
   "source": [
    "On observe la même chose que pour le chômage : les corrélations sont mêmes plus importantes puisque toutes supérieures à 95%. Le hexbin montre également cette quasi parfaite corrélation entre les deux années extrêmes, car tous les comtés sont situés sur la diagonale. Il y a donc très peu de comtés qui sont passés d'un revenu médian important à un revenu médian faible (ou l'inverse).\n",
    "\n",
    "### Proportion de détenteurs d'un bachelor"
   ]
  },
  {
   "cell_type": "code",
   "execution_count": null,
   "metadata": {},
   "outputs": [],
   "source": [
    "print(\"On observe la même chose que pour le chômage : les corrélations sont mêmes plus importantes puisque toutes supérieures à 95%. \\nLe hexbin montre également cette quasi parfaite corrélation entre les deux années extrêmes, car tous les comtés sont situés sur la diagonale. Il y a donc très peu de comtés qui sont passés d'un revenu médian important à un revenu médian faible (ou l'inverse).\")\n",
    "print(\"\\nProportion de détenteurs d'un bachelor :\")"
   ]
  },
  {
   "cell_type": "code",
   "execution_count": null,
   "metadata": {},
   "outputs": [],
   "source": [
    "matrix = total_db_geo[[\"bachelors_deg_year_2013\", \"bachelors_deg_year_2014\", \"bachelors_deg_year_2015\", \n",
    "\"bachelors_deg_year_2016\", \"bachelors_deg_year_2017\", \"bachelors_deg_year_2018\"]].corr()\n",
    "fig = px.imshow(matrix, title= \"Matrice de corrélation des parts de détenteurs de bachelor\", labels = {\"color\" : \"Corrélation\"})\n",
    "fig.show()"
   ]
  },
  {
   "cell_type": "code",
   "execution_count": null,
   "metadata": {},
   "outputs": [],
   "source": [
    "sns.set_theme(style=\"ticks\")\n",
    "x = total_db_geo[\"bachelors_deg_year_2018\"]\n",
    "y = total_db_geo[\"bachelors_deg_year_2013\"]\n",
    "joint_plot = sns.jointplot(x=x, y=y, kind=\"hex\")\n",
    "joint_plot.set_axis_labels(\"Détenteurs d'un bachelor en 2018\", \"Détenteurs d'un bachelor en en 2013\")\n",
    "joint_plot.fig.suptitle(\"Hexbin de la part de détenteurs d'un bachelor entre 2013 et 2018\", y =1)"
   ]
  },
  {
   "cell_type": "markdown",
   "metadata": {},
   "source": [
    "Encore une fois, les données suggèrent qu'utiliser une année ou l'autre n'aura pas d'influence sur les résultats de l'analyse du fait de la similarité des années.\n",
    "\n",
    "### Bénéficaires du programme SNAP"
   ]
  },
  {
   "cell_type": "code",
   "execution_count": null,
   "metadata": {},
   "outputs": [],
   "source": [
    "print(\"Encore une fois, les données suggèrent qu'utiliser une année ou l'autre n'aura pas d'influence sur les résultats de l'analyse du fait de la similarité des années.\")\n",
    "print(\"\\nBénéficaires du programme SNAP :\")"
   ]
  },
  {
   "cell_type": "code",
   "execution_count": null,
   "metadata": {},
   "outputs": [],
   "source": [
    "total_db_geo[\"snap_share_year_2013\"] = total_db_geo[\"snap_beneficiaries_year_2013\"] / total_db_geo[\"resident_pop_year_2013\"] / 1000\n",
    "total_db_geo[\"snap_share_year_2014\"] = total_db_geo[\"snap_beneficiaries_year_2014\"] / total_db_geo[\"resident_pop_year_2014\"] / 1000\n",
    "total_db_geo[\"snap_share_year_2015\"] = total_db_geo[\"snap_beneficiaries_year_2015\"] / total_db_geo[\"resident_pop_year_2015\"] / 1000\n",
    "total_db_geo[\"snap_share_year_2016\"] = total_db_geo[\"snap_beneficiaries_year_2016\"] / total_db_geo[\"resident_pop_year_2016\"] / 1000\n",
    "total_db_geo[\"snap_share_year_2017\"] = total_db_geo[\"snap_beneficiaries_year_2017\"] / total_db_geo[\"resident_pop_year_2017\"] / 1000\n",
    "total_db_geo[\"snap_share_year_2018\"] = total_db_geo[\"snap_beneficiaries_year_2018\"] / total_db_geo[\"resident_pop_year_2018\"] / 1000\n"
   ]
  },
  {
   "cell_type": "code",
   "execution_count": null,
   "metadata": {},
   "outputs": [],
   "source": [
    "matrix = total_db_geo[[\"snap_share_year_2013\", \"snap_share_year_2014\", \"snap_share_year_2015\", \n",
    "\"snap_share_year_2016\", \"snap_share_year_2017\", \"snap_share_year_2018\"]].corr()\n",
    "fig = px.imshow(matrix, title= \"Matrice de corrélation des parts de bénéficiaires du SNAP\", labels = {\"color\" : \"Corrélation\"})\n",
    "fig.show()"
   ]
  },
  {
   "cell_type": "code",
   "execution_count": null,
   "metadata": {},
   "outputs": [],
   "source": [
    "sns.set_theme(style=\"ticks\")\n",
    "x = total_db_geo[\"snap_share_year_2018\"]\n",
    "y = total_db_geo[\"snap_share_year_2013\"]\n",
    "joint_plot = sns.jointplot(x=x, y=y, kind=\"hex\")\n",
    "joint_plot.set_axis_labels(\"Bénéficaires du SNAP en 2018\", \"Bénéficaires du SNAP en 2013\")\n",
    "joint_plot.fig.suptitle(\"Hexbin de la part bénéficaires du SNAP entre 2013 et 2018\", y =1)"
   ]
  },
  {
   "cell_type": "markdown",
   "metadata": {},
   "source": [
    "Même si la diagonale est plus étalée en haut à droite (donc quand les valeurs sont relativement importantes), rien ne semble indiquer qu'il y a des différences significatives dans la structure des données entre ces deux années.\n",
    "\n",
    "## Corrélation entre les variables\n",
    "\n",
    "Nous allons arbitrairement prendre les variables de 2013. Nous avons vu précédemment que cela n'allait pas changer beaucoup les résultats des analyses."
   ]
  },
  {
   "cell_type": "code",
   "execution_count": null,
   "metadata": {},
   "outputs": [],
   "source": [
    "print(\"Même si la diagonale est plus étalée en haut à droite (donc quand les valeurs sont relativement importantes), rien ne semble indiquer qu'il y a des différences significatives dans la structure des données entre ces deux années.\")\n",
    "print(\"\\nCorrélation entre les variables :\\n\")\n",
    "print(\"Nous allons arbitrairement prendre les variables de 2013. Nous avons vu précédemment que cela n'allait pas changer beaucoup les résultats des analyses.\")"
   ]
  },
  {
   "cell_type": "code",
   "execution_count": null,
   "metadata": {},
   "outputs": [],
   "source": [
    "matrix = total_db_geo[[\"unemp_rate_year_2013\", \"snap_share_year_2013\", \"bachelors_deg_year_2013\", \"med_h_income_year_2013\", \"per_dem\", \"score_legis\"]].corr()\n",
    "fig = px.imshow(matrix, title= \"Matrice de corrélation de 2013\", labels = {\"color\" : \"Corrélation\"})\n",
    "fig.show()"
   ]
  },
  {
   "cell_type": "markdown",
   "metadata": {},
   "source": [
    "Les corrélations sont logiques et relativement aisées à expliquer, sauf pour le score legislatif. Le taux de chômage est postiviment corrélé aux bénéficiaires de l'aide alimentaire (suggère des comtés paupérisés), négativement à la part de détenteurs d'un bachelor (les plus éduqués sont a priori moins au chômage que les autres), négativement au revenu médian (plus il y a de chômage, plus ce revenu est abs a priori), et positivement au vote démocrate (plus diffile à bien expliquer).\n",
    "\n",
    "Globalement, les variables \"positives\" comme le revenu médian et la part de diplômés sont positivement corrélées entre elles et négativement corrélées avec les variables \"négatives\" comme la part de bénéficiaires de l'aide alimentaire et le taux de chômage. Le vote démocrate a la même corrélation avec toutes les variables (0.2), sauf pour la part de détenteurs d'un bachelor, qui est plus forte (0.4) : cela s'explique bien car les plus éduqués votent plus démocrates que les autres.\n",
    "\n",
    "La corrélation la plus forte du score législatif (hormis avec lui-même) est avec le revenu médian et avec le vote démocrate. Peut-être que certains états pauvres votent démocrates et ont donc une législation plus forte sur les armes, mais il est difficile de tirer de réelles conclusions à partir de ces corrélations là.\n",
    "\n",
    "# Liens de ces caractéristiques avec la violence par arme à feu\n",
    "\n",
    "Maintenant que nous avons décrit plus en détail les comtés, nous allons esssayer de voir comment cela s'articule avec les données sur les violences par arme à feu. Commençons par la densité des incidents."
   ]
  },
  {
   "cell_type": "code",
   "execution_count": null,
   "metadata": {},
   "outputs": [],
   "source": [
    "print(\"Les corrélations sont logiques et relativement aisées à expliquer, sauf pour le score legislatif. \\nLe taux de chômage est postiviment corrélé aux bénéficiaires de l'aide alimentaire (ce qui suggère des comtés paupérisés), négativement à la part de détenteurs d'un bachelor (les plus éduqués sont a priori moins au chômage que les autres), \\nnégativement au revenu médian (plus il y a de chômage, plus ce revenu est bas a priori), et positivement au vote démocrate (plus diffile à bien expliquer).\\n\")\n",
    "print(\"Globalement, les variables 'positives' comme le revenu médian et la part de diplômés sont positivement corrélées entre elles et négativement corrélées avec les variables 'négatives' comme la part de bénéficiaires de l'aide alimentaire et le taux de chômage. \\nLe vote démocrate a la même corrélation avec toutes les variables (0.2), sauf pour la part de détenteurs d'un bachelor, qui est plus forte (0.4) : cela s'explique bien car les plus éduqués votent plus démocrates que les autres.\\n\")\n",
    "print(\"La corrélation la plus forte du score législatif (hormis avec lui-même) est avec le revenu médian et avec le vote démocrate. \\nPeut-être que certains états riches votent démocrates et ont donc une législation plus forte sur les armes, mais il est difficile de tirer de réelles conclusions à partir de ces corrélations là.\\n\")\n",
    "print(\"\\nIII. Liens de ces caractéristiques avec la violence par arme à feu\\n\")\n",
    "print(\"Maintenant que nous avons décrit plus en détail les comtés, nous allons esssayer de voir comment cela s'articule avec les données sur les violences par arme à feu. \\nCommençons par la densité des incidents :\")"
   ]
  },
  {
   "cell_type": "code",
   "execution_count": null,
   "metadata": {},
   "outputs": [],
   "source": [
    "#count of incidents for each county\n",
    "incident_count_by_county = merge_geo.groupby('id_county')['incident_id'].count().reset_index() \n",
    "\n",
    "#new dataframe with the count\n",
    "incident_pop_geo=pd.merge(incident_count_by_county,merge_geo, on='id_county', how='right')\n",
    "incident_pop_geo.rename(columns={'incident_id_x':'incident_count_by_county'}, inplace=True)\n",
    "\n",
    "#calcul de la densité\n",
    "agg_incident_county = incident_pop_geo.groupby('id_county').agg({'incident_count_by_county': 'first', 'resident_pop_year_2016': 'first'}).reset_index()\n",
    "agg_incident_county['incident_density'] = agg_incident_county['incident_count_by_county'] / agg_incident_county['resident_pop_year_2016'] / 1000\n",
    "\n",
    "\n",
    "# Create a GeoDataFrame with the incident density\n",
    "incident_density_geo = total_db_geo.merge(agg_incident_county, on='id_county', how='left')\n",
    "incident_density_geo[\"incident_density\"] = incident_density_geo[\"incident_density\"] * 1000\n",
    "\n",
    "# ajouter la valeur à 0 à ceux qui n'apparaissaient pas dans la base de gun violences\n",
    "incident_density_geo[\"incident_density\"] = incident_density_geo[\"incident_density\"].fillna(0)\n",
    "incident_density_geo[\"incident_count_by_county\"] = incident_density_geo[\"incident_count_by_county\"].fillna(0)"
   ]
  },
  {
   "cell_type": "code",
   "execution_count": null,
   "metadata": {},
   "outputs": [],
   "source": [
    "incident_density_geo.plot(aspect = 1, figsize = (12,6), legend = True, linewidth = 0.1, cmap = \"RdBu\", \n",
    "column = \"incident_density\")\n",
    "\n",
    "plt.title(\"Densité d'incidents pour 1000 habitants\")\n",
    "plt.show()"
   ]
  },
  {
   "cell_type": "markdown",
   "metadata": {},
   "source": [
    "Encore une fois, la carte est difficile à lire. Nous allons donc utiliser la même méthode que précédemment et regrouper les comtés dans 4 quantiles."
   ]
  },
  {
   "cell_type": "code",
   "execution_count": null,
   "metadata": {},
   "outputs": [],
   "source": [
    "print(\"Encore une fois, la carte est difficile à lire. Nous allons donc utiliser la même méthode que précédemment et regrouper les comtés dans 4 quantiles.\")"
   ]
  },
  {
   "cell_type": "code",
   "execution_count": null,
   "metadata": {},
   "outputs": [],
   "source": [
    "incident_density_geo.plot(aspect = 1, figsize = (12,6), legend = True, linewidth = 0.1, cmap = \"RdBu_r\", \n",
    "column = \"incident_density\", scheme = \"QUANTILES\", k=4, legend_kwds={'loc': 'lower left'})\n",
    "\n",
    "plt.title(\"Densité d'incidents pour 1000 habitants par comtés\")\n",
    "plt.show()"
   ]
  },
  {
   "cell_type": "markdown",
   "metadata": {},
   "source": [
    "Le centre du pays semble avoir une assez faible densité d'incidents, contrairements à la côte Est. La côte Ouest est quant à elle plus contrastée."
   ]
  },
  {
   "cell_type": "code",
   "execution_count": null,
   "metadata": {},
   "outputs": [],
   "source": [
    "print(\"Le centre du pays semble avoir une assez faible densité d'incidents, contrairements à la côte Est. La côte Ouest est quant à elle plus contrastée.\")"
   ]
  },
  {
   "cell_type": "code",
   "execution_count": null,
   "metadata": {},
   "outputs": [],
   "source": [
    "incident_density_geo[\"state_resident_pop_year_2016\"] = incident_density_geo.groupby(\"Etat\")[\"resident_pop_year_2016_x\"].transform(\"sum\")\n",
    "incident_density_geo[\"incident_count_by_state\"] = incident_density_geo.groupby(\"Etat\")[\"incident_count_by_county\"].transform(\"sum\")\n",
    "incident_density_geo[\"incident_density_state\"] = incident_density_geo[\"incident_count_by_state\"] / incident_density_geo[\"state_resident_pop_year_2016\"]"
   ]
  },
  {
   "cell_type": "code",
   "execution_count": null,
   "metadata": {},
   "outputs": [],
   "source": [
    "incident_density_geo.plot(aspect = 1, figsize = (12,6), legend = True, linewidth = 0.1, cmap = \"RdBu_r\", \n",
    "column = \"incident_density_state\", scheme = \"QUANTILES\", k=4, legend_kwds={'loc': 'lower left'})\n",
    "\n",
    "plt.title(\"Densité d'incidents pour 1000 habitants par états\")\n",
    "plt.show()"
   ]
  },
  {
   "cell_type": "markdown",
   "metadata": {},
   "source": [
    "Cette carte, quoique moins précise, est plus lisible que la précédente. On y voit que l'Ouest est globalement moins touché par les incidents à arme à fau que l'Est, qui concentre les états avec la plus grande densité."
   ]
  },
  {
   "cell_type": "code",
   "execution_count": null,
   "metadata": {},
   "outputs": [],
   "source": [
    "print(\"Cette carte, quoique moins précise, est plus lisible que la précédente. \\nOn y voit que l'Ouest est globalement moins touché par les incidents à arme à feu que l'Est, qui concentre les états avec la plus grande densité d'incidents.\")"
   ]
  },
  {
   "cell_type": "code",
   "execution_count": null,
   "metadata": {},
   "outputs": [],
   "source": [
    "sns.set(style=\"ticks\")\n",
    "x = incident_density_geo[\"incident_count_by_county\"] \n",
    "\n",
    "f, (ax_box, ax_hist) = plt.subplots(2, sharex=True, gridspec_kw={\"height_ratios\": (.15, .85)}, figsize=(10,5))\n",
    "\n",
    "sns.boxplot(x=x, ax=ax_box)\n",
    "sns.histplot(x=x, bins=30, ax=ax_hist)\n",
    "\n",
    "ax_box.set(yticks=[])\n",
    "sns.despine(ax=ax_hist)\n",
    "sns.despine(ax=ax_box, left=True)\n",
    "\n",
    "median_value = x.median()\n",
    "ax_hist.axvline(median_value, color='red', linestyle='dashed', linewidth=2, label='Median')\n",
    "\n",
    "plt.suptitle(\"Distribution du nombre d'incidents par comtés\")\n",
    "ax_hist.set_xlabel(\"Nombre d'incidents\")"
   ]
  },
  {
   "cell_type": "markdown",
   "metadata": {},
   "source": [
    "On voit que la majorité des comtés ont moins de 500 incidents. Le graphique est cependant peu lisible à cause des importants outliers qui l'étirent. Après vérification manuelle, le comté avec le plus d'incident est le comté de Cook, dans l'Illinois. Cela se comprend assez bien car la ville de Chicago, réputée pour sa criminalité élevée, en est le chef-lieu."
   ]
  },
  {
   "cell_type": "code",
   "execution_count": null,
   "metadata": {},
   "outputs": [],
   "source": [
    "print(\"On remarque que la majorité des comtés enregistre moins de 500 incidents. Le graphique est cependant peu lisible à cause des importants outliers qui l'étirent. \\nAprès vérification manuelle, le comté ayant le plus d'incident est le comté de Cook, dans l'Illinois. Cela se comprend assez bien car la ville de Chicago, réputée pour sa criminalité élevée, en est le chef-lieu.\")"
   ]
  },
  {
   "cell_type": "code",
   "execution_count": null,
   "metadata": {},
   "outputs": [],
   "source": [
    "sns.set(style=\"ticks\")\n",
    "x = incident_density_geo[incident_density_geo[\"incident_count_by_county\"] < 1000][\"incident_count_by_county\"]\n",
    "\n",
    "f, (ax_box, ax_hist) = plt.subplots(2, sharex=True, gridspec_kw={\"height_ratios\": (.15, .85)}, figsize=(10,5))\n",
    "\n",
    "sns.boxplot(x=x, ax=ax_box)\n",
    "sns.histplot(x=x, bins=30, ax=ax_hist)\n",
    "\n",
    "ax_box.set(yticks=[])\n",
    "sns.despine(ax=ax_hist)\n",
    "sns.despine(ax=ax_box, left=True)\n",
    "\n",
    "median_value = x.median()\n",
    "ax_hist.axvline(median_value, color='red', linestyle='dashed', linewidth=2, label='Median')\n",
    "\n",
    "plt.suptitle(\"Distribution du nombre d'incidents par comtés pour les comtés avec moins de 1000 incidents\")\n",
    "ax_hist.set_xlabel(\"Nombre d'incidents\")"
   ]
  },
  {
   "cell_type": "markdown",
   "metadata": {},
   "source": [
    "Même en ne prenant que les comtés avec moins de 1000 incidents la distribution garde la même forme : la majorité des comtés sont tout à gauche de la distribution (donc avec peu d'incidents) et de nombreux outliers atteignent des valeurs très importantes. Ils se voient sur le box plot mais pas sur l'histogramme."
   ]
  },
  {
   "cell_type": "code",
   "execution_count": null,
   "metadata": {},
   "outputs": [],
   "source": [
    "print(\"Même en ne prenant que les comtés avec moins de 1000 incidents la distribution garde la même forme : la majorité des comtés est tout à gauche de la distribution (donc avec peu d'incidents) et de nombreux outliers atteignent des valeurs très importantes. \\nOn les remarque sur le box plot mais pas sur l'histogramme.\")"
   ]
  },
  {
   "cell_type": "code",
   "execution_count": null,
   "metadata": {},
   "outputs": [],
   "source": [
    "# comptage du nombre de suicides par comtés\n",
    "# on fait la somme des indicatrices suicides après avoir groupé par comtés\n",
    "incident_density_geo = incident_density_geo.merge(merge_geo.groupby('id_county')[\"indic_suicide\"].sum(), on = \"id_county\", how = \"left\")\n",
    "incident_density_geo = incident_density_geo.rename(columns = {\"indic_suicide\" : \"suicide_by_county\"})\n",
    "incident_density_geo[\"suicide_by_county\"] = incident_density_geo[\"suicide_by_county\"].fillna(0)\n",
    "incident_density_geo[\"suicide_density\"] = incident_density_geo[\"suicide_by_county\"] / incident_density_geo[\"resident_pop_year_2016_x\"]"
   ]
  },
  {
   "cell_type": "code",
   "execution_count": null,
   "metadata": {},
   "outputs": [],
   "source": [
    "incident_density_geo.plot(aspect = 1, figsize = (12,6), legend = True, linewidth = 0.1, cmap = \"RdBu_r\", \n",
    "column = \"suicide_density\", scheme = \"QUANTILES\", k=4, legend_kwds={'loc': 'lower left'})\n",
    "\n",
    "plt.title(\"Densité de suicides pour 1000 habitants par comtés\")\n",
    "plt.show()"
   ]
  },
  {
   "cell_type": "markdown",
   "metadata": {},
   "source": [
    "A l'Ouest, les grands comtés (donc les plus ruraux) semblent être les plus touchés. Le centre du pays semble relativement moins touché. A l'Est, il est difficile de décrire quelque chose de précis, si ce n'est que la Géorgie et les deux Caroline paraissent être plus touchées que la moyenne."
   ]
  },
  {
   "cell_type": "code",
   "execution_count": null,
   "metadata": {},
   "outputs": [],
   "source": [
    "print(\"A l'Ouest, les grands comtés (donc les plus ruraux) semblent être les plus touchés. Le centre du pays semble relativement moins touché. \\nA l'Est, il est difficile de décrire quelque chose de précis, si ce n'est que la Géorgie et les deux Caroline paraissent être plus touchées que la moyenne.\")"
   ]
  },
  {
   "cell_type": "code",
   "execution_count": null,
   "metadata": {},
   "outputs": [],
   "source": [
    "sns.set(style=\"ticks\")\n",
    "x = incident_density_geo[\"suicide_by_county\"]\n",
    "\n",
    "f, (ax_box, ax_hist) = plt.subplots(2, sharex=True, gridspec_kw={\"height_ratios\": (.15, .85)}, figsize=(10,5))\n",
    "\n",
    "sns.boxplot(x=x, ax=ax_box)\n",
    "sns.histplot(x=x, bins=30, ax=ax_hist)\n",
    "\n",
    "ax_box.set(yticks=[])\n",
    "sns.despine(ax=ax_hist)\n",
    "sns.despine(ax=ax_box, left=True)\n",
    "\n",
    "median_value = x.median()\n",
    "ax_hist.axvline(median_value, color='red', linestyle='dashed', linewidth=2, label='Median')\n",
    "\n",
    "plt.suptitle(\"Distribution du nombre de suicides par comtés\")\n",
    "ax_hist.set_xlabel(\"Nombre d'incidents\")"
   ]
  },
  {
   "cell_type": "markdown",
   "metadata": {},
   "source": [
    "On observe la même forme de distribution que pour les incidents. La seule différence est que tout semble diviser par 10, ce qui est logique puisque les suicides représentent environ 13% des incidents.\n",
    "\n",
    "Intéressons nous désormais au nombre de tués et de blessés."
   ]
  },
  {
   "cell_type": "code",
   "execution_count": null,
   "metadata": {},
   "outputs": [],
   "source": [
    "print(\"On observe la même forme de distribution que pour les incidents. La seule différence est que tout semble diviser par 10, ce qui est logique puisque les suicides représentent environ 13% des incidents.\")\n",
    "print(\"\\nIntéressons nous désormais au nombre de tués et de blessés.\")"
   ]
  },
  {
   "cell_type": "code",
   "execution_count": null,
   "metadata": {},
   "outputs": [],
   "source": [
    "# calcul du nombre de tués par county\n",
    "incident_density_geo = incident_density_geo.merge(merge_geo.groupby('id_county')[\"n_killed\"].sum(), on = \"id_county\", how = \"left\")\n",
    "incident_density_geo = incident_density_geo.rename(columns = {\"n_killed\" : \"n_killed_by_county\"})\n",
    "incident_density_geo[\"n_killed_by_county\"] = incident_density_geo[\"n_killed_by_county\"].fillna(0)\n",
    "incident_density_geo[\"n_killed_density\"] = incident_density_geo[\"n_killed_by_county\"] / incident_density_geo[\"resident_pop_year_2016_x\"]\n",
    "\n",
    "# calcul du nombre de blessés par county\n",
    "incident_density_geo = incident_density_geo.merge(merge_geo.groupby('id_county')[\"n_injured\"].sum(), on = \"id_county\", how = \"left\")\n",
    "incident_density_geo = incident_density_geo.rename(columns = {\"n_injured\" : \"n_injured_by_county\"})\n",
    "incident_density_geo[\"n_injured_by_county\"] = incident_density_geo[\"n_injured_by_county\"].fillna(0)\n",
    "incident_density_geo[\"n_injured_density\"] = incident_density_geo[\"n_injured_by_county\"] / incident_density_geo[\"resident_pop_year_2016_x\"]\n"
   ]
  },
  {
   "cell_type": "code",
   "execution_count": null,
   "metadata": {},
   "outputs": [],
   "source": [
    "incident_density_geo.plot(aspect = 1, figsize = (12,6), legend = True, linewidth = 0.1, cmap = \"RdBu_r\", \n",
    "column = \"n_killed_density\", scheme = \"QUANTILES\", k=4, legend_kwds={'loc': 'lower left'})\n",
    "\n",
    "plt.title(\"Densité de tués pour 1000 habitants par comtés\")\n",
    "plt.show()"
   ]
  },
  {
   "cell_type": "markdown",
   "metadata": {},
   "source": [
    "La distribution reste relativement proche de celles des incidents. Le centre paraît moins touchés par les victimes que les incidents, mais c'est la seule différence vraiment visible."
   ]
  },
  {
   "cell_type": "code",
   "execution_count": null,
   "metadata": {},
   "outputs": [],
   "source": [
    "print(\"La distribution reste relativement proche de celles des incidents. Le centre paraît moins touchés par les victimes que les incidents, mais c'est la seule différence vraiment visible.\")"
   ]
  },
  {
   "cell_type": "code",
   "execution_count": null,
   "metadata": {},
   "outputs": [],
   "source": [
    "incident_density_geo.plot(aspect = 1, figsize = (12,6), legend = True, linewidth = 0.1, cmap = \"RdBu_r\", \n",
    "column = \"n_injured_density\", scheme = \"QUANTILES\", k=4, legend_kwds={'loc': 'lower left'})\n",
    "\n",
    "plt.title(\"Densité de blessés pour 1000 habitants par comtés\")\n",
    "plt.show()"
   ]
  },
  {
   "cell_type": "markdown",
   "metadata": {},
   "source": [
    "La distribution est très similaire à celles des tués.\n",
    "\n",
    "Corrélation avec les variables sociaux démographiques."
   ]
  },
  {
   "cell_type": "code",
   "execution_count": null,
   "metadata": {},
   "outputs": [],
   "source": [
    "print(\"La distribution est très similaire à celles des tués.\\n\")\n",
    "print(\"Corrélation avec les variables sociaux démographiques :\")"
   ]
  },
  {
   "cell_type": "code",
   "execution_count": null,
   "metadata": {},
   "outputs": [],
   "source": [
    "#ajout de la densité de population au dataframe des incidents\n",
    "incident_density_geo = incident_density_geo.merge(total_db_geo[[\"pop_density_2013\", \"id_county\"]], on = \"id_county\")"
   ]
  },
  {
   "cell_type": "code",
   "execution_count": null,
   "metadata": {},
   "outputs": [],
   "source": [
    "matrix = incident_density_geo[[\"unemp_rate_year_2013\", \"snap_share_year_2013\", \"bachelors_deg_year_2013\", \n",
    "\"med_h_income_year_2013\", \"per_dem\", \"score_legis\", \"pop_density_2013\", \"incident_density\", \"suicide_density\", \"n_killed_density\", \"n_injured_density\"]].corr()\n",
    "fig = px.imshow(matrix, title= \"Matrice de corrélation de 2013\", labels = {\"color\" : \"Corrélation\"})\n",
    "fig.show()"
   ]
  },
  {
   "cell_type": "markdown",
   "metadata": {},
   "source": [
    "La densité d'incidents ne semble être corrélées de façon significative qu'avec les autres variables dépendants des incidents. On peut cependant remarquer la corrélation positive avec le vote démocrate et avec la part de bénéficaires de l'aide alimentaire.\n",
    "\n",
    "On observe le même phénomène pour les trois autres variables des incidents (densité de suicide, de morts et de blessés). Cela semble donc indiquer que les variables sociaux démographiques étudiées précédemment ne permettent pas vraiment d'expliquer l'apparition des incidents et de leurs victimes."
   ]
  },
  {
   "cell_type": "code",
   "execution_count": null,
   "metadata": {},
   "outputs": [],
   "source": [
    "print(\"La densité d'incidents ne semble être corrélée de façon significative qu'avec les autres variables dépendants des incidents. \\nOn peut cependant remarquer la corrélation positive avec le vote démocrate et avec la part de bénéficaires de l'aide alimentaire.\")\n",
    "print(\"On observe le même phénomène pour les trois autres variables des incidents (densité de suicide, de morts et de blessés). \\nCela semble donc indiquer que les variables sociaux démographiques étudiées précédemment ne permettent pas vraiment d'expliquer l'apparition des incidents et de leurs victimes.\")"
   ]
  },
  {
   "cell_type": "code",
   "execution_count": null,
   "metadata": {},
   "outputs": [],
   "source": [
    "matrix = incident_density_geo[[\"unemp_rate_year_2013\", \"snap_share_year_2013\", \"bachelors_deg_year_2013\", \n",
    "\"med_h_income_year_2013\", \"per_dem\", \"score_legis\", \"incident_density\", \"pop_density_2013\"]]\n",
    "scatter = pd.plotting.scatter_matrix(matrix, figsize = (30,30))"
   ]
  },
  {
   "cell_type": "markdown",
   "metadata": {},
   "source": [
    "On voit sur la dernière ligne que la densité des incidents semblent pouvoir n'être simplement prédite à partir d'aucune des variables sélectionnées précédemment.\n",
    "\n",
    "On observe la même chose pour la densité de tués, blessés et suicides."
   ]
  },
  {
   "cell_type": "code",
   "execution_count": null,
   "metadata": {},
   "outputs": [],
   "source": [
    "print(\"On voit sur la dernière ligne que la densité des incidents semble pouvoir n'être prédite simplement à partir d'aucune des variables sélectionnées précédemment.\")\n",
    "print(\"On observe la même chose pour la densité de tués, blessés et suicides.\")"
   ]
  }
 ],
 "metadata": {
  "kernelspec": {
   "display_name": "base",
   "language": "python",
   "name": "python3"
  },
  "language_info": {
   "codemirror_mode": {
    "name": "ipython",
    "version": 3
   },
   "file_extension": ".py",
   "mimetype": "text/x-python",
   "name": "python",
   "nbconvert_exporter": "python",
   "pygments_lexer": "ipython3",
   "version": "3.10.13"
  }
 },
 "nbformat": 4,
 "nbformat_minor": 2
}
