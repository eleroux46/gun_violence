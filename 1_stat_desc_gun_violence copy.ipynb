{
 "cells": [
  {
   "cell_type": "markdown",
   "metadata": {},
   "source": [
    "## Statistiques descriptives de la base contenant les informations sur les incidents par arme à feu aux Etats-Unis de 2013 à 2018.\n",
    "\n",
    "### Statistiques concernant les caractéristiques des incidents étant survenus"
   ]
  },
  {
   "cell_type": "markdown",
   "metadata": {},
   "source": [
    "Import des packages:"
   ]
  },
  {
   "cell_type": "code",
   "execution_count": null,
   "metadata": {},
   "outputs": [],
   "source": [
    "import numpy as np\n",
    "import pandas as pd\n",
    "import geopandas as gpd\n",
    "import matplotlib.pyplot as plt\n",
    "from plotly.offline import init_notebook_mode\n",
    "init_notebook_mode(connected= True)\n",
    "import plotly.express as px"
   ]
  },
  {
   "cell_type": "markdown",
   "metadata": {},
   "source": [
    "Import de la base de données :"
   ]
  },
  {
   "cell_type": "code",
   "execution_count": null,
   "metadata": {},
   "outputs": [],
   "source": [
    "pd.set_option('display.max_columns', None)"
   ]
  },
  {
   "cell_type": "code",
   "execution_count": null,
   "metadata": {},
   "outputs": [],
   "source": [
    "updated_base=pd.read_csv(\"updated_base.csv\")\n",
    "updated_base.head()"
   ]
  },
  {
   "cell_type": "code",
   "execution_count": null,
   "metadata": {},
   "outputs": [],
   "source": [
    "updated_base.rename(columns={'Unnamed: 0':'index'}, inplace=True)"
   ]
  },
  {
   "cell_type": "code",
   "execution_count": null,
   "metadata": {},
   "outputs": [],
   "source": [
    "updated_base"
   ]
  },
  {
   "cell_type": "markdown",
   "metadata": {},
   "source": [
    "### Statistiques générales"
   ]
  },
  {
   "cell_type": "markdown",
   "metadata": {},
   "source": [
    "#### Présentation de la base de données "
   ]
  },
  {
   "cell_type": "code",
   "execution_count": null,
   "metadata": {},
   "outputs": [],
   "source": [
    "print(f\" La base de données comporte des renseignements sur {updated_base.count()['incident_id']} incidents par arme à feu entre 2013 et 2018.\\n\")"
   ]
  },
  {
   "cell_type": "markdown",
   "metadata": {},
   "source": [
    "#### Statistiques concernant la date des incidents"
   ]
  },
  {
   "cell_type": "code",
   "execution_count": null,
   "metadata": {},
   "outputs": [],
   "source": [
    "print(\"I. Comment prédire la fréquence des incidents en fonction de leur date ?\\n\")"
   ]
  },
  {
   "cell_type": "code",
   "execution_count": null,
   "metadata": {},
   "outputs": [],
   "source": [
    "#changing the format of the date\n",
    "updated_base['date']=pd.to_datetime(updated_base['date'])\n",
    "updated_base['year_month'] =updated_base['date'].dt.year.astype(str)+\"-\"+updated_base['date'].dt.month.astype(str)"
   ]
  },
  {
   "cell_type": "code",
   "execution_count": null,
   "metadata": {},
   "outputs": [],
   "source": [
    "fig1 = px.bar(updated_base, x=pd.unique(updated_base['date'].dt.year), y=updated_base.groupby(updated_base['date'].dt.year).count()['incident_id'],\n",
    "              labels={\"x\":\"date\", \"y\":\"nombre d'incidents\"},\n",
    "              title=\"Nombre d'incidents par arme à feu par an\")\n",
    "\n",
    "\n",
    "fig1.show()"
   ]
  },
  {
   "cell_type": "code",
   "execution_count": null,
   "metadata": {},
   "outputs": [],
   "source": [
    "print(\"Ce graphique nous montre que les données concernant les années 2013 et 2018 ne sont pas complètes, probablement en raison de la collecte des données. \\nMalgré tout, ces données nous permettent d'illustrer une tendance à la hausse du nombre d'incidents par an puisqu'ils passent d'environ 52 000 en 2014 à 61 500 en 2017. \")"
   ]
  },
  {
   "cell_type": "code",
   "execution_count": null,
   "metadata": {},
   "outputs": [],
   "source": [
    "filtered_death=updated_base[updated_base['n_killed']>=1]\n",
    "filtered_death\n",
    "\n",
    "fig2 = px.bar(filtered_death[filtered_death['date'].dt.year.isin([2014,2015,2016,2017])], x=pd.unique(filtered_death[filtered_death['date'].dt.year.isin([2014,2015,2016,2017])]['date'].dt.year), y=filtered_death[filtered_death['date'].dt.year.isin([2014,2015,2016,2017])].groupby(filtered_death['date'].dt.year).count()['incident_id'],\n",
    "              labels={\"x\":\"date\", \"y\":\"nombre d'incidents provoquant au moins un mort\"},\n",
    "              title=\"Nombre d'incidents mortels par arme à feu par an\")\n",
    "\n",
    "\n",
    "fig2.show()"
   ]
  },
  {
   "cell_type": "code",
   "execution_count": null,
   "metadata": {},
   "outputs": [],
   "source": [
    "print(\"Ce graphique nous permet d'illuster la hausse des incidents mortels par arme à feu aux Etats-Unis depuis le début des années 2010 décrite par le Centers for Disease Control and Prevention (CDC).\")"
   ]
  },
  {
   "cell_type": "code",
   "execution_count": null,
   "metadata": {},
   "outputs": [],
   "source": [
    "fig3 = px.bar(updated_base, x=pd.unique(updated_base['year_month']), \n",
    "            y=updated_base.groupby([updated_base['date'].dt.year, updated_base['date'].dt.month]).count()['incident_id'],\n",
    "              labels={\"x\":\"date\", \"y\":\"nombre d'incidents\"},\n",
    "              title=\"Nombre d'incidents par arme à feu par mois\")\n",
    "\n",
    "\n",
    "fig3.show()"
   ]
  },
  {
   "cell_type": "code",
   "execution_count": null,
   "metadata": {},
   "outputs": [],
   "source": [
    "fig4 = px.bar(updated_base[updated_base['date'].dt.year.isin([2014,2015,2016,2017])], \n",
    "            x=pd.unique(updated_base[updated_base['date'].dt.year.isin([2014,2015,2016,2017])]['date'].dt.month_name()), \n",
    "            y=updated_base[updated_base['date'].dt.year.isin([2014,2015,2016,2017])].groupby(updated_base[updated_base['date'].dt.year.isin([2014,2015,2016,2017])]['date'].dt.month).count()['incident_id'],\n",
    "            labels={\"x\":\"date\", \"y\":\"nombre d'incidents\"},\n",
    "            title=\"Nombre d'incidents par mois (cumulé de 2014 à 2017)\")\n",
    "\n",
    "\n",
    "fig4.show()\n"
   ]
  },
  {
   "cell_type": "code",
   "execution_count": null,
   "metadata": {},
   "outputs": [],
   "source": [
    "print(\"Ces deux graphiques décrivant le nombre d'incident par mois, chaque année ou en cumulé, permettent d'observer une légère saisonnalité des incidents. \\nEn effet, ils sont plus nombreux les mois d'été (Juillet et Août) et moins nombreux en Février. \\nCela est cohérent avec la littérature sur le sujet (Vivian H. Lyons, Emma L. Gause, Keith R. Spangler, Gregory A. Wellenius, Jonathan Jay. Analysis of Daily Ambient Temperature and Firearm Violence in 100 US Cities. JAMA Network Open, 2022; 5 (12): e2247207 DOI: 10.1001/jamanetworkopen.2022.47207).\")"
   ]
  },
  {
   "cell_type": "markdown",
   "metadata": {},
   "source": [
    "#### Statistiques concernant la localisation des incidents"
   ]
  },
  {
   "cell_type": "code",
   "execution_count": null,
   "metadata": {},
   "outputs": [],
   "source": [
    "print(\"\\nII. La localisation géographique peut-elle influer le nombre d'incidents par arme à feu aux Etats-Unis ?\\n\")"
   ]
  },
  {
   "cell_type": "code",
   "execution_count": null,
   "metadata": {},
   "outputs": [],
   "source": [
    "fig5 = px.bar(updated_base, x=sorted(pd.unique(updated_base['state'])), \n",
    "    y=updated_base.groupby('state').count()['incident_id'], title=\"Nombre d'incidents par arme à feu par Etat\",\n",
    "    labels={\"x\":\"Etat\", \"y\":\"nombre d'incidents\"})\n",
    "\n",
    "fig5.show()"
   ]
  },
  {
   "cell_type": "code",
   "execution_count": null,
   "metadata": {},
   "outputs": [],
   "source": [
    "print(\"On remarque ici que les Etats dans lesquels le plus d'incidents par arme à feu ont lieu sont : l'Illinois (17.5k), la Californie (16.3k), la Floride (15k) et le Texas (13.5k). \\nAu vu de la variation significative entre les différents Etats, on peut en déduire qu'il va falloir aller étudier les caractéristiques de ces Etats, voire des comtés dans lesquels les incidents ont eu lieu, pour identifier des facteurs d'explications.\")"
   ]
  },
  {
   "cell_type": "markdown",
   "metadata": {},
   "source": [
    "#### Caractéristiques des incidents par arme à feu"
   ]
  },
  {
   "cell_type": "code",
   "execution_count": null,
   "metadata": {},
   "outputs": [],
   "source": [
    "print(\"\\nIII. Quelles sont les caractéristiques récurrentes des incidents par arme à feu ?\\n\")"
   ]
  },
  {
   "cell_type": "code",
   "execution_count": null,
   "metadata": {},
   "outputs": [],
   "source": [
    "fig7 = px.bar(updated_base, x=sorted(pd.unique(updated_base['n_killed'])), y=updated_base.groupby(updated_base['n_killed']).count()['incident_id'],\n",
    "              labels={\"x\":\"nombre de morts\", \"y\":\"nombre d'incidents (échelle logarithmique)\"},\n",
    "              title=\"Nombre de morts par incident\",\n",
    "              log_y=True)\n",
    "\n",
    "fig7.show()"
   ]
  },
  {
   "cell_type": "code",
   "execution_count": null,
   "metadata": {},
   "outputs": [],
   "source": [
    "print(\"On voit ici que la majorité des incidents n'entraînent pas de mort (185.5k, soit 77% des incidents renseignés ici) et que près de 50.000 incidents provoquent une mort. \\nQuelques outliers provoquent au delà de 10 morts, ils correspondent aux tueries dites de masse dont voici les références ci-dessous.\")"
   ]
  },
  {
   "cell_type": "code",
   "execution_count": null,
   "metadata": {},
   "outputs": [],
   "source": [
    "mass_kill=updated_base[updated_base['n_killed']>=10]\n",
    "print(mass_kill[['date','state','city_or_county','source_url']])"
   ]
  },
  {
   "cell_type": "code",
   "execution_count": null,
   "metadata": {},
   "outputs": [],
   "source": [
    "fig8 = px.bar(updated_base, x=sorted(pd.unique(updated_base['n_injured'])), y=updated_base.groupby(updated_base['n_injured']).count()['incident_id'],\n",
    "              labels={\"x\":\"nombre de blessés\", \"y\":\"nombre d'incidents (échelle logarithmique)\"},\n",
    "              title=\"Nombre de blessés par incident\",\n",
    "              log_y=True)\n",
    "\n",
    "fig8.show()"
   ]
  },
  {
   "cell_type": "code",
   "execution_count": null,
   "metadata": {},
   "outputs": [],
   "source": [
    "print(\"Le nombre de blessés par incidents suit globalement la même distribution que le nombre de morts par incident mais est plus étalée. \\nDans 142.5k cas il n'y a aucun blessé, mais dans 81.000 incidents il y a un blessé. \\nLes incidents provoquant plus de 10 blessés sont rares, les références sont disponibles ci-dessous. On y retrouve les incidents très meurtriers (Orlando, Sutherland Springs) mais également d'autres n'ayant pas fait beaucoup de morts.\")"
   ]
  },
  {
   "cell_type": "code",
   "execution_count": null,
   "metadata": {},
   "outputs": [],
   "source": [
    "mass_injured=updated_base[updated_base['n_injured']>10]\n",
    "print(mass_injured[['date','state','city_or_county','source_url']])"
   ]
  },
  {
   "cell_type": "code",
   "execution_count": null,
   "metadata": {},
   "outputs": [],
   "source": [
    "print(\"Les données liées aux caractéristiques (variable 'incident_characteristics') sont exprimés en fonction de plus d'une trentaine de labels différents, intéressons nous donc d'abord aux descriptions comportant la mention de suicides car c'est, selon le Centers for Disease Control and Prevention's (CDC) National Center for Health Statistics, la cause principale de mort lors des incidents par arme à feu.\")"
   ]
  },
  {
   "cell_type": "code",
   "execution_count": null,
   "metadata": {},
   "outputs": [],
   "source": [
    "fig9 = px.bar(updated_base[updated_base['n_killed']>=1], x=pd.unique(updated_base['indic_suicide']), \n",
    "            y=updated_base[updated_base['n_killed']>=1].groupby(updated_base['indic_suicide']).count()['incident_id'],\n",
    "              labels={\"x\":\"incident impliquant un suicide (1) ou non (0)\", \"y\":\"nombre d'incidents\"},\n",
    "              title=\"Parmi les incidents impliquant au moins un mort, combien sont le résultat d'un suicide ?\")\n",
    "\n",
    "fig9.show()"
   ]
  },
  {
   "cell_type": "code",
   "execution_count": null,
   "metadata": {},
   "outputs": [],
   "source": [
    "print(\"Parmi les incidents impliquant au moins un mort, la majorité (55%) concernent un suicide. On retrouve donc bien les conclusions du CDC sur la question.\")"
   ]
  },
  {
   "cell_type": "code",
   "execution_count": null,
   "metadata": {},
   "outputs": [],
   "source": [
    "fig10 = px.bar(updated_base, x=pd.unique(updated_base['indic_accident']), \n",
    "            y=updated_base.groupby(updated_base['indic_accident']).count()['incident_id'],\n",
    "              labels={\"x\":\"incident impliquant un accident (1) ou non (0)\", \"y\":\"nombre d'incidents\"},\n",
    "              title=\"Nombre d'incidents par arme à feu résultant d'un accident\")\n",
    "\n",
    "fig10.show()"
   ]
  },
  {
   "cell_type": "code",
   "execution_count": null,
   "metadata": {},
   "outputs": [],
   "source": [
    "print(\"Environ 36 000 incidents, soit 15% de l'échantillon total, résultent d'un accident. Cela semble donc être une circonstance récurrente. On pourra donc s'intéresser aux conditions qui rendent possible un accident (et notamment le simple fait de posséder une arme). \")"
   ]
  },
  {
   "cell_type": "code",
   "execution_count": null,
   "metadata": {},
   "outputs": [],
   "source": [
    "fig11 = px.bar(updated_base, x=pd.unique(updated_base['indic_home_inv']), \n",
    "            y=updated_base.groupby(updated_base['indic_home_inv']).count()['incident_id'],\n",
    "              labels={\"x\":\"incident impliquant une violation de domicile ('home invasion') (1) ou non (0)\", \"y\":\"nombre d'incidents\"},\n",
    "              title=\"Nombre d'incidents par arme à feu résultant d'une violation de domicile\")\n",
    "\n",
    "fig11.show()"
   ]
  },
  {
   "cell_type": "code",
   "execution_count": null,
   "metadata": {},
   "outputs": [],
   "source": [
    "print(\"Le nombre d'incidents par arme à feu résultant d'une violation de domicile ('home invasion') est de 10 434, soit environ 4,5% de l'échantillon. Ainsi c'est une situation moins importante mais tout de même significative.\")"
   ]
  },
  {
   "cell_type": "code",
   "execution_count": null,
   "metadata": {},
   "outputs": [],
   "source": [
    "fig12 = px.bar(updated_base, x=pd.unique(updated_base['indic_defens']), \n",
    "            y=updated_base.groupby(updated_base['indic_defens']).count()['incident_id'],\n",
    "              labels={\"x\":\"incident impliquant une défense (1) ou non (0)\", \"y\":\"nombre d'incidents\"},\n",
    "              title=\"Nombre d'incidents impliquant un acte de défense\")\n",
    "\n",
    "fig12.show()"
   ]
  },
  {
   "cell_type": "code",
   "execution_count": null,
   "metadata": {},
   "outputs": [],
   "source": [
    "print(\"Les incidents impliquant un acte de défense, d'auto-défense, sont au nombre de 7266 dans notre base de données, sachant que ces incidents se recoupent potentiellement avec les incidents qui concernent une violation de domicile.\")"
   ]
  },
  {
   "cell_type": "code",
   "execution_count": null,
   "metadata": {},
   "outputs": [],
   "source": [
    "fig13 = px.bar(updated_base, x=pd.unique(updated_base['indic_school']), \n",
    "            y=updated_base.groupby(updated_base['indic_school']).count()['incident_id'],\n",
    "              labels={\"x\":\"incident dans le cadre de l'école (1) ou non (0)\", \"y\":\"nombre d'incidents\"},\n",
    "              title=\"Nombre d'incidents se déroulant dans un cadre scolaire\")\n",
    "\n",
    "fig13.show()"
   ]
  },
  {
   "cell_type": "code",
   "execution_count": null,
   "metadata": {},
   "outputs": [],
   "source": [
    "print(\"Les incidents par arme à feu ayant lieu dans un cadre scolaire sont au nombre de 2778 (1,15%).\")"
   ]
  },
  {
   "cell_type": "markdown",
   "metadata": {},
   "source": [
    "Pour faire le graphique suivant, il est nécessaire d'importer la base de données df_suspects dans lequel est extraite l'information sur la relation du suspect aux victimes, qui permet également d'expliquer les circonstances de l'incident."
   ]
  },
  {
   "cell_type": "code",
   "execution_count": null,
   "metadata": {},
   "outputs": [],
   "source": [
    "df_suspects=pd.read_csv('df_suspects.csv')"
   ]
  },
  {
   "cell_type": "code",
   "execution_count": null,
   "metadata": {},
   "outputs": [],
   "source": [
    "filtered_suspects_relations = df_suspects[pd.notna(df_suspects['relation'])]\n",
    "\n",
    "fig14 = px.bar(filtered_suspects_relations, x=sorted(pd.unique(filtered_suspects_relations['relation'])), \n",
    "            y=filtered_suspects_relations.groupby('relation').count()['id'],\n",
    "              labels={\"x\":\"type de relation entre le suspect et la/les victimes\", \"y\":\"nombre de relations concernés\"},\n",
    "              title=\"Nombre d'incidents dans lesquels ces relations/situations ont joué un rôle\",\n",
    "              color=filtered_suspects_relations.groupby('relation').count()['id'], color_continuous_scale='Speed')\n",
    "\n",
    "fig14.show()"
   ]
  },
  {
   "cell_type": "code",
   "execution_count": null,
   "metadata": {},
   "outputs": [],
   "source": [
    "fig15 = px.bar(filtered_suspects_relations, x=sorted(pd.unique(filtered_suspects_relations['relation'])), y=filtered_suspects_relations.groupby('relation').count()['id'],\n",
    "              labels={\"x\":\"type de relation entre le suspect et la/les victimes\", \"y\":\"nombre de relations concernés\"},\n",
    "              title=\"Nombre d'incidents dans lesquels ces relations/situations ont joué un rôle\",\n",
    "              log_y=True,\n",
    "              color=filtered_suspects_relations.groupby('relation').count()['id'], color_continuous_scale='Speed')\n",
    "\n",
    "fig15.show()"
   ]
  },
  {
   "cell_type": "code",
   "execution_count": null,
   "metadata": {},
   "outputs": [],
   "source": [
    "print(f\"Ces figures, l'une en échelle linéaire et l'autre en échelle logarithmique pour distinguer les faibles valeurs, nous donnent un apperçu plus précis des circonstances récurrentes des incidents par arme à feu. \\nLa variable utilisée ici est un dictionnaire donnant une correspondance entre chaque suspect et sa relation aux autres 'participants' à l'incident, elle ne compte donc pas exactement les incidents concernés par ce type de relations mais le nombre de suspects concernés. \\nLes données ne sont disponibles que pour {filtered_suspects_relations.shape[0]} suspects sur les {df_suspects.shape[0]} présents dans la base originelle donc les informations sont à prendre avec précaution car malgré le fait qu'elles restent nombreuses, le renseignement de l'information pourrait être biaisé. \\nLa situation la plus fréquente est celle des vols à main armée (39% des exprimés), suivie par la famille (17%) et le ou la partenaire ou ex-partenaire (17% également). \\nAinsi, environ 39% des incidents sont causés par un suspect proche des victimes (famille, partenaire, ami) et au moins 9% par une connaissance des victimes ('acquaintance', collègue, voisin). \\nAu contraire, très peu d'incidents concernent des suspects coupables de fusillade de masse (13 relations entre suspect et victime inconnue et 13 relations entre suspect et victime connue).\")"
   ]
  },
  {
   "cell_type": "code",
   "execution_count": null,
   "metadata": {},
   "outputs": [],
   "source": [
    "filtered_suspects_gun = df_suspects[pd.notna(df_suspects['gun_type'])]\n",
    "filtered_suspects_gun=filtered_suspects_gun[~filtered_suspects_gun['gun_type'].isin(['Unknown'])]\n",
    "\n",
    "fig16 = px.bar(filtered_suspects_gun, x=sorted(pd.unique(filtered_suspects_gun['gun_type'])), y=filtered_suspects_gun.groupby('gun_type').count()['id'],\n",
    "              labels={\"x\":\"arme utilisée\", \"y\":\"nombre de suspects concernés\"},\n",
    "              title=\"Nombre de suspect concernés par un incident avec ces armes\",\n",
    "              log_y=True,\n",
    "              color=filtered_suspects_gun.groupby('gun_type').count()['id'],color_continuous_scale='Speed')\n",
    "\n",
    "\n",
    "fig16.show()"
   ]
  },
  {
   "cell_type": "code",
   "execution_count": null,
   "metadata": {},
   "outputs": [],
   "source": [
    "print(f\"L'arme la plus utilisée lors de ces incidents, lorsqu'elle est renseignée ({filtered_suspects_gun.shape[0]} sur {df_suspects.shape[0]} suspects), est l'arme de poing (40%) suivie par le 9mm (12%). Les carabines ('rifle') et fusils à pompe ('shotgun') sont également très utilisés (6% chacun). \\nCes armes qui sont les plus présentes lors d'incidents sont aussi celles qui sont les plus répandues aux Etats-Unis d'après les données du Bureau of Alcohol, Tobacco, Firearms and Explosives (présentées dans cet article : https://www.cbsnews.com/pictures/most-popular-guns-in-america/) puisque les 'Handguns' sont les plus populaires, suivis des 'Rifles' puis des 'Shotgun'. \\nAinsi, le fait qu'une arme soit répandue dans la population augmente sa probabilité d'être utilisée lors d'un incident, il faudra donc également s'intéresser aux législations fédérales qui font que certains types d'armes sont plus facilement disponibles que d'autres.\")"
   ]
  },
  {
   "cell_type": "markdown",
   "metadata": {},
   "source": [
    "Création d'une base merge pour récupérer l'information sur les blessés dans la même base de données que celle sur les suspects."
   ]
  },
  {
   "cell_type": "code",
   "execution_count": null,
   "metadata": {},
   "outputs": [],
   "source": [
    "merge_sus=pd.merge(updated_base, df_suspects, how='outer', left_on='index', right_on='id')"
   ]
  },
  {
   "cell_type": "markdown",
   "metadata": {},
   "source": [
    "### Caractéristiques des suspects "
   ]
  },
  {
   "cell_type": "code",
   "execution_count": null,
   "metadata": {},
   "outputs": [],
   "source": [
    "print(\"\\nIV. Quelles sont les caractéristiques des suspects qui sont à l'origine de ces violences par arme à feu ?\\n\")"
   ]
  },
  {
   "cell_type": "code",
   "execution_count": null,
   "metadata": {},
   "outputs": [],
   "source": [
    "filtered_suspects_gender=df_suspects[pd.notna(df_suspects['gender_sus'])]\n",
    "\n",
    "fig18 = px.bar(filtered_suspects_gender, x=sorted(pd.unique(filtered_suspects_gender['gender_sus'])), y=filtered_suspects_gender.groupby('gender_sus').count()['id'],\n",
    "              labels={\"x\":\"genre du suspect\", \"y\":\"nombre de suspects\"},\n",
    "              title=\"Nombre de suspect par genre\")\n",
    "\n",
    "fig18.show()"
   ]
  },
  {
   "cell_type": "code",
   "execution_count": null,
   "metadata": {},
   "outputs": [],
   "source": [
    "print(\"Les suspects des incidents par arme à feu sont en très grande majorité des hommes (93% de l'échantillon).\")"
   ]
  },
  {
   "cell_type": "code",
   "execution_count": null,
   "metadata": {},
   "outputs": [],
   "source": [
    "age=list(range(5,100)) \n",
    "\n",
    "filtered_suspects_age=df_suspects[df_suspects['age_sus'].isin(age)]\n",
    "\n",
    "fig19 = px.bar(filtered_suspects_age, x=sorted(pd.unique(filtered_suspects_age['age_sus'])), y=filtered_suspects_age.groupby('age_sus').count()['id'],\n",
    "            labels={\"x\":\"âge du suspect\", \"y\":\"nombre de suspects\"},\n",
    "            title=\"Nombre de suspect par tranche d'âge\",\n",
    "            color=filtered_suspects_age.groupby('age_sus').count()['id'], color_continuous_scale='Speed')\n",
    "\n",
    "fig19"
   ]
  },
  {
   "cell_type": "code",
   "execution_count": null,
   "metadata": {},
   "outputs": [],
   "source": [
    "fig19bis=px.box(filtered_suspects_age, y=filtered_suspects_age['age_sus'], \n",
    "    title=\"Boxplot de l'âge des suspects\")\n",
    "fig19bis.show()"
   ]
  },
  {
   "cell_type": "code",
   "execution_count": null,
   "metadata": {},
   "outputs": [],
   "source": [
    "print(\"Ce graphique nous montre que la distribution des âges des suspects est très fortement concentrée autour de 18 à 25 ans, la majorité des suspects sont donc des hommes relativement jeunes. \")\n",
    "print(\"De plus, le boxplot nous indique que la médiane de l'âge des suspects est de 26 ans et que tous les individus ayant plus de 57 ans sont des 'outliers'.\")"
   ]
  },
  {
   "cell_type": "code",
   "execution_count": null,
   "metadata": {},
   "outputs": [],
   "source": [
    "filtered_suspects_status=df_suspects[pd.notna(df_suspects['status_sus'])]\n",
    "\n",
    "fig20 = px.bar(filtered_suspects_status, x=sorted(pd.unique(filtered_suspects_status['status_sus'])), \n",
    "            y=filtered_suspects_status.groupby('status_sus').count()['id'],\n",
    "              labels={\"x\":\"statut du suspect\", \"y\":\"nombre de suspects (échelle logarithmique)\"},\n",
    "              title=\"Statut des suspects à l'issue de l'incident\",\n",
    "              log_y=True,\n",
    "              color=filtered_suspects_status.groupby('status_sus').count()['id'],\n",
    "              color_continuous_scale='Speed')\n",
    "fig20.show()"
   ]
  },
  {
   "cell_type": "code",
   "execution_count": null,
   "metadata": {},
   "outputs": [],
   "source": [
    "print(f\"Ce graphique nous montre qu'à l'issue de la majorité des incidents par arme à feu, le ou les suspect(s) n'est (ne sont) pas blessé(s) (80k 'Unharmed' et 84k 'Unharmed, Arrested'). \\nDans cette base de données, on peut remarquer qu'une forte proportion des suspects sont arrêtés ({int(100*84742/filtered_suspects_status.shape[0])}% sont 'Unharmed, Arrested', {int(100*10099/filtered_suspects_status.shape[0])}% sont 'Arrested', {int(100*2850/filtered_suspects_status.shape[0])}% sont 'Injured, Arrested' et une cinquantaine d'individus sont également déclarés 'Arrested' mais dans des catégories négligeables). \\nOn remarque également que {int(100*8988/filtered_suspects_status.shape[0])}% des suspects sont déclarés 'Killed', ce qui est significatif. \")"
   ]
  },
  {
   "cell_type": "markdown",
   "metadata": {},
   "source": [
    "#### Statistiques concernant les caractéristiques des victimes de ces incidents "
   ]
  },
  {
   "cell_type": "code",
   "execution_count": null,
   "metadata": {},
   "outputs": [],
   "source": [
    "print(\"\\nV. Qui sont les victimes de ces violences par arme à feu ?\\n\")"
   ]
  },
  {
   "cell_type": "code",
   "execution_count": null,
   "metadata": {},
   "outputs": [],
   "source": [
    "df_victim=pd.read_csv(\"df_victim.csv\")"
   ]
  },
  {
   "cell_type": "code",
   "execution_count": null,
   "metadata": {},
   "outputs": [],
   "source": [
    "filtered_victim_gender=df_victim[pd.notna(df_victim['gender_vict'])]\n",
    "\n",
    "fig21 = px.bar(filtered_victim_gender, x=sorted(pd.unique(filtered_victim_gender['gender_vict'])), y=filtered_victim_gender.groupby('gender_vict').count()['id'],\n",
    "              labels={\"x\":\"genre de la victime\", \"y\":\"nombre de victimes\"},\n",
    "              title=\"Genre des victimes\")\n",
    "\n",
    "fig21.show()"
   ]
  },
  {
   "cell_type": "code",
   "execution_count": null,
   "metadata": {},
   "outputs": [],
   "source": [
    "print(f\"Ce graphique nous montre qu'au niveau des victimes aussi les hommes sont majoritaires, puisqu'ils représentent {int(100*138615/filtered_victim_gender.shape[0])}% des victimes présentes dans notre base. C'est néanmoins une proportion légèrement plus faible que celle des hommes parmi les suspects.\")"
   ]
  },
  {
   "cell_type": "code",
   "execution_count": null,
   "metadata": {},
   "outputs": [],
   "source": [
    "age=list(range(100))\n",
    "\n",
    "filtered_vict_age = df_victim[df_victim['age_vict'].isin(age)].copy()  \n",
    "\n",
    "fig22 = px.bar(filtered_vict_age, x=sorted(pd.unique(filtered_vict_age['age_vict'])), y=filtered_vict_age.groupby('age_vict').count()['id'],\n",
    "            labels={\"x\":\"âge de la victime\", \"y\":\"nombre de victimes\"},\n",
    "            title=\"Nombre de victimes par âge\", \n",
    "            color=filtered_vict_age.groupby('age_vict').count()['id'], color_continuous_scale='Speed')\n",
    "\n",
    "fig22.show()"
   ]
  },
  {
   "cell_type": "code",
   "execution_count": null,
   "metadata": {},
   "outputs": [],
   "source": [
    "fig22bis=px.box(filtered_vict_age, y=filtered_vict_age['age_vict'], \n",
    "    title=\"Boxplot de l'âge des victimes\")\n",
    "fig22bis.show()"
   ]
  },
  {
   "cell_type": "code",
   "execution_count": null,
   "metadata": {},
   "outputs": [],
   "source": [
    "print(\"La distribution des âges des victimes est relativement similaire à celle des âges des suspects (le premier quantile est de 20 ans et le troisième de 36 ans, comme pour les suspects) mais semble légèrement plus étalée. Les âges les plus représentés sont également entre 18 et 25 ans mais il y a une présence non-négligeable de très jeunes victimes (moins de 14 ans).\")"
   ]
  },
  {
   "cell_type": "code",
   "execution_count": null,
   "metadata": {},
   "outputs": [],
   "source": [
    "filtered_vict_status=df_victim[pd.notna(df_victim['status_vict'])]\n",
    "\n",
    "fig23 = px.bar(filtered_vict_status, x=sorted(pd.unique(filtered_vict_status['status_vict'])), y=filtered_vict_status.groupby('status_vict').count()['id'],\n",
    "              labels={\"x\":\"statut de la victime\", \"y\":\"nombre de victimes\"},\n",
    "              title=\"Statut des victimes\", \n",
    "            color=filtered_vict_age.groupby('status_vict').count()['id'], color_continuous_scale='Speed')\n",
    "\n",
    "fig23.show()"
   ]
  },
  {
   "cell_type": "code",
   "execution_count": null,
   "metadata": {},
   "outputs": [],
   "source": [
    "print(f\"On remarque sur ce graphique que les victimes n'ont que 3 statuts significatifs à l'issue des incidents par arme à feu. {int(100*110004/filtered_vict_status.shape[0])}% des victimes de notre base de donnée sont blessées, {int(100*51393/filtered_vict_status.shape[0])}% sont tuées et seulement {int(100*24400/filtered_vict_status.shape[0])}% ne sont pas blessées. \\nIl faut tout de même prendre en compte que {filtered_vict_status.shape[0]} status de victimes sont déclarés pour {updated_base.shape[0]} incidents. Ainsi, plus de 52 271 incidents n'ont pas fait de victimes (ce chiffre est la fourchette basse étant donné que plusieurs victimes peuvent être déclarées pour un même incident). \")"
   ]
  }
 ],
 "metadata": {
  "kernelspec": {
   "display_name": "base",
   "language": "python",
   "name": "python3"
  },
  "language_info": {
   "codemirror_mode": {
    "name": "ipython",
    "version": 3
   },
   "file_extension": ".py",
   "mimetype": "text/x-python",
   "name": "python",
   "nbconvert_exporter": "python",
   "pygments_lexer": "ipython3",
   "version": "3.10.13"
  }
 },
 "nbformat": 4,
 "nbformat_minor": 2
}
