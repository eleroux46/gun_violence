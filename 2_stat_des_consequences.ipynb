{
 "cells": [
  {
   "cell_type": "markdown",
   "metadata": {},
   "source": [
    "### Statistiques concernant les cararactéristiques des incidents ayant fait des victimes : comment expliquer le nombre de victimes en fonction de l'incident ?"
   ]
  },
  {
   "cell_type": "code",
   "execution_count": 20,
   "metadata": {},
   "outputs": [
    {
     "data": {
      "text/html": [
       "        <script type=\"text/javascript\">\n",
       "        window.PlotlyConfig = {MathJaxConfig: 'local'};\n",
       "        if (window.MathJax && window.MathJax.Hub && window.MathJax.Hub.Config) {window.MathJax.Hub.Config({SVG: {font: \"STIX-Web\"}});}\n",
       "        if (typeof require !== 'undefined') {\n",
       "        require.undef(\"plotly\");\n",
       "        requirejs.config({\n",
       "            paths: {\n",
       "                'plotly': ['https://cdn.plot.ly/plotly-2.27.0.min']\n",
       "            }\n",
       "        });\n",
       "        require(['plotly'], function(Plotly) {\n",
       "            window._Plotly = Plotly;\n",
       "        });\n",
       "        }\n",
       "        </script>\n",
       "        "
      ]
     },
     "metadata": {},
     "output_type": "display_data"
    }
   ],
   "source": [
    "import numpy as np\n",
    "import pandas as pd\n",
    "import geopandas as gpd\n",
    "import matplotlib.pyplot as plt\n",
    "from shapely.geometry import Point\n",
    "from plotly.offline import init_notebook_mode\n",
    "init_notebook_mode(connected= True)\n",
    "import plotly.express as px"
   ]
  },
  {
   "cell_type": "code",
   "execution_count": 4,
   "metadata": {},
   "outputs": [],
   "source": [
    "pd.set_option('display.max_columns', None)"
   ]
  },
  {
   "cell_type": "code",
   "execution_count": 5,
   "metadata": {},
   "outputs": [
    {
     "data": {
      "text/html": [
       "<div>\n",
       "<style scoped>\n",
       "    .dataframe tbody tr th:only-of-type {\n",
       "        vertical-align: middle;\n",
       "    }\n",
       "\n",
       "    .dataframe tbody tr th {\n",
       "        vertical-align: top;\n",
       "    }\n",
       "\n",
       "    .dataframe thead th {\n",
       "        text-align: right;\n",
       "    }\n",
       "</style>\n",
       "<table border=\"1\" class=\"dataframe\">\n",
       "  <thead>\n",
       "    <tr style=\"text-align: right;\">\n",
       "      <th></th>\n",
       "      <th>Unnamed: 0</th>\n",
       "      <th>Nom</th>\n",
       "      <th>Etat</th>\n",
       "      <th>Code_Etat</th>\n",
       "      <th>id_Etat</th>\n",
       "      <th>id_county</th>\n",
       "      <th>NAME</th>\n",
       "      <th>geometry</th>\n",
       "      <th>fips</th>\n",
       "      <th>unemp_rate_year_2013</th>\n",
       "      <th>unemp_rate_year_2014</th>\n",
       "      <th>unemp_rate_year_2015</th>\n",
       "      <th>unemp_rate_year_2016</th>\n",
       "      <th>unemp_rate_year_2017</th>\n",
       "      <th>unemp_rate_year_2018</th>\n",
       "      <th>med_h_income_year_2013</th>\n",
       "      <th>med_h_income_year_2014</th>\n",
       "      <th>med_h_income_year_2015</th>\n",
       "      <th>med_h_income_year_2016</th>\n",
       "      <th>med_h_income_year_2017</th>\n",
       "      <th>med_h_income_year_2018</th>\n",
       "      <th>resident_pop_year_2013</th>\n",
       "      <th>resident_pop_year_2014</th>\n",
       "      <th>resident_pop_year_2015</th>\n",
       "      <th>resident_pop_year_2016</th>\n",
       "      <th>resident_pop_year_2017</th>\n",
       "      <th>resident_pop_year_2018</th>\n",
       "      <th>snap_beneficiaries_year_2013</th>\n",
       "      <th>snap_beneficiaries_year_2014</th>\n",
       "      <th>snap_beneficiaries_year_2015</th>\n",
       "      <th>snap_beneficiaries_year_2016</th>\n",
       "      <th>snap_beneficiaries_year_2017</th>\n",
       "      <th>snap_beneficiaries_year_2018</th>\n",
       "      <th>bachelors_deg_year_2013</th>\n",
       "      <th>bachelors_deg_year_2014</th>\n",
       "      <th>bachelors_deg_year_2015</th>\n",
       "      <th>bachelors_deg_year_2016</th>\n",
       "      <th>bachelors_deg_year_2017</th>\n",
       "      <th>bachelors_deg_year_2018</th>\n",
       "      <th>score_legis</th>\n",
       "      <th>bchecks_2013</th>\n",
       "      <th>bchecks_2014</th>\n",
       "      <th>bchecks_2015</th>\n",
       "      <th>bchecks_2016</th>\n",
       "      <th>bchecks_2017</th>\n",
       "      <th>bchecks_2018</th>\n",
       "      <th>per_dem</th>\n",
       "      <th>per_gop</th>\n",
       "    </tr>\n",
       "  </thead>\n",
       "  <tbody>\n",
       "    <tr>\n",
       "      <th>2692</th>\n",
       "      <td>2692</td>\n",
       "      <td>Martin</td>\n",
       "      <td>Texas</td>\n",
       "      <td>TX</td>\n",
       "      <td>27326</td>\n",
       "      <td>30054</td>\n",
       "      <td>Martin</td>\n",
       "      <td>POLYGON ((-102.211033 32.177037, -102.211111 3...</td>\n",
       "      <td>48317.0</td>\n",
       "      <td>3.6</td>\n",
       "      <td>2.7</td>\n",
       "      <td>3.3</td>\n",
       "      <td>4.4</td>\n",
       "      <td>2.3</td>\n",
       "      <td>2.5</td>\n",
       "      <td>50004.0</td>\n",
       "      <td>61896.0</td>\n",
       "      <td>60815.0</td>\n",
       "      <td>58760.0</td>\n",
       "      <td>59907.0</td>\n",
       "      <td>56484.0</td>\n",
       "      <td>5.268</td>\n",
       "      <td>5.457</td>\n",
       "      <td>5.639</td>\n",
       "      <td>5.627</td>\n",
       "      <td>5.526</td>\n",
       "      <td>5.668</td>\n",
       "      <td>634.0</td>\n",
       "      <td>515.0</td>\n",
       "      <td>576.0</td>\n",
       "      <td>682.0</td>\n",
       "      <td>656.0</td>\n",
       "      <td>568.0</td>\n",
       "      <td>10.9</td>\n",
       "      <td>17.3</td>\n",
       "      <td>17.5</td>\n",
       "      <td>19.3</td>\n",
       "      <td>20.6</td>\n",
       "      <td>20.4</td>\n",
       "      <td>2.45</td>\n",
       "      <td>1633278</td>\n",
       "      <td>1465992</td>\n",
       "      <td>1574266</td>\n",
       "      <td>1721726</td>\n",
       "      <td>1549434</td>\n",
       "      <td>1571632</td>\n",
       "      <td>0.151567</td>\n",
       "      <td>0.827920</td>\n",
       "    </tr>\n",
       "    <tr>\n",
       "      <th>930</th>\n",
       "      <td>930</td>\n",
       "      <td>Grant</td>\n",
       "      <td>Kansas</td>\n",
       "      <td>KS</td>\n",
       "      <td>27298</td>\n",
       "      <td>28268</td>\n",
       "      <td>Grant</td>\n",
       "      <td>POLYGON ((-101.527063 37.736314, -101.526365 3...</td>\n",
       "      <td>20067.0</td>\n",
       "      <td>3.0</td>\n",
       "      <td>3.0</td>\n",
       "      <td>3.3</td>\n",
       "      <td>3.4</td>\n",
       "      <td>2.7</td>\n",
       "      <td>2.8</td>\n",
       "      <td>54952.0</td>\n",
       "      <td>60279.0</td>\n",
       "      <td>59218.0</td>\n",
       "      <td>58620.0</td>\n",
       "      <td>59534.0</td>\n",
       "      <td>61614.0</td>\n",
       "      <td>7.843</td>\n",
       "      <td>7.784</td>\n",
       "      <td>7.719</td>\n",
       "      <td>7.660</td>\n",
       "      <td>7.476</td>\n",
       "      <td>7.271</td>\n",
       "      <td>522.0</td>\n",
       "      <td>528.0</td>\n",
       "      <td>538.0</td>\n",
       "      <td>439.0</td>\n",
       "      <td>397.0</td>\n",
       "      <td>393.0</td>\n",
       "      <td>17.8</td>\n",
       "      <td>18.5</td>\n",
       "      <td>18.2</td>\n",
       "      <td>15.2</td>\n",
       "      <td>16.2</td>\n",
       "      <td>15.4</td>\n",
       "      <td>0.90</td>\n",
       "      <td>228105</td>\n",
       "      <td>172167</td>\n",
       "      <td>185859</td>\n",
       "      <td>196548</td>\n",
       "      <td>191451</td>\n",
       "      <td>172047</td>\n",
       "      <td>0.184768</td>\n",
       "      <td>0.759412</td>\n",
       "    </tr>\n",
       "    <tr>\n",
       "      <th>1836</th>\n",
       "      <td>1836</td>\n",
       "      <td>Socorro</td>\n",
       "      <td>New Mexico</td>\n",
       "      <td>NM</td>\n",
       "      <td>27313</td>\n",
       "      <td>29186</td>\n",
       "      <td>Socorro</td>\n",
       "      <td>POLYGON ((-107.726436 34.504469, -107.725319 3...</td>\n",
       "      <td>35053.0</td>\n",
       "      <td>7.0</td>\n",
       "      <td>6.6</td>\n",
       "      <td>6.9</td>\n",
       "      <td>6.9</td>\n",
       "      <td>5.3</td>\n",
       "      <td>5.6</td>\n",
       "      <td>32090.0</td>\n",
       "      <td>32285.0</td>\n",
       "      <td>33673.0</td>\n",
       "      <td>33239.0</td>\n",
       "      <td>34880.0</td>\n",
       "      <td>33989.0</td>\n",
       "      <td>17.507</td>\n",
       "      <td>17.255</td>\n",
       "      <td>17.148</td>\n",
       "      <td>16.989</td>\n",
       "      <td>16.825</td>\n",
       "      <td>16.649</td>\n",
       "      <td>5106.0</td>\n",
       "      <td>5669.0</td>\n",
       "      <td>5345.0</td>\n",
       "      <td>5182.0</td>\n",
       "      <td>5429.0</td>\n",
       "      <td>5167.0</td>\n",
       "      <td>19.4</td>\n",
       "      <td>19.2</td>\n",
       "      <td>17.5</td>\n",
       "      <td>19.6</td>\n",
       "      <td>19.5</td>\n",
       "      <td>21.2</td>\n",
       "      <td>1.25</td>\n",
       "      <td>156333</td>\n",
       "      <td>139780</td>\n",
       "      <td>147912</td>\n",
       "      <td>161216</td>\n",
       "      <td>159779</td>\n",
       "      <td>156853</td>\n",
       "      <td>0.484754</td>\n",
       "      <td>0.383659</td>\n",
       "    </tr>\n",
       "    <tr>\n",
       "      <th>2816</th>\n",
       "      <td>2816</td>\n",
       "      <td>Wasatch</td>\n",
       "      <td>Utah</td>\n",
       "      <td>UT</td>\n",
       "      <td>27328</td>\n",
       "      <td>30180</td>\n",
       "      <td>Wasatch</td>\n",
       "      <td>POLYGON ((-111.620725 40.451322, -111.619412 4...</td>\n",
       "      <td>49051.0</td>\n",
       "      <td>3.5</td>\n",
       "      <td>2.9</td>\n",
       "      <td>3.0</td>\n",
       "      <td>2.7</td>\n",
       "      <td>2.6</td>\n",
       "      <td>3.0</td>\n",
       "      <td>64423.0</td>\n",
       "      <td>65207.0</td>\n",
       "      <td>75112.0</td>\n",
       "      <td>73077.0</td>\n",
       "      <td>83344.0</td>\n",
       "      <td>85380.0</td>\n",
       "      <td>26.578</td>\n",
       "      <td>27.815</td>\n",
       "      <td>29.131</td>\n",
       "      <td>30.433</td>\n",
       "      <td>32.045</td>\n",
       "      <td>33.278</td>\n",
       "      <td>1082.0</td>\n",
       "      <td>1024.0</td>\n",
       "      <td>970.0</td>\n",
       "      <td>846.0</td>\n",
       "      <td>809.0</td>\n",
       "      <td>684.0</td>\n",
       "      <td>33.4</td>\n",
       "      <td>34.4</td>\n",
       "      <td>33.5</td>\n",
       "      <td>36.9</td>\n",
       "      <td>38.7</td>\n",
       "      <td>40.6</td>\n",
       "      <td>2.00</td>\n",
       "      <td>324604</td>\n",
       "      <td>263812</td>\n",
       "      <td>254814</td>\n",
       "      <td>294907</td>\n",
       "      <td>270477</td>\n",
       "      <td>295858</td>\n",
       "      <td>0.252723</td>\n",
       "      <td>0.504538</td>\n",
       "    </tr>\n",
       "    <tr>\n",
       "      <th>1010</th>\n",
       "      <td>1010</td>\n",
       "      <td>Bourbon</td>\n",
       "      <td>Kentucky</td>\n",
       "      <td>KY</td>\n",
       "      <td>152</td>\n",
       "      <td>28349</td>\n",
       "      <td>Bourbon</td>\n",
       "      <td>POLYGON ((-84.442661 38.283235999999995, -84.4...</td>\n",
       "      <td>21017.0</td>\n",
       "      <td>6.0</td>\n",
       "      <td>4.1</td>\n",
       "      <td>4.6</td>\n",
       "      <td>4.6</td>\n",
       "      <td>3.6</td>\n",
       "      <td>4.4</td>\n",
       "      <td>40045.0</td>\n",
       "      <td>42812.0</td>\n",
       "      <td>46370.0</td>\n",
       "      <td>46231.0</td>\n",
       "      <td>46281.0</td>\n",
       "      <td>48614.0</td>\n",
       "      <td>20.023</td>\n",
       "      <td>20.049</td>\n",
       "      <td>20.159</td>\n",
       "      <td>20.123</td>\n",
       "      <td>20.088</td>\n",
       "      <td>20.102</td>\n",
       "      <td>4031.0</td>\n",
       "      <td>3741.0</td>\n",
       "      <td>3236.0</td>\n",
       "      <td>3209.0</td>\n",
       "      <td>2962.0</td>\n",
       "      <td>2711.0</td>\n",
       "      <td>15.8</td>\n",
       "      <td>15.7</td>\n",
       "      <td>16.0</td>\n",
       "      <td>17.8</td>\n",
       "      <td>19.0</td>\n",
       "      <td>18.9</td>\n",
       "      <td>1.25</td>\n",
       "      <td>1578331</td>\n",
       "      <td>2492184</td>\n",
       "      <td>3218371</td>\n",
       "      <td>3676847</td>\n",
       "      <td>4641480</td>\n",
       "      <td>4912441</td>\n",
       "      <td>0.317484</td>\n",
       "      <td>0.633489</td>\n",
       "    </tr>\n",
       "  </tbody>\n",
       "</table>\n",
       "</div>"
      ],
      "text/plain": [
       "      Unnamed: 0      Nom        Etat Code_Etat  id_Etat  id_county     NAME  \\\n",
       "2692        2692   Martin       Texas        TX    27326      30054   Martin   \n",
       "930          930    Grant      Kansas        KS    27298      28268    Grant   \n",
       "1836        1836  Socorro  New Mexico        NM    27313      29186  Socorro   \n",
       "2816        2816  Wasatch        Utah        UT    27328      30180  Wasatch   \n",
       "1010        1010  Bourbon    Kentucky        KY      152      28349  Bourbon   \n",
       "\n",
       "                                               geometry     fips  \\\n",
       "2692  POLYGON ((-102.211033 32.177037, -102.211111 3...  48317.0   \n",
       "930   POLYGON ((-101.527063 37.736314, -101.526365 3...  20067.0   \n",
       "1836  POLYGON ((-107.726436 34.504469, -107.725319 3...  35053.0   \n",
       "2816  POLYGON ((-111.620725 40.451322, -111.619412 4...  49051.0   \n",
       "1010  POLYGON ((-84.442661 38.283235999999995, -84.4...  21017.0   \n",
       "\n",
       "      unemp_rate_year_2013  unemp_rate_year_2014  unemp_rate_year_2015  \\\n",
       "2692                   3.6                   2.7                   3.3   \n",
       "930                    3.0                   3.0                   3.3   \n",
       "1836                   7.0                   6.6                   6.9   \n",
       "2816                   3.5                   2.9                   3.0   \n",
       "1010                   6.0                   4.1                   4.6   \n",
       "\n",
       "      unemp_rate_year_2016  unemp_rate_year_2017  unemp_rate_year_2018  \\\n",
       "2692                   4.4                   2.3                   2.5   \n",
       "930                    3.4                   2.7                   2.8   \n",
       "1836                   6.9                   5.3                   5.6   \n",
       "2816                   2.7                   2.6                   3.0   \n",
       "1010                   4.6                   3.6                   4.4   \n",
       "\n",
       "      med_h_income_year_2013  med_h_income_year_2014  med_h_income_year_2015  \\\n",
       "2692                 50004.0                 61896.0                 60815.0   \n",
       "930                  54952.0                 60279.0                 59218.0   \n",
       "1836                 32090.0                 32285.0                 33673.0   \n",
       "2816                 64423.0                 65207.0                 75112.0   \n",
       "1010                 40045.0                 42812.0                 46370.0   \n",
       "\n",
       "      med_h_income_year_2016  med_h_income_year_2017  med_h_income_year_2018  \\\n",
       "2692                 58760.0                 59907.0                 56484.0   \n",
       "930                  58620.0                 59534.0                 61614.0   \n",
       "1836                 33239.0                 34880.0                 33989.0   \n",
       "2816                 73077.0                 83344.0                 85380.0   \n",
       "1010                 46231.0                 46281.0                 48614.0   \n",
       "\n",
       "      resident_pop_year_2013  resident_pop_year_2014  resident_pop_year_2015  \\\n",
       "2692                   5.268                   5.457                   5.639   \n",
       "930                    7.843                   7.784                   7.719   \n",
       "1836                  17.507                  17.255                  17.148   \n",
       "2816                  26.578                  27.815                  29.131   \n",
       "1010                  20.023                  20.049                  20.159   \n",
       "\n",
       "      resident_pop_year_2016  resident_pop_year_2017  resident_pop_year_2018  \\\n",
       "2692                   5.627                   5.526                   5.668   \n",
       "930                    7.660                   7.476                   7.271   \n",
       "1836                  16.989                  16.825                  16.649   \n",
       "2816                  30.433                  32.045                  33.278   \n",
       "1010                  20.123                  20.088                  20.102   \n",
       "\n",
       "      snap_beneficiaries_year_2013  snap_beneficiaries_year_2014  \\\n",
       "2692                         634.0                         515.0   \n",
       "930                          522.0                         528.0   \n",
       "1836                        5106.0                        5669.0   \n",
       "2816                        1082.0                        1024.0   \n",
       "1010                        4031.0                        3741.0   \n",
       "\n",
       "      snap_beneficiaries_year_2015  snap_beneficiaries_year_2016  \\\n",
       "2692                         576.0                         682.0   \n",
       "930                          538.0                         439.0   \n",
       "1836                        5345.0                        5182.0   \n",
       "2816                         970.0                         846.0   \n",
       "1010                        3236.0                        3209.0   \n",
       "\n",
       "      snap_beneficiaries_year_2017  snap_beneficiaries_year_2018  \\\n",
       "2692                         656.0                         568.0   \n",
       "930                          397.0                         393.0   \n",
       "1836                        5429.0                        5167.0   \n",
       "2816                         809.0                         684.0   \n",
       "1010                        2962.0                        2711.0   \n",
       "\n",
       "      bachelors_deg_year_2013  bachelors_deg_year_2014  \\\n",
       "2692                     10.9                     17.3   \n",
       "930                      17.8                     18.5   \n",
       "1836                     19.4                     19.2   \n",
       "2816                     33.4                     34.4   \n",
       "1010                     15.8                     15.7   \n",
       "\n",
       "      bachelors_deg_year_2015  bachelors_deg_year_2016  \\\n",
       "2692                     17.5                     19.3   \n",
       "930                      18.2                     15.2   \n",
       "1836                     17.5                     19.6   \n",
       "2816                     33.5                     36.9   \n",
       "1010                     16.0                     17.8   \n",
       "\n",
       "      bachelors_deg_year_2017  bachelors_deg_year_2018  score_legis  \\\n",
       "2692                     20.6                     20.4         2.45   \n",
       "930                      16.2                     15.4         0.90   \n",
       "1836                     19.5                     21.2         1.25   \n",
       "2816                     38.7                     40.6         2.00   \n",
       "1010                     19.0                     18.9         1.25   \n",
       "\n",
       "      bchecks_2013  bchecks_2014  bchecks_2015  bchecks_2016  bchecks_2017  \\\n",
       "2692       1633278       1465992       1574266       1721726       1549434   \n",
       "930         228105        172167        185859        196548        191451   \n",
       "1836        156333        139780        147912        161216        159779   \n",
       "2816        324604        263812        254814        294907        270477   \n",
       "1010       1578331       2492184       3218371       3676847       4641480   \n",
       "\n",
       "      bchecks_2018   per_dem   per_gop  \n",
       "2692       1571632  0.151567  0.827920  \n",
       "930         172047  0.184768  0.759412  \n",
       "1836        156853  0.484754  0.383659  \n",
       "2816        295858  0.252723  0.504538  \n",
       "1010       4912441  0.317484  0.633489  "
      ]
     },
     "execution_count": 5,
     "metadata": {},
     "output_type": "execute_result"
    }
   ],
   "source": [
    "url=\"https://drive.google.com/file/d/1LO4i_-TkSmxnR0dgO5_lVLZ35FtGTNzA/view?usp=drive_link\"\n",
    "url=\"https://drive.google.com/uc?export=download&confirm=1&id=\" + url.split(\"/\")[-2]\n",
    "total_db = pd.read_csv(url)\n",
    "total_db.sample(5)"
   ]
  },
  {
   "cell_type": "code",
   "execution_count": 6,
   "metadata": {},
   "outputs": [
    {
     "data": {
      "text/html": [
       "<div>\n",
       "<style scoped>\n",
       "    .dataframe tbody tr th:only-of-type {\n",
       "        vertical-align: middle;\n",
       "    }\n",
       "\n",
       "    .dataframe tbody tr th {\n",
       "        vertical-align: top;\n",
       "    }\n",
       "\n",
       "    .dataframe thead th {\n",
       "        text-align: right;\n",
       "    }\n",
       "</style>\n",
       "<table border=\"1\" class=\"dataframe\">\n",
       "  <thead>\n",
       "    <tr style=\"text-align: right;\">\n",
       "      <th></th>\n",
       "      <th>Unnamed: 0</th>\n",
       "      <th>incident_id</th>\n",
       "      <th>date</th>\n",
       "      <th>state</th>\n",
       "      <th>city_or_county</th>\n",
       "      <th>address</th>\n",
       "      <th>n_killed</th>\n",
       "      <th>n_injured</th>\n",
       "      <th>incident_url</th>\n",
       "      <th>source_url</th>\n",
       "      <th>incident_url_fields_missing</th>\n",
       "      <th>congressional_district</th>\n",
       "      <th>gun_stolen</th>\n",
       "      <th>gun_type</th>\n",
       "      <th>incident_characteristics</th>\n",
       "      <th>latitude</th>\n",
       "      <th>location_description</th>\n",
       "      <th>longitude</th>\n",
       "      <th>n_guns_involved</th>\n",
       "      <th>notes</th>\n",
       "      <th>participant_age</th>\n",
       "      <th>participant_age_group</th>\n",
       "      <th>participant_gender</th>\n",
       "      <th>participant_name</th>\n",
       "      <th>participant_relationship</th>\n",
       "      <th>participant_status</th>\n",
       "      <th>participant_type</th>\n",
       "      <th>sources</th>\n",
       "      <th>state_house_district</th>\n",
       "      <th>state_senate_district</th>\n",
       "      <th>indic_suicide</th>\n",
       "      <th>indic_defens</th>\n",
       "      <th>indic_school</th>\n",
       "      <th>indic_home_inv</th>\n",
       "      <th>indic_accident</th>\n",
       "      <th>sus_adulte</th>\n",
       "      <th>vict_adulte</th>\n",
       "      <th>sus_male</th>\n",
       "      <th>vict_male</th>\n",
       "      <th>sus_injured</th>\n",
       "      <th>sus_arrested</th>\n",
       "      <th>sus_unharmed</th>\n",
       "      <th>sus_killed</th>\n",
       "      <th>vict_injured</th>\n",
       "      <th>vict_arrested</th>\n",
       "      <th>vict_unharmed</th>\n",
       "      <th>vict_killed</th>\n",
       "      <th>handgun</th>\n",
       "      <th>rifle</th>\n",
       "      <th>Nine_mm</th>\n",
       "      <th>shotgun</th>\n",
       "      <th>young_sus</th>\n",
       "      <th>young_vict</th>\n",
       "    </tr>\n",
       "  </thead>\n",
       "  <tbody>\n",
       "    <tr>\n",
       "      <th>7482</th>\n",
       "      <td>6310</td>\n",
       "      <td>110629</td>\n",
       "      <td>2014-02-26</td>\n",
       "      <td>Florida</td>\n",
       "      <td>Baker</td>\n",
       "      <td>NaN</td>\n",
       "      <td>0</td>\n",
       "      <td>0</td>\n",
       "      <td>http://www.gunviolencearchive.org/incident/110629</td>\n",
       "      <td>http://www.nwfdailynews.com/local/carjacking-s...</td>\n",
       "      <td>False</td>\n",
       "      <td>1.0</td>\n",
       "      <td>NaN</td>\n",
       "      <td>NaN</td>\n",
       "      <td>NaN</td>\n",
       "      <td>30.8415</td>\n",
       "      <td>NaN</td>\n",
       "      <td>-86.6755</td>\n",
       "      <td>NaN</td>\n",
       "      <td>NaN</td>\n",
       "      <td>{1: '21'}</td>\n",
       "      <td>{0: 'Adult 18+', 1: 'Adult 18+'}</td>\n",
       "      <td>{0: 'Female', 1: 'Male'}</td>\n",
       "      <td>1::Waylon Dwight Ganey</td>\n",
       "      <td>NaN</td>\n",
       "      <td>{0: 'Unharmed', 1: 'Unharmed'}</td>\n",
       "      <td>{0: 'Victim', 1: 'Subject-Suspect'}</td>\n",
       "      <td>NaN</td>\n",
       "      <td>3.0</td>\n",
       "      <td>2.0</td>\n",
       "      <td>0</td>\n",
       "      <td>0</td>\n",
       "      <td>0</td>\n",
       "      <td>0</td>\n",
       "      <td>0</td>\n",
       "      <td>1</td>\n",
       "      <td>1</td>\n",
       "      <td>1</td>\n",
       "      <td>0</td>\n",
       "      <td>0</td>\n",
       "      <td>0</td>\n",
       "      <td>1</td>\n",
       "      <td>0</td>\n",
       "      <td>0</td>\n",
       "      <td>0</td>\n",
       "      <td>1</td>\n",
       "      <td>0</td>\n",
       "      <td>0</td>\n",
       "      <td>0</td>\n",
       "      <td>0</td>\n",
       "      <td>0</td>\n",
       "      <td>1</td>\n",
       "      <td>0</td>\n",
       "    </tr>\n",
       "    <tr>\n",
       "      <th>20328</th>\n",
       "      <td>18165</td>\n",
       "      <td>144725</td>\n",
       "      <td>2014-06-05</td>\n",
       "      <td>California</td>\n",
       "      <td>Hayward</td>\n",
       "      <td>21000 block of Foothill Boulevard</td>\n",
       "      <td>1</td>\n",
       "      <td>0</td>\n",
       "      <td>http://www.gunviolencearchive.org/incident/144725</td>\n",
       "      <td>http://www.sfgate.com/crime/article/Hayward-ki...</td>\n",
       "      <td>False</td>\n",
       "      <td>15.0</td>\n",
       "      <td>NaN</td>\n",
       "      <td>NaN</td>\n",
       "      <td>NaN</td>\n",
       "      <td>37.6868</td>\n",
       "      <td>NaN</td>\n",
       "      <td>-122.0940</td>\n",
       "      <td>NaN</td>\n",
       "      <td>NaN</td>\n",
       "      <td>{0: '24', 1: '34'}</td>\n",
       "      <td>{0: 'Adult 18+'}</td>\n",
       "      <td>{0: 'Male', 1: 'Male'}</td>\n",
       "      <td>0::Carlos Cetina||1::Pedro Cruz</td>\n",
       "      <td>NaN</td>\n",
       "      <td>{0: 'Killed'}</td>\n",
       "      <td>{0: 'Victim', 1: 'Subject-Suspect'}</td>\n",
       "      <td>['http://www.insidebayarea.com/news/ci_2593561...</td>\n",
       "      <td>20.0</td>\n",
       "      <td>10.0</td>\n",
       "      <td>0</td>\n",
       "      <td>0</td>\n",
       "      <td>0</td>\n",
       "      <td>0</td>\n",
       "      <td>0</td>\n",
       "      <td>0</td>\n",
       "      <td>1</td>\n",
       "      <td>1</td>\n",
       "      <td>1</td>\n",
       "      <td>0</td>\n",
       "      <td>0</td>\n",
       "      <td>0</td>\n",
       "      <td>0</td>\n",
       "      <td>0</td>\n",
       "      <td>0</td>\n",
       "      <td>0</td>\n",
       "      <td>1</td>\n",
       "      <td>0</td>\n",
       "      <td>0</td>\n",
       "      <td>0</td>\n",
       "      <td>0</td>\n",
       "      <td>0</td>\n",
       "      <td>1</td>\n",
       "    </tr>\n",
       "    <tr>\n",
       "      <th>197784</th>\n",
       "      <td>196706</td>\n",
       "      <td>888432</td>\n",
       "      <td>2017-07-11</td>\n",
       "      <td>Mississippi</td>\n",
       "      <td>Lucedale</td>\n",
       "      <td>S Pine St and Estes St</td>\n",
       "      <td>1</td>\n",
       "      <td>0</td>\n",
       "      <td>http://www.gunviolencearchive.org/incident/888432</td>\n",
       "      <td>http://www.wmbfnews.com/story/35867942/suspect...</td>\n",
       "      <td>False</td>\n",
       "      <td>4.0</td>\n",
       "      <td>{0: 'Unknown'}</td>\n",
       "      <td>{0: 'Unknown'}</td>\n",
       "      <td>NaN</td>\n",
       "      <td>30.9175</td>\n",
       "      <td>NaN</td>\n",
       "      <td>-88.5963</td>\n",
       "      <td>1.0</td>\n",
       "      <td>NaN</td>\n",
       "      <td>{0: '33', 1: '31'}</td>\n",
       "      <td>{0: 'Adult 18+', 1: 'Adult 18+'}</td>\n",
       "      <td>{0: 'Male', 1: 'Male'}</td>\n",
       "      <td>0::Demetrius Pate||1::Demetrius Spivery</td>\n",
       "      <td>NaN</td>\n",
       "      <td>{0: 'Killed', 1: 'Unharmed, Arrested'}</td>\n",
       "      <td>{0: 'Victim', 1: 'Subject-Suspect'}</td>\n",
       "      <td>['http://www.wlox.com/story/35867942/lucedale-...</td>\n",
       "      <td>107.0</td>\n",
       "      <td>43.0</td>\n",
       "      <td>0</td>\n",
       "      <td>0</td>\n",
       "      <td>0</td>\n",
       "      <td>0</td>\n",
       "      <td>0</td>\n",
       "      <td>1</td>\n",
       "      <td>1</td>\n",
       "      <td>1</td>\n",
       "      <td>1</td>\n",
       "      <td>0</td>\n",
       "      <td>1</td>\n",
       "      <td>1</td>\n",
       "      <td>0</td>\n",
       "      <td>0</td>\n",
       "      <td>0</td>\n",
       "      <td>0</td>\n",
       "      <td>1</td>\n",
       "      <td>0</td>\n",
       "      <td>0</td>\n",
       "      <td>0</td>\n",
       "      <td>0</td>\n",
       "      <td>0</td>\n",
       "      <td>0</td>\n",
       "    </tr>\n",
       "    <tr>\n",
       "      <th>148575</th>\n",
       "      <td>147179</td>\n",
       "      <td>666844</td>\n",
       "      <td>2016-09-28</td>\n",
       "      <td>Missouri</td>\n",
       "      <td>Cape Girardeau</td>\n",
       "      <td>1213 South Ellis Street</td>\n",
       "      <td>1</td>\n",
       "      <td>0</td>\n",
       "      <td>http://www.gunviolencearchive.org/incident/666844</td>\n",
       "      <td>http://www.semissourian.com/story/2345090.html</td>\n",
       "      <td>False</td>\n",
       "      <td>8.0</td>\n",
       "      <td>{0: 'Unknown'}</td>\n",
       "      <td>{0: 'Unknown'}</td>\n",
       "      <td>['Shot - Dead (murder, accidental, suicide)', ...</td>\n",
       "      <td>37.2871</td>\n",
       "      <td>NaN</td>\n",
       "      <td>-89.5310</td>\n",
       "      <td>1.0</td>\n",
       "      <td>NaN</td>\n",
       "      <td>{0: '30', 1: '30', 2: '22'}</td>\n",
       "      <td>{0: 'Adult 18+', 1: 'Adult 18+', 2: 'Adult 18+'}</td>\n",
       "      <td>{0: 'Male', 1: 'Male', 2: 'Male'}</td>\n",
       "      <td>0::Brent Shonta Johnson||1::Richard L. Jenkins...</td>\n",
       "      <td>NaN</td>\n",
       "      <td>{0: 'Killed', 1: 'Unharmed, Arrested', 2: 'Unh...</td>\n",
       "      <td>{0: 'Victim', 1: 'Subject-Suspect', 2: 'Subjec...</td>\n",
       "      <td>['http://www.kfvs12.com/story/33266484/police-...</td>\n",
       "      <td>147.0</td>\n",
       "      <td>27.0</td>\n",
       "      <td>1</td>\n",
       "      <td>0</td>\n",
       "      <td>0</td>\n",
       "      <td>0</td>\n",
       "      <td>1</td>\n",
       "      <td>1</td>\n",
       "      <td>1</td>\n",
       "      <td>1</td>\n",
       "      <td>1</td>\n",
       "      <td>0</td>\n",
       "      <td>1</td>\n",
       "      <td>1</td>\n",
       "      <td>0</td>\n",
       "      <td>0</td>\n",
       "      <td>0</td>\n",
       "      <td>0</td>\n",
       "      <td>1</td>\n",
       "      <td>0</td>\n",
       "      <td>0</td>\n",
       "      <td>0</td>\n",
       "      <td>0</td>\n",
       "      <td>1</td>\n",
       "      <td>0</td>\n",
       "    </tr>\n",
       "    <tr>\n",
       "      <th>69789</th>\n",
       "      <td>68054</td>\n",
       "      <td>339138</td>\n",
       "      <td>2015-05-12</td>\n",
       "      <td>New York</td>\n",
       "      <td>Brooklyn</td>\n",
       "      <td>Throop Avenue and Quincy Street</td>\n",
       "      <td>0</td>\n",
       "      <td>2</td>\n",
       "      <td>http://www.gunviolencearchive.org/incident/339138</td>\n",
       "      <td>http://www.nydailynews.com/new-york/brooklyn/n...</td>\n",
       "      <td>False</td>\n",
       "      <td>8.0</td>\n",
       "      <td>NaN</td>\n",
       "      <td>NaN</td>\n",
       "      <td>['Shot - Wounded/Injured', 'Institution/Group/...</td>\n",
       "      <td>40.6879</td>\n",
       "      <td>NaN</td>\n",
       "      <td>-73.9419</td>\n",
       "      <td>NaN</td>\n",
       "      <td>Bedford Stuyvevsant, bodega ar, gunfire exchan...</td>\n",
       "      <td>{0: '19', 1: '24'}</td>\n",
       "      <td>{0: 'Adult 18+', 1: 'Adult 18+', 2: 'Adult 18+...</td>\n",
       "      <td>{0: 'Male', 1: 'Female', 2: 'Male', 3: 'Male'}</td>\n",
       "      <td>1::Elena Portillo</td>\n",
       "      <td>{2: 'Armed Robbery', 3: 'Armed Robbery'}</td>\n",
       "      <td>{0: 'Injured', 1: 'Injured', 2: 'Unharmed', 3:...</td>\n",
       "      <td>{0: 'Victim', 1: 'Victim', 2: 'Subject-Suspect...</td>\n",
       "      <td>['http://www.nydailynews.com/new-york/nyc-crim...</td>\n",
       "      <td>56.0</td>\n",
       "      <td>25.0</td>\n",
       "      <td>0</td>\n",
       "      <td>1</td>\n",
       "      <td>0</td>\n",
       "      <td>0</td>\n",
       "      <td>0</td>\n",
       "      <td>1</td>\n",
       "      <td>1</td>\n",
       "      <td>1</td>\n",
       "      <td>1</td>\n",
       "      <td>0</td>\n",
       "      <td>0</td>\n",
       "      <td>1</td>\n",
       "      <td>0</td>\n",
       "      <td>1</td>\n",
       "      <td>0</td>\n",
       "      <td>0</td>\n",
       "      <td>0</td>\n",
       "      <td>0</td>\n",
       "      <td>0</td>\n",
       "      <td>0</td>\n",
       "      <td>0</td>\n",
       "      <td>0</td>\n",
       "      <td>1</td>\n",
       "    </tr>\n",
       "  </tbody>\n",
       "</table>\n",
       "</div>"
      ],
      "text/plain": [
       "        Unnamed: 0  incident_id        date        state  city_or_county  \\\n",
       "7482          6310       110629  2014-02-26      Florida           Baker   \n",
       "20328        18165       144725  2014-06-05   California         Hayward   \n",
       "197784      196706       888432  2017-07-11  Mississippi        Lucedale   \n",
       "148575      147179       666844  2016-09-28     Missouri  Cape Girardeau   \n",
       "69789        68054       339138  2015-05-12     New York        Brooklyn   \n",
       "\n",
       "                                   address  n_killed  n_injured  \\\n",
       "7482                                   NaN         0          0   \n",
       "20328   21000 block of Foothill Boulevard          1          0   \n",
       "197784              S Pine St and Estes St         1          0   \n",
       "148575             1213 South Ellis Street         1          0   \n",
       "69789      Throop Avenue and Quincy Street         0          2   \n",
       "\n",
       "                                             incident_url  \\\n",
       "7482    http://www.gunviolencearchive.org/incident/110629   \n",
       "20328   http://www.gunviolencearchive.org/incident/144725   \n",
       "197784  http://www.gunviolencearchive.org/incident/888432   \n",
       "148575  http://www.gunviolencearchive.org/incident/666844   \n",
       "69789   http://www.gunviolencearchive.org/incident/339138   \n",
       "\n",
       "                                               source_url  \\\n",
       "7482    http://www.nwfdailynews.com/local/carjacking-s...   \n",
       "20328   http://www.sfgate.com/crime/article/Hayward-ki...   \n",
       "197784  http://www.wmbfnews.com/story/35867942/suspect...   \n",
       "148575     http://www.semissourian.com/story/2345090.html   \n",
       "69789   http://www.nydailynews.com/new-york/brooklyn/n...   \n",
       "\n",
       "        incident_url_fields_missing  congressional_district      gun_stolen  \\\n",
       "7482                          False                     1.0             NaN   \n",
       "20328                         False                    15.0             NaN   \n",
       "197784                        False                     4.0  {0: 'Unknown'}   \n",
       "148575                        False                     8.0  {0: 'Unknown'}   \n",
       "69789                         False                     8.0             NaN   \n",
       "\n",
       "              gun_type                           incident_characteristics  \\\n",
       "7482               NaN                                                NaN   \n",
       "20328              NaN                                                NaN   \n",
       "197784  {0: 'Unknown'}                                                NaN   \n",
       "148575  {0: 'Unknown'}  ['Shot - Dead (murder, accidental, suicide)', ...   \n",
       "69789              NaN  ['Shot - Wounded/Injured', 'Institution/Group/...   \n",
       "\n",
       "        latitude location_description  longitude  n_guns_involved  \\\n",
       "7482     30.8415                  NaN   -86.6755              NaN   \n",
       "20328    37.6868                  NaN  -122.0940              NaN   \n",
       "197784   30.9175                  NaN   -88.5963              1.0   \n",
       "148575   37.2871                  NaN   -89.5310              1.0   \n",
       "69789    40.6879                  NaN   -73.9419              NaN   \n",
       "\n",
       "                                                    notes  \\\n",
       "7482                                                  NaN   \n",
       "20328                                                 NaN   \n",
       "197784                                                NaN   \n",
       "148575                                                NaN   \n",
       "69789   Bedford Stuyvevsant, bodega ar, gunfire exchan...   \n",
       "\n",
       "                    participant_age  \\\n",
       "7482                      {1: '21'}   \n",
       "20328            {0: '24', 1: '34'}   \n",
       "197784           {0: '33', 1: '31'}   \n",
       "148575  {0: '30', 1: '30', 2: '22'}   \n",
       "69789            {0: '19', 1: '24'}   \n",
       "\n",
       "                                    participant_age_group  \\\n",
       "7482                     {0: 'Adult 18+', 1: 'Adult 18+'}   \n",
       "20328                                    {0: 'Adult 18+'}   \n",
       "197784                   {0: 'Adult 18+', 1: 'Adult 18+'}   \n",
       "148575   {0: 'Adult 18+', 1: 'Adult 18+', 2: 'Adult 18+'}   \n",
       "69789   {0: 'Adult 18+', 1: 'Adult 18+', 2: 'Adult 18+...   \n",
       "\n",
       "                                    participant_gender  \\\n",
       "7482                          {0: 'Female', 1: 'Male'}   \n",
       "20328                           {0: 'Male', 1: 'Male'}   \n",
       "197784                          {0: 'Male', 1: 'Male'}   \n",
       "148575               {0: 'Male', 1: 'Male', 2: 'Male'}   \n",
       "69789   {0: 'Male', 1: 'Female', 2: 'Male', 3: 'Male'}   \n",
       "\n",
       "                                         participant_name  \\\n",
       "7482                               1::Waylon Dwight Ganey   \n",
       "20328                     0::Carlos Cetina||1::Pedro Cruz   \n",
       "197784            0::Demetrius Pate||1::Demetrius Spivery   \n",
       "148575  0::Brent Shonta Johnson||1::Richard L. Jenkins...   \n",
       "69789                                   1::Elena Portillo   \n",
       "\n",
       "                        participant_relationship  \\\n",
       "7482                                         NaN   \n",
       "20328                                        NaN   \n",
       "197784                                       NaN   \n",
       "148575                                       NaN   \n",
       "69789   {2: 'Armed Robbery', 3: 'Armed Robbery'}   \n",
       "\n",
       "                                       participant_status  \\\n",
       "7482                       {0: 'Unharmed', 1: 'Unharmed'}   \n",
       "20328                                       {0: 'Killed'}   \n",
       "197784             {0: 'Killed', 1: 'Unharmed, Arrested'}   \n",
       "148575  {0: 'Killed', 1: 'Unharmed, Arrested', 2: 'Unh...   \n",
       "69789   {0: 'Injured', 1: 'Injured', 2: 'Unharmed', 3:...   \n",
       "\n",
       "                                         participant_type  \\\n",
       "7482                  {0: 'Victim', 1: 'Subject-Suspect'}   \n",
       "20328                 {0: 'Victim', 1: 'Subject-Suspect'}   \n",
       "197784                {0: 'Victim', 1: 'Subject-Suspect'}   \n",
       "148575  {0: 'Victim', 1: 'Subject-Suspect', 2: 'Subjec...   \n",
       "69789   {0: 'Victim', 1: 'Victim', 2: 'Subject-Suspect...   \n",
       "\n",
       "                                                  sources  \\\n",
       "7482                                                  NaN   \n",
       "20328   ['http://www.insidebayarea.com/news/ci_2593561...   \n",
       "197784  ['http://www.wlox.com/story/35867942/lucedale-...   \n",
       "148575  ['http://www.kfvs12.com/story/33266484/police-...   \n",
       "69789   ['http://www.nydailynews.com/new-york/nyc-crim...   \n",
       "\n",
       "        state_house_district  state_senate_district  indic_suicide  \\\n",
       "7482                     3.0                    2.0              0   \n",
       "20328                   20.0                   10.0              0   \n",
       "197784                 107.0                   43.0              0   \n",
       "148575                 147.0                   27.0              1   \n",
       "69789                   56.0                   25.0              0   \n",
       "\n",
       "        indic_defens  indic_school  indic_home_inv  indic_accident  \\\n",
       "7482               0             0               0               0   \n",
       "20328              0             0               0               0   \n",
       "197784             0             0               0               0   \n",
       "148575             0             0               0               1   \n",
       "69789              1             0               0               0   \n",
       "\n",
       "        sus_adulte  vict_adulte  sus_male  vict_male  sus_injured  \\\n",
       "7482             1            1         1          0            0   \n",
       "20328            0            1         1          1            0   \n",
       "197784           1            1         1          1            0   \n",
       "148575           1            1         1          1            0   \n",
       "69789            1            1         1          1            0   \n",
       "\n",
       "        sus_arrested  sus_unharmed  sus_killed  vict_injured  vict_arrested  \\\n",
       "7482               0             1           0             0              0   \n",
       "20328              0             0           0             0              0   \n",
       "197784             1             1           0             0              0   \n",
       "148575             1             1           0             0              0   \n",
       "69789              0             1           0             1              0   \n",
       "\n",
       "        vict_unharmed  vict_killed  handgun  rifle  Nine_mm  shotgun  \\\n",
       "7482                1            0        0      0        0        0   \n",
       "20328               0            1        0      0        0        0   \n",
       "197784              0            1        0      0        0        0   \n",
       "148575              0            1        0      0        0        0   \n",
       "69789               0            0        0      0        0        0   \n",
       "\n",
       "        young_sus  young_vict  \n",
       "7482            1           0  \n",
       "20328           0           1  \n",
       "197784          0           0  \n",
       "148575          1           0  \n",
       "69789           0           1  "
      ]
     },
     "execution_count": 6,
     "metadata": {},
     "output_type": "execute_result"
    }
   ],
   "source": [
    "gun_violence_db = pd.read_csv('df_gun_violence.csv')\n",
    "gun_violence_db.sample(5)"
   ]
  },
  {
   "cell_type": "code",
   "execution_count": 7,
   "metadata": {},
   "outputs": [],
   "source": [
    "from shapely import wkt\n",
    "def wkt_loads(x):\n",
    "    try:\n",
    "        return wkt.loads(x)\n",
    "    except Exception:\n",
    "        return None\n",
    "total_db = total_db.dropna(subset=['geometry'])\n",
    "total_db['geometry'] = total_db['geometry'].apply(wkt_loads)"
   ]
  },
  {
   "cell_type": "code",
   "execution_count": 8,
   "metadata": {},
   "outputs": [],
   "source": [
    "total_db = total_db.loc[total_db['Etat'] != 'Alaska']\n",
    "total_db = total_db.loc[total_db['Etat'] != 'Hawaii']\n",
    "\n",
    "gun_violence_db = gun_violence_db.loc[gun_violence_db['state'] != 'Alaska']\n",
    "gun_violence_db = gun_violence_db.loc[gun_violence_db['state'] != 'Hawaii']\n"
   ]
  },
  {
   "cell_type": "code",
   "execution_count": 9,
   "metadata": {},
   "outputs": [],
   "source": [
    "total_db_geo = (\n",
    "    gpd.GeoDataFrame(total_db)\n",
    "    .set_geometry('geometry')\n",
    "    .set_crs('EPSG:4269')\n",
    ")"
   ]
  },
  {
   "cell_type": "code",
   "execution_count": 10,
   "metadata": {},
   "outputs": [],
   "source": [
    "#changement de valeur pour Richmond, Virginia car valeur aberrante de 8.755 alors qu'il y avait 204 214\thabitants en 2010\n",
    "total_db_geo.loc[total_db_geo['id_county'] == 30306, 'resident_pop_year_2013'] = 204.214 \n",
    "total_db_geo.loc[total_db_geo['id_county'] == 30306, 'resident_pop_year_2014'] = 204.214 \n",
    "total_db_geo.loc[total_db_geo['id_county'] == 30306, 'resident_pop_year_2015'] = 204.214 \n",
    "total_db_geo.loc[total_db_geo['id_county'] == 30306, 'resident_pop_year_2016'] = 204.214 \n",
    "total_db_geo.loc[total_db_geo['id_county'] == 30306, 'resident_pop_year_2017'] = 204.214 \n",
    "total_db_geo.loc[total_db_geo['id_county'] == 30306, 'resident_pop_year_2018'] = 204.214"
   ]
  },
  {
   "cell_type": "code",
   "execution_count": 11,
   "metadata": {},
   "outputs": [],
   "source": [
    "from shapely.geometry import Point\n",
    "\n",
    "geometry = [Point(xy) for xy in zip(gun_violence_db['longitude'], gun_violence_db['latitude'])]\n",
    "gun_violence_geo = gpd.GeoDataFrame(gun_violence_db, geometry=geometry, crs='EPSG:4326')\n",
    "\n",
    "gun_violence_geo = gun_violence_geo.set_crs('EPSG:4326')\n",
    "gun_violence_geo = gun_violence_geo[gun_violence_geo.geometry.x <= -50]"
   ]
  },
  {
   "cell_type": "code",
   "execution_count": 12,
   "metadata": {},
   "outputs": [],
   "source": [
    "total_db_geo=total_db_geo.to_crs('EPSG:4326')"
   ]
  },
  {
   "cell_type": "code",
   "execution_count": 13,
   "metadata": {},
   "outputs": [],
   "source": [
    "merge_geo = gpd.sjoin(gun_violence_geo, total_db_geo, predicate='within')"
   ]
  },
  {
   "cell_type": "code",
   "execution_count": 14,
   "metadata": {},
   "outputs": [
    {
     "data": {
      "text/html": [
       "<div>\n",
       "<style scoped>\n",
       "    .dataframe tbody tr th:only-of-type {\n",
       "        vertical-align: middle;\n",
       "    }\n",
       "\n",
       "    .dataframe tbody tr th {\n",
       "        vertical-align: top;\n",
       "    }\n",
       "\n",
       "    .dataframe thead th {\n",
       "        text-align: right;\n",
       "    }\n",
       "</style>\n",
       "<table border=\"1\" class=\"dataframe\">\n",
       "  <thead>\n",
       "    <tr style=\"text-align: right;\">\n",
       "      <th></th>\n",
       "      <th>id_county</th>\n",
       "      <th>geometry</th>\n",
       "    </tr>\n",
       "  </thead>\n",
       "  <tbody>\n",
       "    <tr>\n",
       "      <th>0</th>\n",
       "      <td>27336</td>\n",
       "      <td>POLYGON ((-86.92119 32.65754, -86.92035 32.658...</td>\n",
       "    </tr>\n",
       "    <tr>\n",
       "      <th>1</th>\n",
       "      <td>27337</td>\n",
       "      <td>POLYGON ((-88.02858 30.22676, -88.02399 30.230...</td>\n",
       "    </tr>\n",
       "    <tr>\n",
       "      <th>2</th>\n",
       "      <td>27338</td>\n",
       "      <td>POLYGON ((-85.74803 31.61918, -85.74543 31.618...</td>\n",
       "    </tr>\n",
       "    <tr>\n",
       "      <th>3</th>\n",
       "      <td>27339</td>\n",
       "      <td>POLYGON ((-87.42194 33.00338, -87.31854 33.006...</td>\n",
       "    </tr>\n",
       "    <tr>\n",
       "      <th>4</th>\n",
       "      <td>27340</td>\n",
       "      <td>POLYGON ((-86.96336 33.85822, -86.95967 33.857...</td>\n",
       "    </tr>\n",
       "  </tbody>\n",
       "</table>\n",
       "</div>"
      ],
      "text/plain": [
       "   id_county                                           geometry\n",
       "0      27336  POLYGON ((-86.92119 32.65754, -86.92035 32.658...\n",
       "1      27337  POLYGON ((-88.02858 30.22676, -88.02399 30.230...\n",
       "2      27338  POLYGON ((-85.74803 31.61918, -85.74543 31.618...\n",
       "3      27339  POLYGON ((-87.42194 33.00338, -87.31854 33.006...\n",
       "4      27340  POLYGON ((-86.96336 33.85822, -86.95967 33.857..."
      ]
     },
     "execution_count": 14,
     "metadata": {},
     "output_type": "execute_result"
    }
   ],
   "source": [
    "geom_county=total_db_geo[['id_county','geometry']]\n",
    "geom_county.head()"
   ]
  },
  {
   "cell_type": "code",
   "execution_count": 15,
   "metadata": {},
   "outputs": [
    {
     "data": {
      "text/html": [
       "<div>\n",
       "<style scoped>\n",
       "    .dataframe tbody tr th:only-of-type {\n",
       "        vertical-align: middle;\n",
       "    }\n",
       "\n",
       "    .dataframe tbody tr th {\n",
       "        vertical-align: top;\n",
       "    }\n",
       "\n",
       "    .dataframe thead th {\n",
       "        text-align: right;\n",
       "    }\n",
       "</style>\n",
       "<table border=\"1\" class=\"dataframe\">\n",
       "  <thead>\n",
       "    <tr style=\"text-align: right;\">\n",
       "      <th></th>\n",
       "      <th>Unnamed: 0_left</th>\n",
       "      <th>incident_id</th>\n",
       "      <th>date</th>\n",
       "      <th>state</th>\n",
       "      <th>city_or_county</th>\n",
       "      <th>address</th>\n",
       "      <th>n_killed</th>\n",
       "      <th>n_injured</th>\n",
       "      <th>incident_url</th>\n",
       "      <th>source_url</th>\n",
       "      <th>incident_url_fields_missing</th>\n",
       "      <th>congressional_district</th>\n",
       "      <th>gun_stolen</th>\n",
       "      <th>gun_type</th>\n",
       "      <th>incident_characteristics</th>\n",
       "      <th>latitude</th>\n",
       "      <th>location_description</th>\n",
       "      <th>longitude</th>\n",
       "      <th>n_guns_involved</th>\n",
       "      <th>notes</th>\n",
       "      <th>participant_age</th>\n",
       "      <th>participant_age_group</th>\n",
       "      <th>participant_gender</th>\n",
       "      <th>participant_name</th>\n",
       "      <th>participant_relationship</th>\n",
       "      <th>participant_status</th>\n",
       "      <th>participant_type</th>\n",
       "      <th>sources</th>\n",
       "      <th>state_house_district</th>\n",
       "      <th>state_senate_district</th>\n",
       "      <th>indic_suicide</th>\n",
       "      <th>indic_defens</th>\n",
       "      <th>indic_school</th>\n",
       "      <th>indic_home_inv</th>\n",
       "      <th>indic_accident</th>\n",
       "      <th>sus_adulte</th>\n",
       "      <th>vict_adulte</th>\n",
       "      <th>sus_male</th>\n",
       "      <th>vict_male</th>\n",
       "      <th>sus_injured</th>\n",
       "      <th>sus_arrested</th>\n",
       "      <th>sus_unharmed</th>\n",
       "      <th>sus_killed</th>\n",
       "      <th>vict_injured</th>\n",
       "      <th>vict_arrested</th>\n",
       "      <th>vict_unharmed</th>\n",
       "      <th>vict_killed</th>\n",
       "      <th>handgun</th>\n",
       "      <th>rifle</th>\n",
       "      <th>Nine_mm</th>\n",
       "      <th>shotgun</th>\n",
       "      <th>young_sus</th>\n",
       "      <th>young_vict</th>\n",
       "      <th>geometry_x</th>\n",
       "      <th>index_right</th>\n",
       "      <th>Unnamed: 0_right</th>\n",
       "      <th>Nom</th>\n",
       "      <th>Etat</th>\n",
       "      <th>Code_Etat</th>\n",
       "      <th>id_Etat</th>\n",
       "      <th>id_county</th>\n",
       "      <th>NAME</th>\n",
       "      <th>fips</th>\n",
       "      <th>unemp_rate_year_2013</th>\n",
       "      <th>unemp_rate_year_2014</th>\n",
       "      <th>unemp_rate_year_2015</th>\n",
       "      <th>unemp_rate_year_2016</th>\n",
       "      <th>unemp_rate_year_2017</th>\n",
       "      <th>unemp_rate_year_2018</th>\n",
       "      <th>med_h_income_year_2013</th>\n",
       "      <th>med_h_income_year_2014</th>\n",
       "      <th>med_h_income_year_2015</th>\n",
       "      <th>med_h_income_year_2016</th>\n",
       "      <th>med_h_income_year_2017</th>\n",
       "      <th>med_h_income_year_2018</th>\n",
       "      <th>resident_pop_year_2013</th>\n",
       "      <th>resident_pop_year_2014</th>\n",
       "      <th>resident_pop_year_2015</th>\n",
       "      <th>resident_pop_year_2016</th>\n",
       "      <th>resident_pop_year_2017</th>\n",
       "      <th>resident_pop_year_2018</th>\n",
       "      <th>snap_beneficiaries_year_2013</th>\n",
       "      <th>snap_beneficiaries_year_2014</th>\n",
       "      <th>snap_beneficiaries_year_2015</th>\n",
       "      <th>snap_beneficiaries_year_2016</th>\n",
       "      <th>snap_beneficiaries_year_2017</th>\n",
       "      <th>snap_beneficiaries_year_2018</th>\n",
       "      <th>bachelors_deg_year_2013</th>\n",
       "      <th>bachelors_deg_year_2014</th>\n",
       "      <th>bachelors_deg_year_2015</th>\n",
       "      <th>bachelors_deg_year_2016</th>\n",
       "      <th>bachelors_deg_year_2017</th>\n",
       "      <th>bachelors_deg_year_2018</th>\n",
       "      <th>score_legis</th>\n",
       "      <th>bchecks_2013</th>\n",
       "      <th>bchecks_2014</th>\n",
       "      <th>bchecks_2015</th>\n",
       "      <th>bchecks_2016</th>\n",
       "      <th>bchecks_2017</th>\n",
       "      <th>bchecks_2018</th>\n",
       "      <th>per_dem</th>\n",
       "      <th>per_gop</th>\n",
       "      <th>geometry_y</th>\n",
       "    </tr>\n",
       "  </thead>\n",
       "  <tbody>\n",
       "    <tr>\n",
       "      <th>0</th>\n",
       "      <td>100178</td>\n",
       "      <td>461105</td>\n",
       "      <td>2013-01-01</td>\n",
       "      <td>Pennsylvania</td>\n",
       "      <td>Mckeesport</td>\n",
       "      <td>1506 Versailles Avenue and Coursin Street</td>\n",
       "      <td>0</td>\n",
       "      <td>4</td>\n",
       "      <td>http://www.gunviolencearchive.org/incident/461105</td>\n",
       "      <td>http://www.post-gazette.com/local/south/2013/0...</td>\n",
       "      <td>False</td>\n",
       "      <td>14.0</td>\n",
       "      <td>NaN</td>\n",
       "      <td>NaN</td>\n",
       "      <td>['Shot - Wounded/Injured', 'Mass Shooting (4+ ...</td>\n",
       "      <td>40.3467</td>\n",
       "      <td>NaN</td>\n",
       "      <td>-79.8559</td>\n",
       "      <td>NaN</td>\n",
       "      <td>Julian Sims under investigation: Four Shot and...</td>\n",
       "      <td>{0: '20'}</td>\n",
       "      <td>{0: 'Adult 18+', 1: 'Adult 18+', 2: 'Adult 18+...</td>\n",
       "      <td>{0: 'Male', 1: 'Male', 3: 'Male', 4: 'Female'}</td>\n",
       "      <td>0::Julian Sims</td>\n",
       "      <td>NaN</td>\n",
       "      <td>{0: 'Arrested', 1: 'Injured', 2: 'Injured', 3:...</td>\n",
       "      <td>{0: 'Victim', 1: 'Victim', 2: 'Victim', 3: 'Vi...</td>\n",
       "      <td>['http://pittsburgh.cbslocal.com/2013/01/01/4-...</td>\n",
       "      <td>NaN</td>\n",
       "      <td>NaN</td>\n",
       "      <td>0</td>\n",
       "      <td>0</td>\n",
       "      <td>0</td>\n",
       "      <td>0</td>\n",
       "      <td>0</td>\n",
       "      <td>1</td>\n",
       "      <td>1</td>\n",
       "      <td>0</td>\n",
       "      <td>1</td>\n",
       "      <td>1</td>\n",
       "      <td>0</td>\n",
       "      <td>0</td>\n",
       "      <td>0</td>\n",
       "      <td>1</td>\n",
       "      <td>1</td>\n",
       "      <td>0</td>\n",
       "      <td>0</td>\n",
       "      <td>0</td>\n",
       "      <td>0</td>\n",
       "      <td>0</td>\n",
       "      <td>0</td>\n",
       "      <td>0</td>\n",
       "      <td>1</td>\n",
       "      <td>POINT (-79.85590 40.34670)</td>\n",
       "      <td>2258</td>\n",
       "      <td>2258</td>\n",
       "      <td>Allegheny</td>\n",
       "      <td>Pennsylvania</td>\n",
       "      <td>PA</td>\n",
       "      <td>27320</td>\n",
       "      <td>29615</td>\n",
       "      <td>Allegheny</td>\n",
       "      <td>42003.0</td>\n",
       "      <td>5.4</td>\n",
       "      <td>4.7</td>\n",
       "      <td>4.5</td>\n",
       "      <td>4.6</td>\n",
       "      <td>4.2</td>\n",
       "      <td>4.9</td>\n",
       "      <td>51400.0</td>\n",
       "      <td>52385.0</td>\n",
       "      <td>54412.0</td>\n",
       "      <td>56099.0</td>\n",
       "      <td>58547.0</td>\n",
       "      <td>59881.0</td>\n",
       "      <td>1233.999</td>\n",
       "      <td>1233.417</td>\n",
       "      <td>1229.342</td>\n",
       "      <td>1226.893</td>\n",
       "      <td>1220.423</td>\n",
       "      <td>1217.508</td>\n",
       "      <td>160102.0</td>\n",
       "      <td>160100.0</td>\n",
       "      <td>160552.0</td>\n",
       "      <td>154950.0</td>\n",
       "      <td>152435.0</td>\n",
       "      <td>146826.0</td>\n",
       "      <td>35.9</td>\n",
       "      <td>36.9</td>\n",
       "      <td>37.8</td>\n",
       "      <td>39.1</td>\n",
       "      <td>40.0</td>\n",
       "      <td>40.7</td>\n",
       "      <td>4.0</td>\n",
       "      <td>1044731</td>\n",
       "      <td>899241</td>\n",
       "      <td>993429</td>\n",
       "      <td>1143220</td>\n",
       "      <td>1062651</td>\n",
       "      <td>1021943</td>\n",
       "      <td>0.564416</td>\n",
       "      <td>0.40034</td>\n",
       "      <td>POLYGON ((-80.36078 40.47760, -80.34227 40.490...</td>\n",
       "    </tr>\n",
       "    <tr>\n",
       "      <th>1</th>\n",
       "      <td>104811</td>\n",
       "      <td>481268</td>\n",
       "      <td>2013-10-21</td>\n",
       "      <td>Pennsylvania</td>\n",
       "      <td>Pittsburgh (Homewood)</td>\n",
       "      <td>7200 block of Kelly Street</td>\n",
       "      <td>2</td>\n",
       "      <td>5</td>\n",
       "      <td>http://www.gunviolencearchive.org/incident/481268</td>\n",
       "      <td>http://www.wtae.com/news/local/allegheny/two-p...</td>\n",
       "      <td>False</td>\n",
       "      <td>14.0</td>\n",
       "      <td>NaN</td>\n",
       "      <td>NaN</td>\n",
       "      <td>['Shot - Wounded/Injured', 'Shot - Dead (murde...</td>\n",
       "      <td>40.4555</td>\n",
       "      <td>Diverse Banquet Hall</td>\n",
       "      <td>-79.8970</td>\n",
       "      <td>NaN</td>\n",
       "      <td>NaN</td>\n",
       "      <td>{0: '21', 1: '27'}</td>\n",
       "      <td>{0: 'Adult 18+', 1: 'Adult 18+', 2: 'Adult 18+...</td>\n",
       "      <td>{0: 'Female', 1: 'Male', 2: 'Female', 3: 'Fema...</td>\n",
       "      <td>0::Jasmine Morris||1::Demetrius Broadnax</td>\n",
       "      <td>NaN</td>\n",
       "      <td>{0: 'Killed', 1: 'Killed', 2: 'Injured', 3: 'I...</td>\n",
       "      <td>{0: 'Victim', 1: 'Victim', 2: 'Victim', 3: 'Vi...</td>\n",
       "      <td>['http://pittsburgh.cbslocal.com/2013/10/20/ho...</td>\n",
       "      <td>NaN</td>\n",
       "      <td>NaN</td>\n",
       "      <td>1</td>\n",
       "      <td>0</td>\n",
       "      <td>0</td>\n",
       "      <td>0</td>\n",
       "      <td>1</td>\n",
       "      <td>0</td>\n",
       "      <td>1</td>\n",
       "      <td>0</td>\n",
       "      <td>1</td>\n",
       "      <td>0</td>\n",
       "      <td>0</td>\n",
       "      <td>0</td>\n",
       "      <td>0</td>\n",
       "      <td>1</td>\n",
       "      <td>0</td>\n",
       "      <td>0</td>\n",
       "      <td>1</td>\n",
       "      <td>0</td>\n",
       "      <td>0</td>\n",
       "      <td>0</td>\n",
       "      <td>0</td>\n",
       "      <td>0</td>\n",
       "      <td>1</td>\n",
       "      <td>POINT (-79.89700 40.45550)</td>\n",
       "      <td>2258</td>\n",
       "      <td>2258</td>\n",
       "      <td>Allegheny</td>\n",
       "      <td>Pennsylvania</td>\n",
       "      <td>PA</td>\n",
       "      <td>27320</td>\n",
       "      <td>29615</td>\n",
       "      <td>Allegheny</td>\n",
       "      <td>42003.0</td>\n",
       "      <td>5.4</td>\n",
       "      <td>4.7</td>\n",
       "      <td>4.5</td>\n",
       "      <td>4.6</td>\n",
       "      <td>4.2</td>\n",
       "      <td>4.9</td>\n",
       "      <td>51400.0</td>\n",
       "      <td>52385.0</td>\n",
       "      <td>54412.0</td>\n",
       "      <td>56099.0</td>\n",
       "      <td>58547.0</td>\n",
       "      <td>59881.0</td>\n",
       "      <td>1233.999</td>\n",
       "      <td>1233.417</td>\n",
       "      <td>1229.342</td>\n",
       "      <td>1226.893</td>\n",
       "      <td>1220.423</td>\n",
       "      <td>1217.508</td>\n",
       "      <td>160102.0</td>\n",
       "      <td>160100.0</td>\n",
       "      <td>160552.0</td>\n",
       "      <td>154950.0</td>\n",
       "      <td>152435.0</td>\n",
       "      <td>146826.0</td>\n",
       "      <td>35.9</td>\n",
       "      <td>36.9</td>\n",
       "      <td>37.8</td>\n",
       "      <td>39.1</td>\n",
       "      <td>40.0</td>\n",
       "      <td>40.7</td>\n",
       "      <td>4.0</td>\n",
       "      <td>1044731</td>\n",
       "      <td>899241</td>\n",
       "      <td>993429</td>\n",
       "      <td>1143220</td>\n",
       "      <td>1062651</td>\n",
       "      <td>1021943</td>\n",
       "      <td>0.564416</td>\n",
       "      <td>0.40034</td>\n",
       "      <td>POLYGON ((-80.36078 40.47760, -80.34227 40.490...</td>\n",
       "    </tr>\n",
       "    <tr>\n",
       "      <th>2</th>\n",
       "      <td>678</td>\n",
       "      <td>94128</td>\n",
       "      <td>2014-01-08</td>\n",
       "      <td>Pennsylvania</td>\n",
       "      <td>Homestead</td>\n",
       "      <td>Steak ‘n Shake at The Waterfront</td>\n",
       "      <td>1</td>\n",
       "      <td>0</td>\n",
       "      <td>http://www.gunviolencearchive.org/incident/94128</td>\n",
       "      <td>http://pittsburgh.cbslocal.com/2014/01/22/u-s-...</td>\n",
       "      <td>False</td>\n",
       "      <td>14.0</td>\n",
       "      <td>NaN</td>\n",
       "      <td>NaN</td>\n",
       "      <td>['Shot - Dead (murder, accidental, suicide)', ...</td>\n",
       "      <td>40.4059</td>\n",
       "      <td>NaN</td>\n",
       "      <td>-79.9120</td>\n",
       "      <td>NaN</td>\n",
       "      <td>NaN</td>\n",
       "      <td>{0: '20', 1: '20', 2: '17'}</td>\n",
       "      <td>{0: 'Adult 18+', 1: 'Adult 18+', 2: 'Teen 12-17'}</td>\n",
       "      <td>{0: 'Male', 1: 'Male', 2: 'Male'}</td>\n",
       "      <td>1::Paul “Los” Sanders, Jr.||2::Jaron Young</td>\n",
       "      <td>NaN</td>\n",
       "      <td>{0: 'Killed', 1: 'Unharmed', 2: 'Unharmed'}</td>\n",
       "      <td>{0: 'Victim', 1: 'Subject-Suspect', 2: 'Subjec...</td>\n",
       "      <td>['http://pittsburgh.cbslocal.com/2014/01/08/po...</td>\n",
       "      <td>NaN</td>\n",
       "      <td>NaN</td>\n",
       "      <td>1</td>\n",
       "      <td>0</td>\n",
       "      <td>0</td>\n",
       "      <td>0</td>\n",
       "      <td>1</td>\n",
       "      <td>1</td>\n",
       "      <td>1</td>\n",
       "      <td>1</td>\n",
       "      <td>1</td>\n",
       "      <td>0</td>\n",
       "      <td>0</td>\n",
       "      <td>1</td>\n",
       "      <td>0</td>\n",
       "      <td>0</td>\n",
       "      <td>0</td>\n",
       "      <td>0</td>\n",
       "      <td>1</td>\n",
       "      <td>0</td>\n",
       "      <td>0</td>\n",
       "      <td>0</td>\n",
       "      <td>0</td>\n",
       "      <td>1</td>\n",
       "      <td>1</td>\n",
       "      <td>POINT (-79.91200 40.40590)</td>\n",
       "      <td>2258</td>\n",
       "      <td>2258</td>\n",
       "      <td>Allegheny</td>\n",
       "      <td>Pennsylvania</td>\n",
       "      <td>PA</td>\n",
       "      <td>27320</td>\n",
       "      <td>29615</td>\n",
       "      <td>Allegheny</td>\n",
       "      <td>42003.0</td>\n",
       "      <td>5.4</td>\n",
       "      <td>4.7</td>\n",
       "      <td>4.5</td>\n",
       "      <td>4.6</td>\n",
       "      <td>4.2</td>\n",
       "      <td>4.9</td>\n",
       "      <td>51400.0</td>\n",
       "      <td>52385.0</td>\n",
       "      <td>54412.0</td>\n",
       "      <td>56099.0</td>\n",
       "      <td>58547.0</td>\n",
       "      <td>59881.0</td>\n",
       "      <td>1233.999</td>\n",
       "      <td>1233.417</td>\n",
       "      <td>1229.342</td>\n",
       "      <td>1226.893</td>\n",
       "      <td>1220.423</td>\n",
       "      <td>1217.508</td>\n",
       "      <td>160102.0</td>\n",
       "      <td>160100.0</td>\n",
       "      <td>160552.0</td>\n",
       "      <td>154950.0</td>\n",
       "      <td>152435.0</td>\n",
       "      <td>146826.0</td>\n",
       "      <td>35.9</td>\n",
       "      <td>36.9</td>\n",
       "      <td>37.8</td>\n",
       "      <td>39.1</td>\n",
       "      <td>40.0</td>\n",
       "      <td>40.7</td>\n",
       "      <td>4.0</td>\n",
       "      <td>1044731</td>\n",
       "      <td>899241</td>\n",
       "      <td>993429</td>\n",
       "      <td>1143220</td>\n",
       "      <td>1062651</td>\n",
       "      <td>1021943</td>\n",
       "      <td>0.564416</td>\n",
       "      <td>0.40034</td>\n",
       "      <td>POLYGON ((-80.36078 40.47760, -80.34227 40.490...</td>\n",
       "    </tr>\n",
       "    <tr>\n",
       "      <th>3</th>\n",
       "      <td>801</td>\n",
       "      <td>94504</td>\n",
       "      <td>2014-01-08</td>\n",
       "      <td>Pennsylvania</td>\n",
       "      <td>Munhall</td>\n",
       "      <td>Waterfront Shopping Complex</td>\n",
       "      <td>1</td>\n",
       "      <td>0</td>\n",
       "      <td>http://www.gunviolencearchive.org/incident/94504</td>\n",
       "      <td>http://www.post-gazette.com/local/south/2014/0...</td>\n",
       "      <td>False</td>\n",
       "      <td>14.0</td>\n",
       "      <td>NaN</td>\n",
       "      <td>NaN</td>\n",
       "      <td>['Shot - Dead (murder, accidental, suicide)', ...</td>\n",
       "      <td>40.3923</td>\n",
       "      <td>NaN</td>\n",
       "      <td>-79.9000</td>\n",
       "      <td>NaN</td>\n",
       "      <td>NaN</td>\n",
       "      <td>{0: '20', 1: '17'}</td>\n",
       "      <td>{0: 'Adult 18+', 1: 'Teen 12-17'}</td>\n",
       "      <td>{0: 'Male', 1: 'Male'}</td>\n",
       "      <td>0::Imani Porter||1::Jaron Young</td>\n",
       "      <td>NaN</td>\n",
       "      <td>{0: 'Killed', 1: 'Unharmed'}</td>\n",
       "      <td>{0: 'Victim', 1: 'Subject-Suspect', 2: 'Subjec...</td>\n",
       "      <td>NaN</td>\n",
       "      <td>NaN</td>\n",
       "      <td>NaN</td>\n",
       "      <td>1</td>\n",
       "      <td>0</td>\n",
       "      <td>0</td>\n",
       "      <td>0</td>\n",
       "      <td>1</td>\n",
       "      <td>0</td>\n",
       "      <td>1</td>\n",
       "      <td>1</td>\n",
       "      <td>1</td>\n",
       "      <td>0</td>\n",
       "      <td>0</td>\n",
       "      <td>1</td>\n",
       "      <td>0</td>\n",
       "      <td>0</td>\n",
       "      <td>0</td>\n",
       "      <td>0</td>\n",
       "      <td>1</td>\n",
       "      <td>0</td>\n",
       "      <td>0</td>\n",
       "      <td>0</td>\n",
       "      <td>0</td>\n",
       "      <td>0</td>\n",
       "      <td>1</td>\n",
       "      <td>POINT (-79.90000 40.39230)</td>\n",
       "      <td>2258</td>\n",
       "      <td>2258</td>\n",
       "      <td>Allegheny</td>\n",
       "      <td>Pennsylvania</td>\n",
       "      <td>PA</td>\n",
       "      <td>27320</td>\n",
       "      <td>29615</td>\n",
       "      <td>Allegheny</td>\n",
       "      <td>42003.0</td>\n",
       "      <td>5.4</td>\n",
       "      <td>4.7</td>\n",
       "      <td>4.5</td>\n",
       "      <td>4.6</td>\n",
       "      <td>4.2</td>\n",
       "      <td>4.9</td>\n",
       "      <td>51400.0</td>\n",
       "      <td>52385.0</td>\n",
       "      <td>54412.0</td>\n",
       "      <td>56099.0</td>\n",
       "      <td>58547.0</td>\n",
       "      <td>59881.0</td>\n",
       "      <td>1233.999</td>\n",
       "      <td>1233.417</td>\n",
       "      <td>1229.342</td>\n",
       "      <td>1226.893</td>\n",
       "      <td>1220.423</td>\n",
       "      <td>1217.508</td>\n",
       "      <td>160102.0</td>\n",
       "      <td>160100.0</td>\n",
       "      <td>160552.0</td>\n",
       "      <td>154950.0</td>\n",
       "      <td>152435.0</td>\n",
       "      <td>146826.0</td>\n",
       "      <td>35.9</td>\n",
       "      <td>36.9</td>\n",
       "      <td>37.8</td>\n",
       "      <td>39.1</td>\n",
       "      <td>40.0</td>\n",
       "      <td>40.7</td>\n",
       "      <td>4.0</td>\n",
       "      <td>1044731</td>\n",
       "      <td>899241</td>\n",
       "      <td>993429</td>\n",
       "      <td>1143220</td>\n",
       "      <td>1062651</td>\n",
       "      <td>1021943</td>\n",
       "      <td>0.564416</td>\n",
       "      <td>0.40034</td>\n",
       "      <td>POLYGON ((-80.36078 40.47760, -80.34227 40.490...</td>\n",
       "    </tr>\n",
       "    <tr>\n",
       "      <th>4</th>\n",
       "      <td>1324</td>\n",
       "      <td>95999</td>\n",
       "      <td>2014-01-10</td>\n",
       "      <td>Pennsylvania</td>\n",
       "      <td>Pittsburgh</td>\n",
       "      <td>2000 block of Fifth Avenue</td>\n",
       "      <td>0</td>\n",
       "      <td>1</td>\n",
       "      <td>http://www.gunviolencearchive.org/incident/95999</td>\n",
       "      <td>/pittsburgh.cbslocal.com/2014/01/11/man-wounde...</td>\n",
       "      <td>False</td>\n",
       "      <td>14.0</td>\n",
       "      <td>NaN</td>\n",
       "      <td>NaN</td>\n",
       "      <td>NaN</td>\n",
       "      <td>40.4380</td>\n",
       "      <td>NaN</td>\n",
       "      <td>-79.9775</td>\n",
       "      <td>NaN</td>\n",
       "      <td>NaN</td>\n",
       "      <td>NaN</td>\n",
       "      <td>{0: 'Adult 18+'}</td>\n",
       "      <td>{0: 'Male'}</td>\n",
       "      <td>NaN</td>\n",
       "      <td>NaN</td>\n",
       "      <td>{0: 'Injured'}</td>\n",
       "      <td>{0: 'Victim'}</td>\n",
       "      <td>NaN</td>\n",
       "      <td>NaN</td>\n",
       "      <td>NaN</td>\n",
       "      <td>0</td>\n",
       "      <td>0</td>\n",
       "      <td>0</td>\n",
       "      <td>0</td>\n",
       "      <td>0</td>\n",
       "      <td>0</td>\n",
       "      <td>1</td>\n",
       "      <td>0</td>\n",
       "      <td>1</td>\n",
       "      <td>0</td>\n",
       "      <td>0</td>\n",
       "      <td>0</td>\n",
       "      <td>0</td>\n",
       "      <td>1</td>\n",
       "      <td>0</td>\n",
       "      <td>0</td>\n",
       "      <td>0</td>\n",
       "      <td>0</td>\n",
       "      <td>0</td>\n",
       "      <td>0</td>\n",
       "      <td>0</td>\n",
       "      <td>0</td>\n",
       "      <td>0</td>\n",
       "      <td>POINT (-79.97750 40.43800)</td>\n",
       "      <td>2258</td>\n",
       "      <td>2258</td>\n",
       "      <td>Allegheny</td>\n",
       "      <td>Pennsylvania</td>\n",
       "      <td>PA</td>\n",
       "      <td>27320</td>\n",
       "      <td>29615</td>\n",
       "      <td>Allegheny</td>\n",
       "      <td>42003.0</td>\n",
       "      <td>5.4</td>\n",
       "      <td>4.7</td>\n",
       "      <td>4.5</td>\n",
       "      <td>4.6</td>\n",
       "      <td>4.2</td>\n",
       "      <td>4.9</td>\n",
       "      <td>51400.0</td>\n",
       "      <td>52385.0</td>\n",
       "      <td>54412.0</td>\n",
       "      <td>56099.0</td>\n",
       "      <td>58547.0</td>\n",
       "      <td>59881.0</td>\n",
       "      <td>1233.999</td>\n",
       "      <td>1233.417</td>\n",
       "      <td>1229.342</td>\n",
       "      <td>1226.893</td>\n",
       "      <td>1220.423</td>\n",
       "      <td>1217.508</td>\n",
       "      <td>160102.0</td>\n",
       "      <td>160100.0</td>\n",
       "      <td>160552.0</td>\n",
       "      <td>154950.0</td>\n",
       "      <td>152435.0</td>\n",
       "      <td>146826.0</td>\n",
       "      <td>35.9</td>\n",
       "      <td>36.9</td>\n",
       "      <td>37.8</td>\n",
       "      <td>39.1</td>\n",
       "      <td>40.0</td>\n",
       "      <td>40.7</td>\n",
       "      <td>4.0</td>\n",
       "      <td>1044731</td>\n",
       "      <td>899241</td>\n",
       "      <td>993429</td>\n",
       "      <td>1143220</td>\n",
       "      <td>1062651</td>\n",
       "      <td>1021943</td>\n",
       "      <td>0.564416</td>\n",
       "      <td>0.40034</td>\n",
       "      <td>POLYGON ((-80.36078 40.47760, -80.34227 40.490...</td>\n",
       "    </tr>\n",
       "  </tbody>\n",
       "</table>\n",
       "</div>"
      ],
      "text/plain": [
       "   Unnamed: 0_left  incident_id        date         state  \\\n",
       "0           100178       461105  2013-01-01  Pennsylvania   \n",
       "1           104811       481268  2013-10-21  Pennsylvania   \n",
       "2              678        94128  2014-01-08  Pennsylvania   \n",
       "3              801        94504  2014-01-08  Pennsylvania   \n",
       "4             1324        95999  2014-01-10  Pennsylvania   \n",
       "\n",
       "          city_or_county                                    address  n_killed  \\\n",
       "0             Mckeesport  1506 Versailles Avenue and Coursin Street         0   \n",
       "1  Pittsburgh (Homewood)                 7200 block of Kelly Street         2   \n",
       "2              Homestead           Steak ‘n Shake at The Waterfront         1   \n",
       "3                Munhall                Waterfront Shopping Complex         1   \n",
       "4             Pittsburgh                 2000 block of Fifth Avenue         0   \n",
       "\n",
       "   n_injured                                       incident_url  \\\n",
       "0          4  http://www.gunviolencearchive.org/incident/461105   \n",
       "1          5  http://www.gunviolencearchive.org/incident/481268   \n",
       "2          0   http://www.gunviolencearchive.org/incident/94128   \n",
       "3          0   http://www.gunviolencearchive.org/incident/94504   \n",
       "4          1   http://www.gunviolencearchive.org/incident/95999   \n",
       "\n",
       "                                          source_url  \\\n",
       "0  http://www.post-gazette.com/local/south/2013/0...   \n",
       "1  http://www.wtae.com/news/local/allegheny/two-p...   \n",
       "2  http://pittsburgh.cbslocal.com/2014/01/22/u-s-...   \n",
       "3  http://www.post-gazette.com/local/south/2014/0...   \n",
       "4  /pittsburgh.cbslocal.com/2014/01/11/man-wounde...   \n",
       "\n",
       "   incident_url_fields_missing  congressional_district gun_stolen gun_type  \\\n",
       "0                        False                    14.0        NaN      NaN   \n",
       "1                        False                    14.0        NaN      NaN   \n",
       "2                        False                    14.0        NaN      NaN   \n",
       "3                        False                    14.0        NaN      NaN   \n",
       "4                        False                    14.0        NaN      NaN   \n",
       "\n",
       "                            incident_characteristics  latitude  \\\n",
       "0  ['Shot - Wounded/Injured', 'Mass Shooting (4+ ...   40.3467   \n",
       "1  ['Shot - Wounded/Injured', 'Shot - Dead (murde...   40.4555   \n",
       "2  ['Shot - Dead (murder, accidental, suicide)', ...   40.4059   \n",
       "3  ['Shot - Dead (murder, accidental, suicide)', ...   40.3923   \n",
       "4                                                NaN   40.4380   \n",
       "\n",
       "   location_description  longitude  n_guns_involved  \\\n",
       "0                   NaN   -79.8559              NaN   \n",
       "1  Diverse Banquet Hall   -79.8970              NaN   \n",
       "2                   NaN   -79.9120              NaN   \n",
       "3                   NaN   -79.9000              NaN   \n",
       "4                   NaN   -79.9775              NaN   \n",
       "\n",
       "                                               notes  \\\n",
       "0  Julian Sims under investigation: Four Shot and...   \n",
       "1                                                NaN   \n",
       "2                                                NaN   \n",
       "3                                                NaN   \n",
       "4                                                NaN   \n",
       "\n",
       "               participant_age  \\\n",
       "0                    {0: '20'}   \n",
       "1           {0: '21', 1: '27'}   \n",
       "2  {0: '20', 1: '20', 2: '17'}   \n",
       "3           {0: '20', 1: '17'}   \n",
       "4                          NaN   \n",
       "\n",
       "                               participant_age_group  \\\n",
       "0  {0: 'Adult 18+', 1: 'Adult 18+', 2: 'Adult 18+...   \n",
       "1  {0: 'Adult 18+', 1: 'Adult 18+', 2: 'Adult 18+...   \n",
       "2  {0: 'Adult 18+', 1: 'Adult 18+', 2: 'Teen 12-17'}   \n",
       "3                  {0: 'Adult 18+', 1: 'Teen 12-17'}   \n",
       "4                                   {0: 'Adult 18+'}   \n",
       "\n",
       "                                  participant_gender  \\\n",
       "0     {0: 'Male', 1: 'Male', 3: 'Male', 4: 'Female'}   \n",
       "1  {0: 'Female', 1: 'Male', 2: 'Female', 3: 'Fema...   \n",
       "2                  {0: 'Male', 1: 'Male', 2: 'Male'}   \n",
       "3                             {0: 'Male', 1: 'Male'}   \n",
       "4                                        {0: 'Male'}   \n",
       "\n",
       "                             participant_name participant_relationship  \\\n",
       "0                              0::Julian Sims                      NaN   \n",
       "1    0::Jasmine Morris||1::Demetrius Broadnax                      NaN   \n",
       "2  1::Paul “Los” Sanders, Jr.||2::Jaron Young                      NaN   \n",
       "3             0::Imani Porter||1::Jaron Young                      NaN   \n",
       "4                                         NaN                      NaN   \n",
       "\n",
       "                                  participant_status  \\\n",
       "0  {0: 'Arrested', 1: 'Injured', 2: 'Injured', 3:...   \n",
       "1  {0: 'Killed', 1: 'Killed', 2: 'Injured', 3: 'I...   \n",
       "2        {0: 'Killed', 1: 'Unharmed', 2: 'Unharmed'}   \n",
       "3                       {0: 'Killed', 1: 'Unharmed'}   \n",
       "4                                     {0: 'Injured'}   \n",
       "\n",
       "                                    participant_type  \\\n",
       "0  {0: 'Victim', 1: 'Victim', 2: 'Victim', 3: 'Vi...   \n",
       "1  {0: 'Victim', 1: 'Victim', 2: 'Victim', 3: 'Vi...   \n",
       "2  {0: 'Victim', 1: 'Subject-Suspect', 2: 'Subjec...   \n",
       "3  {0: 'Victim', 1: 'Subject-Suspect', 2: 'Subjec...   \n",
       "4                                      {0: 'Victim'}   \n",
       "\n",
       "                                             sources  state_house_district  \\\n",
       "0  ['http://pittsburgh.cbslocal.com/2013/01/01/4-...                   NaN   \n",
       "1  ['http://pittsburgh.cbslocal.com/2013/10/20/ho...                   NaN   \n",
       "2  ['http://pittsburgh.cbslocal.com/2014/01/08/po...                   NaN   \n",
       "3                                                NaN                   NaN   \n",
       "4                                                NaN                   NaN   \n",
       "\n",
       "   state_senate_district  indic_suicide  indic_defens  indic_school  \\\n",
       "0                    NaN              0             0             0   \n",
       "1                    NaN              1             0             0   \n",
       "2                    NaN              1             0             0   \n",
       "3                    NaN              1             0             0   \n",
       "4                    NaN              0             0             0   \n",
       "\n",
       "   indic_home_inv  indic_accident  sus_adulte  vict_adulte  sus_male  \\\n",
       "0               0               0           1            1         0   \n",
       "1               0               1           0            1         0   \n",
       "2               0               1           1            1         1   \n",
       "3               0               1           0            1         1   \n",
       "4               0               0           0            1         0   \n",
       "\n",
       "   vict_male  sus_injured  sus_arrested  sus_unharmed  sus_killed  \\\n",
       "0          1            1             0             0           0   \n",
       "1          1            0             0             0           0   \n",
       "2          1            0             0             1           0   \n",
       "3          1            0             0             1           0   \n",
       "4          1            0             0             0           0   \n",
       "\n",
       "   vict_injured  vict_arrested  vict_unharmed  vict_killed  handgun  rifle  \\\n",
       "0             1              1              0            0        0      0   \n",
       "1             1              0              0            1        0      0   \n",
       "2             0              0              0            1        0      0   \n",
       "3             0              0              0            1        0      0   \n",
       "4             1              0              0            0        0      0   \n",
       "\n",
       "   Nine_mm  shotgun  young_sus  young_vict                  geometry_x  \\\n",
       "0        0        0          0           1  POINT (-79.85590 40.34670)   \n",
       "1        0        0          0           1  POINT (-79.89700 40.45550)   \n",
       "2        0        0          1           1  POINT (-79.91200 40.40590)   \n",
       "3        0        0          0           1  POINT (-79.90000 40.39230)   \n",
       "4        0        0          0           0  POINT (-79.97750 40.43800)   \n",
       "\n",
       "   index_right  Unnamed: 0_right        Nom          Etat Code_Etat  id_Etat  \\\n",
       "0         2258              2258  Allegheny  Pennsylvania        PA    27320   \n",
       "1         2258              2258  Allegheny  Pennsylvania        PA    27320   \n",
       "2         2258              2258  Allegheny  Pennsylvania        PA    27320   \n",
       "3         2258              2258  Allegheny  Pennsylvania        PA    27320   \n",
       "4         2258              2258  Allegheny  Pennsylvania        PA    27320   \n",
       "\n",
       "   id_county       NAME     fips  unemp_rate_year_2013  unemp_rate_year_2014  \\\n",
       "0      29615  Allegheny  42003.0                   5.4                   4.7   \n",
       "1      29615  Allegheny  42003.0                   5.4                   4.7   \n",
       "2      29615  Allegheny  42003.0                   5.4                   4.7   \n",
       "3      29615  Allegheny  42003.0                   5.4                   4.7   \n",
       "4      29615  Allegheny  42003.0                   5.4                   4.7   \n",
       "\n",
       "   unemp_rate_year_2015  unemp_rate_year_2016  unemp_rate_year_2017  \\\n",
       "0                   4.5                   4.6                   4.2   \n",
       "1                   4.5                   4.6                   4.2   \n",
       "2                   4.5                   4.6                   4.2   \n",
       "3                   4.5                   4.6                   4.2   \n",
       "4                   4.5                   4.6                   4.2   \n",
       "\n",
       "   unemp_rate_year_2018  med_h_income_year_2013  med_h_income_year_2014  \\\n",
       "0                   4.9                 51400.0                 52385.0   \n",
       "1                   4.9                 51400.0                 52385.0   \n",
       "2                   4.9                 51400.0                 52385.0   \n",
       "3                   4.9                 51400.0                 52385.0   \n",
       "4                   4.9                 51400.0                 52385.0   \n",
       "\n",
       "   med_h_income_year_2015  med_h_income_year_2016  med_h_income_year_2017  \\\n",
       "0                 54412.0                 56099.0                 58547.0   \n",
       "1                 54412.0                 56099.0                 58547.0   \n",
       "2                 54412.0                 56099.0                 58547.0   \n",
       "3                 54412.0                 56099.0                 58547.0   \n",
       "4                 54412.0                 56099.0                 58547.0   \n",
       "\n",
       "   med_h_income_year_2018  resident_pop_year_2013  resident_pop_year_2014  \\\n",
       "0                 59881.0                1233.999                1233.417   \n",
       "1                 59881.0                1233.999                1233.417   \n",
       "2                 59881.0                1233.999                1233.417   \n",
       "3                 59881.0                1233.999                1233.417   \n",
       "4                 59881.0                1233.999                1233.417   \n",
       "\n",
       "   resident_pop_year_2015  resident_pop_year_2016  resident_pop_year_2017  \\\n",
       "0                1229.342                1226.893                1220.423   \n",
       "1                1229.342                1226.893                1220.423   \n",
       "2                1229.342                1226.893                1220.423   \n",
       "3                1229.342                1226.893                1220.423   \n",
       "4                1229.342                1226.893                1220.423   \n",
       "\n",
       "   resident_pop_year_2018  snap_beneficiaries_year_2013  \\\n",
       "0                1217.508                      160102.0   \n",
       "1                1217.508                      160102.0   \n",
       "2                1217.508                      160102.0   \n",
       "3                1217.508                      160102.0   \n",
       "4                1217.508                      160102.0   \n",
       "\n",
       "   snap_beneficiaries_year_2014  snap_beneficiaries_year_2015  \\\n",
       "0                      160100.0                      160552.0   \n",
       "1                      160100.0                      160552.0   \n",
       "2                      160100.0                      160552.0   \n",
       "3                      160100.0                      160552.0   \n",
       "4                      160100.0                      160552.0   \n",
       "\n",
       "   snap_beneficiaries_year_2016  snap_beneficiaries_year_2017  \\\n",
       "0                      154950.0                      152435.0   \n",
       "1                      154950.0                      152435.0   \n",
       "2                      154950.0                      152435.0   \n",
       "3                      154950.0                      152435.0   \n",
       "4                      154950.0                      152435.0   \n",
       "\n",
       "   snap_beneficiaries_year_2018  bachelors_deg_year_2013  \\\n",
       "0                      146826.0                     35.9   \n",
       "1                      146826.0                     35.9   \n",
       "2                      146826.0                     35.9   \n",
       "3                      146826.0                     35.9   \n",
       "4                      146826.0                     35.9   \n",
       "\n",
       "   bachelors_deg_year_2014  bachelors_deg_year_2015  bachelors_deg_year_2016  \\\n",
       "0                     36.9                     37.8                     39.1   \n",
       "1                     36.9                     37.8                     39.1   \n",
       "2                     36.9                     37.8                     39.1   \n",
       "3                     36.9                     37.8                     39.1   \n",
       "4                     36.9                     37.8                     39.1   \n",
       "\n",
       "   bachelors_deg_year_2017  bachelors_deg_year_2018  score_legis  \\\n",
       "0                     40.0                     40.7          4.0   \n",
       "1                     40.0                     40.7          4.0   \n",
       "2                     40.0                     40.7          4.0   \n",
       "3                     40.0                     40.7          4.0   \n",
       "4                     40.0                     40.7          4.0   \n",
       "\n",
       "   bchecks_2013  bchecks_2014  bchecks_2015  bchecks_2016  bchecks_2017  \\\n",
       "0       1044731        899241        993429       1143220       1062651   \n",
       "1       1044731        899241        993429       1143220       1062651   \n",
       "2       1044731        899241        993429       1143220       1062651   \n",
       "3       1044731        899241        993429       1143220       1062651   \n",
       "4       1044731        899241        993429       1143220       1062651   \n",
       "\n",
       "   bchecks_2018   per_dem  per_gop  \\\n",
       "0       1021943  0.564416  0.40034   \n",
       "1       1021943  0.564416  0.40034   \n",
       "2       1021943  0.564416  0.40034   \n",
       "3       1021943  0.564416  0.40034   \n",
       "4       1021943  0.564416  0.40034   \n",
       "\n",
       "                                          geometry_y  \n",
       "0  POLYGON ((-80.36078 40.47760, -80.34227 40.490...  \n",
       "1  POLYGON ((-80.36078 40.47760, -80.34227 40.490...  \n",
       "2  POLYGON ((-80.36078 40.47760, -80.34227 40.490...  \n",
       "3  POLYGON ((-80.36078 40.47760, -80.34227 40.490...  \n",
       "4  POLYGON ((-80.36078 40.47760, -80.34227 40.490...  "
      ]
     },
     "execution_count": 15,
     "metadata": {},
     "output_type": "execute_result"
    }
   ],
   "source": [
    "merge_geo2=pd.merge(merge_geo, geom_county, on='id_county')\n",
    "merge_geo2.head()"
   ]
  },
  {
   "cell_type": "code",
   "execution_count": 16,
   "metadata": {},
   "outputs": [
    {
     "data": {
      "text/html": [
       "<div>\n",
       "<style scoped>\n",
       "    .dataframe tbody tr th:only-of-type {\n",
       "        vertical-align: middle;\n",
       "    }\n",
       "\n",
       "    .dataframe tbody tr th {\n",
       "        vertical-align: top;\n",
       "    }\n",
       "\n",
       "    .dataframe thead th {\n",
       "        text-align: right;\n",
       "    }\n",
       "</style>\n",
       "<table border=\"1\" class=\"dataframe\">\n",
       "  <thead>\n",
       "    <tr style=\"text-align: right;\">\n",
       "      <th></th>\n",
       "      <th>Unnamed: 0_left</th>\n",
       "      <th>incident_id</th>\n",
       "      <th>date</th>\n",
       "      <th>state</th>\n",
       "      <th>city_or_county</th>\n",
       "      <th>address</th>\n",
       "      <th>n_killed</th>\n",
       "      <th>n_injured</th>\n",
       "      <th>incident_url</th>\n",
       "      <th>source_url</th>\n",
       "      <th>incident_url_fields_missing</th>\n",
       "      <th>congressional_district</th>\n",
       "      <th>gun_stolen</th>\n",
       "      <th>gun_type</th>\n",
       "      <th>incident_characteristics</th>\n",
       "      <th>latitude</th>\n",
       "      <th>location_description</th>\n",
       "      <th>longitude</th>\n",
       "      <th>n_guns_involved</th>\n",
       "      <th>notes</th>\n",
       "      <th>participant_age</th>\n",
       "      <th>participant_age_group</th>\n",
       "      <th>participant_gender</th>\n",
       "      <th>participant_name</th>\n",
       "      <th>participant_relationship</th>\n",
       "      <th>participant_status</th>\n",
       "      <th>participant_type</th>\n",
       "      <th>sources</th>\n",
       "      <th>state_house_district</th>\n",
       "      <th>state_senate_district</th>\n",
       "      <th>indic_suicide</th>\n",
       "      <th>indic_defens</th>\n",
       "      <th>indic_school</th>\n",
       "      <th>indic_home_inv</th>\n",
       "      <th>indic_accident</th>\n",
       "      <th>sus_adulte</th>\n",
       "      <th>vict_adulte</th>\n",
       "      <th>sus_male</th>\n",
       "      <th>vict_male</th>\n",
       "      <th>sus_injured</th>\n",
       "      <th>sus_arrested</th>\n",
       "      <th>sus_unharmed</th>\n",
       "      <th>sus_killed</th>\n",
       "      <th>vict_injured</th>\n",
       "      <th>vict_arrested</th>\n",
       "      <th>vict_unharmed</th>\n",
       "      <th>vict_killed</th>\n",
       "      <th>handgun</th>\n",
       "      <th>rifle</th>\n",
       "      <th>Nine_mm</th>\n",
       "      <th>shotgun</th>\n",
       "      <th>young_sus</th>\n",
       "      <th>young_vict</th>\n",
       "      <th>point_geometry</th>\n",
       "      <th>index_right</th>\n",
       "      <th>Unnamed: 0_right</th>\n",
       "      <th>Nom</th>\n",
       "      <th>Etat</th>\n",
       "      <th>Code_Etat</th>\n",
       "      <th>id_Etat</th>\n",
       "      <th>id_county</th>\n",
       "      <th>NAME</th>\n",
       "      <th>fips</th>\n",
       "      <th>unemp_rate_year_2013</th>\n",
       "      <th>unemp_rate_year_2014</th>\n",
       "      <th>unemp_rate_year_2015</th>\n",
       "      <th>unemp_rate_year_2016</th>\n",
       "      <th>unemp_rate_year_2017</th>\n",
       "      <th>unemp_rate_year_2018</th>\n",
       "      <th>med_h_income_year_2013</th>\n",
       "      <th>med_h_income_year_2014</th>\n",
       "      <th>med_h_income_year_2015</th>\n",
       "      <th>med_h_income_year_2016</th>\n",
       "      <th>med_h_income_year_2017</th>\n",
       "      <th>med_h_income_year_2018</th>\n",
       "      <th>resident_pop_year_2013</th>\n",
       "      <th>resident_pop_year_2014</th>\n",
       "      <th>resident_pop_year_2015</th>\n",
       "      <th>resident_pop_year_2016</th>\n",
       "      <th>resident_pop_year_2017</th>\n",
       "      <th>resident_pop_year_2018</th>\n",
       "      <th>snap_beneficiaries_year_2013</th>\n",
       "      <th>snap_beneficiaries_year_2014</th>\n",
       "      <th>snap_beneficiaries_year_2015</th>\n",
       "      <th>snap_beneficiaries_year_2016</th>\n",
       "      <th>snap_beneficiaries_year_2017</th>\n",
       "      <th>snap_beneficiaries_year_2018</th>\n",
       "      <th>bachelors_deg_year_2013</th>\n",
       "      <th>bachelors_deg_year_2014</th>\n",
       "      <th>bachelors_deg_year_2015</th>\n",
       "      <th>bachelors_deg_year_2016</th>\n",
       "      <th>bachelors_deg_year_2017</th>\n",
       "      <th>bachelors_deg_year_2018</th>\n",
       "      <th>score_legis</th>\n",
       "      <th>bchecks_2013</th>\n",
       "      <th>bchecks_2014</th>\n",
       "      <th>bchecks_2015</th>\n",
       "      <th>bchecks_2016</th>\n",
       "      <th>bchecks_2017</th>\n",
       "      <th>bchecks_2018</th>\n",
       "      <th>per_dem</th>\n",
       "      <th>per_gop</th>\n",
       "      <th>polygon_geometry</th>\n",
       "    </tr>\n",
       "  </thead>\n",
       "  <tbody>\n",
       "    <tr>\n",
       "      <th>0</th>\n",
       "      <td>100178</td>\n",
       "      <td>461105</td>\n",
       "      <td>2013-01-01</td>\n",
       "      <td>Pennsylvania</td>\n",
       "      <td>Mckeesport</td>\n",
       "      <td>1506 Versailles Avenue and Coursin Street</td>\n",
       "      <td>0</td>\n",
       "      <td>4</td>\n",
       "      <td>http://www.gunviolencearchive.org/incident/461105</td>\n",
       "      <td>http://www.post-gazette.com/local/south/2013/0...</td>\n",
       "      <td>False</td>\n",
       "      <td>14.0</td>\n",
       "      <td>NaN</td>\n",
       "      <td>NaN</td>\n",
       "      <td>['Shot - Wounded/Injured', 'Mass Shooting (4+ ...</td>\n",
       "      <td>40.3467</td>\n",
       "      <td>NaN</td>\n",
       "      <td>-79.8559</td>\n",
       "      <td>NaN</td>\n",
       "      <td>Julian Sims under investigation: Four Shot and...</td>\n",
       "      <td>{0: '20'}</td>\n",
       "      <td>{0: 'Adult 18+', 1: 'Adult 18+', 2: 'Adult 18+...</td>\n",
       "      <td>{0: 'Male', 1: 'Male', 3: 'Male', 4: 'Female'}</td>\n",
       "      <td>0::Julian Sims</td>\n",
       "      <td>NaN</td>\n",
       "      <td>{0: 'Arrested', 1: 'Injured', 2: 'Injured', 3:...</td>\n",
       "      <td>{0: 'Victim', 1: 'Victim', 2: 'Victim', 3: 'Vi...</td>\n",
       "      <td>['http://pittsburgh.cbslocal.com/2013/01/01/4-...</td>\n",
       "      <td>NaN</td>\n",
       "      <td>NaN</td>\n",
       "      <td>0</td>\n",
       "      <td>0</td>\n",
       "      <td>0</td>\n",
       "      <td>0</td>\n",
       "      <td>0</td>\n",
       "      <td>1</td>\n",
       "      <td>1</td>\n",
       "      <td>0</td>\n",
       "      <td>1</td>\n",
       "      <td>1</td>\n",
       "      <td>0</td>\n",
       "      <td>0</td>\n",
       "      <td>0</td>\n",
       "      <td>1</td>\n",
       "      <td>1</td>\n",
       "      <td>0</td>\n",
       "      <td>0</td>\n",
       "      <td>0</td>\n",
       "      <td>0</td>\n",
       "      <td>0</td>\n",
       "      <td>0</td>\n",
       "      <td>0</td>\n",
       "      <td>1</td>\n",
       "      <td>POINT (-79.85590 40.34670)</td>\n",
       "      <td>2258</td>\n",
       "      <td>2258</td>\n",
       "      <td>Allegheny</td>\n",
       "      <td>Pennsylvania</td>\n",
       "      <td>PA</td>\n",
       "      <td>27320</td>\n",
       "      <td>29615</td>\n",
       "      <td>Allegheny</td>\n",
       "      <td>42003.0</td>\n",
       "      <td>5.4</td>\n",
       "      <td>4.7</td>\n",
       "      <td>4.5</td>\n",
       "      <td>4.6</td>\n",
       "      <td>4.2</td>\n",
       "      <td>4.9</td>\n",
       "      <td>51400.0</td>\n",
       "      <td>52385.0</td>\n",
       "      <td>54412.0</td>\n",
       "      <td>56099.0</td>\n",
       "      <td>58547.0</td>\n",
       "      <td>59881.0</td>\n",
       "      <td>1233.999</td>\n",
       "      <td>1233.417</td>\n",
       "      <td>1229.342</td>\n",
       "      <td>1226.893</td>\n",
       "      <td>1220.423</td>\n",
       "      <td>1217.508</td>\n",
       "      <td>160102.0</td>\n",
       "      <td>160100.0</td>\n",
       "      <td>160552.0</td>\n",
       "      <td>154950.0</td>\n",
       "      <td>152435.0</td>\n",
       "      <td>146826.0</td>\n",
       "      <td>35.9</td>\n",
       "      <td>36.9</td>\n",
       "      <td>37.8</td>\n",
       "      <td>39.1</td>\n",
       "      <td>40.0</td>\n",
       "      <td>40.7</td>\n",
       "      <td>4.0</td>\n",
       "      <td>1044731</td>\n",
       "      <td>899241</td>\n",
       "      <td>993429</td>\n",
       "      <td>1143220</td>\n",
       "      <td>1062651</td>\n",
       "      <td>1021943</td>\n",
       "      <td>0.564416</td>\n",
       "      <td>0.40034</td>\n",
       "      <td>POLYGON ((-80.36078 40.47760, -80.34227 40.490...</td>\n",
       "    </tr>\n",
       "    <tr>\n",
       "      <th>1</th>\n",
       "      <td>104811</td>\n",
       "      <td>481268</td>\n",
       "      <td>2013-10-21</td>\n",
       "      <td>Pennsylvania</td>\n",
       "      <td>Pittsburgh (Homewood)</td>\n",
       "      <td>7200 block of Kelly Street</td>\n",
       "      <td>2</td>\n",
       "      <td>5</td>\n",
       "      <td>http://www.gunviolencearchive.org/incident/481268</td>\n",
       "      <td>http://www.wtae.com/news/local/allegheny/two-p...</td>\n",
       "      <td>False</td>\n",
       "      <td>14.0</td>\n",
       "      <td>NaN</td>\n",
       "      <td>NaN</td>\n",
       "      <td>['Shot - Wounded/Injured', 'Shot - Dead (murde...</td>\n",
       "      <td>40.4555</td>\n",
       "      <td>Diverse Banquet Hall</td>\n",
       "      <td>-79.8970</td>\n",
       "      <td>NaN</td>\n",
       "      <td>NaN</td>\n",
       "      <td>{0: '21', 1: '27'}</td>\n",
       "      <td>{0: 'Adult 18+', 1: 'Adult 18+', 2: 'Adult 18+...</td>\n",
       "      <td>{0: 'Female', 1: 'Male', 2: 'Female', 3: 'Fema...</td>\n",
       "      <td>0::Jasmine Morris||1::Demetrius Broadnax</td>\n",
       "      <td>NaN</td>\n",
       "      <td>{0: 'Killed', 1: 'Killed', 2: 'Injured', 3: 'I...</td>\n",
       "      <td>{0: 'Victim', 1: 'Victim', 2: 'Victim', 3: 'Vi...</td>\n",
       "      <td>['http://pittsburgh.cbslocal.com/2013/10/20/ho...</td>\n",
       "      <td>NaN</td>\n",
       "      <td>NaN</td>\n",
       "      <td>1</td>\n",
       "      <td>0</td>\n",
       "      <td>0</td>\n",
       "      <td>0</td>\n",
       "      <td>1</td>\n",
       "      <td>0</td>\n",
       "      <td>1</td>\n",
       "      <td>0</td>\n",
       "      <td>1</td>\n",
       "      <td>0</td>\n",
       "      <td>0</td>\n",
       "      <td>0</td>\n",
       "      <td>0</td>\n",
       "      <td>1</td>\n",
       "      <td>0</td>\n",
       "      <td>0</td>\n",
       "      <td>1</td>\n",
       "      <td>0</td>\n",
       "      <td>0</td>\n",
       "      <td>0</td>\n",
       "      <td>0</td>\n",
       "      <td>0</td>\n",
       "      <td>1</td>\n",
       "      <td>POINT (-79.89700 40.45550)</td>\n",
       "      <td>2258</td>\n",
       "      <td>2258</td>\n",
       "      <td>Allegheny</td>\n",
       "      <td>Pennsylvania</td>\n",
       "      <td>PA</td>\n",
       "      <td>27320</td>\n",
       "      <td>29615</td>\n",
       "      <td>Allegheny</td>\n",
       "      <td>42003.0</td>\n",
       "      <td>5.4</td>\n",
       "      <td>4.7</td>\n",
       "      <td>4.5</td>\n",
       "      <td>4.6</td>\n",
       "      <td>4.2</td>\n",
       "      <td>4.9</td>\n",
       "      <td>51400.0</td>\n",
       "      <td>52385.0</td>\n",
       "      <td>54412.0</td>\n",
       "      <td>56099.0</td>\n",
       "      <td>58547.0</td>\n",
       "      <td>59881.0</td>\n",
       "      <td>1233.999</td>\n",
       "      <td>1233.417</td>\n",
       "      <td>1229.342</td>\n",
       "      <td>1226.893</td>\n",
       "      <td>1220.423</td>\n",
       "      <td>1217.508</td>\n",
       "      <td>160102.0</td>\n",
       "      <td>160100.0</td>\n",
       "      <td>160552.0</td>\n",
       "      <td>154950.0</td>\n",
       "      <td>152435.0</td>\n",
       "      <td>146826.0</td>\n",
       "      <td>35.9</td>\n",
       "      <td>36.9</td>\n",
       "      <td>37.8</td>\n",
       "      <td>39.1</td>\n",
       "      <td>40.0</td>\n",
       "      <td>40.7</td>\n",
       "      <td>4.0</td>\n",
       "      <td>1044731</td>\n",
       "      <td>899241</td>\n",
       "      <td>993429</td>\n",
       "      <td>1143220</td>\n",
       "      <td>1062651</td>\n",
       "      <td>1021943</td>\n",
       "      <td>0.564416</td>\n",
       "      <td>0.40034</td>\n",
       "      <td>POLYGON ((-80.36078 40.47760, -80.34227 40.490...</td>\n",
       "    </tr>\n",
       "    <tr>\n",
       "      <th>2</th>\n",
       "      <td>678</td>\n",
       "      <td>94128</td>\n",
       "      <td>2014-01-08</td>\n",
       "      <td>Pennsylvania</td>\n",
       "      <td>Homestead</td>\n",
       "      <td>Steak ‘n Shake at The Waterfront</td>\n",
       "      <td>1</td>\n",
       "      <td>0</td>\n",
       "      <td>http://www.gunviolencearchive.org/incident/94128</td>\n",
       "      <td>http://pittsburgh.cbslocal.com/2014/01/22/u-s-...</td>\n",
       "      <td>False</td>\n",
       "      <td>14.0</td>\n",
       "      <td>NaN</td>\n",
       "      <td>NaN</td>\n",
       "      <td>['Shot - Dead (murder, accidental, suicide)', ...</td>\n",
       "      <td>40.4059</td>\n",
       "      <td>NaN</td>\n",
       "      <td>-79.9120</td>\n",
       "      <td>NaN</td>\n",
       "      <td>NaN</td>\n",
       "      <td>{0: '20', 1: '20', 2: '17'}</td>\n",
       "      <td>{0: 'Adult 18+', 1: 'Adult 18+', 2: 'Teen 12-17'}</td>\n",
       "      <td>{0: 'Male', 1: 'Male', 2: 'Male'}</td>\n",
       "      <td>1::Paul “Los” Sanders, Jr.||2::Jaron Young</td>\n",
       "      <td>NaN</td>\n",
       "      <td>{0: 'Killed', 1: 'Unharmed', 2: 'Unharmed'}</td>\n",
       "      <td>{0: 'Victim', 1: 'Subject-Suspect', 2: 'Subjec...</td>\n",
       "      <td>['http://pittsburgh.cbslocal.com/2014/01/08/po...</td>\n",
       "      <td>NaN</td>\n",
       "      <td>NaN</td>\n",
       "      <td>1</td>\n",
       "      <td>0</td>\n",
       "      <td>0</td>\n",
       "      <td>0</td>\n",
       "      <td>1</td>\n",
       "      <td>1</td>\n",
       "      <td>1</td>\n",
       "      <td>1</td>\n",
       "      <td>1</td>\n",
       "      <td>0</td>\n",
       "      <td>0</td>\n",
       "      <td>1</td>\n",
       "      <td>0</td>\n",
       "      <td>0</td>\n",
       "      <td>0</td>\n",
       "      <td>0</td>\n",
       "      <td>1</td>\n",
       "      <td>0</td>\n",
       "      <td>0</td>\n",
       "      <td>0</td>\n",
       "      <td>0</td>\n",
       "      <td>1</td>\n",
       "      <td>1</td>\n",
       "      <td>POINT (-79.91200 40.40590)</td>\n",
       "      <td>2258</td>\n",
       "      <td>2258</td>\n",
       "      <td>Allegheny</td>\n",
       "      <td>Pennsylvania</td>\n",
       "      <td>PA</td>\n",
       "      <td>27320</td>\n",
       "      <td>29615</td>\n",
       "      <td>Allegheny</td>\n",
       "      <td>42003.0</td>\n",
       "      <td>5.4</td>\n",
       "      <td>4.7</td>\n",
       "      <td>4.5</td>\n",
       "      <td>4.6</td>\n",
       "      <td>4.2</td>\n",
       "      <td>4.9</td>\n",
       "      <td>51400.0</td>\n",
       "      <td>52385.0</td>\n",
       "      <td>54412.0</td>\n",
       "      <td>56099.0</td>\n",
       "      <td>58547.0</td>\n",
       "      <td>59881.0</td>\n",
       "      <td>1233.999</td>\n",
       "      <td>1233.417</td>\n",
       "      <td>1229.342</td>\n",
       "      <td>1226.893</td>\n",
       "      <td>1220.423</td>\n",
       "      <td>1217.508</td>\n",
       "      <td>160102.0</td>\n",
       "      <td>160100.0</td>\n",
       "      <td>160552.0</td>\n",
       "      <td>154950.0</td>\n",
       "      <td>152435.0</td>\n",
       "      <td>146826.0</td>\n",
       "      <td>35.9</td>\n",
       "      <td>36.9</td>\n",
       "      <td>37.8</td>\n",
       "      <td>39.1</td>\n",
       "      <td>40.0</td>\n",
       "      <td>40.7</td>\n",
       "      <td>4.0</td>\n",
       "      <td>1044731</td>\n",
       "      <td>899241</td>\n",
       "      <td>993429</td>\n",
       "      <td>1143220</td>\n",
       "      <td>1062651</td>\n",
       "      <td>1021943</td>\n",
       "      <td>0.564416</td>\n",
       "      <td>0.40034</td>\n",
       "      <td>POLYGON ((-80.36078 40.47760, -80.34227 40.490...</td>\n",
       "    </tr>\n",
       "    <tr>\n",
       "      <th>3</th>\n",
       "      <td>801</td>\n",
       "      <td>94504</td>\n",
       "      <td>2014-01-08</td>\n",
       "      <td>Pennsylvania</td>\n",
       "      <td>Munhall</td>\n",
       "      <td>Waterfront Shopping Complex</td>\n",
       "      <td>1</td>\n",
       "      <td>0</td>\n",
       "      <td>http://www.gunviolencearchive.org/incident/94504</td>\n",
       "      <td>http://www.post-gazette.com/local/south/2014/0...</td>\n",
       "      <td>False</td>\n",
       "      <td>14.0</td>\n",
       "      <td>NaN</td>\n",
       "      <td>NaN</td>\n",
       "      <td>['Shot - Dead (murder, accidental, suicide)', ...</td>\n",
       "      <td>40.3923</td>\n",
       "      <td>NaN</td>\n",
       "      <td>-79.9000</td>\n",
       "      <td>NaN</td>\n",
       "      <td>NaN</td>\n",
       "      <td>{0: '20', 1: '17'}</td>\n",
       "      <td>{0: 'Adult 18+', 1: 'Teen 12-17'}</td>\n",
       "      <td>{0: 'Male', 1: 'Male'}</td>\n",
       "      <td>0::Imani Porter||1::Jaron Young</td>\n",
       "      <td>NaN</td>\n",
       "      <td>{0: 'Killed', 1: 'Unharmed'}</td>\n",
       "      <td>{0: 'Victim', 1: 'Subject-Suspect', 2: 'Subjec...</td>\n",
       "      <td>NaN</td>\n",
       "      <td>NaN</td>\n",
       "      <td>NaN</td>\n",
       "      <td>1</td>\n",
       "      <td>0</td>\n",
       "      <td>0</td>\n",
       "      <td>0</td>\n",
       "      <td>1</td>\n",
       "      <td>0</td>\n",
       "      <td>1</td>\n",
       "      <td>1</td>\n",
       "      <td>1</td>\n",
       "      <td>0</td>\n",
       "      <td>0</td>\n",
       "      <td>1</td>\n",
       "      <td>0</td>\n",
       "      <td>0</td>\n",
       "      <td>0</td>\n",
       "      <td>0</td>\n",
       "      <td>1</td>\n",
       "      <td>0</td>\n",
       "      <td>0</td>\n",
       "      <td>0</td>\n",
       "      <td>0</td>\n",
       "      <td>0</td>\n",
       "      <td>1</td>\n",
       "      <td>POINT (-79.90000 40.39230)</td>\n",
       "      <td>2258</td>\n",
       "      <td>2258</td>\n",
       "      <td>Allegheny</td>\n",
       "      <td>Pennsylvania</td>\n",
       "      <td>PA</td>\n",
       "      <td>27320</td>\n",
       "      <td>29615</td>\n",
       "      <td>Allegheny</td>\n",
       "      <td>42003.0</td>\n",
       "      <td>5.4</td>\n",
       "      <td>4.7</td>\n",
       "      <td>4.5</td>\n",
       "      <td>4.6</td>\n",
       "      <td>4.2</td>\n",
       "      <td>4.9</td>\n",
       "      <td>51400.0</td>\n",
       "      <td>52385.0</td>\n",
       "      <td>54412.0</td>\n",
       "      <td>56099.0</td>\n",
       "      <td>58547.0</td>\n",
       "      <td>59881.0</td>\n",
       "      <td>1233.999</td>\n",
       "      <td>1233.417</td>\n",
       "      <td>1229.342</td>\n",
       "      <td>1226.893</td>\n",
       "      <td>1220.423</td>\n",
       "      <td>1217.508</td>\n",
       "      <td>160102.0</td>\n",
       "      <td>160100.0</td>\n",
       "      <td>160552.0</td>\n",
       "      <td>154950.0</td>\n",
       "      <td>152435.0</td>\n",
       "      <td>146826.0</td>\n",
       "      <td>35.9</td>\n",
       "      <td>36.9</td>\n",
       "      <td>37.8</td>\n",
       "      <td>39.1</td>\n",
       "      <td>40.0</td>\n",
       "      <td>40.7</td>\n",
       "      <td>4.0</td>\n",
       "      <td>1044731</td>\n",
       "      <td>899241</td>\n",
       "      <td>993429</td>\n",
       "      <td>1143220</td>\n",
       "      <td>1062651</td>\n",
       "      <td>1021943</td>\n",
       "      <td>0.564416</td>\n",
       "      <td>0.40034</td>\n",
       "      <td>POLYGON ((-80.36078 40.47760, -80.34227 40.490...</td>\n",
       "    </tr>\n",
       "    <tr>\n",
       "      <th>4</th>\n",
       "      <td>1324</td>\n",
       "      <td>95999</td>\n",
       "      <td>2014-01-10</td>\n",
       "      <td>Pennsylvania</td>\n",
       "      <td>Pittsburgh</td>\n",
       "      <td>2000 block of Fifth Avenue</td>\n",
       "      <td>0</td>\n",
       "      <td>1</td>\n",
       "      <td>http://www.gunviolencearchive.org/incident/95999</td>\n",
       "      <td>/pittsburgh.cbslocal.com/2014/01/11/man-wounde...</td>\n",
       "      <td>False</td>\n",
       "      <td>14.0</td>\n",
       "      <td>NaN</td>\n",
       "      <td>NaN</td>\n",
       "      <td>NaN</td>\n",
       "      <td>40.4380</td>\n",
       "      <td>NaN</td>\n",
       "      <td>-79.9775</td>\n",
       "      <td>NaN</td>\n",
       "      <td>NaN</td>\n",
       "      <td>NaN</td>\n",
       "      <td>{0: 'Adult 18+'}</td>\n",
       "      <td>{0: 'Male'}</td>\n",
       "      <td>NaN</td>\n",
       "      <td>NaN</td>\n",
       "      <td>{0: 'Injured'}</td>\n",
       "      <td>{0: 'Victim'}</td>\n",
       "      <td>NaN</td>\n",
       "      <td>NaN</td>\n",
       "      <td>NaN</td>\n",
       "      <td>0</td>\n",
       "      <td>0</td>\n",
       "      <td>0</td>\n",
       "      <td>0</td>\n",
       "      <td>0</td>\n",
       "      <td>0</td>\n",
       "      <td>1</td>\n",
       "      <td>0</td>\n",
       "      <td>1</td>\n",
       "      <td>0</td>\n",
       "      <td>0</td>\n",
       "      <td>0</td>\n",
       "      <td>0</td>\n",
       "      <td>1</td>\n",
       "      <td>0</td>\n",
       "      <td>0</td>\n",
       "      <td>0</td>\n",
       "      <td>0</td>\n",
       "      <td>0</td>\n",
       "      <td>0</td>\n",
       "      <td>0</td>\n",
       "      <td>0</td>\n",
       "      <td>0</td>\n",
       "      <td>POINT (-79.97750 40.43800)</td>\n",
       "      <td>2258</td>\n",
       "      <td>2258</td>\n",
       "      <td>Allegheny</td>\n",
       "      <td>Pennsylvania</td>\n",
       "      <td>PA</td>\n",
       "      <td>27320</td>\n",
       "      <td>29615</td>\n",
       "      <td>Allegheny</td>\n",
       "      <td>42003.0</td>\n",
       "      <td>5.4</td>\n",
       "      <td>4.7</td>\n",
       "      <td>4.5</td>\n",
       "      <td>4.6</td>\n",
       "      <td>4.2</td>\n",
       "      <td>4.9</td>\n",
       "      <td>51400.0</td>\n",
       "      <td>52385.0</td>\n",
       "      <td>54412.0</td>\n",
       "      <td>56099.0</td>\n",
       "      <td>58547.0</td>\n",
       "      <td>59881.0</td>\n",
       "      <td>1233.999</td>\n",
       "      <td>1233.417</td>\n",
       "      <td>1229.342</td>\n",
       "      <td>1226.893</td>\n",
       "      <td>1220.423</td>\n",
       "      <td>1217.508</td>\n",
       "      <td>160102.0</td>\n",
       "      <td>160100.0</td>\n",
       "      <td>160552.0</td>\n",
       "      <td>154950.0</td>\n",
       "      <td>152435.0</td>\n",
       "      <td>146826.0</td>\n",
       "      <td>35.9</td>\n",
       "      <td>36.9</td>\n",
       "      <td>37.8</td>\n",
       "      <td>39.1</td>\n",
       "      <td>40.0</td>\n",
       "      <td>40.7</td>\n",
       "      <td>4.0</td>\n",
       "      <td>1044731</td>\n",
       "      <td>899241</td>\n",
       "      <td>993429</td>\n",
       "      <td>1143220</td>\n",
       "      <td>1062651</td>\n",
       "      <td>1021943</td>\n",
       "      <td>0.564416</td>\n",
       "      <td>0.40034</td>\n",
       "      <td>POLYGON ((-80.36078 40.47760, -80.34227 40.490...</td>\n",
       "    </tr>\n",
       "  </tbody>\n",
       "</table>\n",
       "</div>"
      ],
      "text/plain": [
       "   Unnamed: 0_left  incident_id        date         state  \\\n",
       "0           100178       461105  2013-01-01  Pennsylvania   \n",
       "1           104811       481268  2013-10-21  Pennsylvania   \n",
       "2              678        94128  2014-01-08  Pennsylvania   \n",
       "3              801        94504  2014-01-08  Pennsylvania   \n",
       "4             1324        95999  2014-01-10  Pennsylvania   \n",
       "\n",
       "          city_or_county                                    address  n_killed  \\\n",
       "0             Mckeesport  1506 Versailles Avenue and Coursin Street         0   \n",
       "1  Pittsburgh (Homewood)                 7200 block of Kelly Street         2   \n",
       "2              Homestead           Steak ‘n Shake at The Waterfront         1   \n",
       "3                Munhall                Waterfront Shopping Complex         1   \n",
       "4             Pittsburgh                 2000 block of Fifth Avenue         0   \n",
       "\n",
       "   n_injured                                       incident_url  \\\n",
       "0          4  http://www.gunviolencearchive.org/incident/461105   \n",
       "1          5  http://www.gunviolencearchive.org/incident/481268   \n",
       "2          0   http://www.gunviolencearchive.org/incident/94128   \n",
       "3          0   http://www.gunviolencearchive.org/incident/94504   \n",
       "4          1   http://www.gunviolencearchive.org/incident/95999   \n",
       "\n",
       "                                          source_url  \\\n",
       "0  http://www.post-gazette.com/local/south/2013/0...   \n",
       "1  http://www.wtae.com/news/local/allegheny/two-p...   \n",
       "2  http://pittsburgh.cbslocal.com/2014/01/22/u-s-...   \n",
       "3  http://www.post-gazette.com/local/south/2014/0...   \n",
       "4  /pittsburgh.cbslocal.com/2014/01/11/man-wounde...   \n",
       "\n",
       "   incident_url_fields_missing  congressional_district gun_stolen gun_type  \\\n",
       "0                        False                    14.0        NaN      NaN   \n",
       "1                        False                    14.0        NaN      NaN   \n",
       "2                        False                    14.0        NaN      NaN   \n",
       "3                        False                    14.0        NaN      NaN   \n",
       "4                        False                    14.0        NaN      NaN   \n",
       "\n",
       "                            incident_characteristics  latitude  \\\n",
       "0  ['Shot - Wounded/Injured', 'Mass Shooting (4+ ...   40.3467   \n",
       "1  ['Shot - Wounded/Injured', 'Shot - Dead (murde...   40.4555   \n",
       "2  ['Shot - Dead (murder, accidental, suicide)', ...   40.4059   \n",
       "3  ['Shot - Dead (murder, accidental, suicide)', ...   40.3923   \n",
       "4                                                NaN   40.4380   \n",
       "\n",
       "   location_description  longitude  n_guns_involved  \\\n",
       "0                   NaN   -79.8559              NaN   \n",
       "1  Diverse Banquet Hall   -79.8970              NaN   \n",
       "2                   NaN   -79.9120              NaN   \n",
       "3                   NaN   -79.9000              NaN   \n",
       "4                   NaN   -79.9775              NaN   \n",
       "\n",
       "                                               notes  \\\n",
       "0  Julian Sims under investigation: Four Shot and...   \n",
       "1                                                NaN   \n",
       "2                                                NaN   \n",
       "3                                                NaN   \n",
       "4                                                NaN   \n",
       "\n",
       "               participant_age  \\\n",
       "0                    {0: '20'}   \n",
       "1           {0: '21', 1: '27'}   \n",
       "2  {0: '20', 1: '20', 2: '17'}   \n",
       "3           {0: '20', 1: '17'}   \n",
       "4                          NaN   \n",
       "\n",
       "                               participant_age_group  \\\n",
       "0  {0: 'Adult 18+', 1: 'Adult 18+', 2: 'Adult 18+...   \n",
       "1  {0: 'Adult 18+', 1: 'Adult 18+', 2: 'Adult 18+...   \n",
       "2  {0: 'Adult 18+', 1: 'Adult 18+', 2: 'Teen 12-17'}   \n",
       "3                  {0: 'Adult 18+', 1: 'Teen 12-17'}   \n",
       "4                                   {0: 'Adult 18+'}   \n",
       "\n",
       "                                  participant_gender  \\\n",
       "0     {0: 'Male', 1: 'Male', 3: 'Male', 4: 'Female'}   \n",
       "1  {0: 'Female', 1: 'Male', 2: 'Female', 3: 'Fema...   \n",
       "2                  {0: 'Male', 1: 'Male', 2: 'Male'}   \n",
       "3                             {0: 'Male', 1: 'Male'}   \n",
       "4                                        {0: 'Male'}   \n",
       "\n",
       "                             participant_name participant_relationship  \\\n",
       "0                              0::Julian Sims                      NaN   \n",
       "1    0::Jasmine Morris||1::Demetrius Broadnax                      NaN   \n",
       "2  1::Paul “Los” Sanders, Jr.||2::Jaron Young                      NaN   \n",
       "3             0::Imani Porter||1::Jaron Young                      NaN   \n",
       "4                                         NaN                      NaN   \n",
       "\n",
       "                                  participant_status  \\\n",
       "0  {0: 'Arrested', 1: 'Injured', 2: 'Injured', 3:...   \n",
       "1  {0: 'Killed', 1: 'Killed', 2: 'Injured', 3: 'I...   \n",
       "2        {0: 'Killed', 1: 'Unharmed', 2: 'Unharmed'}   \n",
       "3                       {0: 'Killed', 1: 'Unharmed'}   \n",
       "4                                     {0: 'Injured'}   \n",
       "\n",
       "                                    participant_type  \\\n",
       "0  {0: 'Victim', 1: 'Victim', 2: 'Victim', 3: 'Vi...   \n",
       "1  {0: 'Victim', 1: 'Victim', 2: 'Victim', 3: 'Vi...   \n",
       "2  {0: 'Victim', 1: 'Subject-Suspect', 2: 'Subjec...   \n",
       "3  {0: 'Victim', 1: 'Subject-Suspect', 2: 'Subjec...   \n",
       "4                                      {0: 'Victim'}   \n",
       "\n",
       "                                             sources  state_house_district  \\\n",
       "0  ['http://pittsburgh.cbslocal.com/2013/01/01/4-...                   NaN   \n",
       "1  ['http://pittsburgh.cbslocal.com/2013/10/20/ho...                   NaN   \n",
       "2  ['http://pittsburgh.cbslocal.com/2014/01/08/po...                   NaN   \n",
       "3                                                NaN                   NaN   \n",
       "4                                                NaN                   NaN   \n",
       "\n",
       "   state_senate_district  indic_suicide  indic_defens  indic_school  \\\n",
       "0                    NaN              0             0             0   \n",
       "1                    NaN              1             0             0   \n",
       "2                    NaN              1             0             0   \n",
       "3                    NaN              1             0             0   \n",
       "4                    NaN              0             0             0   \n",
       "\n",
       "   indic_home_inv  indic_accident  sus_adulte  vict_adulte  sus_male  \\\n",
       "0               0               0           1            1         0   \n",
       "1               0               1           0            1         0   \n",
       "2               0               1           1            1         1   \n",
       "3               0               1           0            1         1   \n",
       "4               0               0           0            1         0   \n",
       "\n",
       "   vict_male  sus_injured  sus_arrested  sus_unharmed  sus_killed  \\\n",
       "0          1            1             0             0           0   \n",
       "1          1            0             0             0           0   \n",
       "2          1            0             0             1           0   \n",
       "3          1            0             0             1           0   \n",
       "4          1            0             0             0           0   \n",
       "\n",
       "   vict_injured  vict_arrested  vict_unharmed  vict_killed  handgun  rifle  \\\n",
       "0             1              1              0            0        0      0   \n",
       "1             1              0              0            1        0      0   \n",
       "2             0              0              0            1        0      0   \n",
       "3             0              0              0            1        0      0   \n",
       "4             1              0              0            0        0      0   \n",
       "\n",
       "   Nine_mm  shotgun  young_sus  young_vict              point_geometry  \\\n",
       "0        0        0          0           1  POINT (-79.85590 40.34670)   \n",
       "1        0        0          0           1  POINT (-79.89700 40.45550)   \n",
       "2        0        0          1           1  POINT (-79.91200 40.40590)   \n",
       "3        0        0          0           1  POINT (-79.90000 40.39230)   \n",
       "4        0        0          0           0  POINT (-79.97750 40.43800)   \n",
       "\n",
       "   index_right  Unnamed: 0_right        Nom          Etat Code_Etat  id_Etat  \\\n",
       "0         2258              2258  Allegheny  Pennsylvania        PA    27320   \n",
       "1         2258              2258  Allegheny  Pennsylvania        PA    27320   \n",
       "2         2258              2258  Allegheny  Pennsylvania        PA    27320   \n",
       "3         2258              2258  Allegheny  Pennsylvania        PA    27320   \n",
       "4         2258              2258  Allegheny  Pennsylvania        PA    27320   \n",
       "\n",
       "   id_county       NAME     fips  unemp_rate_year_2013  unemp_rate_year_2014  \\\n",
       "0      29615  Allegheny  42003.0                   5.4                   4.7   \n",
       "1      29615  Allegheny  42003.0                   5.4                   4.7   \n",
       "2      29615  Allegheny  42003.0                   5.4                   4.7   \n",
       "3      29615  Allegheny  42003.0                   5.4                   4.7   \n",
       "4      29615  Allegheny  42003.0                   5.4                   4.7   \n",
       "\n",
       "   unemp_rate_year_2015  unemp_rate_year_2016  unemp_rate_year_2017  \\\n",
       "0                   4.5                   4.6                   4.2   \n",
       "1                   4.5                   4.6                   4.2   \n",
       "2                   4.5                   4.6                   4.2   \n",
       "3                   4.5                   4.6                   4.2   \n",
       "4                   4.5                   4.6                   4.2   \n",
       "\n",
       "   unemp_rate_year_2018  med_h_income_year_2013  med_h_income_year_2014  \\\n",
       "0                   4.9                 51400.0                 52385.0   \n",
       "1                   4.9                 51400.0                 52385.0   \n",
       "2                   4.9                 51400.0                 52385.0   \n",
       "3                   4.9                 51400.0                 52385.0   \n",
       "4                   4.9                 51400.0                 52385.0   \n",
       "\n",
       "   med_h_income_year_2015  med_h_income_year_2016  med_h_income_year_2017  \\\n",
       "0                 54412.0                 56099.0                 58547.0   \n",
       "1                 54412.0                 56099.0                 58547.0   \n",
       "2                 54412.0                 56099.0                 58547.0   \n",
       "3                 54412.0                 56099.0                 58547.0   \n",
       "4                 54412.0                 56099.0                 58547.0   \n",
       "\n",
       "   med_h_income_year_2018  resident_pop_year_2013  resident_pop_year_2014  \\\n",
       "0                 59881.0                1233.999                1233.417   \n",
       "1                 59881.0                1233.999                1233.417   \n",
       "2                 59881.0                1233.999                1233.417   \n",
       "3                 59881.0                1233.999                1233.417   \n",
       "4                 59881.0                1233.999                1233.417   \n",
       "\n",
       "   resident_pop_year_2015  resident_pop_year_2016  resident_pop_year_2017  \\\n",
       "0                1229.342                1226.893                1220.423   \n",
       "1                1229.342                1226.893                1220.423   \n",
       "2                1229.342                1226.893                1220.423   \n",
       "3                1229.342                1226.893                1220.423   \n",
       "4                1229.342                1226.893                1220.423   \n",
       "\n",
       "   resident_pop_year_2018  snap_beneficiaries_year_2013  \\\n",
       "0                1217.508                      160102.0   \n",
       "1                1217.508                      160102.0   \n",
       "2                1217.508                      160102.0   \n",
       "3                1217.508                      160102.0   \n",
       "4                1217.508                      160102.0   \n",
       "\n",
       "   snap_beneficiaries_year_2014  snap_beneficiaries_year_2015  \\\n",
       "0                      160100.0                      160552.0   \n",
       "1                      160100.0                      160552.0   \n",
       "2                      160100.0                      160552.0   \n",
       "3                      160100.0                      160552.0   \n",
       "4                      160100.0                      160552.0   \n",
       "\n",
       "   snap_beneficiaries_year_2016  snap_beneficiaries_year_2017  \\\n",
       "0                      154950.0                      152435.0   \n",
       "1                      154950.0                      152435.0   \n",
       "2                      154950.0                      152435.0   \n",
       "3                      154950.0                      152435.0   \n",
       "4                      154950.0                      152435.0   \n",
       "\n",
       "   snap_beneficiaries_year_2018  bachelors_deg_year_2013  \\\n",
       "0                      146826.0                     35.9   \n",
       "1                      146826.0                     35.9   \n",
       "2                      146826.0                     35.9   \n",
       "3                      146826.0                     35.9   \n",
       "4                      146826.0                     35.9   \n",
       "\n",
       "   bachelors_deg_year_2014  bachelors_deg_year_2015  bachelors_deg_year_2016  \\\n",
       "0                     36.9                     37.8                     39.1   \n",
       "1                     36.9                     37.8                     39.1   \n",
       "2                     36.9                     37.8                     39.1   \n",
       "3                     36.9                     37.8                     39.1   \n",
       "4                     36.9                     37.8                     39.1   \n",
       "\n",
       "   bachelors_deg_year_2017  bachelors_deg_year_2018  score_legis  \\\n",
       "0                     40.0                     40.7          4.0   \n",
       "1                     40.0                     40.7          4.0   \n",
       "2                     40.0                     40.7          4.0   \n",
       "3                     40.0                     40.7          4.0   \n",
       "4                     40.0                     40.7          4.0   \n",
       "\n",
       "   bchecks_2013  bchecks_2014  bchecks_2015  bchecks_2016  bchecks_2017  \\\n",
       "0       1044731        899241        993429       1143220       1062651   \n",
       "1       1044731        899241        993429       1143220       1062651   \n",
       "2       1044731        899241        993429       1143220       1062651   \n",
       "3       1044731        899241        993429       1143220       1062651   \n",
       "4       1044731        899241        993429       1143220       1062651   \n",
       "\n",
       "   bchecks_2018   per_dem  per_gop  \\\n",
       "0       1021943  0.564416  0.40034   \n",
       "1       1021943  0.564416  0.40034   \n",
       "2       1021943  0.564416  0.40034   \n",
       "3       1021943  0.564416  0.40034   \n",
       "4       1021943  0.564416  0.40034   \n",
       "\n",
       "                                    polygon_geometry  \n",
       "0  POLYGON ((-80.36078 40.47760, -80.34227 40.490...  \n",
       "1  POLYGON ((-80.36078 40.47760, -80.34227 40.490...  \n",
       "2  POLYGON ((-80.36078 40.47760, -80.34227 40.490...  \n",
       "3  POLYGON ((-80.36078 40.47760, -80.34227 40.490...  \n",
       "4  POLYGON ((-80.36078 40.47760, -80.34227 40.490...  "
      ]
     },
     "execution_count": 16,
     "metadata": {},
     "output_type": "execute_result"
    }
   ],
   "source": [
    "merge_geo = merge_geo2.rename(columns={'geometry_x': 'point_geometry', 'geometry_y': 'polygon_geometry'})\n",
    "merge_geo.head()"
   ]
  },
  {
   "cell_type": "code",
   "execution_count": 17,
   "metadata": {},
   "outputs": [],
   "source": [
    "base_totale=merge_geo.copy()"
   ]
  },
  {
   "cell_type": "markdown",
   "metadata": {},
   "source": [
    "## Après cet import compliqué, on peut passer aux statistiques"
   ]
  },
  {
   "cell_type": "code",
   "execution_count": 73,
   "metadata": {},
   "outputs": [
    {
     "name": "stdout",
     "output_type": "stream",
     "text": [
      "I. Les dates. \n",
      "Nous allons commencer cette analyse des conséquences des incidents en termes de victimes (blessés et morts) par l'étude des effets potentiels de la date sur le nombre et la gravité des incidents.\n"
     ]
    }
   ],
   "source": [
    "print(\"I. Les dates. \\nNous allons commencer cette analyse des conséquences des incidents en termes de victimes (blessés et morts) par l'étude des effets potentiels de la date sur le nombre et la gravité des incidents.\")"
   ]
  },
  {
   "cell_type": "code",
   "execution_count": 23,
   "metadata": {},
   "outputs": [],
   "source": [
    "base_totale['date']=pd.to_datetime(base_totale['date'])"
   ]
  },
  {
   "cell_type": "code",
   "execution_count": 43,
   "metadata": {},
   "outputs": [
    {
     "data": {
      "application/vnd.plotly.v1+json": {
       "config": {
        "plotlyServerURL": "https://plot.ly"
       },
       "data": [
        {
         "alignmentgroup": "True",
         "hovertemplate": "Type de victime=n_injured<br>année=%{x}<br>Nombre de victimes=%{y}<extra></extra>",
         "legendgroup": "n_injured",
         "marker": {
          "color": "blue",
          "pattern": {
           "shape": ""
          }
         },
         "name": "n_injured",
         "offsetgroup": "n_injured",
         "orientation": "v",
         "showlegend": true,
         "textposition": "auto",
         "type": "bar",
         "x": [
          2013,
          2014,
          2015,
          2016,
          2017,
          2018
         ],
         "xaxis": "x",
         "y": [
          1078,
          26799,
          32232,
          33272,
          35529,
          6349
         ],
         "yaxis": "y"
        },
        {
         "alignmentgroup": "True",
         "hovertemplate": "Type de victime=n_killed<br>année=%{x}<br>Nombre de victimes=%{y}<extra></extra>",
         "legendgroup": "n_killed",
         "marker": {
          "color": "red",
          "pattern": {
           "shape": ""
          }
         },
         "name": "n_killed",
         "offsetgroup": "n_killed",
         "orientation": "v",
         "showlegend": true,
         "textposition": "auto",
         "type": "bar",
         "x": [
          2013,
          2014,
          2015,
          2016,
          2017,
          2018
         ],
         "xaxis": "x",
         "y": [
          345,
          14138,
          15494,
          15090,
          17893,
          3645
         ],
         "yaxis": "y"
        }
       ],
       "layout": {
        "barmode": "group",
        "legend": {
         "title": {
          "text": "Type de victime"
         },
         "tracegroupgap": 0
        },
        "template": {
         "data": {
          "bar": [
           {
            "error_x": {
             "color": "#2a3f5f"
            },
            "error_y": {
             "color": "#2a3f5f"
            },
            "marker": {
             "line": {
              "color": "#E5ECF6",
              "width": 0.5
             },
             "pattern": {
              "fillmode": "overlay",
              "size": 10,
              "solidity": 0.2
             }
            },
            "type": "bar"
           }
          ],
          "barpolar": [
           {
            "marker": {
             "line": {
              "color": "#E5ECF6",
              "width": 0.5
             },
             "pattern": {
              "fillmode": "overlay",
              "size": 10,
              "solidity": 0.2
             }
            },
            "type": "barpolar"
           }
          ],
          "carpet": [
           {
            "aaxis": {
             "endlinecolor": "#2a3f5f",
             "gridcolor": "white",
             "linecolor": "white",
             "minorgridcolor": "white",
             "startlinecolor": "#2a3f5f"
            },
            "baxis": {
             "endlinecolor": "#2a3f5f",
             "gridcolor": "white",
             "linecolor": "white",
             "minorgridcolor": "white",
             "startlinecolor": "#2a3f5f"
            },
            "type": "carpet"
           }
          ],
          "choropleth": [
           {
            "colorbar": {
             "outlinewidth": 0,
             "ticks": ""
            },
            "type": "choropleth"
           }
          ],
          "contour": [
           {
            "colorbar": {
             "outlinewidth": 0,
             "ticks": ""
            },
            "colorscale": [
             [
              0,
              "#0d0887"
             ],
             [
              0.1111111111111111,
              "#46039f"
             ],
             [
              0.2222222222222222,
              "#7201a8"
             ],
             [
              0.3333333333333333,
              "#9c179e"
             ],
             [
              0.4444444444444444,
              "#bd3786"
             ],
             [
              0.5555555555555556,
              "#d8576b"
             ],
             [
              0.6666666666666666,
              "#ed7953"
             ],
             [
              0.7777777777777778,
              "#fb9f3a"
             ],
             [
              0.8888888888888888,
              "#fdca26"
             ],
             [
              1,
              "#f0f921"
             ]
            ],
            "type": "contour"
           }
          ],
          "contourcarpet": [
           {
            "colorbar": {
             "outlinewidth": 0,
             "ticks": ""
            },
            "type": "contourcarpet"
           }
          ],
          "heatmap": [
           {
            "colorbar": {
             "outlinewidth": 0,
             "ticks": ""
            },
            "colorscale": [
             [
              0,
              "#0d0887"
             ],
             [
              0.1111111111111111,
              "#46039f"
             ],
             [
              0.2222222222222222,
              "#7201a8"
             ],
             [
              0.3333333333333333,
              "#9c179e"
             ],
             [
              0.4444444444444444,
              "#bd3786"
             ],
             [
              0.5555555555555556,
              "#d8576b"
             ],
             [
              0.6666666666666666,
              "#ed7953"
             ],
             [
              0.7777777777777778,
              "#fb9f3a"
             ],
             [
              0.8888888888888888,
              "#fdca26"
             ],
             [
              1,
              "#f0f921"
             ]
            ],
            "type": "heatmap"
           }
          ],
          "heatmapgl": [
           {
            "colorbar": {
             "outlinewidth": 0,
             "ticks": ""
            },
            "colorscale": [
             [
              0,
              "#0d0887"
             ],
             [
              0.1111111111111111,
              "#46039f"
             ],
             [
              0.2222222222222222,
              "#7201a8"
             ],
             [
              0.3333333333333333,
              "#9c179e"
             ],
             [
              0.4444444444444444,
              "#bd3786"
             ],
             [
              0.5555555555555556,
              "#d8576b"
             ],
             [
              0.6666666666666666,
              "#ed7953"
             ],
             [
              0.7777777777777778,
              "#fb9f3a"
             ],
             [
              0.8888888888888888,
              "#fdca26"
             ],
             [
              1,
              "#f0f921"
             ]
            ],
            "type": "heatmapgl"
           }
          ],
          "histogram": [
           {
            "marker": {
             "pattern": {
              "fillmode": "overlay",
              "size": 10,
              "solidity": 0.2
             }
            },
            "type": "histogram"
           }
          ],
          "histogram2d": [
           {
            "colorbar": {
             "outlinewidth": 0,
             "ticks": ""
            },
            "colorscale": [
             [
              0,
              "#0d0887"
             ],
             [
              0.1111111111111111,
              "#46039f"
             ],
             [
              0.2222222222222222,
              "#7201a8"
             ],
             [
              0.3333333333333333,
              "#9c179e"
             ],
             [
              0.4444444444444444,
              "#bd3786"
             ],
             [
              0.5555555555555556,
              "#d8576b"
             ],
             [
              0.6666666666666666,
              "#ed7953"
             ],
             [
              0.7777777777777778,
              "#fb9f3a"
             ],
             [
              0.8888888888888888,
              "#fdca26"
             ],
             [
              1,
              "#f0f921"
             ]
            ],
            "type": "histogram2d"
           }
          ],
          "histogram2dcontour": [
           {
            "colorbar": {
             "outlinewidth": 0,
             "ticks": ""
            },
            "colorscale": [
             [
              0,
              "#0d0887"
             ],
             [
              0.1111111111111111,
              "#46039f"
             ],
             [
              0.2222222222222222,
              "#7201a8"
             ],
             [
              0.3333333333333333,
              "#9c179e"
             ],
             [
              0.4444444444444444,
              "#bd3786"
             ],
             [
              0.5555555555555556,
              "#d8576b"
             ],
             [
              0.6666666666666666,
              "#ed7953"
             ],
             [
              0.7777777777777778,
              "#fb9f3a"
             ],
             [
              0.8888888888888888,
              "#fdca26"
             ],
             [
              1,
              "#f0f921"
             ]
            ],
            "type": "histogram2dcontour"
           }
          ],
          "mesh3d": [
           {
            "colorbar": {
             "outlinewidth": 0,
             "ticks": ""
            },
            "type": "mesh3d"
           }
          ],
          "parcoords": [
           {
            "line": {
             "colorbar": {
              "outlinewidth": 0,
              "ticks": ""
             }
            },
            "type": "parcoords"
           }
          ],
          "pie": [
           {
            "automargin": true,
            "type": "pie"
           }
          ],
          "scatter": [
           {
            "fillpattern": {
             "fillmode": "overlay",
             "size": 10,
             "solidity": 0.2
            },
            "type": "scatter"
           }
          ],
          "scatter3d": [
           {
            "line": {
             "colorbar": {
              "outlinewidth": 0,
              "ticks": ""
             }
            },
            "marker": {
             "colorbar": {
              "outlinewidth": 0,
              "ticks": ""
             }
            },
            "type": "scatter3d"
           }
          ],
          "scattercarpet": [
           {
            "marker": {
             "colorbar": {
              "outlinewidth": 0,
              "ticks": ""
             }
            },
            "type": "scattercarpet"
           }
          ],
          "scattergeo": [
           {
            "marker": {
             "colorbar": {
              "outlinewidth": 0,
              "ticks": ""
             }
            },
            "type": "scattergeo"
           }
          ],
          "scattergl": [
           {
            "marker": {
             "colorbar": {
              "outlinewidth": 0,
              "ticks": ""
             }
            },
            "type": "scattergl"
           }
          ],
          "scattermapbox": [
           {
            "marker": {
             "colorbar": {
              "outlinewidth": 0,
              "ticks": ""
             }
            },
            "type": "scattermapbox"
           }
          ],
          "scatterpolar": [
           {
            "marker": {
             "colorbar": {
              "outlinewidth": 0,
              "ticks": ""
             }
            },
            "type": "scatterpolar"
           }
          ],
          "scatterpolargl": [
           {
            "marker": {
             "colorbar": {
              "outlinewidth": 0,
              "ticks": ""
             }
            },
            "type": "scatterpolargl"
           }
          ],
          "scatterternary": [
           {
            "marker": {
             "colorbar": {
              "outlinewidth": 0,
              "ticks": ""
             }
            },
            "type": "scatterternary"
           }
          ],
          "surface": [
           {
            "colorbar": {
             "outlinewidth": 0,
             "ticks": ""
            },
            "colorscale": [
             [
              0,
              "#0d0887"
             ],
             [
              0.1111111111111111,
              "#46039f"
             ],
             [
              0.2222222222222222,
              "#7201a8"
             ],
             [
              0.3333333333333333,
              "#9c179e"
             ],
             [
              0.4444444444444444,
              "#bd3786"
             ],
             [
              0.5555555555555556,
              "#d8576b"
             ],
             [
              0.6666666666666666,
              "#ed7953"
             ],
             [
              0.7777777777777778,
              "#fb9f3a"
             ],
             [
              0.8888888888888888,
              "#fdca26"
             ],
             [
              1,
              "#f0f921"
             ]
            ],
            "type": "surface"
           }
          ],
          "table": [
           {
            "cells": {
             "fill": {
              "color": "#EBF0F8"
             },
             "line": {
              "color": "white"
             }
            },
            "header": {
             "fill": {
              "color": "#C8D4E3"
             },
             "line": {
              "color": "white"
             }
            },
            "type": "table"
           }
          ]
         },
         "layout": {
          "annotationdefaults": {
           "arrowcolor": "#2a3f5f",
           "arrowhead": 0,
           "arrowwidth": 1
          },
          "autotypenumbers": "strict",
          "coloraxis": {
           "colorbar": {
            "outlinewidth": 0,
            "ticks": ""
           }
          },
          "colorscale": {
           "diverging": [
            [
             0,
             "#8e0152"
            ],
            [
             0.1,
             "#c51b7d"
            ],
            [
             0.2,
             "#de77ae"
            ],
            [
             0.3,
             "#f1b6da"
            ],
            [
             0.4,
             "#fde0ef"
            ],
            [
             0.5,
             "#f7f7f7"
            ],
            [
             0.6,
             "#e6f5d0"
            ],
            [
             0.7,
             "#b8e186"
            ],
            [
             0.8,
             "#7fbc41"
            ],
            [
             0.9,
             "#4d9221"
            ],
            [
             1,
             "#276419"
            ]
           ],
           "sequential": [
            [
             0,
             "#0d0887"
            ],
            [
             0.1111111111111111,
             "#46039f"
            ],
            [
             0.2222222222222222,
             "#7201a8"
            ],
            [
             0.3333333333333333,
             "#9c179e"
            ],
            [
             0.4444444444444444,
             "#bd3786"
            ],
            [
             0.5555555555555556,
             "#d8576b"
            ],
            [
             0.6666666666666666,
             "#ed7953"
            ],
            [
             0.7777777777777778,
             "#fb9f3a"
            ],
            [
             0.8888888888888888,
             "#fdca26"
            ],
            [
             1,
             "#f0f921"
            ]
           ],
           "sequentialminus": [
            [
             0,
             "#0d0887"
            ],
            [
             0.1111111111111111,
             "#46039f"
            ],
            [
             0.2222222222222222,
             "#7201a8"
            ],
            [
             0.3333333333333333,
             "#9c179e"
            ],
            [
             0.4444444444444444,
             "#bd3786"
            ],
            [
             0.5555555555555556,
             "#d8576b"
            ],
            [
             0.6666666666666666,
             "#ed7953"
            ],
            [
             0.7777777777777778,
             "#fb9f3a"
            ],
            [
             0.8888888888888888,
             "#fdca26"
            ],
            [
             1,
             "#f0f921"
            ]
           ]
          },
          "colorway": [
           "#636efa",
           "#EF553B",
           "#00cc96",
           "#ab63fa",
           "#FFA15A",
           "#19d3f3",
           "#FF6692",
           "#B6E880",
           "#FF97FF",
           "#FECB52"
          ],
          "font": {
           "color": "#2a3f5f"
          },
          "geo": {
           "bgcolor": "white",
           "lakecolor": "white",
           "landcolor": "#E5ECF6",
           "showlakes": true,
           "showland": true,
           "subunitcolor": "white"
          },
          "hoverlabel": {
           "align": "left"
          },
          "hovermode": "closest",
          "mapbox": {
           "style": "light"
          },
          "paper_bgcolor": "white",
          "plot_bgcolor": "#E5ECF6",
          "polar": {
           "angularaxis": {
            "gridcolor": "white",
            "linecolor": "white",
            "ticks": ""
           },
           "bgcolor": "#E5ECF6",
           "radialaxis": {
            "gridcolor": "white",
            "linecolor": "white",
            "ticks": ""
           }
          },
          "scene": {
           "xaxis": {
            "backgroundcolor": "#E5ECF6",
            "gridcolor": "white",
            "gridwidth": 2,
            "linecolor": "white",
            "showbackground": true,
            "ticks": "",
            "zerolinecolor": "white"
           },
           "yaxis": {
            "backgroundcolor": "#E5ECF6",
            "gridcolor": "white",
            "gridwidth": 2,
            "linecolor": "white",
            "showbackground": true,
            "ticks": "",
            "zerolinecolor": "white"
           },
           "zaxis": {
            "backgroundcolor": "#E5ECF6",
            "gridcolor": "white",
            "gridwidth": 2,
            "linecolor": "white",
            "showbackground": true,
            "ticks": "",
            "zerolinecolor": "white"
           }
          },
          "shapedefaults": {
           "line": {
            "color": "#2a3f5f"
           }
          },
          "ternary": {
           "aaxis": {
            "gridcolor": "white",
            "linecolor": "white",
            "ticks": ""
           },
           "baxis": {
            "gridcolor": "white",
            "linecolor": "white",
            "ticks": ""
           },
           "bgcolor": "#E5ECF6",
           "caxis": {
            "gridcolor": "white",
            "linecolor": "white",
            "ticks": ""
           }
          },
          "title": {
           "x": 0.05
          },
          "xaxis": {
           "automargin": true,
           "gridcolor": "white",
           "linecolor": "white",
           "ticks": "",
           "title": {
            "standoff": 15
           },
           "zerolinecolor": "white",
           "zerolinewidth": 2
          },
          "yaxis": {
           "automargin": true,
           "gridcolor": "white",
           "linecolor": "white",
           "ticks": "",
           "title": {
            "standoff": 15
           },
           "zerolinecolor": "white",
           "zerolinewidth": 2
          }
         }
        },
        "title": {
         "text": "Nombre de victimes d'incidents par arme à feu par an"
        },
        "xaxis": {
         "anchor": "y",
         "domain": [
          0,
          1
         ],
         "title": {
          "text": "année"
         }
        },
        "yaxis": {
         "anchor": "x",
         "domain": [
          0,
          1
         ],
         "title": {
          "text": "Nombre de victimes"
         }
        }
       }
      },
      "text/html": [
       "<div>                            <div id=\"623cbbc5-bb09-42cf-a7c3-a2591e8c1a8e\" class=\"plotly-graph-div\" style=\"height:525px; width:100%;\"></div>            <script type=\"text/javascript\">                require([\"plotly\"], function(Plotly) {                    window.PLOTLYENV=window.PLOTLYENV || {};                                    if (document.getElementById(\"623cbbc5-bb09-42cf-a7c3-a2591e8c1a8e\")) {                    Plotly.newPlot(                        \"623cbbc5-bb09-42cf-a7c3-a2591e8c1a8e\",                        [{\"alignmentgroup\":\"True\",\"hovertemplate\":\"Type de victime=n_injured\\u003cbr\\u003eann\\u00e9e=%{x}\\u003cbr\\u003eNombre de victimes=%{y}\\u003cextra\\u003e\\u003c\\u002fextra\\u003e\",\"legendgroup\":\"n_injured\",\"marker\":{\"color\":\"blue\",\"pattern\":{\"shape\":\"\"}},\"name\":\"n_injured\",\"offsetgroup\":\"n_injured\",\"orientation\":\"v\",\"showlegend\":true,\"textposition\":\"auto\",\"x\":[2013,2014,2015,2016,2017,2018],\"xaxis\":\"x\",\"y\":[1078,26799,32232,33272,35529,6349],\"yaxis\":\"y\",\"type\":\"bar\"},{\"alignmentgroup\":\"True\",\"hovertemplate\":\"Type de victime=n_killed\\u003cbr\\u003eann\\u00e9e=%{x}\\u003cbr\\u003eNombre de victimes=%{y}\\u003cextra\\u003e\\u003c\\u002fextra\\u003e\",\"legendgroup\":\"n_killed\",\"marker\":{\"color\":\"red\",\"pattern\":{\"shape\":\"\"}},\"name\":\"n_killed\",\"offsetgroup\":\"n_killed\",\"orientation\":\"v\",\"showlegend\":true,\"textposition\":\"auto\",\"x\":[2013,2014,2015,2016,2017,2018],\"xaxis\":\"x\",\"y\":[345,14138,15494,15090,17893,3645],\"yaxis\":\"y\",\"type\":\"bar\"}],                        {\"template\":{\"data\":{\"histogram2dcontour\":[{\"type\":\"histogram2dcontour\",\"colorbar\":{\"outlinewidth\":0,\"ticks\":\"\"},\"colorscale\":[[0.0,\"#0d0887\"],[0.1111111111111111,\"#46039f\"],[0.2222222222222222,\"#7201a8\"],[0.3333333333333333,\"#9c179e\"],[0.4444444444444444,\"#bd3786\"],[0.5555555555555556,\"#d8576b\"],[0.6666666666666666,\"#ed7953\"],[0.7777777777777778,\"#fb9f3a\"],[0.8888888888888888,\"#fdca26\"],[1.0,\"#f0f921\"]]}],\"choropleth\":[{\"type\":\"choropleth\",\"colorbar\":{\"outlinewidth\":0,\"ticks\":\"\"}}],\"histogram2d\":[{\"type\":\"histogram2d\",\"colorbar\":{\"outlinewidth\":0,\"ticks\":\"\"},\"colorscale\":[[0.0,\"#0d0887\"],[0.1111111111111111,\"#46039f\"],[0.2222222222222222,\"#7201a8\"],[0.3333333333333333,\"#9c179e\"],[0.4444444444444444,\"#bd3786\"],[0.5555555555555556,\"#d8576b\"],[0.6666666666666666,\"#ed7953\"],[0.7777777777777778,\"#fb9f3a\"],[0.8888888888888888,\"#fdca26\"],[1.0,\"#f0f921\"]]}],\"heatmap\":[{\"type\":\"heatmap\",\"colorbar\":{\"outlinewidth\":0,\"ticks\":\"\"},\"colorscale\":[[0.0,\"#0d0887\"],[0.1111111111111111,\"#46039f\"],[0.2222222222222222,\"#7201a8\"],[0.3333333333333333,\"#9c179e\"],[0.4444444444444444,\"#bd3786\"],[0.5555555555555556,\"#d8576b\"],[0.6666666666666666,\"#ed7953\"],[0.7777777777777778,\"#fb9f3a\"],[0.8888888888888888,\"#fdca26\"],[1.0,\"#f0f921\"]]}],\"heatmapgl\":[{\"type\":\"heatmapgl\",\"colorbar\":{\"outlinewidth\":0,\"ticks\":\"\"},\"colorscale\":[[0.0,\"#0d0887\"],[0.1111111111111111,\"#46039f\"],[0.2222222222222222,\"#7201a8\"],[0.3333333333333333,\"#9c179e\"],[0.4444444444444444,\"#bd3786\"],[0.5555555555555556,\"#d8576b\"],[0.6666666666666666,\"#ed7953\"],[0.7777777777777778,\"#fb9f3a\"],[0.8888888888888888,\"#fdca26\"],[1.0,\"#f0f921\"]]}],\"contourcarpet\":[{\"type\":\"contourcarpet\",\"colorbar\":{\"outlinewidth\":0,\"ticks\":\"\"}}],\"contour\":[{\"type\":\"contour\",\"colorbar\":{\"outlinewidth\":0,\"ticks\":\"\"},\"colorscale\":[[0.0,\"#0d0887\"],[0.1111111111111111,\"#46039f\"],[0.2222222222222222,\"#7201a8\"],[0.3333333333333333,\"#9c179e\"],[0.4444444444444444,\"#bd3786\"],[0.5555555555555556,\"#d8576b\"],[0.6666666666666666,\"#ed7953\"],[0.7777777777777778,\"#fb9f3a\"],[0.8888888888888888,\"#fdca26\"],[1.0,\"#f0f921\"]]}],\"surface\":[{\"type\":\"surface\",\"colorbar\":{\"outlinewidth\":0,\"ticks\":\"\"},\"colorscale\":[[0.0,\"#0d0887\"],[0.1111111111111111,\"#46039f\"],[0.2222222222222222,\"#7201a8\"],[0.3333333333333333,\"#9c179e\"],[0.4444444444444444,\"#bd3786\"],[0.5555555555555556,\"#d8576b\"],[0.6666666666666666,\"#ed7953\"],[0.7777777777777778,\"#fb9f3a\"],[0.8888888888888888,\"#fdca26\"],[1.0,\"#f0f921\"]]}],\"mesh3d\":[{\"type\":\"mesh3d\",\"colorbar\":{\"outlinewidth\":0,\"ticks\":\"\"}}],\"scatter\":[{\"fillpattern\":{\"fillmode\":\"overlay\",\"size\":10,\"solidity\":0.2},\"type\":\"scatter\"}],\"parcoords\":[{\"type\":\"parcoords\",\"line\":{\"colorbar\":{\"outlinewidth\":0,\"ticks\":\"\"}}}],\"scatterpolargl\":[{\"type\":\"scatterpolargl\",\"marker\":{\"colorbar\":{\"outlinewidth\":0,\"ticks\":\"\"}}}],\"bar\":[{\"error_x\":{\"color\":\"#2a3f5f\"},\"error_y\":{\"color\":\"#2a3f5f\"},\"marker\":{\"line\":{\"color\":\"#E5ECF6\",\"width\":0.5},\"pattern\":{\"fillmode\":\"overlay\",\"size\":10,\"solidity\":0.2}},\"type\":\"bar\"}],\"scattergeo\":[{\"type\":\"scattergeo\",\"marker\":{\"colorbar\":{\"outlinewidth\":0,\"ticks\":\"\"}}}],\"scatterpolar\":[{\"type\":\"scatterpolar\",\"marker\":{\"colorbar\":{\"outlinewidth\":0,\"ticks\":\"\"}}}],\"histogram\":[{\"marker\":{\"pattern\":{\"fillmode\":\"overlay\",\"size\":10,\"solidity\":0.2}},\"type\":\"histogram\"}],\"scattergl\":[{\"type\":\"scattergl\",\"marker\":{\"colorbar\":{\"outlinewidth\":0,\"ticks\":\"\"}}}],\"scatter3d\":[{\"type\":\"scatter3d\",\"line\":{\"colorbar\":{\"outlinewidth\":0,\"ticks\":\"\"}},\"marker\":{\"colorbar\":{\"outlinewidth\":0,\"ticks\":\"\"}}}],\"scattermapbox\":[{\"type\":\"scattermapbox\",\"marker\":{\"colorbar\":{\"outlinewidth\":0,\"ticks\":\"\"}}}],\"scatterternary\":[{\"type\":\"scatterternary\",\"marker\":{\"colorbar\":{\"outlinewidth\":0,\"ticks\":\"\"}}}],\"scattercarpet\":[{\"type\":\"scattercarpet\",\"marker\":{\"colorbar\":{\"outlinewidth\":0,\"ticks\":\"\"}}}],\"carpet\":[{\"aaxis\":{\"endlinecolor\":\"#2a3f5f\",\"gridcolor\":\"white\",\"linecolor\":\"white\",\"minorgridcolor\":\"white\",\"startlinecolor\":\"#2a3f5f\"},\"baxis\":{\"endlinecolor\":\"#2a3f5f\",\"gridcolor\":\"white\",\"linecolor\":\"white\",\"minorgridcolor\":\"white\",\"startlinecolor\":\"#2a3f5f\"},\"type\":\"carpet\"}],\"table\":[{\"cells\":{\"fill\":{\"color\":\"#EBF0F8\"},\"line\":{\"color\":\"white\"}},\"header\":{\"fill\":{\"color\":\"#C8D4E3\"},\"line\":{\"color\":\"white\"}},\"type\":\"table\"}],\"barpolar\":[{\"marker\":{\"line\":{\"color\":\"#E5ECF6\",\"width\":0.5},\"pattern\":{\"fillmode\":\"overlay\",\"size\":10,\"solidity\":0.2}},\"type\":\"barpolar\"}],\"pie\":[{\"automargin\":true,\"type\":\"pie\"}]},\"layout\":{\"autotypenumbers\":\"strict\",\"colorway\":[\"#636efa\",\"#EF553B\",\"#00cc96\",\"#ab63fa\",\"#FFA15A\",\"#19d3f3\",\"#FF6692\",\"#B6E880\",\"#FF97FF\",\"#FECB52\"],\"font\":{\"color\":\"#2a3f5f\"},\"hovermode\":\"closest\",\"hoverlabel\":{\"align\":\"left\"},\"paper_bgcolor\":\"white\",\"plot_bgcolor\":\"#E5ECF6\",\"polar\":{\"bgcolor\":\"#E5ECF6\",\"angularaxis\":{\"gridcolor\":\"white\",\"linecolor\":\"white\",\"ticks\":\"\"},\"radialaxis\":{\"gridcolor\":\"white\",\"linecolor\":\"white\",\"ticks\":\"\"}},\"ternary\":{\"bgcolor\":\"#E5ECF6\",\"aaxis\":{\"gridcolor\":\"white\",\"linecolor\":\"white\",\"ticks\":\"\"},\"baxis\":{\"gridcolor\":\"white\",\"linecolor\":\"white\",\"ticks\":\"\"},\"caxis\":{\"gridcolor\":\"white\",\"linecolor\":\"white\",\"ticks\":\"\"}},\"coloraxis\":{\"colorbar\":{\"outlinewidth\":0,\"ticks\":\"\"}},\"colorscale\":{\"sequential\":[[0.0,\"#0d0887\"],[0.1111111111111111,\"#46039f\"],[0.2222222222222222,\"#7201a8\"],[0.3333333333333333,\"#9c179e\"],[0.4444444444444444,\"#bd3786\"],[0.5555555555555556,\"#d8576b\"],[0.6666666666666666,\"#ed7953\"],[0.7777777777777778,\"#fb9f3a\"],[0.8888888888888888,\"#fdca26\"],[1.0,\"#f0f921\"]],\"sequentialminus\":[[0.0,\"#0d0887\"],[0.1111111111111111,\"#46039f\"],[0.2222222222222222,\"#7201a8\"],[0.3333333333333333,\"#9c179e\"],[0.4444444444444444,\"#bd3786\"],[0.5555555555555556,\"#d8576b\"],[0.6666666666666666,\"#ed7953\"],[0.7777777777777778,\"#fb9f3a\"],[0.8888888888888888,\"#fdca26\"],[1.0,\"#f0f921\"]],\"diverging\":[[0,\"#8e0152\"],[0.1,\"#c51b7d\"],[0.2,\"#de77ae\"],[0.3,\"#f1b6da\"],[0.4,\"#fde0ef\"],[0.5,\"#f7f7f7\"],[0.6,\"#e6f5d0\"],[0.7,\"#b8e186\"],[0.8,\"#7fbc41\"],[0.9,\"#4d9221\"],[1,\"#276419\"]]},\"xaxis\":{\"gridcolor\":\"white\",\"linecolor\":\"white\",\"ticks\":\"\",\"title\":{\"standoff\":15},\"zerolinecolor\":\"white\",\"automargin\":true,\"zerolinewidth\":2},\"yaxis\":{\"gridcolor\":\"white\",\"linecolor\":\"white\",\"ticks\":\"\",\"title\":{\"standoff\":15},\"zerolinecolor\":\"white\",\"automargin\":true,\"zerolinewidth\":2},\"scene\":{\"xaxis\":{\"backgroundcolor\":\"#E5ECF6\",\"gridcolor\":\"white\",\"linecolor\":\"white\",\"showbackground\":true,\"ticks\":\"\",\"zerolinecolor\":\"white\",\"gridwidth\":2},\"yaxis\":{\"backgroundcolor\":\"#E5ECF6\",\"gridcolor\":\"white\",\"linecolor\":\"white\",\"showbackground\":true,\"ticks\":\"\",\"zerolinecolor\":\"white\",\"gridwidth\":2},\"zaxis\":{\"backgroundcolor\":\"#E5ECF6\",\"gridcolor\":\"white\",\"linecolor\":\"white\",\"showbackground\":true,\"ticks\":\"\",\"zerolinecolor\":\"white\",\"gridwidth\":2}},\"shapedefaults\":{\"line\":{\"color\":\"#2a3f5f\"}},\"annotationdefaults\":{\"arrowcolor\":\"#2a3f5f\",\"arrowhead\":0,\"arrowwidth\":1},\"geo\":{\"bgcolor\":\"white\",\"landcolor\":\"#E5ECF6\",\"subunitcolor\":\"white\",\"showland\":true,\"showlakes\":true,\"lakecolor\":\"white\"},\"title\":{\"x\":0.05},\"mapbox\":{\"style\":\"light\"}}},\"xaxis\":{\"anchor\":\"y\",\"domain\":[0.0,1.0],\"title\":{\"text\":\"ann\\u00e9e\"}},\"yaxis\":{\"anchor\":\"x\",\"domain\":[0.0,1.0],\"title\":{\"text\":\"Nombre de victimes\"}},\"legend\":{\"title\":{\"text\":\"Type de victime\"},\"tracegroupgap\":0},\"title\":{\"text\":\"Nombre de victimes d'incidents par arme \\u00e0 feu par an\"},\"barmode\":\"group\"},                        {\"responsive\": true}                    ).then(function(){\n",
       "                            \n",
       "var gd = document.getElementById('623cbbc5-bb09-42cf-a7c3-a2591e8c1a8e');\n",
       "var x = new MutationObserver(function (mutations, observer) {{\n",
       "        var display = window.getComputedStyle(gd).display;\n",
       "        if (!display || display === 'none') {{\n",
       "            console.log([gd, 'removed!']);\n",
       "            Plotly.purge(gd);\n",
       "            observer.disconnect();\n",
       "        }}\n",
       "}});\n",
       "\n",
       "// Listen for the removal of the full notebook cells\n",
       "var notebookContainer = gd.closest('#notebook-container');\n",
       "if (notebookContainer) {{\n",
       "    x.observe(notebookContainer, {childList: true});\n",
       "}}\n",
       "\n",
       "// Listen for the clearing of the current output cell\n",
       "var outputEl = gd.closest('.output');\n",
       "if (outputEl) {{\n",
       "    x.observe(outputEl, {childList: true});\n",
       "}}\n",
       "\n",
       "                        })                };                });            </script>        </div>"
      ]
     },
     "metadata": {},
     "output_type": "display_data"
    }
   ],
   "source": [
    "grouped_data = base_totale.groupby(base_totale['date'].dt.year).agg({\n",
    "    'n_injured': 'sum',\n",
    "    'n_killed': 'sum'\n",
    "}).reset_index()\n",
    "\n",
    "fig1 = px.bar(\n",
    "    grouped_data,\n",
    "    x=grouped_data['date'],\n",
    "    y=['n_injured', 'n_killed'],\n",
    "    labels={\"date\": \"année\", \"value\": \"Nombre de victimes\", \"variable\": \"Type de victime\"},\n",
    "    title=\"Nombre de victimes d'incidents par arme à feu par an\",\n",
    "    color_discrete_map={\"n_injured\": \"blue\", \"n_killed\": \"red\"},\n",
    ")\n",
    "\n",
    "fig1.update_layout(barmode='group')  # Display bars side by side\n",
    "\n",
    "fig1.show()\n"
   ]
  },
  {
   "cell_type": "code",
   "execution_count": 49,
   "metadata": {},
   "outputs": [
    {
     "name": "stdout",
     "output_type": "stream",
     "text": [
      "Ce graphique nous montre que, non seulement le nombre d'incidents par arme à feu augmente sur nos 4 années complètes considérées, mais que le nombre de victimes (blessés et tués) augmente également. Ainsi, les conséquences de ces incidents touchent de plus en plus d'individus au fur et à mesure des années.\n"
     ]
    }
   ],
   "source": [
    "print(\"Ce graphique nous montre que, non seulement le nombre d'incidents par arme à feu augmente sur nos 4 années complètes considérées, mais que le nombre de victimes (blessés et tués) augmente également. Ainsi, les conséquences de ces incidents touchent de plus en plus d'individus au fur et à mesure des années.\")"
   ]
  },
  {
   "cell_type": "code",
   "execution_count": 57,
   "metadata": {},
   "outputs": [
    {
     "data": {
      "application/vnd.plotly.v1+json": {
       "config": {
        "plotlyServerURL": "https://plot.ly"
       },
       "data": [
        {
         "alignmentgroup": "True",
         "hovertemplate": "Type de victime=n_injured<br>année=%{x}<br>Moyenne de victimes par incident=%{y}<extra></extra>",
         "legendgroup": "n_injured",
         "marker": {
          "color": "firebrick",
          "pattern": {
           "shape": ""
          }
         },
         "name": "n_injured",
         "offsetgroup": "n_injured",
         "orientation": "v",
         "showlegend": true,
         "textposition": "auto",
         "type": "bar",
         "x": [
          2014,
          2015,
          2016,
          2017
         ],
         "xaxis": "x",
         "y": [
          0.45692315561542,
          0.5291307559714357,
          0.5384864374959539,
          0.514212522071381
         ],
         "yaxis": "y"
        },
        {
         "alignmentgroup": "True",
         "hovertemplate": "Type de victime=n_killed<br>année=%{x}<br>Moyenne de victimes par incident=%{y}<extra></extra>",
         "legendgroup": "n_killed",
         "marker": {
          "color": "steelblue",
          "pattern": {
           "shape": ""
          }
         },
         "name": "n_killed",
         "offsetgroup": "n_killed",
         "orientation": "v",
         "showlegend": true,
         "textposition": "auto",
         "type": "bar",
         "x": [
          2014,
          2015,
          2016,
          2017
         ],
         "xaxis": "x",
         "y": [
          0.2410530084738538,
          0.25435442830173194,
          0.2442221790638959,
          0.2589660462558254
         ],
         "yaxis": "y"
        }
       ],
       "layout": {
        "barmode": "group",
        "legend": {
         "title": {
          "text": "Type de victime"
         },
         "tracegroupgap": 0
        },
        "template": {
         "data": {
          "bar": [
           {
            "error_x": {
             "color": "#2a3f5f"
            },
            "error_y": {
             "color": "#2a3f5f"
            },
            "marker": {
             "line": {
              "color": "#E5ECF6",
              "width": 0.5
             },
             "pattern": {
              "fillmode": "overlay",
              "size": 10,
              "solidity": 0.2
             }
            },
            "type": "bar"
           }
          ],
          "barpolar": [
           {
            "marker": {
             "line": {
              "color": "#E5ECF6",
              "width": 0.5
             },
             "pattern": {
              "fillmode": "overlay",
              "size": 10,
              "solidity": 0.2
             }
            },
            "type": "barpolar"
           }
          ],
          "carpet": [
           {
            "aaxis": {
             "endlinecolor": "#2a3f5f",
             "gridcolor": "white",
             "linecolor": "white",
             "minorgridcolor": "white",
             "startlinecolor": "#2a3f5f"
            },
            "baxis": {
             "endlinecolor": "#2a3f5f",
             "gridcolor": "white",
             "linecolor": "white",
             "minorgridcolor": "white",
             "startlinecolor": "#2a3f5f"
            },
            "type": "carpet"
           }
          ],
          "choropleth": [
           {
            "colorbar": {
             "outlinewidth": 0,
             "ticks": ""
            },
            "type": "choropleth"
           }
          ],
          "contour": [
           {
            "colorbar": {
             "outlinewidth": 0,
             "ticks": ""
            },
            "colorscale": [
             [
              0,
              "#0d0887"
             ],
             [
              0.1111111111111111,
              "#46039f"
             ],
             [
              0.2222222222222222,
              "#7201a8"
             ],
             [
              0.3333333333333333,
              "#9c179e"
             ],
             [
              0.4444444444444444,
              "#bd3786"
             ],
             [
              0.5555555555555556,
              "#d8576b"
             ],
             [
              0.6666666666666666,
              "#ed7953"
             ],
             [
              0.7777777777777778,
              "#fb9f3a"
             ],
             [
              0.8888888888888888,
              "#fdca26"
             ],
             [
              1,
              "#f0f921"
             ]
            ],
            "type": "contour"
           }
          ],
          "contourcarpet": [
           {
            "colorbar": {
             "outlinewidth": 0,
             "ticks": ""
            },
            "type": "contourcarpet"
           }
          ],
          "heatmap": [
           {
            "colorbar": {
             "outlinewidth": 0,
             "ticks": ""
            },
            "colorscale": [
             [
              0,
              "#0d0887"
             ],
             [
              0.1111111111111111,
              "#46039f"
             ],
             [
              0.2222222222222222,
              "#7201a8"
             ],
             [
              0.3333333333333333,
              "#9c179e"
             ],
             [
              0.4444444444444444,
              "#bd3786"
             ],
             [
              0.5555555555555556,
              "#d8576b"
             ],
             [
              0.6666666666666666,
              "#ed7953"
             ],
             [
              0.7777777777777778,
              "#fb9f3a"
             ],
             [
              0.8888888888888888,
              "#fdca26"
             ],
             [
              1,
              "#f0f921"
             ]
            ],
            "type": "heatmap"
           }
          ],
          "heatmapgl": [
           {
            "colorbar": {
             "outlinewidth": 0,
             "ticks": ""
            },
            "colorscale": [
             [
              0,
              "#0d0887"
             ],
             [
              0.1111111111111111,
              "#46039f"
             ],
             [
              0.2222222222222222,
              "#7201a8"
             ],
             [
              0.3333333333333333,
              "#9c179e"
             ],
             [
              0.4444444444444444,
              "#bd3786"
             ],
             [
              0.5555555555555556,
              "#d8576b"
             ],
             [
              0.6666666666666666,
              "#ed7953"
             ],
             [
              0.7777777777777778,
              "#fb9f3a"
             ],
             [
              0.8888888888888888,
              "#fdca26"
             ],
             [
              1,
              "#f0f921"
             ]
            ],
            "type": "heatmapgl"
           }
          ],
          "histogram": [
           {
            "marker": {
             "pattern": {
              "fillmode": "overlay",
              "size": 10,
              "solidity": 0.2
             }
            },
            "type": "histogram"
           }
          ],
          "histogram2d": [
           {
            "colorbar": {
             "outlinewidth": 0,
             "ticks": ""
            },
            "colorscale": [
             [
              0,
              "#0d0887"
             ],
             [
              0.1111111111111111,
              "#46039f"
             ],
             [
              0.2222222222222222,
              "#7201a8"
             ],
             [
              0.3333333333333333,
              "#9c179e"
             ],
             [
              0.4444444444444444,
              "#bd3786"
             ],
             [
              0.5555555555555556,
              "#d8576b"
             ],
             [
              0.6666666666666666,
              "#ed7953"
             ],
             [
              0.7777777777777778,
              "#fb9f3a"
             ],
             [
              0.8888888888888888,
              "#fdca26"
             ],
             [
              1,
              "#f0f921"
             ]
            ],
            "type": "histogram2d"
           }
          ],
          "histogram2dcontour": [
           {
            "colorbar": {
             "outlinewidth": 0,
             "ticks": ""
            },
            "colorscale": [
             [
              0,
              "#0d0887"
             ],
             [
              0.1111111111111111,
              "#46039f"
             ],
             [
              0.2222222222222222,
              "#7201a8"
             ],
             [
              0.3333333333333333,
              "#9c179e"
             ],
             [
              0.4444444444444444,
              "#bd3786"
             ],
             [
              0.5555555555555556,
              "#d8576b"
             ],
             [
              0.6666666666666666,
              "#ed7953"
             ],
             [
              0.7777777777777778,
              "#fb9f3a"
             ],
             [
              0.8888888888888888,
              "#fdca26"
             ],
             [
              1,
              "#f0f921"
             ]
            ],
            "type": "histogram2dcontour"
           }
          ],
          "mesh3d": [
           {
            "colorbar": {
             "outlinewidth": 0,
             "ticks": ""
            },
            "type": "mesh3d"
           }
          ],
          "parcoords": [
           {
            "line": {
             "colorbar": {
              "outlinewidth": 0,
              "ticks": ""
             }
            },
            "type": "parcoords"
           }
          ],
          "pie": [
           {
            "automargin": true,
            "type": "pie"
           }
          ],
          "scatter": [
           {
            "fillpattern": {
             "fillmode": "overlay",
             "size": 10,
             "solidity": 0.2
            },
            "type": "scatter"
           }
          ],
          "scatter3d": [
           {
            "line": {
             "colorbar": {
              "outlinewidth": 0,
              "ticks": ""
             }
            },
            "marker": {
             "colorbar": {
              "outlinewidth": 0,
              "ticks": ""
             }
            },
            "type": "scatter3d"
           }
          ],
          "scattercarpet": [
           {
            "marker": {
             "colorbar": {
              "outlinewidth": 0,
              "ticks": ""
             }
            },
            "type": "scattercarpet"
           }
          ],
          "scattergeo": [
           {
            "marker": {
             "colorbar": {
              "outlinewidth": 0,
              "ticks": ""
             }
            },
            "type": "scattergeo"
           }
          ],
          "scattergl": [
           {
            "marker": {
             "colorbar": {
              "outlinewidth": 0,
              "ticks": ""
             }
            },
            "type": "scattergl"
           }
          ],
          "scattermapbox": [
           {
            "marker": {
             "colorbar": {
              "outlinewidth": 0,
              "ticks": ""
             }
            },
            "type": "scattermapbox"
           }
          ],
          "scatterpolar": [
           {
            "marker": {
             "colorbar": {
              "outlinewidth": 0,
              "ticks": ""
             }
            },
            "type": "scatterpolar"
           }
          ],
          "scatterpolargl": [
           {
            "marker": {
             "colorbar": {
              "outlinewidth": 0,
              "ticks": ""
             }
            },
            "type": "scatterpolargl"
           }
          ],
          "scatterternary": [
           {
            "marker": {
             "colorbar": {
              "outlinewidth": 0,
              "ticks": ""
             }
            },
            "type": "scatterternary"
           }
          ],
          "surface": [
           {
            "colorbar": {
             "outlinewidth": 0,
             "ticks": ""
            },
            "colorscale": [
             [
              0,
              "#0d0887"
             ],
             [
              0.1111111111111111,
              "#46039f"
             ],
             [
              0.2222222222222222,
              "#7201a8"
             ],
             [
              0.3333333333333333,
              "#9c179e"
             ],
             [
              0.4444444444444444,
              "#bd3786"
             ],
             [
              0.5555555555555556,
              "#d8576b"
             ],
             [
              0.6666666666666666,
              "#ed7953"
             ],
             [
              0.7777777777777778,
              "#fb9f3a"
             ],
             [
              0.8888888888888888,
              "#fdca26"
             ],
             [
              1,
              "#f0f921"
             ]
            ],
            "type": "surface"
           }
          ],
          "table": [
           {
            "cells": {
             "fill": {
              "color": "#EBF0F8"
             },
             "line": {
              "color": "white"
             }
            },
            "header": {
             "fill": {
              "color": "#C8D4E3"
             },
             "line": {
              "color": "white"
             }
            },
            "type": "table"
           }
          ]
         },
         "layout": {
          "annotationdefaults": {
           "arrowcolor": "#2a3f5f",
           "arrowhead": 0,
           "arrowwidth": 1
          },
          "autotypenumbers": "strict",
          "coloraxis": {
           "colorbar": {
            "outlinewidth": 0,
            "ticks": ""
           }
          },
          "colorscale": {
           "diverging": [
            [
             0,
             "#8e0152"
            ],
            [
             0.1,
             "#c51b7d"
            ],
            [
             0.2,
             "#de77ae"
            ],
            [
             0.3,
             "#f1b6da"
            ],
            [
             0.4,
             "#fde0ef"
            ],
            [
             0.5,
             "#f7f7f7"
            ],
            [
             0.6,
             "#e6f5d0"
            ],
            [
             0.7,
             "#b8e186"
            ],
            [
             0.8,
             "#7fbc41"
            ],
            [
             0.9,
             "#4d9221"
            ],
            [
             1,
             "#276419"
            ]
           ],
           "sequential": [
            [
             0,
             "#0d0887"
            ],
            [
             0.1111111111111111,
             "#46039f"
            ],
            [
             0.2222222222222222,
             "#7201a8"
            ],
            [
             0.3333333333333333,
             "#9c179e"
            ],
            [
             0.4444444444444444,
             "#bd3786"
            ],
            [
             0.5555555555555556,
             "#d8576b"
            ],
            [
             0.6666666666666666,
             "#ed7953"
            ],
            [
             0.7777777777777778,
             "#fb9f3a"
            ],
            [
             0.8888888888888888,
             "#fdca26"
            ],
            [
             1,
             "#f0f921"
            ]
           ],
           "sequentialminus": [
            [
             0,
             "#0d0887"
            ],
            [
             0.1111111111111111,
             "#46039f"
            ],
            [
             0.2222222222222222,
             "#7201a8"
            ],
            [
             0.3333333333333333,
             "#9c179e"
            ],
            [
             0.4444444444444444,
             "#bd3786"
            ],
            [
             0.5555555555555556,
             "#d8576b"
            ],
            [
             0.6666666666666666,
             "#ed7953"
            ],
            [
             0.7777777777777778,
             "#fb9f3a"
            ],
            [
             0.8888888888888888,
             "#fdca26"
            ],
            [
             1,
             "#f0f921"
            ]
           ]
          },
          "colorway": [
           "#636efa",
           "#EF553B",
           "#00cc96",
           "#ab63fa",
           "#FFA15A",
           "#19d3f3",
           "#FF6692",
           "#B6E880",
           "#FF97FF",
           "#FECB52"
          ],
          "font": {
           "color": "#2a3f5f"
          },
          "geo": {
           "bgcolor": "white",
           "lakecolor": "white",
           "landcolor": "#E5ECF6",
           "showlakes": true,
           "showland": true,
           "subunitcolor": "white"
          },
          "hoverlabel": {
           "align": "left"
          },
          "hovermode": "closest",
          "mapbox": {
           "style": "light"
          },
          "paper_bgcolor": "white",
          "plot_bgcolor": "#E5ECF6",
          "polar": {
           "angularaxis": {
            "gridcolor": "white",
            "linecolor": "white",
            "ticks": ""
           },
           "bgcolor": "#E5ECF6",
           "radialaxis": {
            "gridcolor": "white",
            "linecolor": "white",
            "ticks": ""
           }
          },
          "scene": {
           "xaxis": {
            "backgroundcolor": "#E5ECF6",
            "gridcolor": "white",
            "gridwidth": 2,
            "linecolor": "white",
            "showbackground": true,
            "ticks": "",
            "zerolinecolor": "white"
           },
           "yaxis": {
            "backgroundcolor": "#E5ECF6",
            "gridcolor": "white",
            "gridwidth": 2,
            "linecolor": "white",
            "showbackground": true,
            "ticks": "",
            "zerolinecolor": "white"
           },
           "zaxis": {
            "backgroundcolor": "#E5ECF6",
            "gridcolor": "white",
            "gridwidth": 2,
            "linecolor": "white",
            "showbackground": true,
            "ticks": "",
            "zerolinecolor": "white"
           }
          },
          "shapedefaults": {
           "line": {
            "color": "#2a3f5f"
           }
          },
          "ternary": {
           "aaxis": {
            "gridcolor": "white",
            "linecolor": "white",
            "ticks": ""
           },
           "baxis": {
            "gridcolor": "white",
            "linecolor": "white",
            "ticks": ""
           },
           "bgcolor": "#E5ECF6",
           "caxis": {
            "gridcolor": "white",
            "linecolor": "white",
            "ticks": ""
           }
          },
          "title": {
           "x": 0.05
          },
          "xaxis": {
           "automargin": true,
           "gridcolor": "white",
           "linecolor": "white",
           "ticks": "",
           "title": {
            "standoff": 15
           },
           "zerolinecolor": "white",
           "zerolinewidth": 2
          },
          "yaxis": {
           "automargin": true,
           "gridcolor": "white",
           "linecolor": "white",
           "ticks": "",
           "title": {
            "standoff": 15
           },
           "zerolinecolor": "white",
           "zerolinewidth": 2
          }
         }
        },
        "title": {
         "text": "Nombre moyen de victimes par incident par arme à feu par an"
        },
        "xaxis": {
         "anchor": "y",
         "domain": [
          0,
          1
         ],
         "title": {
          "text": "année"
         }
        },
        "yaxis": {
         "anchor": "x",
         "domain": [
          0,
          1
         ],
         "title": {
          "text": "Moyenne de victimes par incident"
         }
        }
       }
      },
      "text/html": [
       "<div>                            <div id=\"44c34a4c-866f-4eaa-bf2e-a4636a76c18d\" class=\"plotly-graph-div\" style=\"height:525px; width:100%;\"></div>            <script type=\"text/javascript\">                require([\"plotly\"], function(Plotly) {                    window.PLOTLYENV=window.PLOTLYENV || {};                                    if (document.getElementById(\"44c34a4c-866f-4eaa-bf2e-a4636a76c18d\")) {                    Plotly.newPlot(                        \"44c34a4c-866f-4eaa-bf2e-a4636a76c18d\",                        [{\"alignmentgroup\":\"True\",\"hovertemplate\":\"Type de victime=n_injured\\u003cbr\\u003eann\\u00e9e=%{x}\\u003cbr\\u003eMoyenne de victimes par incident=%{y}\\u003cextra\\u003e\\u003c\\u002fextra\\u003e\",\"legendgroup\":\"n_injured\",\"marker\":{\"color\":\"firebrick\",\"pattern\":{\"shape\":\"\"}},\"name\":\"n_injured\",\"offsetgroup\":\"n_injured\",\"orientation\":\"v\",\"showlegend\":true,\"textposition\":\"auto\",\"x\":[2014,2015,2016,2017],\"xaxis\":\"x\",\"y\":[0.45692315561542,0.5291307559714357,0.5384864374959539,0.514212522071381],\"yaxis\":\"y\",\"type\":\"bar\"},{\"alignmentgroup\":\"True\",\"hovertemplate\":\"Type de victime=n_killed\\u003cbr\\u003eann\\u00e9e=%{x}\\u003cbr\\u003eMoyenne de victimes par incident=%{y}\\u003cextra\\u003e\\u003c\\u002fextra\\u003e\",\"legendgroup\":\"n_killed\",\"marker\":{\"color\":\"steelblue\",\"pattern\":{\"shape\":\"\"}},\"name\":\"n_killed\",\"offsetgroup\":\"n_killed\",\"orientation\":\"v\",\"showlegend\":true,\"textposition\":\"auto\",\"x\":[2014,2015,2016,2017],\"xaxis\":\"x\",\"y\":[0.2410530084738538,0.25435442830173194,0.2442221790638959,0.2589660462558254],\"yaxis\":\"y\",\"type\":\"bar\"}],                        {\"template\":{\"data\":{\"histogram2dcontour\":[{\"type\":\"histogram2dcontour\",\"colorbar\":{\"outlinewidth\":0,\"ticks\":\"\"},\"colorscale\":[[0.0,\"#0d0887\"],[0.1111111111111111,\"#46039f\"],[0.2222222222222222,\"#7201a8\"],[0.3333333333333333,\"#9c179e\"],[0.4444444444444444,\"#bd3786\"],[0.5555555555555556,\"#d8576b\"],[0.6666666666666666,\"#ed7953\"],[0.7777777777777778,\"#fb9f3a\"],[0.8888888888888888,\"#fdca26\"],[1.0,\"#f0f921\"]]}],\"choropleth\":[{\"type\":\"choropleth\",\"colorbar\":{\"outlinewidth\":0,\"ticks\":\"\"}}],\"histogram2d\":[{\"type\":\"histogram2d\",\"colorbar\":{\"outlinewidth\":0,\"ticks\":\"\"},\"colorscale\":[[0.0,\"#0d0887\"],[0.1111111111111111,\"#46039f\"],[0.2222222222222222,\"#7201a8\"],[0.3333333333333333,\"#9c179e\"],[0.4444444444444444,\"#bd3786\"],[0.5555555555555556,\"#d8576b\"],[0.6666666666666666,\"#ed7953\"],[0.7777777777777778,\"#fb9f3a\"],[0.8888888888888888,\"#fdca26\"],[1.0,\"#f0f921\"]]}],\"heatmap\":[{\"type\":\"heatmap\",\"colorbar\":{\"outlinewidth\":0,\"ticks\":\"\"},\"colorscale\":[[0.0,\"#0d0887\"],[0.1111111111111111,\"#46039f\"],[0.2222222222222222,\"#7201a8\"],[0.3333333333333333,\"#9c179e\"],[0.4444444444444444,\"#bd3786\"],[0.5555555555555556,\"#d8576b\"],[0.6666666666666666,\"#ed7953\"],[0.7777777777777778,\"#fb9f3a\"],[0.8888888888888888,\"#fdca26\"],[1.0,\"#f0f921\"]]}],\"heatmapgl\":[{\"type\":\"heatmapgl\",\"colorbar\":{\"outlinewidth\":0,\"ticks\":\"\"},\"colorscale\":[[0.0,\"#0d0887\"],[0.1111111111111111,\"#46039f\"],[0.2222222222222222,\"#7201a8\"],[0.3333333333333333,\"#9c179e\"],[0.4444444444444444,\"#bd3786\"],[0.5555555555555556,\"#d8576b\"],[0.6666666666666666,\"#ed7953\"],[0.7777777777777778,\"#fb9f3a\"],[0.8888888888888888,\"#fdca26\"],[1.0,\"#f0f921\"]]}],\"contourcarpet\":[{\"type\":\"contourcarpet\",\"colorbar\":{\"outlinewidth\":0,\"ticks\":\"\"}}],\"contour\":[{\"type\":\"contour\",\"colorbar\":{\"outlinewidth\":0,\"ticks\":\"\"},\"colorscale\":[[0.0,\"#0d0887\"],[0.1111111111111111,\"#46039f\"],[0.2222222222222222,\"#7201a8\"],[0.3333333333333333,\"#9c179e\"],[0.4444444444444444,\"#bd3786\"],[0.5555555555555556,\"#d8576b\"],[0.6666666666666666,\"#ed7953\"],[0.7777777777777778,\"#fb9f3a\"],[0.8888888888888888,\"#fdca26\"],[1.0,\"#f0f921\"]]}],\"surface\":[{\"type\":\"surface\",\"colorbar\":{\"outlinewidth\":0,\"ticks\":\"\"},\"colorscale\":[[0.0,\"#0d0887\"],[0.1111111111111111,\"#46039f\"],[0.2222222222222222,\"#7201a8\"],[0.3333333333333333,\"#9c179e\"],[0.4444444444444444,\"#bd3786\"],[0.5555555555555556,\"#d8576b\"],[0.6666666666666666,\"#ed7953\"],[0.7777777777777778,\"#fb9f3a\"],[0.8888888888888888,\"#fdca26\"],[1.0,\"#f0f921\"]]}],\"mesh3d\":[{\"type\":\"mesh3d\",\"colorbar\":{\"outlinewidth\":0,\"ticks\":\"\"}}],\"scatter\":[{\"fillpattern\":{\"fillmode\":\"overlay\",\"size\":10,\"solidity\":0.2},\"type\":\"scatter\"}],\"parcoords\":[{\"type\":\"parcoords\",\"line\":{\"colorbar\":{\"outlinewidth\":0,\"ticks\":\"\"}}}],\"scatterpolargl\":[{\"type\":\"scatterpolargl\",\"marker\":{\"colorbar\":{\"outlinewidth\":0,\"ticks\":\"\"}}}],\"bar\":[{\"error_x\":{\"color\":\"#2a3f5f\"},\"error_y\":{\"color\":\"#2a3f5f\"},\"marker\":{\"line\":{\"color\":\"#E5ECF6\",\"width\":0.5},\"pattern\":{\"fillmode\":\"overlay\",\"size\":10,\"solidity\":0.2}},\"type\":\"bar\"}],\"scattergeo\":[{\"type\":\"scattergeo\",\"marker\":{\"colorbar\":{\"outlinewidth\":0,\"ticks\":\"\"}}}],\"scatterpolar\":[{\"type\":\"scatterpolar\",\"marker\":{\"colorbar\":{\"outlinewidth\":0,\"ticks\":\"\"}}}],\"histogram\":[{\"marker\":{\"pattern\":{\"fillmode\":\"overlay\",\"size\":10,\"solidity\":0.2}},\"type\":\"histogram\"}],\"scattergl\":[{\"type\":\"scattergl\",\"marker\":{\"colorbar\":{\"outlinewidth\":0,\"ticks\":\"\"}}}],\"scatter3d\":[{\"type\":\"scatter3d\",\"line\":{\"colorbar\":{\"outlinewidth\":0,\"ticks\":\"\"}},\"marker\":{\"colorbar\":{\"outlinewidth\":0,\"ticks\":\"\"}}}],\"scattermapbox\":[{\"type\":\"scattermapbox\",\"marker\":{\"colorbar\":{\"outlinewidth\":0,\"ticks\":\"\"}}}],\"scatterternary\":[{\"type\":\"scatterternary\",\"marker\":{\"colorbar\":{\"outlinewidth\":0,\"ticks\":\"\"}}}],\"scattercarpet\":[{\"type\":\"scattercarpet\",\"marker\":{\"colorbar\":{\"outlinewidth\":0,\"ticks\":\"\"}}}],\"carpet\":[{\"aaxis\":{\"endlinecolor\":\"#2a3f5f\",\"gridcolor\":\"white\",\"linecolor\":\"white\",\"minorgridcolor\":\"white\",\"startlinecolor\":\"#2a3f5f\"},\"baxis\":{\"endlinecolor\":\"#2a3f5f\",\"gridcolor\":\"white\",\"linecolor\":\"white\",\"minorgridcolor\":\"white\",\"startlinecolor\":\"#2a3f5f\"},\"type\":\"carpet\"}],\"table\":[{\"cells\":{\"fill\":{\"color\":\"#EBF0F8\"},\"line\":{\"color\":\"white\"}},\"header\":{\"fill\":{\"color\":\"#C8D4E3\"},\"line\":{\"color\":\"white\"}},\"type\":\"table\"}],\"barpolar\":[{\"marker\":{\"line\":{\"color\":\"#E5ECF6\",\"width\":0.5},\"pattern\":{\"fillmode\":\"overlay\",\"size\":10,\"solidity\":0.2}},\"type\":\"barpolar\"}],\"pie\":[{\"automargin\":true,\"type\":\"pie\"}]},\"layout\":{\"autotypenumbers\":\"strict\",\"colorway\":[\"#636efa\",\"#EF553B\",\"#00cc96\",\"#ab63fa\",\"#FFA15A\",\"#19d3f3\",\"#FF6692\",\"#B6E880\",\"#FF97FF\",\"#FECB52\"],\"font\":{\"color\":\"#2a3f5f\"},\"hovermode\":\"closest\",\"hoverlabel\":{\"align\":\"left\"},\"paper_bgcolor\":\"white\",\"plot_bgcolor\":\"#E5ECF6\",\"polar\":{\"bgcolor\":\"#E5ECF6\",\"angularaxis\":{\"gridcolor\":\"white\",\"linecolor\":\"white\",\"ticks\":\"\"},\"radialaxis\":{\"gridcolor\":\"white\",\"linecolor\":\"white\",\"ticks\":\"\"}},\"ternary\":{\"bgcolor\":\"#E5ECF6\",\"aaxis\":{\"gridcolor\":\"white\",\"linecolor\":\"white\",\"ticks\":\"\"},\"baxis\":{\"gridcolor\":\"white\",\"linecolor\":\"white\",\"ticks\":\"\"},\"caxis\":{\"gridcolor\":\"white\",\"linecolor\":\"white\",\"ticks\":\"\"}},\"coloraxis\":{\"colorbar\":{\"outlinewidth\":0,\"ticks\":\"\"}},\"colorscale\":{\"sequential\":[[0.0,\"#0d0887\"],[0.1111111111111111,\"#46039f\"],[0.2222222222222222,\"#7201a8\"],[0.3333333333333333,\"#9c179e\"],[0.4444444444444444,\"#bd3786\"],[0.5555555555555556,\"#d8576b\"],[0.6666666666666666,\"#ed7953\"],[0.7777777777777778,\"#fb9f3a\"],[0.8888888888888888,\"#fdca26\"],[1.0,\"#f0f921\"]],\"sequentialminus\":[[0.0,\"#0d0887\"],[0.1111111111111111,\"#46039f\"],[0.2222222222222222,\"#7201a8\"],[0.3333333333333333,\"#9c179e\"],[0.4444444444444444,\"#bd3786\"],[0.5555555555555556,\"#d8576b\"],[0.6666666666666666,\"#ed7953\"],[0.7777777777777778,\"#fb9f3a\"],[0.8888888888888888,\"#fdca26\"],[1.0,\"#f0f921\"]],\"diverging\":[[0,\"#8e0152\"],[0.1,\"#c51b7d\"],[0.2,\"#de77ae\"],[0.3,\"#f1b6da\"],[0.4,\"#fde0ef\"],[0.5,\"#f7f7f7\"],[0.6,\"#e6f5d0\"],[0.7,\"#b8e186\"],[0.8,\"#7fbc41\"],[0.9,\"#4d9221\"],[1,\"#276419\"]]},\"xaxis\":{\"gridcolor\":\"white\",\"linecolor\":\"white\",\"ticks\":\"\",\"title\":{\"standoff\":15},\"zerolinecolor\":\"white\",\"automargin\":true,\"zerolinewidth\":2},\"yaxis\":{\"gridcolor\":\"white\",\"linecolor\":\"white\",\"ticks\":\"\",\"title\":{\"standoff\":15},\"zerolinecolor\":\"white\",\"automargin\":true,\"zerolinewidth\":2},\"scene\":{\"xaxis\":{\"backgroundcolor\":\"#E5ECF6\",\"gridcolor\":\"white\",\"linecolor\":\"white\",\"showbackground\":true,\"ticks\":\"\",\"zerolinecolor\":\"white\",\"gridwidth\":2},\"yaxis\":{\"backgroundcolor\":\"#E5ECF6\",\"gridcolor\":\"white\",\"linecolor\":\"white\",\"showbackground\":true,\"ticks\":\"\",\"zerolinecolor\":\"white\",\"gridwidth\":2},\"zaxis\":{\"backgroundcolor\":\"#E5ECF6\",\"gridcolor\":\"white\",\"linecolor\":\"white\",\"showbackground\":true,\"ticks\":\"\",\"zerolinecolor\":\"white\",\"gridwidth\":2}},\"shapedefaults\":{\"line\":{\"color\":\"#2a3f5f\"}},\"annotationdefaults\":{\"arrowcolor\":\"#2a3f5f\",\"arrowhead\":0,\"arrowwidth\":1},\"geo\":{\"bgcolor\":\"white\",\"landcolor\":\"#E5ECF6\",\"subunitcolor\":\"white\",\"showland\":true,\"showlakes\":true,\"lakecolor\":\"white\"},\"title\":{\"x\":0.05},\"mapbox\":{\"style\":\"light\"}}},\"xaxis\":{\"anchor\":\"y\",\"domain\":[0.0,1.0],\"title\":{\"text\":\"ann\\u00e9e\"}},\"yaxis\":{\"anchor\":\"x\",\"domain\":[0.0,1.0],\"title\":{\"text\":\"Moyenne de victimes par incident\"}},\"legend\":{\"title\":{\"text\":\"Type de victime\"},\"tracegroupgap\":0},\"title\":{\"text\":\"Nombre moyen de victimes par incident par arme \\u00e0 feu par an\"},\"barmode\":\"group\"},                        {\"responsive\": true}                    ).then(function(){\n",
       "                            \n",
       "var gd = document.getElementById('44c34a4c-866f-4eaa-bf2e-a4636a76c18d');\n",
       "var x = new MutationObserver(function (mutations, observer) {{\n",
       "        var display = window.getComputedStyle(gd).display;\n",
       "        if (!display || display === 'none') {{\n",
       "            console.log([gd, 'removed!']);\n",
       "            Plotly.purge(gd);\n",
       "            observer.disconnect();\n",
       "        }}\n",
       "}});\n",
       "\n",
       "// Listen for the removal of the full notebook cells\n",
       "var notebookContainer = gd.closest('#notebook-container');\n",
       "if (notebookContainer) {{\n",
       "    x.observe(notebookContainer, {childList: true});\n",
       "}}\n",
       "\n",
       "// Listen for the clearing of the current output cell\n",
       "var outputEl = gd.closest('.output');\n",
       "if (outputEl) {{\n",
       "    x.observe(outputEl, {childList: true});\n",
       "}}\n",
       "\n",
       "                        })                };                });            </script>        </div>"
      ]
     },
     "metadata": {},
     "output_type": "display_data"
    }
   ],
   "source": [
    "grouped_data2 = base_totale.groupby(base_totale['date'].dt.year).agg({\n",
    "    'n_injured': 'mean',\n",
    "    'n_killed': 'mean'\n",
    "}).reset_index()\n",
    "\n",
    "grouped_data2=grouped_data2.loc[grouped_data2['date'].isin([2014,2015,2016,2017])]\n",
    "\n",
    "fig2 = px.bar(\n",
    "    grouped_data2,\n",
    "    x=grouped_data2['date'],\n",
    "    y=['n_injured', 'n_killed'],\n",
    "    labels={\"date\": \"année\", \"value\": \"Moyenne de victimes par incident\", \"variable\": \"Type de victime\"},\n",
    "    title=\"Nombre moyen de victimes par incident par arme à feu par an\",\n",
    "    color_discrete_map={\"n_injured\": \"firebrick\", \"n_killed\": \"steelblue\"},\n",
    ")\n",
    "\n",
    "fig2.update_layout(barmode='group')  # Display bars side by side\n",
    "\n",
    "fig2.show()"
   ]
  },
  {
   "cell_type": "code",
   "execution_count": 47,
   "metadata": {},
   "outputs": [
    {
     "name": "stdout",
     "output_type": "stream",
     "text": [
      "Ce second graphique nous montre que l'augmentation des victimes repérée précédemment est liée quasiment exclusivement à l'augementation du nombre d'incident, car le nombre de victime par incident reste relativement stable sur les 4 années observées, mis à part une légèrement augementation du nombre de blessés moyen par incident entre 2014 et 2015.\n"
     ]
    }
   ],
   "source": [
    "print(\"Ce second graphique nous montre que l'augmentation des victimes repérée précédemment est liée quasiment exclusivement à l'augementation du nombre d'incident, car le nombre de victime par incident reste relativement stable sur les 4 années observées, mis à part une légèrement augementation du nombre de blessés moyen par incident entre 2014 et 2015.\")"
   ]
  },
  {
   "cell_type": "code",
   "execution_count": 66,
   "metadata": {},
   "outputs": [
    {
     "data": {
      "application/vnd.plotly.v1+json": {
       "config": {
        "plotlyServerURL": "https://plot.ly"
       },
       "data": [
        {
         "alignmentgroup": "True",
         "hovertemplate": "Type de victime=n_injured<br>Mois=%{x}<br>Nombre de victimes=%{y}<extra></extra>",
         "legendgroup": "n_injured",
         "marker": {
          "color": "firebrick",
          "pattern": {
           "shape": ""
          }
         },
         "name": "n_injured",
         "offsetgroup": "n_injured",
         "orientation": "v",
         "showlegend": true,
         "textposition": "auto",
         "type": "bar",
         "x": [
          1,
          2,
          3,
          4,
          5,
          6,
          7,
          8,
          9,
          10,
          11,
          12
         ],
         "xaxis": "x",
         "y": [
          9883,
          7591,
          9573,
          10284,
          12009,
          11454,
          13215,
          12350,
          10954,
          10669,
          9784,
          10066
         ],
         "yaxis": "y"
        },
        {
         "alignmentgroup": "True",
         "hovertemplate": "Type de victime=n_killed<br>Mois=%{x}<br>Nombre de victimes=%{y}<extra></extra>",
         "legendgroup": "n_killed",
         "marker": {
          "color": "steelblue",
          "pattern": {
           "shape": ""
          }
         },
         "name": "n_killed",
         "offsetgroup": "n_killed",
         "orientation": "v",
         "showlegend": true,
         "textposition": "auto",
         "type": "bar",
         "x": [
          1,
          2,
          3,
          4,
          5,
          6,
          7,
          8,
          9,
          10,
          11,
          12
         ],
         "xaxis": "x",
         "y": [
          5326,
          4338,
          4924,
          4953,
          5654,
          5526,
          5997,
          5664,
          4982,
          4886,
          4998,
          5367
         ],
         "yaxis": "y"
        }
       ],
       "layout": {
        "barmode": "group",
        "legend": {
         "title": {
          "text": "Type de victime"
         },
         "tracegroupgap": 0
        },
        "template": {
         "data": {
          "bar": [
           {
            "error_x": {
             "color": "#2a3f5f"
            },
            "error_y": {
             "color": "#2a3f5f"
            },
            "marker": {
             "line": {
              "color": "#E5ECF6",
              "width": 0.5
             },
             "pattern": {
              "fillmode": "overlay",
              "size": 10,
              "solidity": 0.2
             }
            },
            "type": "bar"
           }
          ],
          "barpolar": [
           {
            "marker": {
             "line": {
              "color": "#E5ECF6",
              "width": 0.5
             },
             "pattern": {
              "fillmode": "overlay",
              "size": 10,
              "solidity": 0.2
             }
            },
            "type": "barpolar"
           }
          ],
          "carpet": [
           {
            "aaxis": {
             "endlinecolor": "#2a3f5f",
             "gridcolor": "white",
             "linecolor": "white",
             "minorgridcolor": "white",
             "startlinecolor": "#2a3f5f"
            },
            "baxis": {
             "endlinecolor": "#2a3f5f",
             "gridcolor": "white",
             "linecolor": "white",
             "minorgridcolor": "white",
             "startlinecolor": "#2a3f5f"
            },
            "type": "carpet"
           }
          ],
          "choropleth": [
           {
            "colorbar": {
             "outlinewidth": 0,
             "ticks": ""
            },
            "type": "choropleth"
           }
          ],
          "contour": [
           {
            "colorbar": {
             "outlinewidth": 0,
             "ticks": ""
            },
            "colorscale": [
             [
              0,
              "#0d0887"
             ],
             [
              0.1111111111111111,
              "#46039f"
             ],
             [
              0.2222222222222222,
              "#7201a8"
             ],
             [
              0.3333333333333333,
              "#9c179e"
             ],
             [
              0.4444444444444444,
              "#bd3786"
             ],
             [
              0.5555555555555556,
              "#d8576b"
             ],
             [
              0.6666666666666666,
              "#ed7953"
             ],
             [
              0.7777777777777778,
              "#fb9f3a"
             ],
             [
              0.8888888888888888,
              "#fdca26"
             ],
             [
              1,
              "#f0f921"
             ]
            ],
            "type": "contour"
           }
          ],
          "contourcarpet": [
           {
            "colorbar": {
             "outlinewidth": 0,
             "ticks": ""
            },
            "type": "contourcarpet"
           }
          ],
          "heatmap": [
           {
            "colorbar": {
             "outlinewidth": 0,
             "ticks": ""
            },
            "colorscale": [
             [
              0,
              "#0d0887"
             ],
             [
              0.1111111111111111,
              "#46039f"
             ],
             [
              0.2222222222222222,
              "#7201a8"
             ],
             [
              0.3333333333333333,
              "#9c179e"
             ],
             [
              0.4444444444444444,
              "#bd3786"
             ],
             [
              0.5555555555555556,
              "#d8576b"
             ],
             [
              0.6666666666666666,
              "#ed7953"
             ],
             [
              0.7777777777777778,
              "#fb9f3a"
             ],
             [
              0.8888888888888888,
              "#fdca26"
             ],
             [
              1,
              "#f0f921"
             ]
            ],
            "type": "heatmap"
           }
          ],
          "heatmapgl": [
           {
            "colorbar": {
             "outlinewidth": 0,
             "ticks": ""
            },
            "colorscale": [
             [
              0,
              "#0d0887"
             ],
             [
              0.1111111111111111,
              "#46039f"
             ],
             [
              0.2222222222222222,
              "#7201a8"
             ],
             [
              0.3333333333333333,
              "#9c179e"
             ],
             [
              0.4444444444444444,
              "#bd3786"
             ],
             [
              0.5555555555555556,
              "#d8576b"
             ],
             [
              0.6666666666666666,
              "#ed7953"
             ],
             [
              0.7777777777777778,
              "#fb9f3a"
             ],
             [
              0.8888888888888888,
              "#fdca26"
             ],
             [
              1,
              "#f0f921"
             ]
            ],
            "type": "heatmapgl"
           }
          ],
          "histogram": [
           {
            "marker": {
             "pattern": {
              "fillmode": "overlay",
              "size": 10,
              "solidity": 0.2
             }
            },
            "type": "histogram"
           }
          ],
          "histogram2d": [
           {
            "colorbar": {
             "outlinewidth": 0,
             "ticks": ""
            },
            "colorscale": [
             [
              0,
              "#0d0887"
             ],
             [
              0.1111111111111111,
              "#46039f"
             ],
             [
              0.2222222222222222,
              "#7201a8"
             ],
             [
              0.3333333333333333,
              "#9c179e"
             ],
             [
              0.4444444444444444,
              "#bd3786"
             ],
             [
              0.5555555555555556,
              "#d8576b"
             ],
             [
              0.6666666666666666,
              "#ed7953"
             ],
             [
              0.7777777777777778,
              "#fb9f3a"
             ],
             [
              0.8888888888888888,
              "#fdca26"
             ],
             [
              1,
              "#f0f921"
             ]
            ],
            "type": "histogram2d"
           }
          ],
          "histogram2dcontour": [
           {
            "colorbar": {
             "outlinewidth": 0,
             "ticks": ""
            },
            "colorscale": [
             [
              0,
              "#0d0887"
             ],
             [
              0.1111111111111111,
              "#46039f"
             ],
             [
              0.2222222222222222,
              "#7201a8"
             ],
             [
              0.3333333333333333,
              "#9c179e"
             ],
             [
              0.4444444444444444,
              "#bd3786"
             ],
             [
              0.5555555555555556,
              "#d8576b"
             ],
             [
              0.6666666666666666,
              "#ed7953"
             ],
             [
              0.7777777777777778,
              "#fb9f3a"
             ],
             [
              0.8888888888888888,
              "#fdca26"
             ],
             [
              1,
              "#f0f921"
             ]
            ],
            "type": "histogram2dcontour"
           }
          ],
          "mesh3d": [
           {
            "colorbar": {
             "outlinewidth": 0,
             "ticks": ""
            },
            "type": "mesh3d"
           }
          ],
          "parcoords": [
           {
            "line": {
             "colorbar": {
              "outlinewidth": 0,
              "ticks": ""
             }
            },
            "type": "parcoords"
           }
          ],
          "pie": [
           {
            "automargin": true,
            "type": "pie"
           }
          ],
          "scatter": [
           {
            "fillpattern": {
             "fillmode": "overlay",
             "size": 10,
             "solidity": 0.2
            },
            "type": "scatter"
           }
          ],
          "scatter3d": [
           {
            "line": {
             "colorbar": {
              "outlinewidth": 0,
              "ticks": ""
             }
            },
            "marker": {
             "colorbar": {
              "outlinewidth": 0,
              "ticks": ""
             }
            },
            "type": "scatter3d"
           }
          ],
          "scattercarpet": [
           {
            "marker": {
             "colorbar": {
              "outlinewidth": 0,
              "ticks": ""
             }
            },
            "type": "scattercarpet"
           }
          ],
          "scattergeo": [
           {
            "marker": {
             "colorbar": {
              "outlinewidth": 0,
              "ticks": ""
             }
            },
            "type": "scattergeo"
           }
          ],
          "scattergl": [
           {
            "marker": {
             "colorbar": {
              "outlinewidth": 0,
              "ticks": ""
             }
            },
            "type": "scattergl"
           }
          ],
          "scattermapbox": [
           {
            "marker": {
             "colorbar": {
              "outlinewidth": 0,
              "ticks": ""
             }
            },
            "type": "scattermapbox"
           }
          ],
          "scatterpolar": [
           {
            "marker": {
             "colorbar": {
              "outlinewidth": 0,
              "ticks": ""
             }
            },
            "type": "scatterpolar"
           }
          ],
          "scatterpolargl": [
           {
            "marker": {
             "colorbar": {
              "outlinewidth": 0,
              "ticks": ""
             }
            },
            "type": "scatterpolargl"
           }
          ],
          "scatterternary": [
           {
            "marker": {
             "colorbar": {
              "outlinewidth": 0,
              "ticks": ""
             }
            },
            "type": "scatterternary"
           }
          ],
          "surface": [
           {
            "colorbar": {
             "outlinewidth": 0,
             "ticks": ""
            },
            "colorscale": [
             [
              0,
              "#0d0887"
             ],
             [
              0.1111111111111111,
              "#46039f"
             ],
             [
              0.2222222222222222,
              "#7201a8"
             ],
             [
              0.3333333333333333,
              "#9c179e"
             ],
             [
              0.4444444444444444,
              "#bd3786"
             ],
             [
              0.5555555555555556,
              "#d8576b"
             ],
             [
              0.6666666666666666,
              "#ed7953"
             ],
             [
              0.7777777777777778,
              "#fb9f3a"
             ],
             [
              0.8888888888888888,
              "#fdca26"
             ],
             [
              1,
              "#f0f921"
             ]
            ],
            "type": "surface"
           }
          ],
          "table": [
           {
            "cells": {
             "fill": {
              "color": "#EBF0F8"
             },
             "line": {
              "color": "white"
             }
            },
            "header": {
             "fill": {
              "color": "#C8D4E3"
             },
             "line": {
              "color": "white"
             }
            },
            "type": "table"
           }
          ]
         },
         "layout": {
          "annotationdefaults": {
           "arrowcolor": "#2a3f5f",
           "arrowhead": 0,
           "arrowwidth": 1
          },
          "autotypenumbers": "strict",
          "coloraxis": {
           "colorbar": {
            "outlinewidth": 0,
            "ticks": ""
           }
          },
          "colorscale": {
           "diverging": [
            [
             0,
             "#8e0152"
            ],
            [
             0.1,
             "#c51b7d"
            ],
            [
             0.2,
             "#de77ae"
            ],
            [
             0.3,
             "#f1b6da"
            ],
            [
             0.4,
             "#fde0ef"
            ],
            [
             0.5,
             "#f7f7f7"
            ],
            [
             0.6,
             "#e6f5d0"
            ],
            [
             0.7,
             "#b8e186"
            ],
            [
             0.8,
             "#7fbc41"
            ],
            [
             0.9,
             "#4d9221"
            ],
            [
             1,
             "#276419"
            ]
           ],
           "sequential": [
            [
             0,
             "#0d0887"
            ],
            [
             0.1111111111111111,
             "#46039f"
            ],
            [
             0.2222222222222222,
             "#7201a8"
            ],
            [
             0.3333333333333333,
             "#9c179e"
            ],
            [
             0.4444444444444444,
             "#bd3786"
            ],
            [
             0.5555555555555556,
             "#d8576b"
            ],
            [
             0.6666666666666666,
             "#ed7953"
            ],
            [
             0.7777777777777778,
             "#fb9f3a"
            ],
            [
             0.8888888888888888,
             "#fdca26"
            ],
            [
             1,
             "#f0f921"
            ]
           ],
           "sequentialminus": [
            [
             0,
             "#0d0887"
            ],
            [
             0.1111111111111111,
             "#46039f"
            ],
            [
             0.2222222222222222,
             "#7201a8"
            ],
            [
             0.3333333333333333,
             "#9c179e"
            ],
            [
             0.4444444444444444,
             "#bd3786"
            ],
            [
             0.5555555555555556,
             "#d8576b"
            ],
            [
             0.6666666666666666,
             "#ed7953"
            ],
            [
             0.7777777777777778,
             "#fb9f3a"
            ],
            [
             0.8888888888888888,
             "#fdca26"
            ],
            [
             1,
             "#f0f921"
            ]
           ]
          },
          "colorway": [
           "#636efa",
           "#EF553B",
           "#00cc96",
           "#ab63fa",
           "#FFA15A",
           "#19d3f3",
           "#FF6692",
           "#B6E880",
           "#FF97FF",
           "#FECB52"
          ],
          "font": {
           "color": "#2a3f5f"
          },
          "geo": {
           "bgcolor": "white",
           "lakecolor": "white",
           "landcolor": "#E5ECF6",
           "showlakes": true,
           "showland": true,
           "subunitcolor": "white"
          },
          "hoverlabel": {
           "align": "left"
          },
          "hovermode": "closest",
          "mapbox": {
           "style": "light"
          },
          "paper_bgcolor": "white",
          "plot_bgcolor": "#E5ECF6",
          "polar": {
           "angularaxis": {
            "gridcolor": "white",
            "linecolor": "white",
            "ticks": ""
           },
           "bgcolor": "#E5ECF6",
           "radialaxis": {
            "gridcolor": "white",
            "linecolor": "white",
            "ticks": ""
           }
          },
          "scene": {
           "xaxis": {
            "backgroundcolor": "#E5ECF6",
            "gridcolor": "white",
            "gridwidth": 2,
            "linecolor": "white",
            "showbackground": true,
            "ticks": "",
            "zerolinecolor": "white"
           },
           "yaxis": {
            "backgroundcolor": "#E5ECF6",
            "gridcolor": "white",
            "gridwidth": 2,
            "linecolor": "white",
            "showbackground": true,
            "ticks": "",
            "zerolinecolor": "white"
           },
           "zaxis": {
            "backgroundcolor": "#E5ECF6",
            "gridcolor": "white",
            "gridwidth": 2,
            "linecolor": "white",
            "showbackground": true,
            "ticks": "",
            "zerolinecolor": "white"
           }
          },
          "shapedefaults": {
           "line": {
            "color": "#2a3f5f"
           }
          },
          "ternary": {
           "aaxis": {
            "gridcolor": "white",
            "linecolor": "white",
            "ticks": ""
           },
           "baxis": {
            "gridcolor": "white",
            "linecolor": "white",
            "ticks": ""
           },
           "bgcolor": "#E5ECF6",
           "caxis": {
            "gridcolor": "white",
            "linecolor": "white",
            "ticks": ""
           }
          },
          "title": {
           "x": 0.05
          },
          "xaxis": {
           "automargin": true,
           "gridcolor": "white",
           "linecolor": "white",
           "ticks": "",
           "title": {
            "standoff": 15
           },
           "zerolinecolor": "white",
           "zerolinewidth": 2
          },
          "yaxis": {
           "automargin": true,
           "gridcolor": "white",
           "linecolor": "white",
           "ticks": "",
           "title": {
            "standoff": 15
           },
           "zerolinecolor": "white",
           "zerolinewidth": 2
          }
         }
        },
        "title": {
         "text": "Nombre de victimes d'incidents par arme à feu par mois (cumulé de 2014 à 2017)"
        },
        "xaxis": {
         "anchor": "y",
         "domain": [
          0,
          1
         ],
         "title": {
          "text": "Mois"
         }
        },
        "yaxis": {
         "anchor": "x",
         "domain": [
          0,
          1
         ],
         "title": {
          "text": "Nombre de victimes"
         }
        }
       }
      },
      "text/html": [
       "<div>                            <div id=\"b2d496e1-4627-49be-9867-3e4173290e2a\" class=\"plotly-graph-div\" style=\"height:525px; width:100%;\"></div>            <script type=\"text/javascript\">                require([\"plotly\"], function(Plotly) {                    window.PLOTLYENV=window.PLOTLYENV || {};                                    if (document.getElementById(\"b2d496e1-4627-49be-9867-3e4173290e2a\")) {                    Plotly.newPlot(                        \"b2d496e1-4627-49be-9867-3e4173290e2a\",                        [{\"alignmentgroup\":\"True\",\"hovertemplate\":\"Type de victime=n_injured\\u003cbr\\u003eMois=%{x}\\u003cbr\\u003eNombre de victimes=%{y}\\u003cextra\\u003e\\u003c\\u002fextra\\u003e\",\"legendgroup\":\"n_injured\",\"marker\":{\"color\":\"firebrick\",\"pattern\":{\"shape\":\"\"}},\"name\":\"n_injured\",\"offsetgroup\":\"n_injured\",\"orientation\":\"v\",\"showlegend\":true,\"textposition\":\"auto\",\"x\":[1,2,3,4,5,6,7,8,9,10,11,12],\"xaxis\":\"x\",\"y\":[9883,7591,9573,10284,12009,11454,13215,12350,10954,10669,9784,10066],\"yaxis\":\"y\",\"type\":\"bar\"},{\"alignmentgroup\":\"True\",\"hovertemplate\":\"Type de victime=n_killed\\u003cbr\\u003eMois=%{x}\\u003cbr\\u003eNombre de victimes=%{y}\\u003cextra\\u003e\\u003c\\u002fextra\\u003e\",\"legendgroup\":\"n_killed\",\"marker\":{\"color\":\"steelblue\",\"pattern\":{\"shape\":\"\"}},\"name\":\"n_killed\",\"offsetgroup\":\"n_killed\",\"orientation\":\"v\",\"showlegend\":true,\"textposition\":\"auto\",\"x\":[1,2,3,4,5,6,7,8,9,10,11,12],\"xaxis\":\"x\",\"y\":[5326,4338,4924,4953,5654,5526,5997,5664,4982,4886,4998,5367],\"yaxis\":\"y\",\"type\":\"bar\"}],                        {\"template\":{\"data\":{\"histogram2dcontour\":[{\"type\":\"histogram2dcontour\",\"colorbar\":{\"outlinewidth\":0,\"ticks\":\"\"},\"colorscale\":[[0.0,\"#0d0887\"],[0.1111111111111111,\"#46039f\"],[0.2222222222222222,\"#7201a8\"],[0.3333333333333333,\"#9c179e\"],[0.4444444444444444,\"#bd3786\"],[0.5555555555555556,\"#d8576b\"],[0.6666666666666666,\"#ed7953\"],[0.7777777777777778,\"#fb9f3a\"],[0.8888888888888888,\"#fdca26\"],[1.0,\"#f0f921\"]]}],\"choropleth\":[{\"type\":\"choropleth\",\"colorbar\":{\"outlinewidth\":0,\"ticks\":\"\"}}],\"histogram2d\":[{\"type\":\"histogram2d\",\"colorbar\":{\"outlinewidth\":0,\"ticks\":\"\"},\"colorscale\":[[0.0,\"#0d0887\"],[0.1111111111111111,\"#46039f\"],[0.2222222222222222,\"#7201a8\"],[0.3333333333333333,\"#9c179e\"],[0.4444444444444444,\"#bd3786\"],[0.5555555555555556,\"#d8576b\"],[0.6666666666666666,\"#ed7953\"],[0.7777777777777778,\"#fb9f3a\"],[0.8888888888888888,\"#fdca26\"],[1.0,\"#f0f921\"]]}],\"heatmap\":[{\"type\":\"heatmap\",\"colorbar\":{\"outlinewidth\":0,\"ticks\":\"\"},\"colorscale\":[[0.0,\"#0d0887\"],[0.1111111111111111,\"#46039f\"],[0.2222222222222222,\"#7201a8\"],[0.3333333333333333,\"#9c179e\"],[0.4444444444444444,\"#bd3786\"],[0.5555555555555556,\"#d8576b\"],[0.6666666666666666,\"#ed7953\"],[0.7777777777777778,\"#fb9f3a\"],[0.8888888888888888,\"#fdca26\"],[1.0,\"#f0f921\"]]}],\"heatmapgl\":[{\"type\":\"heatmapgl\",\"colorbar\":{\"outlinewidth\":0,\"ticks\":\"\"},\"colorscale\":[[0.0,\"#0d0887\"],[0.1111111111111111,\"#46039f\"],[0.2222222222222222,\"#7201a8\"],[0.3333333333333333,\"#9c179e\"],[0.4444444444444444,\"#bd3786\"],[0.5555555555555556,\"#d8576b\"],[0.6666666666666666,\"#ed7953\"],[0.7777777777777778,\"#fb9f3a\"],[0.8888888888888888,\"#fdca26\"],[1.0,\"#f0f921\"]]}],\"contourcarpet\":[{\"type\":\"contourcarpet\",\"colorbar\":{\"outlinewidth\":0,\"ticks\":\"\"}}],\"contour\":[{\"type\":\"contour\",\"colorbar\":{\"outlinewidth\":0,\"ticks\":\"\"},\"colorscale\":[[0.0,\"#0d0887\"],[0.1111111111111111,\"#46039f\"],[0.2222222222222222,\"#7201a8\"],[0.3333333333333333,\"#9c179e\"],[0.4444444444444444,\"#bd3786\"],[0.5555555555555556,\"#d8576b\"],[0.6666666666666666,\"#ed7953\"],[0.7777777777777778,\"#fb9f3a\"],[0.8888888888888888,\"#fdca26\"],[1.0,\"#f0f921\"]]}],\"surface\":[{\"type\":\"surface\",\"colorbar\":{\"outlinewidth\":0,\"ticks\":\"\"},\"colorscale\":[[0.0,\"#0d0887\"],[0.1111111111111111,\"#46039f\"],[0.2222222222222222,\"#7201a8\"],[0.3333333333333333,\"#9c179e\"],[0.4444444444444444,\"#bd3786\"],[0.5555555555555556,\"#d8576b\"],[0.6666666666666666,\"#ed7953\"],[0.7777777777777778,\"#fb9f3a\"],[0.8888888888888888,\"#fdca26\"],[1.0,\"#f0f921\"]]}],\"mesh3d\":[{\"type\":\"mesh3d\",\"colorbar\":{\"outlinewidth\":0,\"ticks\":\"\"}}],\"scatter\":[{\"fillpattern\":{\"fillmode\":\"overlay\",\"size\":10,\"solidity\":0.2},\"type\":\"scatter\"}],\"parcoords\":[{\"type\":\"parcoords\",\"line\":{\"colorbar\":{\"outlinewidth\":0,\"ticks\":\"\"}}}],\"scatterpolargl\":[{\"type\":\"scatterpolargl\",\"marker\":{\"colorbar\":{\"outlinewidth\":0,\"ticks\":\"\"}}}],\"bar\":[{\"error_x\":{\"color\":\"#2a3f5f\"},\"error_y\":{\"color\":\"#2a3f5f\"},\"marker\":{\"line\":{\"color\":\"#E5ECF6\",\"width\":0.5},\"pattern\":{\"fillmode\":\"overlay\",\"size\":10,\"solidity\":0.2}},\"type\":\"bar\"}],\"scattergeo\":[{\"type\":\"scattergeo\",\"marker\":{\"colorbar\":{\"outlinewidth\":0,\"ticks\":\"\"}}}],\"scatterpolar\":[{\"type\":\"scatterpolar\",\"marker\":{\"colorbar\":{\"outlinewidth\":0,\"ticks\":\"\"}}}],\"histogram\":[{\"marker\":{\"pattern\":{\"fillmode\":\"overlay\",\"size\":10,\"solidity\":0.2}},\"type\":\"histogram\"}],\"scattergl\":[{\"type\":\"scattergl\",\"marker\":{\"colorbar\":{\"outlinewidth\":0,\"ticks\":\"\"}}}],\"scatter3d\":[{\"type\":\"scatter3d\",\"line\":{\"colorbar\":{\"outlinewidth\":0,\"ticks\":\"\"}},\"marker\":{\"colorbar\":{\"outlinewidth\":0,\"ticks\":\"\"}}}],\"scattermapbox\":[{\"type\":\"scattermapbox\",\"marker\":{\"colorbar\":{\"outlinewidth\":0,\"ticks\":\"\"}}}],\"scatterternary\":[{\"type\":\"scatterternary\",\"marker\":{\"colorbar\":{\"outlinewidth\":0,\"ticks\":\"\"}}}],\"scattercarpet\":[{\"type\":\"scattercarpet\",\"marker\":{\"colorbar\":{\"outlinewidth\":0,\"ticks\":\"\"}}}],\"carpet\":[{\"aaxis\":{\"endlinecolor\":\"#2a3f5f\",\"gridcolor\":\"white\",\"linecolor\":\"white\",\"minorgridcolor\":\"white\",\"startlinecolor\":\"#2a3f5f\"},\"baxis\":{\"endlinecolor\":\"#2a3f5f\",\"gridcolor\":\"white\",\"linecolor\":\"white\",\"minorgridcolor\":\"white\",\"startlinecolor\":\"#2a3f5f\"},\"type\":\"carpet\"}],\"table\":[{\"cells\":{\"fill\":{\"color\":\"#EBF0F8\"},\"line\":{\"color\":\"white\"}},\"header\":{\"fill\":{\"color\":\"#C8D4E3\"},\"line\":{\"color\":\"white\"}},\"type\":\"table\"}],\"barpolar\":[{\"marker\":{\"line\":{\"color\":\"#E5ECF6\",\"width\":0.5},\"pattern\":{\"fillmode\":\"overlay\",\"size\":10,\"solidity\":0.2}},\"type\":\"barpolar\"}],\"pie\":[{\"automargin\":true,\"type\":\"pie\"}]},\"layout\":{\"autotypenumbers\":\"strict\",\"colorway\":[\"#636efa\",\"#EF553B\",\"#00cc96\",\"#ab63fa\",\"#FFA15A\",\"#19d3f3\",\"#FF6692\",\"#B6E880\",\"#FF97FF\",\"#FECB52\"],\"font\":{\"color\":\"#2a3f5f\"},\"hovermode\":\"closest\",\"hoverlabel\":{\"align\":\"left\"},\"paper_bgcolor\":\"white\",\"plot_bgcolor\":\"#E5ECF6\",\"polar\":{\"bgcolor\":\"#E5ECF6\",\"angularaxis\":{\"gridcolor\":\"white\",\"linecolor\":\"white\",\"ticks\":\"\"},\"radialaxis\":{\"gridcolor\":\"white\",\"linecolor\":\"white\",\"ticks\":\"\"}},\"ternary\":{\"bgcolor\":\"#E5ECF6\",\"aaxis\":{\"gridcolor\":\"white\",\"linecolor\":\"white\",\"ticks\":\"\"},\"baxis\":{\"gridcolor\":\"white\",\"linecolor\":\"white\",\"ticks\":\"\"},\"caxis\":{\"gridcolor\":\"white\",\"linecolor\":\"white\",\"ticks\":\"\"}},\"coloraxis\":{\"colorbar\":{\"outlinewidth\":0,\"ticks\":\"\"}},\"colorscale\":{\"sequential\":[[0.0,\"#0d0887\"],[0.1111111111111111,\"#46039f\"],[0.2222222222222222,\"#7201a8\"],[0.3333333333333333,\"#9c179e\"],[0.4444444444444444,\"#bd3786\"],[0.5555555555555556,\"#d8576b\"],[0.6666666666666666,\"#ed7953\"],[0.7777777777777778,\"#fb9f3a\"],[0.8888888888888888,\"#fdca26\"],[1.0,\"#f0f921\"]],\"sequentialminus\":[[0.0,\"#0d0887\"],[0.1111111111111111,\"#46039f\"],[0.2222222222222222,\"#7201a8\"],[0.3333333333333333,\"#9c179e\"],[0.4444444444444444,\"#bd3786\"],[0.5555555555555556,\"#d8576b\"],[0.6666666666666666,\"#ed7953\"],[0.7777777777777778,\"#fb9f3a\"],[0.8888888888888888,\"#fdca26\"],[1.0,\"#f0f921\"]],\"diverging\":[[0,\"#8e0152\"],[0.1,\"#c51b7d\"],[0.2,\"#de77ae\"],[0.3,\"#f1b6da\"],[0.4,\"#fde0ef\"],[0.5,\"#f7f7f7\"],[0.6,\"#e6f5d0\"],[0.7,\"#b8e186\"],[0.8,\"#7fbc41\"],[0.9,\"#4d9221\"],[1,\"#276419\"]]},\"xaxis\":{\"gridcolor\":\"white\",\"linecolor\":\"white\",\"ticks\":\"\",\"title\":{\"standoff\":15},\"zerolinecolor\":\"white\",\"automargin\":true,\"zerolinewidth\":2},\"yaxis\":{\"gridcolor\":\"white\",\"linecolor\":\"white\",\"ticks\":\"\",\"title\":{\"standoff\":15},\"zerolinecolor\":\"white\",\"automargin\":true,\"zerolinewidth\":2},\"scene\":{\"xaxis\":{\"backgroundcolor\":\"#E5ECF6\",\"gridcolor\":\"white\",\"linecolor\":\"white\",\"showbackground\":true,\"ticks\":\"\",\"zerolinecolor\":\"white\",\"gridwidth\":2},\"yaxis\":{\"backgroundcolor\":\"#E5ECF6\",\"gridcolor\":\"white\",\"linecolor\":\"white\",\"showbackground\":true,\"ticks\":\"\",\"zerolinecolor\":\"white\",\"gridwidth\":2},\"zaxis\":{\"backgroundcolor\":\"#E5ECF6\",\"gridcolor\":\"white\",\"linecolor\":\"white\",\"showbackground\":true,\"ticks\":\"\",\"zerolinecolor\":\"white\",\"gridwidth\":2}},\"shapedefaults\":{\"line\":{\"color\":\"#2a3f5f\"}},\"annotationdefaults\":{\"arrowcolor\":\"#2a3f5f\",\"arrowhead\":0,\"arrowwidth\":1},\"geo\":{\"bgcolor\":\"white\",\"landcolor\":\"#E5ECF6\",\"subunitcolor\":\"white\",\"showland\":true,\"showlakes\":true,\"lakecolor\":\"white\"},\"title\":{\"x\":0.05},\"mapbox\":{\"style\":\"light\"}}},\"xaxis\":{\"anchor\":\"y\",\"domain\":[0.0,1.0],\"title\":{\"text\":\"Mois\"}},\"yaxis\":{\"anchor\":\"x\",\"domain\":[0.0,1.0],\"title\":{\"text\":\"Nombre de victimes\"}},\"legend\":{\"title\":{\"text\":\"Type de victime\"},\"tracegroupgap\":0},\"title\":{\"text\":\"Nombre de victimes d'incidents par arme \\u00e0 feu par mois (cumul\\u00e9 de 2014 \\u00e0 2017)\"},\"barmode\":\"group\"},                        {\"responsive\": true}                    ).then(function(){\n",
       "                            \n",
       "var gd = document.getElementById('b2d496e1-4627-49be-9867-3e4173290e2a');\n",
       "var x = new MutationObserver(function (mutations, observer) {{\n",
       "        var display = window.getComputedStyle(gd).display;\n",
       "        if (!display || display === 'none') {{\n",
       "            console.log([gd, 'removed!']);\n",
       "            Plotly.purge(gd);\n",
       "            observer.disconnect();\n",
       "        }}\n",
       "}});\n",
       "\n",
       "// Listen for the removal of the full notebook cells\n",
       "var notebookContainer = gd.closest('#notebook-container');\n",
       "if (notebookContainer) {{\n",
       "    x.observe(notebookContainer, {childList: true});\n",
       "}}\n",
       "\n",
       "// Listen for the clearing of the current output cell\n",
       "var outputEl = gd.closest('.output');\n",
       "if (outputEl) {{\n",
       "    x.observe(outputEl, {childList: true});\n",
       "}}\n",
       "\n",
       "                        })                };                });            </script>        </div>"
      ]
     },
     "metadata": {},
     "output_type": "display_data"
    }
   ],
   "source": [
    "grouped_data3 = base_totale.loc[base_totale['date'].dt.year.isin([2014,2015,2016,2017])].groupby(\n",
    "    base_totale['date'].dt.month).agg({\n",
    "    'n_injured': 'sum',\n",
    "    'n_killed': 'sum'\n",
    "}).reset_index()\n",
    "\n",
    "\n",
    "fig3 = px.bar(\n",
    "    grouped_data3,\n",
    "    x=grouped_data3['date'],\n",
    "    y=['n_injured', 'n_killed'],\n",
    "    labels={\"date\": \"Mois\", \"value\": \"Nombre de victimes\", \"variable\": \"Type de victime\"},\n",
    "    title=\"Nombre de victimes d'incidents par arme à feu par mois (cumulé de 2014 à 2017)\",\n",
    "    color_discrete_map={\"n_injured\": \"firebrick\", \"n_killed\": \"steelblue\"},\n",
    ")\n",
    "\n",
    "fig3.update_layout(barmode='group')  # Display bars side by side\n",
    "\n",
    "fig3.show()\n",
    "\n"
   ]
  },
  {
   "cell_type": "code",
   "execution_count": 68,
   "metadata": {},
   "outputs": [
    {
     "data": {
      "application/vnd.plotly.v1+json": {
       "config": {
        "plotlyServerURL": "https://plot.ly"
       },
       "data": [
        {
         "alignmentgroup": "True",
         "hovertemplate": "Type de victime=n_injured<br>année=%{x}<br>Nombre noyen de victimes par incident=%{y}<extra></extra>",
         "legendgroup": "n_injured",
         "marker": {
          "color": "firebrick",
          "pattern": {
           "shape": ""
          }
         },
         "name": "n_injured",
         "offsetgroup": "n_injured",
         "orientation": "v",
         "showlegend": true,
         "textposition": "auto",
         "type": "bar",
         "x": [
          1,
          2,
          3,
          4,
          5,
          6,
          7,
          8,
          9,
          10,
          11,
          12
         ],
         "xaxis": "x",
         "y": [
          0.48233284529038556,
          0.4643665504373891,
          0.48510185466707206,
          0.48999428244711263,
          0.526941641070645,
          0.5393417149314875,
          0.551245150794644,
          0.5291572046788637,
          0.5159679698539802,
          0.5042298785386833,
          0.510088108023565,
          0.5038038038038039
         ],
         "yaxis": "y"
        },
        {
         "alignmentgroup": "True",
         "hovertemplate": "Type de victime=n_killed<br>année=%{x}<br>Nombre noyen de victimes par incident=%{y}<extra></extra>",
         "legendgroup": "n_killed",
         "marker": {
          "color": "steelblue",
          "pattern": {
           "shape": ""
          }
         },
         "name": "n_killed",
         "offsetgroup": "n_killed",
         "orientation": "v",
         "showlegend": true,
         "textposition": "auto",
         "type": "bar",
         "x": [
          1,
          2,
          3,
          4,
          5,
          6,
          7,
          8,
          9,
          10,
          11,
          12
         ],
         "xaxis": "x",
         "y": [
          0.2599316739873109,
          0.26536979262249955,
          0.2495185973446843,
          0.2359919954259577,
          0.24809126810004387,
          0.26020624381974855,
          0.2501564259792266,
          0.24268391961952096,
          0.2346679227508243,
          0.2309182853632024,
          0.260570356081539,
          0.26861861861861863
         ],
         "yaxis": "y"
        }
       ],
       "layout": {
        "barmode": "group",
        "legend": {
         "title": {
          "text": "Type de victime"
         },
         "tracegroupgap": 0
        },
        "template": {
         "data": {
          "bar": [
           {
            "error_x": {
             "color": "#2a3f5f"
            },
            "error_y": {
             "color": "#2a3f5f"
            },
            "marker": {
             "line": {
              "color": "#E5ECF6",
              "width": 0.5
             },
             "pattern": {
              "fillmode": "overlay",
              "size": 10,
              "solidity": 0.2
             }
            },
            "type": "bar"
           }
          ],
          "barpolar": [
           {
            "marker": {
             "line": {
              "color": "#E5ECF6",
              "width": 0.5
             },
             "pattern": {
              "fillmode": "overlay",
              "size": 10,
              "solidity": 0.2
             }
            },
            "type": "barpolar"
           }
          ],
          "carpet": [
           {
            "aaxis": {
             "endlinecolor": "#2a3f5f",
             "gridcolor": "white",
             "linecolor": "white",
             "minorgridcolor": "white",
             "startlinecolor": "#2a3f5f"
            },
            "baxis": {
             "endlinecolor": "#2a3f5f",
             "gridcolor": "white",
             "linecolor": "white",
             "minorgridcolor": "white",
             "startlinecolor": "#2a3f5f"
            },
            "type": "carpet"
           }
          ],
          "choropleth": [
           {
            "colorbar": {
             "outlinewidth": 0,
             "ticks": ""
            },
            "type": "choropleth"
           }
          ],
          "contour": [
           {
            "colorbar": {
             "outlinewidth": 0,
             "ticks": ""
            },
            "colorscale": [
             [
              0,
              "#0d0887"
             ],
             [
              0.1111111111111111,
              "#46039f"
             ],
             [
              0.2222222222222222,
              "#7201a8"
             ],
             [
              0.3333333333333333,
              "#9c179e"
             ],
             [
              0.4444444444444444,
              "#bd3786"
             ],
             [
              0.5555555555555556,
              "#d8576b"
             ],
             [
              0.6666666666666666,
              "#ed7953"
             ],
             [
              0.7777777777777778,
              "#fb9f3a"
             ],
             [
              0.8888888888888888,
              "#fdca26"
             ],
             [
              1,
              "#f0f921"
             ]
            ],
            "type": "contour"
           }
          ],
          "contourcarpet": [
           {
            "colorbar": {
             "outlinewidth": 0,
             "ticks": ""
            },
            "type": "contourcarpet"
           }
          ],
          "heatmap": [
           {
            "colorbar": {
             "outlinewidth": 0,
             "ticks": ""
            },
            "colorscale": [
             [
              0,
              "#0d0887"
             ],
             [
              0.1111111111111111,
              "#46039f"
             ],
             [
              0.2222222222222222,
              "#7201a8"
             ],
             [
              0.3333333333333333,
              "#9c179e"
             ],
             [
              0.4444444444444444,
              "#bd3786"
             ],
             [
              0.5555555555555556,
              "#d8576b"
             ],
             [
              0.6666666666666666,
              "#ed7953"
             ],
             [
              0.7777777777777778,
              "#fb9f3a"
             ],
             [
              0.8888888888888888,
              "#fdca26"
             ],
             [
              1,
              "#f0f921"
             ]
            ],
            "type": "heatmap"
           }
          ],
          "heatmapgl": [
           {
            "colorbar": {
             "outlinewidth": 0,
             "ticks": ""
            },
            "colorscale": [
             [
              0,
              "#0d0887"
             ],
             [
              0.1111111111111111,
              "#46039f"
             ],
             [
              0.2222222222222222,
              "#7201a8"
             ],
             [
              0.3333333333333333,
              "#9c179e"
             ],
             [
              0.4444444444444444,
              "#bd3786"
             ],
             [
              0.5555555555555556,
              "#d8576b"
             ],
             [
              0.6666666666666666,
              "#ed7953"
             ],
             [
              0.7777777777777778,
              "#fb9f3a"
             ],
             [
              0.8888888888888888,
              "#fdca26"
             ],
             [
              1,
              "#f0f921"
             ]
            ],
            "type": "heatmapgl"
           }
          ],
          "histogram": [
           {
            "marker": {
             "pattern": {
              "fillmode": "overlay",
              "size": 10,
              "solidity": 0.2
             }
            },
            "type": "histogram"
           }
          ],
          "histogram2d": [
           {
            "colorbar": {
             "outlinewidth": 0,
             "ticks": ""
            },
            "colorscale": [
             [
              0,
              "#0d0887"
             ],
             [
              0.1111111111111111,
              "#46039f"
             ],
             [
              0.2222222222222222,
              "#7201a8"
             ],
             [
              0.3333333333333333,
              "#9c179e"
             ],
             [
              0.4444444444444444,
              "#bd3786"
             ],
             [
              0.5555555555555556,
              "#d8576b"
             ],
             [
              0.6666666666666666,
              "#ed7953"
             ],
             [
              0.7777777777777778,
              "#fb9f3a"
             ],
             [
              0.8888888888888888,
              "#fdca26"
             ],
             [
              1,
              "#f0f921"
             ]
            ],
            "type": "histogram2d"
           }
          ],
          "histogram2dcontour": [
           {
            "colorbar": {
             "outlinewidth": 0,
             "ticks": ""
            },
            "colorscale": [
             [
              0,
              "#0d0887"
             ],
             [
              0.1111111111111111,
              "#46039f"
             ],
             [
              0.2222222222222222,
              "#7201a8"
             ],
             [
              0.3333333333333333,
              "#9c179e"
             ],
             [
              0.4444444444444444,
              "#bd3786"
             ],
             [
              0.5555555555555556,
              "#d8576b"
             ],
             [
              0.6666666666666666,
              "#ed7953"
             ],
             [
              0.7777777777777778,
              "#fb9f3a"
             ],
             [
              0.8888888888888888,
              "#fdca26"
             ],
             [
              1,
              "#f0f921"
             ]
            ],
            "type": "histogram2dcontour"
           }
          ],
          "mesh3d": [
           {
            "colorbar": {
             "outlinewidth": 0,
             "ticks": ""
            },
            "type": "mesh3d"
           }
          ],
          "parcoords": [
           {
            "line": {
             "colorbar": {
              "outlinewidth": 0,
              "ticks": ""
             }
            },
            "type": "parcoords"
           }
          ],
          "pie": [
           {
            "automargin": true,
            "type": "pie"
           }
          ],
          "scatter": [
           {
            "fillpattern": {
             "fillmode": "overlay",
             "size": 10,
             "solidity": 0.2
            },
            "type": "scatter"
           }
          ],
          "scatter3d": [
           {
            "line": {
             "colorbar": {
              "outlinewidth": 0,
              "ticks": ""
             }
            },
            "marker": {
             "colorbar": {
              "outlinewidth": 0,
              "ticks": ""
             }
            },
            "type": "scatter3d"
           }
          ],
          "scattercarpet": [
           {
            "marker": {
             "colorbar": {
              "outlinewidth": 0,
              "ticks": ""
             }
            },
            "type": "scattercarpet"
           }
          ],
          "scattergeo": [
           {
            "marker": {
             "colorbar": {
              "outlinewidth": 0,
              "ticks": ""
             }
            },
            "type": "scattergeo"
           }
          ],
          "scattergl": [
           {
            "marker": {
             "colorbar": {
              "outlinewidth": 0,
              "ticks": ""
             }
            },
            "type": "scattergl"
           }
          ],
          "scattermapbox": [
           {
            "marker": {
             "colorbar": {
              "outlinewidth": 0,
              "ticks": ""
             }
            },
            "type": "scattermapbox"
           }
          ],
          "scatterpolar": [
           {
            "marker": {
             "colorbar": {
              "outlinewidth": 0,
              "ticks": ""
             }
            },
            "type": "scatterpolar"
           }
          ],
          "scatterpolargl": [
           {
            "marker": {
             "colorbar": {
              "outlinewidth": 0,
              "ticks": ""
             }
            },
            "type": "scatterpolargl"
           }
          ],
          "scatterternary": [
           {
            "marker": {
             "colorbar": {
              "outlinewidth": 0,
              "ticks": ""
             }
            },
            "type": "scatterternary"
           }
          ],
          "surface": [
           {
            "colorbar": {
             "outlinewidth": 0,
             "ticks": ""
            },
            "colorscale": [
             [
              0,
              "#0d0887"
             ],
             [
              0.1111111111111111,
              "#46039f"
             ],
             [
              0.2222222222222222,
              "#7201a8"
             ],
             [
              0.3333333333333333,
              "#9c179e"
             ],
             [
              0.4444444444444444,
              "#bd3786"
             ],
             [
              0.5555555555555556,
              "#d8576b"
             ],
             [
              0.6666666666666666,
              "#ed7953"
             ],
             [
              0.7777777777777778,
              "#fb9f3a"
             ],
             [
              0.8888888888888888,
              "#fdca26"
             ],
             [
              1,
              "#f0f921"
             ]
            ],
            "type": "surface"
           }
          ],
          "table": [
           {
            "cells": {
             "fill": {
              "color": "#EBF0F8"
             },
             "line": {
              "color": "white"
             }
            },
            "header": {
             "fill": {
              "color": "#C8D4E3"
             },
             "line": {
              "color": "white"
             }
            },
            "type": "table"
           }
          ]
         },
         "layout": {
          "annotationdefaults": {
           "arrowcolor": "#2a3f5f",
           "arrowhead": 0,
           "arrowwidth": 1
          },
          "autotypenumbers": "strict",
          "coloraxis": {
           "colorbar": {
            "outlinewidth": 0,
            "ticks": ""
           }
          },
          "colorscale": {
           "diverging": [
            [
             0,
             "#8e0152"
            ],
            [
             0.1,
             "#c51b7d"
            ],
            [
             0.2,
             "#de77ae"
            ],
            [
             0.3,
             "#f1b6da"
            ],
            [
             0.4,
             "#fde0ef"
            ],
            [
             0.5,
             "#f7f7f7"
            ],
            [
             0.6,
             "#e6f5d0"
            ],
            [
             0.7,
             "#b8e186"
            ],
            [
             0.8,
             "#7fbc41"
            ],
            [
             0.9,
             "#4d9221"
            ],
            [
             1,
             "#276419"
            ]
           ],
           "sequential": [
            [
             0,
             "#0d0887"
            ],
            [
             0.1111111111111111,
             "#46039f"
            ],
            [
             0.2222222222222222,
             "#7201a8"
            ],
            [
             0.3333333333333333,
             "#9c179e"
            ],
            [
             0.4444444444444444,
             "#bd3786"
            ],
            [
             0.5555555555555556,
             "#d8576b"
            ],
            [
             0.6666666666666666,
             "#ed7953"
            ],
            [
             0.7777777777777778,
             "#fb9f3a"
            ],
            [
             0.8888888888888888,
             "#fdca26"
            ],
            [
             1,
             "#f0f921"
            ]
           ],
           "sequentialminus": [
            [
             0,
             "#0d0887"
            ],
            [
             0.1111111111111111,
             "#46039f"
            ],
            [
             0.2222222222222222,
             "#7201a8"
            ],
            [
             0.3333333333333333,
             "#9c179e"
            ],
            [
             0.4444444444444444,
             "#bd3786"
            ],
            [
             0.5555555555555556,
             "#d8576b"
            ],
            [
             0.6666666666666666,
             "#ed7953"
            ],
            [
             0.7777777777777778,
             "#fb9f3a"
            ],
            [
             0.8888888888888888,
             "#fdca26"
            ],
            [
             1,
             "#f0f921"
            ]
           ]
          },
          "colorway": [
           "#636efa",
           "#EF553B",
           "#00cc96",
           "#ab63fa",
           "#FFA15A",
           "#19d3f3",
           "#FF6692",
           "#B6E880",
           "#FF97FF",
           "#FECB52"
          ],
          "font": {
           "color": "#2a3f5f"
          },
          "geo": {
           "bgcolor": "white",
           "lakecolor": "white",
           "landcolor": "#E5ECF6",
           "showlakes": true,
           "showland": true,
           "subunitcolor": "white"
          },
          "hoverlabel": {
           "align": "left"
          },
          "hovermode": "closest",
          "mapbox": {
           "style": "light"
          },
          "paper_bgcolor": "white",
          "plot_bgcolor": "#E5ECF6",
          "polar": {
           "angularaxis": {
            "gridcolor": "white",
            "linecolor": "white",
            "ticks": ""
           },
           "bgcolor": "#E5ECF6",
           "radialaxis": {
            "gridcolor": "white",
            "linecolor": "white",
            "ticks": ""
           }
          },
          "scene": {
           "xaxis": {
            "backgroundcolor": "#E5ECF6",
            "gridcolor": "white",
            "gridwidth": 2,
            "linecolor": "white",
            "showbackground": true,
            "ticks": "",
            "zerolinecolor": "white"
           },
           "yaxis": {
            "backgroundcolor": "#E5ECF6",
            "gridcolor": "white",
            "gridwidth": 2,
            "linecolor": "white",
            "showbackground": true,
            "ticks": "",
            "zerolinecolor": "white"
           },
           "zaxis": {
            "backgroundcolor": "#E5ECF6",
            "gridcolor": "white",
            "gridwidth": 2,
            "linecolor": "white",
            "showbackground": true,
            "ticks": "",
            "zerolinecolor": "white"
           }
          },
          "shapedefaults": {
           "line": {
            "color": "#2a3f5f"
           }
          },
          "ternary": {
           "aaxis": {
            "gridcolor": "white",
            "linecolor": "white",
            "ticks": ""
           },
           "baxis": {
            "gridcolor": "white",
            "linecolor": "white",
            "ticks": ""
           },
           "bgcolor": "#E5ECF6",
           "caxis": {
            "gridcolor": "white",
            "linecolor": "white",
            "ticks": ""
           }
          },
          "title": {
           "x": 0.05
          },
          "xaxis": {
           "automargin": true,
           "gridcolor": "white",
           "linecolor": "white",
           "ticks": "",
           "title": {
            "standoff": 15
           },
           "zerolinecolor": "white",
           "zerolinewidth": 2
          },
          "yaxis": {
           "automargin": true,
           "gridcolor": "white",
           "linecolor": "white",
           "ticks": "",
           "title": {
            "standoff": 15
           },
           "zerolinecolor": "white",
           "zerolinewidth": 2
          }
         }
        },
        "title": {
         "text": "Moyenne de victimes d'incident par arme à feu par mois (entre 2014 et 2017)"
        },
        "xaxis": {
         "anchor": "y",
         "domain": [
          0,
          1
         ],
         "title": {
          "text": "année"
         }
        },
        "yaxis": {
         "anchor": "x",
         "domain": [
          0,
          1
         ],
         "title": {
          "text": "Nombre noyen de victimes par incident"
         }
        }
       }
      },
      "text/html": [
       "<div>                            <div id=\"acb3cec2-d70d-4855-b971-8807579b4d85\" class=\"plotly-graph-div\" style=\"height:525px; width:100%;\"></div>            <script type=\"text/javascript\">                require([\"plotly\"], function(Plotly) {                    window.PLOTLYENV=window.PLOTLYENV || {};                                    if (document.getElementById(\"acb3cec2-d70d-4855-b971-8807579b4d85\")) {                    Plotly.newPlot(                        \"acb3cec2-d70d-4855-b971-8807579b4d85\",                        [{\"alignmentgroup\":\"True\",\"hovertemplate\":\"Type de victime=n_injured\\u003cbr\\u003eann\\u00e9e=%{x}\\u003cbr\\u003eNombre noyen de victimes par incident=%{y}\\u003cextra\\u003e\\u003c\\u002fextra\\u003e\",\"legendgroup\":\"n_injured\",\"marker\":{\"color\":\"firebrick\",\"pattern\":{\"shape\":\"\"}},\"name\":\"n_injured\",\"offsetgroup\":\"n_injured\",\"orientation\":\"v\",\"showlegend\":true,\"textposition\":\"auto\",\"x\":[1,2,3,4,5,6,7,8,9,10,11,12],\"xaxis\":\"x\",\"y\":[0.48233284529038556,0.4643665504373891,0.48510185466707206,0.48999428244711263,0.526941641070645,0.5393417149314875,0.551245150794644,0.5291572046788637,0.5159679698539802,0.5042298785386833,0.510088108023565,0.5038038038038039],\"yaxis\":\"y\",\"type\":\"bar\"},{\"alignmentgroup\":\"True\",\"hovertemplate\":\"Type de victime=n_killed\\u003cbr\\u003eann\\u00e9e=%{x}\\u003cbr\\u003eNombre noyen de victimes par incident=%{y}\\u003cextra\\u003e\\u003c\\u002fextra\\u003e\",\"legendgroup\":\"n_killed\",\"marker\":{\"color\":\"steelblue\",\"pattern\":{\"shape\":\"\"}},\"name\":\"n_killed\",\"offsetgroup\":\"n_killed\",\"orientation\":\"v\",\"showlegend\":true,\"textposition\":\"auto\",\"x\":[1,2,3,4,5,6,7,8,9,10,11,12],\"xaxis\":\"x\",\"y\":[0.2599316739873109,0.26536979262249955,0.2495185973446843,0.2359919954259577,0.24809126810004387,0.26020624381974855,0.2501564259792266,0.24268391961952096,0.2346679227508243,0.2309182853632024,0.260570356081539,0.26861861861861863],\"yaxis\":\"y\",\"type\":\"bar\"}],                        {\"template\":{\"data\":{\"histogram2dcontour\":[{\"type\":\"histogram2dcontour\",\"colorbar\":{\"outlinewidth\":0,\"ticks\":\"\"},\"colorscale\":[[0.0,\"#0d0887\"],[0.1111111111111111,\"#46039f\"],[0.2222222222222222,\"#7201a8\"],[0.3333333333333333,\"#9c179e\"],[0.4444444444444444,\"#bd3786\"],[0.5555555555555556,\"#d8576b\"],[0.6666666666666666,\"#ed7953\"],[0.7777777777777778,\"#fb9f3a\"],[0.8888888888888888,\"#fdca26\"],[1.0,\"#f0f921\"]]}],\"choropleth\":[{\"type\":\"choropleth\",\"colorbar\":{\"outlinewidth\":0,\"ticks\":\"\"}}],\"histogram2d\":[{\"type\":\"histogram2d\",\"colorbar\":{\"outlinewidth\":0,\"ticks\":\"\"},\"colorscale\":[[0.0,\"#0d0887\"],[0.1111111111111111,\"#46039f\"],[0.2222222222222222,\"#7201a8\"],[0.3333333333333333,\"#9c179e\"],[0.4444444444444444,\"#bd3786\"],[0.5555555555555556,\"#d8576b\"],[0.6666666666666666,\"#ed7953\"],[0.7777777777777778,\"#fb9f3a\"],[0.8888888888888888,\"#fdca26\"],[1.0,\"#f0f921\"]]}],\"heatmap\":[{\"type\":\"heatmap\",\"colorbar\":{\"outlinewidth\":0,\"ticks\":\"\"},\"colorscale\":[[0.0,\"#0d0887\"],[0.1111111111111111,\"#46039f\"],[0.2222222222222222,\"#7201a8\"],[0.3333333333333333,\"#9c179e\"],[0.4444444444444444,\"#bd3786\"],[0.5555555555555556,\"#d8576b\"],[0.6666666666666666,\"#ed7953\"],[0.7777777777777778,\"#fb9f3a\"],[0.8888888888888888,\"#fdca26\"],[1.0,\"#f0f921\"]]}],\"heatmapgl\":[{\"type\":\"heatmapgl\",\"colorbar\":{\"outlinewidth\":0,\"ticks\":\"\"},\"colorscale\":[[0.0,\"#0d0887\"],[0.1111111111111111,\"#46039f\"],[0.2222222222222222,\"#7201a8\"],[0.3333333333333333,\"#9c179e\"],[0.4444444444444444,\"#bd3786\"],[0.5555555555555556,\"#d8576b\"],[0.6666666666666666,\"#ed7953\"],[0.7777777777777778,\"#fb9f3a\"],[0.8888888888888888,\"#fdca26\"],[1.0,\"#f0f921\"]]}],\"contourcarpet\":[{\"type\":\"contourcarpet\",\"colorbar\":{\"outlinewidth\":0,\"ticks\":\"\"}}],\"contour\":[{\"type\":\"contour\",\"colorbar\":{\"outlinewidth\":0,\"ticks\":\"\"},\"colorscale\":[[0.0,\"#0d0887\"],[0.1111111111111111,\"#46039f\"],[0.2222222222222222,\"#7201a8\"],[0.3333333333333333,\"#9c179e\"],[0.4444444444444444,\"#bd3786\"],[0.5555555555555556,\"#d8576b\"],[0.6666666666666666,\"#ed7953\"],[0.7777777777777778,\"#fb9f3a\"],[0.8888888888888888,\"#fdca26\"],[1.0,\"#f0f921\"]]}],\"surface\":[{\"type\":\"surface\",\"colorbar\":{\"outlinewidth\":0,\"ticks\":\"\"},\"colorscale\":[[0.0,\"#0d0887\"],[0.1111111111111111,\"#46039f\"],[0.2222222222222222,\"#7201a8\"],[0.3333333333333333,\"#9c179e\"],[0.4444444444444444,\"#bd3786\"],[0.5555555555555556,\"#d8576b\"],[0.6666666666666666,\"#ed7953\"],[0.7777777777777778,\"#fb9f3a\"],[0.8888888888888888,\"#fdca26\"],[1.0,\"#f0f921\"]]}],\"mesh3d\":[{\"type\":\"mesh3d\",\"colorbar\":{\"outlinewidth\":0,\"ticks\":\"\"}}],\"scatter\":[{\"fillpattern\":{\"fillmode\":\"overlay\",\"size\":10,\"solidity\":0.2},\"type\":\"scatter\"}],\"parcoords\":[{\"type\":\"parcoords\",\"line\":{\"colorbar\":{\"outlinewidth\":0,\"ticks\":\"\"}}}],\"scatterpolargl\":[{\"type\":\"scatterpolargl\",\"marker\":{\"colorbar\":{\"outlinewidth\":0,\"ticks\":\"\"}}}],\"bar\":[{\"error_x\":{\"color\":\"#2a3f5f\"},\"error_y\":{\"color\":\"#2a3f5f\"},\"marker\":{\"line\":{\"color\":\"#E5ECF6\",\"width\":0.5},\"pattern\":{\"fillmode\":\"overlay\",\"size\":10,\"solidity\":0.2}},\"type\":\"bar\"}],\"scattergeo\":[{\"type\":\"scattergeo\",\"marker\":{\"colorbar\":{\"outlinewidth\":0,\"ticks\":\"\"}}}],\"scatterpolar\":[{\"type\":\"scatterpolar\",\"marker\":{\"colorbar\":{\"outlinewidth\":0,\"ticks\":\"\"}}}],\"histogram\":[{\"marker\":{\"pattern\":{\"fillmode\":\"overlay\",\"size\":10,\"solidity\":0.2}},\"type\":\"histogram\"}],\"scattergl\":[{\"type\":\"scattergl\",\"marker\":{\"colorbar\":{\"outlinewidth\":0,\"ticks\":\"\"}}}],\"scatter3d\":[{\"type\":\"scatter3d\",\"line\":{\"colorbar\":{\"outlinewidth\":0,\"ticks\":\"\"}},\"marker\":{\"colorbar\":{\"outlinewidth\":0,\"ticks\":\"\"}}}],\"scattermapbox\":[{\"type\":\"scattermapbox\",\"marker\":{\"colorbar\":{\"outlinewidth\":0,\"ticks\":\"\"}}}],\"scatterternary\":[{\"type\":\"scatterternary\",\"marker\":{\"colorbar\":{\"outlinewidth\":0,\"ticks\":\"\"}}}],\"scattercarpet\":[{\"type\":\"scattercarpet\",\"marker\":{\"colorbar\":{\"outlinewidth\":0,\"ticks\":\"\"}}}],\"carpet\":[{\"aaxis\":{\"endlinecolor\":\"#2a3f5f\",\"gridcolor\":\"white\",\"linecolor\":\"white\",\"minorgridcolor\":\"white\",\"startlinecolor\":\"#2a3f5f\"},\"baxis\":{\"endlinecolor\":\"#2a3f5f\",\"gridcolor\":\"white\",\"linecolor\":\"white\",\"minorgridcolor\":\"white\",\"startlinecolor\":\"#2a3f5f\"},\"type\":\"carpet\"}],\"table\":[{\"cells\":{\"fill\":{\"color\":\"#EBF0F8\"},\"line\":{\"color\":\"white\"}},\"header\":{\"fill\":{\"color\":\"#C8D4E3\"},\"line\":{\"color\":\"white\"}},\"type\":\"table\"}],\"barpolar\":[{\"marker\":{\"line\":{\"color\":\"#E5ECF6\",\"width\":0.5},\"pattern\":{\"fillmode\":\"overlay\",\"size\":10,\"solidity\":0.2}},\"type\":\"barpolar\"}],\"pie\":[{\"automargin\":true,\"type\":\"pie\"}]},\"layout\":{\"autotypenumbers\":\"strict\",\"colorway\":[\"#636efa\",\"#EF553B\",\"#00cc96\",\"#ab63fa\",\"#FFA15A\",\"#19d3f3\",\"#FF6692\",\"#B6E880\",\"#FF97FF\",\"#FECB52\"],\"font\":{\"color\":\"#2a3f5f\"},\"hovermode\":\"closest\",\"hoverlabel\":{\"align\":\"left\"},\"paper_bgcolor\":\"white\",\"plot_bgcolor\":\"#E5ECF6\",\"polar\":{\"bgcolor\":\"#E5ECF6\",\"angularaxis\":{\"gridcolor\":\"white\",\"linecolor\":\"white\",\"ticks\":\"\"},\"radialaxis\":{\"gridcolor\":\"white\",\"linecolor\":\"white\",\"ticks\":\"\"}},\"ternary\":{\"bgcolor\":\"#E5ECF6\",\"aaxis\":{\"gridcolor\":\"white\",\"linecolor\":\"white\",\"ticks\":\"\"},\"baxis\":{\"gridcolor\":\"white\",\"linecolor\":\"white\",\"ticks\":\"\"},\"caxis\":{\"gridcolor\":\"white\",\"linecolor\":\"white\",\"ticks\":\"\"}},\"coloraxis\":{\"colorbar\":{\"outlinewidth\":0,\"ticks\":\"\"}},\"colorscale\":{\"sequential\":[[0.0,\"#0d0887\"],[0.1111111111111111,\"#46039f\"],[0.2222222222222222,\"#7201a8\"],[0.3333333333333333,\"#9c179e\"],[0.4444444444444444,\"#bd3786\"],[0.5555555555555556,\"#d8576b\"],[0.6666666666666666,\"#ed7953\"],[0.7777777777777778,\"#fb9f3a\"],[0.8888888888888888,\"#fdca26\"],[1.0,\"#f0f921\"]],\"sequentialminus\":[[0.0,\"#0d0887\"],[0.1111111111111111,\"#46039f\"],[0.2222222222222222,\"#7201a8\"],[0.3333333333333333,\"#9c179e\"],[0.4444444444444444,\"#bd3786\"],[0.5555555555555556,\"#d8576b\"],[0.6666666666666666,\"#ed7953\"],[0.7777777777777778,\"#fb9f3a\"],[0.8888888888888888,\"#fdca26\"],[1.0,\"#f0f921\"]],\"diverging\":[[0,\"#8e0152\"],[0.1,\"#c51b7d\"],[0.2,\"#de77ae\"],[0.3,\"#f1b6da\"],[0.4,\"#fde0ef\"],[0.5,\"#f7f7f7\"],[0.6,\"#e6f5d0\"],[0.7,\"#b8e186\"],[0.8,\"#7fbc41\"],[0.9,\"#4d9221\"],[1,\"#276419\"]]},\"xaxis\":{\"gridcolor\":\"white\",\"linecolor\":\"white\",\"ticks\":\"\",\"title\":{\"standoff\":15},\"zerolinecolor\":\"white\",\"automargin\":true,\"zerolinewidth\":2},\"yaxis\":{\"gridcolor\":\"white\",\"linecolor\":\"white\",\"ticks\":\"\",\"title\":{\"standoff\":15},\"zerolinecolor\":\"white\",\"automargin\":true,\"zerolinewidth\":2},\"scene\":{\"xaxis\":{\"backgroundcolor\":\"#E5ECF6\",\"gridcolor\":\"white\",\"linecolor\":\"white\",\"showbackground\":true,\"ticks\":\"\",\"zerolinecolor\":\"white\",\"gridwidth\":2},\"yaxis\":{\"backgroundcolor\":\"#E5ECF6\",\"gridcolor\":\"white\",\"linecolor\":\"white\",\"showbackground\":true,\"ticks\":\"\",\"zerolinecolor\":\"white\",\"gridwidth\":2},\"zaxis\":{\"backgroundcolor\":\"#E5ECF6\",\"gridcolor\":\"white\",\"linecolor\":\"white\",\"showbackground\":true,\"ticks\":\"\",\"zerolinecolor\":\"white\",\"gridwidth\":2}},\"shapedefaults\":{\"line\":{\"color\":\"#2a3f5f\"}},\"annotationdefaults\":{\"arrowcolor\":\"#2a3f5f\",\"arrowhead\":0,\"arrowwidth\":1},\"geo\":{\"bgcolor\":\"white\",\"landcolor\":\"#E5ECF6\",\"subunitcolor\":\"white\",\"showland\":true,\"showlakes\":true,\"lakecolor\":\"white\"},\"title\":{\"x\":0.05},\"mapbox\":{\"style\":\"light\"}}},\"xaxis\":{\"anchor\":\"y\",\"domain\":[0.0,1.0],\"title\":{\"text\":\"ann\\u00e9e\"}},\"yaxis\":{\"anchor\":\"x\",\"domain\":[0.0,1.0],\"title\":{\"text\":\"Nombre noyen de victimes par incident\"}},\"legend\":{\"title\":{\"text\":\"Type de victime\"},\"tracegroupgap\":0},\"title\":{\"text\":\"Moyenne de victimes d'incident par arme \\u00e0 feu par mois (entre 2014 et 2017)\"},\"barmode\":\"group\"},                        {\"responsive\": true}                    ).then(function(){\n",
       "                            \n",
       "var gd = document.getElementById('acb3cec2-d70d-4855-b971-8807579b4d85');\n",
       "var x = new MutationObserver(function (mutations, observer) {{\n",
       "        var display = window.getComputedStyle(gd).display;\n",
       "        if (!display || display === 'none') {{\n",
       "            console.log([gd, 'removed!']);\n",
       "            Plotly.purge(gd);\n",
       "            observer.disconnect();\n",
       "        }}\n",
       "}});\n",
       "\n",
       "// Listen for the removal of the full notebook cells\n",
       "var notebookContainer = gd.closest('#notebook-container');\n",
       "if (notebookContainer) {{\n",
       "    x.observe(notebookContainer, {childList: true});\n",
       "}}\n",
       "\n",
       "// Listen for the clearing of the current output cell\n",
       "var outputEl = gd.closest('.output');\n",
       "if (outputEl) {{\n",
       "    x.observe(outputEl, {childList: true});\n",
       "}}\n",
       "\n",
       "                        })                };                });            </script>        </div>"
      ]
     },
     "metadata": {},
     "output_type": "display_data"
    }
   ],
   "source": [
    "grouped_data4 = base_totale.loc[base_totale['date'].dt.year.isin([2014,2015,2016,2017])].groupby(\n",
    "    base_totale['date'].dt.month).agg({\n",
    "    'n_injured': 'mean',\n",
    "    'n_killed': 'mean'\n",
    "}).reset_index()\n",
    "\n",
    "\n",
    "fig4 = px.bar(\n",
    "    grouped_data4,\n",
    "    x=grouped_data4['date'],\n",
    "    y=['n_injured', 'n_killed'],\n",
    "    labels={\"date\": \"année\", \"value\": \"Nombre moyen de victimes par incident\", \"variable\": \"Type de victime\"},\n",
    "    title=\"Moyenne de victimes d'incident par arme à feu par mois (entre 2014 et 2017)\",\n",
    "    color_discrete_map={\"n_injured\": \"firebrick\", \"n_killed\": \"steelblue\"},\n",
    ")\n",
    "\n",
    "fig4.update_layout(barmode='group')  # Display bars side by side\n",
    "\n",
    "fig4.show()"
   ]
  },
  {
   "cell_type": "code",
   "execution_count": 70,
   "metadata": {},
   "outputs": [
    {
     "name": "stdout",
     "output_type": "stream",
     "text": [
      "On retrouve ici la même variation que pour le nombre d'incidents : il y a plus de blessés et de morts par arme à feu pendant l'été aux Etats-Unis que pendant l'hiver. \n",
      "De plus, même si le nombre de morts par incident reste stable autour de 0,25, le nombre moyen de victimes par incident varie de 0.46 en Février à 0.55 en Juillet. \n",
      "Il semble donc exister un effet de la saisonnalité sur le nombre d'incidents mais également sur leur gravité et leurs conséquences en termes de victimes.\n"
     ]
    }
   ],
   "source": [
    "print(\"On retrouve ici la même variation que pour le nombre d'incidents : il y a plus de blessés et de morts par arme à feu pendant l'été aux Etats-Unis que pendant l'hiver. \\nDe plus, même si le nombre de morts par incident reste stable autour de 0,25, le nombre moyen de victimes par incident varie de 0.46 en Février à 0.55 en Juillet. \\nIl semble donc exister un effet de la saisonnalité sur le nombre d'incidents mais également sur leur gravité et leurs conséquences en termes de victimes.\")"
   ]
  },
  {
   "cell_type": "code",
   "execution_count": 75,
   "metadata": {},
   "outputs": [
    {
     "name": "stdout",
     "output_type": "stream",
     "text": [
      "II. Les Etats. \n",
      "Cette analyse des incidents en fonction des Etats sera complétée par une visualisation cartographique dans une partie suivante. \n",
      "Intéressons nous d'abord aux conséquences des incidents par arme à feu dans chaque Etat.\n"
     ]
    }
   ],
   "source": [
    "print(\"II. Les Etats. \\nCette analyse des incidents en fonction des Etats sera complétée par une visualisation cartographique dans une partie suivante. \\nIntéressons nous d'abord aux conséquences des incidents par arme à feu dans chaque Etat.\")"
   ]
  },
  {
   "cell_type": "code",
   "execution_count": 78,
   "metadata": {},
   "outputs": [
    {
     "data": {
      "application/vnd.plotly.v1+json": {
       "config": {
        "plotlyServerURL": "https://plot.ly"
       },
       "data": [
        {
         "alignmentgroup": "True",
         "hovertemplate": "Type de victime=n_injured<br>Etat=%{x}<br>Nombre de victimes par incident=%{y}<extra></extra>",
         "legendgroup": "n_injured",
         "marker": {
          "color": "firebrick",
          "pattern": {
           "shape": ""
          }
         },
         "name": "n_injured",
         "offsetgroup": "n_injured",
         "orientation": "v",
         "showlegend": true,
         "textposition": "auto",
         "type": "bar",
         "x": [
          "Alabama",
          "Arizona",
          "Arkansas",
          "California",
          "Colorado",
          "Connecticut",
          "Delaware",
          "District of Columbia",
          "Florida",
          "Georgia",
          "Idaho",
          "Illinois",
          "Indiana",
          "Iowa",
          "Kansas",
          "Kentucky",
          "Louisiana",
          "Maine",
          "Maryland",
          "Massachusetts",
          "Michigan",
          "Minnesota",
          "Mississippi",
          "Missouri",
          "Montana",
          "Nebraska",
          "Nevada",
          "New Hampshire",
          "New Jersey",
          "New Mexico",
          "New York",
          "North Carolina",
          "North Dakota",
          "Ohio",
          "Oklahoma",
          "Oregon",
          "Pennsylvania",
          "Rhode Island",
          "South Carolina",
          "South Dakota",
          "Tennessee",
          "Texas",
          "Utah",
          "Vermont",
          "Virginia",
          "Washington",
          "West Virginia",
          "Wisconsin",
          "Wyoming"
         ],
         "xaxis": "x",
         "y": [
          2952,
          1060,
          1302,
          7504,
          1088,
          1221,
          838,
          1377,
          6858,
          3964,
          135,
          13106,
          2819,
          801,
          902,
          1818,
          4225,
          132,
          10668,
          1635,
          2857,
          878,
          1827,
          9335,
          130,
          654,
          919,
          137,
          2475,
          528,
          4942,
          4488,
          126,
          5475,
          1485,
          673,
          4882,
          338,
          3010,
          107,
          4324,
          5792,
          375,
          67,
          11053,
          1240,
          609,
          2076,
          52
         ],
         "yaxis": "y"
        },
        {
         "alignmentgroup": "True",
         "hovertemplate": "Type de victime=n_killed<br>Etat=%{x}<br>Nombre de victimes par incident=%{y}<extra></extra>",
         "legendgroup": "n_killed",
         "marker": {
          "color": "steelblue",
          "pattern": {
           "shape": ""
          }
         },
         "name": "n_killed",
         "offsetgroup": "n_killed",
         "orientation": "v",
         "showlegend": true,
         "textposition": "auto",
         "type": "bar",
         "x": [
          "Alabama",
          "Arizona",
          "Arkansas",
          "California",
          "Colorado",
          "Connecticut",
          "Delaware",
          "District of Columbia",
          "Florida",
          "Georgia",
          "Idaho",
          "Illinois",
          "Indiana",
          "Iowa",
          "Kansas",
          "Kentucky",
          "Louisiana",
          "Maine",
          "Maryland",
          "Massachusetts",
          "Michigan",
          "Minnesota",
          "Mississippi",
          "Missouri",
          "Montana",
          "Nebraska",
          "Nevada",
          "New Hampshire",
          "New Jersey",
          "New Mexico",
          "New York",
          "North Carolina",
          "North Dakota",
          "Ohio",
          "Oklahoma",
          "Oregon",
          "Pennsylvania",
          "Rhode Island",
          "South Carolina",
          "South Dakota",
          "Tennessee",
          "Texas",
          "Utah",
          "Vermont",
          "Virginia",
          "Washington",
          "West Virginia",
          "Wisconsin",
          "Wyoming"
         ],
         "xaxis": "x",
         "y": [
          1821,
          1063,
          735,
          5397,
          742,
          326,
          209,
          430,
          3734,
          2348,
          158,
          3124,
          1485,
          250,
          512,
          1018,
          2021,
          111,
          4921,
          441,
          1480,
          419,
          1133,
          5227,
          148,
          213,
          754,
          85,
          1108,
          476,
          1653,
          2110,
          64,
          2326,
          885,
          419,
          2254,
          56,
          1517,
          82,
          1716,
          4714,
          259,
          53,
          4621,
          790,
          311,
          815,
          71
         ],
         "yaxis": "y"
        }
       ],
       "layout": {
        "barmode": "group",
        "legend": {
         "title": {
          "text": "Type de victime"
         },
         "tracegroupgap": 0
        },
        "template": {
         "data": {
          "bar": [
           {
            "error_x": {
             "color": "#2a3f5f"
            },
            "error_y": {
             "color": "#2a3f5f"
            },
            "marker": {
             "line": {
              "color": "#E5ECF6",
              "width": 0.5
             },
             "pattern": {
              "fillmode": "overlay",
              "size": 10,
              "solidity": 0.2
             }
            },
            "type": "bar"
           }
          ],
          "barpolar": [
           {
            "marker": {
             "line": {
              "color": "#E5ECF6",
              "width": 0.5
             },
             "pattern": {
              "fillmode": "overlay",
              "size": 10,
              "solidity": 0.2
             }
            },
            "type": "barpolar"
           }
          ],
          "carpet": [
           {
            "aaxis": {
             "endlinecolor": "#2a3f5f",
             "gridcolor": "white",
             "linecolor": "white",
             "minorgridcolor": "white",
             "startlinecolor": "#2a3f5f"
            },
            "baxis": {
             "endlinecolor": "#2a3f5f",
             "gridcolor": "white",
             "linecolor": "white",
             "minorgridcolor": "white",
             "startlinecolor": "#2a3f5f"
            },
            "type": "carpet"
           }
          ],
          "choropleth": [
           {
            "colorbar": {
             "outlinewidth": 0,
             "ticks": ""
            },
            "type": "choropleth"
           }
          ],
          "contour": [
           {
            "colorbar": {
             "outlinewidth": 0,
             "ticks": ""
            },
            "colorscale": [
             [
              0,
              "#0d0887"
             ],
             [
              0.1111111111111111,
              "#46039f"
             ],
             [
              0.2222222222222222,
              "#7201a8"
             ],
             [
              0.3333333333333333,
              "#9c179e"
             ],
             [
              0.4444444444444444,
              "#bd3786"
             ],
             [
              0.5555555555555556,
              "#d8576b"
             ],
             [
              0.6666666666666666,
              "#ed7953"
             ],
             [
              0.7777777777777778,
              "#fb9f3a"
             ],
             [
              0.8888888888888888,
              "#fdca26"
             ],
             [
              1,
              "#f0f921"
             ]
            ],
            "type": "contour"
           }
          ],
          "contourcarpet": [
           {
            "colorbar": {
             "outlinewidth": 0,
             "ticks": ""
            },
            "type": "contourcarpet"
           }
          ],
          "heatmap": [
           {
            "colorbar": {
             "outlinewidth": 0,
             "ticks": ""
            },
            "colorscale": [
             [
              0,
              "#0d0887"
             ],
             [
              0.1111111111111111,
              "#46039f"
             ],
             [
              0.2222222222222222,
              "#7201a8"
             ],
             [
              0.3333333333333333,
              "#9c179e"
             ],
             [
              0.4444444444444444,
              "#bd3786"
             ],
             [
              0.5555555555555556,
              "#d8576b"
             ],
             [
              0.6666666666666666,
              "#ed7953"
             ],
             [
              0.7777777777777778,
              "#fb9f3a"
             ],
             [
              0.8888888888888888,
              "#fdca26"
             ],
             [
              1,
              "#f0f921"
             ]
            ],
            "type": "heatmap"
           }
          ],
          "heatmapgl": [
           {
            "colorbar": {
             "outlinewidth": 0,
             "ticks": ""
            },
            "colorscale": [
             [
              0,
              "#0d0887"
             ],
             [
              0.1111111111111111,
              "#46039f"
             ],
             [
              0.2222222222222222,
              "#7201a8"
             ],
             [
              0.3333333333333333,
              "#9c179e"
             ],
             [
              0.4444444444444444,
              "#bd3786"
             ],
             [
              0.5555555555555556,
              "#d8576b"
             ],
             [
              0.6666666666666666,
              "#ed7953"
             ],
             [
              0.7777777777777778,
              "#fb9f3a"
             ],
             [
              0.8888888888888888,
              "#fdca26"
             ],
             [
              1,
              "#f0f921"
             ]
            ],
            "type": "heatmapgl"
           }
          ],
          "histogram": [
           {
            "marker": {
             "pattern": {
              "fillmode": "overlay",
              "size": 10,
              "solidity": 0.2
             }
            },
            "type": "histogram"
           }
          ],
          "histogram2d": [
           {
            "colorbar": {
             "outlinewidth": 0,
             "ticks": ""
            },
            "colorscale": [
             [
              0,
              "#0d0887"
             ],
             [
              0.1111111111111111,
              "#46039f"
             ],
             [
              0.2222222222222222,
              "#7201a8"
             ],
             [
              0.3333333333333333,
              "#9c179e"
             ],
             [
              0.4444444444444444,
              "#bd3786"
             ],
             [
              0.5555555555555556,
              "#d8576b"
             ],
             [
              0.6666666666666666,
              "#ed7953"
             ],
             [
              0.7777777777777778,
              "#fb9f3a"
             ],
             [
              0.8888888888888888,
              "#fdca26"
             ],
             [
              1,
              "#f0f921"
             ]
            ],
            "type": "histogram2d"
           }
          ],
          "histogram2dcontour": [
           {
            "colorbar": {
             "outlinewidth": 0,
             "ticks": ""
            },
            "colorscale": [
             [
              0,
              "#0d0887"
             ],
             [
              0.1111111111111111,
              "#46039f"
             ],
             [
              0.2222222222222222,
              "#7201a8"
             ],
             [
              0.3333333333333333,
              "#9c179e"
             ],
             [
              0.4444444444444444,
              "#bd3786"
             ],
             [
              0.5555555555555556,
              "#d8576b"
             ],
             [
              0.6666666666666666,
              "#ed7953"
             ],
             [
              0.7777777777777778,
              "#fb9f3a"
             ],
             [
              0.8888888888888888,
              "#fdca26"
             ],
             [
              1,
              "#f0f921"
             ]
            ],
            "type": "histogram2dcontour"
           }
          ],
          "mesh3d": [
           {
            "colorbar": {
             "outlinewidth": 0,
             "ticks": ""
            },
            "type": "mesh3d"
           }
          ],
          "parcoords": [
           {
            "line": {
             "colorbar": {
              "outlinewidth": 0,
              "ticks": ""
             }
            },
            "type": "parcoords"
           }
          ],
          "pie": [
           {
            "automargin": true,
            "type": "pie"
           }
          ],
          "scatter": [
           {
            "fillpattern": {
             "fillmode": "overlay",
             "size": 10,
             "solidity": 0.2
            },
            "type": "scatter"
           }
          ],
          "scatter3d": [
           {
            "line": {
             "colorbar": {
              "outlinewidth": 0,
              "ticks": ""
             }
            },
            "marker": {
             "colorbar": {
              "outlinewidth": 0,
              "ticks": ""
             }
            },
            "type": "scatter3d"
           }
          ],
          "scattercarpet": [
           {
            "marker": {
             "colorbar": {
              "outlinewidth": 0,
              "ticks": ""
             }
            },
            "type": "scattercarpet"
           }
          ],
          "scattergeo": [
           {
            "marker": {
             "colorbar": {
              "outlinewidth": 0,
              "ticks": ""
             }
            },
            "type": "scattergeo"
           }
          ],
          "scattergl": [
           {
            "marker": {
             "colorbar": {
              "outlinewidth": 0,
              "ticks": ""
             }
            },
            "type": "scattergl"
           }
          ],
          "scattermapbox": [
           {
            "marker": {
             "colorbar": {
              "outlinewidth": 0,
              "ticks": ""
             }
            },
            "type": "scattermapbox"
           }
          ],
          "scatterpolar": [
           {
            "marker": {
             "colorbar": {
              "outlinewidth": 0,
              "ticks": ""
             }
            },
            "type": "scatterpolar"
           }
          ],
          "scatterpolargl": [
           {
            "marker": {
             "colorbar": {
              "outlinewidth": 0,
              "ticks": ""
             }
            },
            "type": "scatterpolargl"
           }
          ],
          "scatterternary": [
           {
            "marker": {
             "colorbar": {
              "outlinewidth": 0,
              "ticks": ""
             }
            },
            "type": "scatterternary"
           }
          ],
          "surface": [
           {
            "colorbar": {
             "outlinewidth": 0,
             "ticks": ""
            },
            "colorscale": [
             [
              0,
              "#0d0887"
             ],
             [
              0.1111111111111111,
              "#46039f"
             ],
             [
              0.2222222222222222,
              "#7201a8"
             ],
             [
              0.3333333333333333,
              "#9c179e"
             ],
             [
              0.4444444444444444,
              "#bd3786"
             ],
             [
              0.5555555555555556,
              "#d8576b"
             ],
             [
              0.6666666666666666,
              "#ed7953"
             ],
             [
              0.7777777777777778,
              "#fb9f3a"
             ],
             [
              0.8888888888888888,
              "#fdca26"
             ],
             [
              1,
              "#f0f921"
             ]
            ],
            "type": "surface"
           }
          ],
          "table": [
           {
            "cells": {
             "fill": {
              "color": "#EBF0F8"
             },
             "line": {
              "color": "white"
             }
            },
            "header": {
             "fill": {
              "color": "#C8D4E3"
             },
             "line": {
              "color": "white"
             }
            },
            "type": "table"
           }
          ]
         },
         "layout": {
          "annotationdefaults": {
           "arrowcolor": "#2a3f5f",
           "arrowhead": 0,
           "arrowwidth": 1
          },
          "autotypenumbers": "strict",
          "coloraxis": {
           "colorbar": {
            "outlinewidth": 0,
            "ticks": ""
           }
          },
          "colorscale": {
           "diverging": [
            [
             0,
             "#8e0152"
            ],
            [
             0.1,
             "#c51b7d"
            ],
            [
             0.2,
             "#de77ae"
            ],
            [
             0.3,
             "#f1b6da"
            ],
            [
             0.4,
             "#fde0ef"
            ],
            [
             0.5,
             "#f7f7f7"
            ],
            [
             0.6,
             "#e6f5d0"
            ],
            [
             0.7,
             "#b8e186"
            ],
            [
             0.8,
             "#7fbc41"
            ],
            [
             0.9,
             "#4d9221"
            ],
            [
             1,
             "#276419"
            ]
           ],
           "sequential": [
            [
             0,
             "#0d0887"
            ],
            [
             0.1111111111111111,
             "#46039f"
            ],
            [
             0.2222222222222222,
             "#7201a8"
            ],
            [
             0.3333333333333333,
             "#9c179e"
            ],
            [
             0.4444444444444444,
             "#bd3786"
            ],
            [
             0.5555555555555556,
             "#d8576b"
            ],
            [
             0.6666666666666666,
             "#ed7953"
            ],
            [
             0.7777777777777778,
             "#fb9f3a"
            ],
            [
             0.8888888888888888,
             "#fdca26"
            ],
            [
             1,
             "#f0f921"
            ]
           ],
           "sequentialminus": [
            [
             0,
             "#0d0887"
            ],
            [
             0.1111111111111111,
             "#46039f"
            ],
            [
             0.2222222222222222,
             "#7201a8"
            ],
            [
             0.3333333333333333,
             "#9c179e"
            ],
            [
             0.4444444444444444,
             "#bd3786"
            ],
            [
             0.5555555555555556,
             "#d8576b"
            ],
            [
             0.6666666666666666,
             "#ed7953"
            ],
            [
             0.7777777777777778,
             "#fb9f3a"
            ],
            [
             0.8888888888888888,
             "#fdca26"
            ],
            [
             1,
             "#f0f921"
            ]
           ]
          },
          "colorway": [
           "#636efa",
           "#EF553B",
           "#00cc96",
           "#ab63fa",
           "#FFA15A",
           "#19d3f3",
           "#FF6692",
           "#B6E880",
           "#FF97FF",
           "#FECB52"
          ],
          "font": {
           "color": "#2a3f5f"
          },
          "geo": {
           "bgcolor": "white",
           "lakecolor": "white",
           "landcolor": "#E5ECF6",
           "showlakes": true,
           "showland": true,
           "subunitcolor": "white"
          },
          "hoverlabel": {
           "align": "left"
          },
          "hovermode": "closest",
          "mapbox": {
           "style": "light"
          },
          "paper_bgcolor": "white",
          "plot_bgcolor": "#E5ECF6",
          "polar": {
           "angularaxis": {
            "gridcolor": "white",
            "linecolor": "white",
            "ticks": ""
           },
           "bgcolor": "#E5ECF6",
           "radialaxis": {
            "gridcolor": "white",
            "linecolor": "white",
            "ticks": ""
           }
          },
          "scene": {
           "xaxis": {
            "backgroundcolor": "#E5ECF6",
            "gridcolor": "white",
            "gridwidth": 2,
            "linecolor": "white",
            "showbackground": true,
            "ticks": "",
            "zerolinecolor": "white"
           },
           "yaxis": {
            "backgroundcolor": "#E5ECF6",
            "gridcolor": "white",
            "gridwidth": 2,
            "linecolor": "white",
            "showbackground": true,
            "ticks": "",
            "zerolinecolor": "white"
           },
           "zaxis": {
            "backgroundcolor": "#E5ECF6",
            "gridcolor": "white",
            "gridwidth": 2,
            "linecolor": "white",
            "showbackground": true,
            "ticks": "",
            "zerolinecolor": "white"
           }
          },
          "shapedefaults": {
           "line": {
            "color": "#2a3f5f"
           }
          },
          "ternary": {
           "aaxis": {
            "gridcolor": "white",
            "linecolor": "white",
            "ticks": ""
           },
           "baxis": {
            "gridcolor": "white",
            "linecolor": "white",
            "ticks": ""
           },
           "bgcolor": "#E5ECF6",
           "caxis": {
            "gridcolor": "white",
            "linecolor": "white",
            "ticks": ""
           }
          },
          "title": {
           "x": 0.05
          },
          "xaxis": {
           "automargin": true,
           "gridcolor": "white",
           "linecolor": "white",
           "ticks": "",
           "title": {
            "standoff": 15
           },
           "zerolinecolor": "white",
           "zerolinewidth": 2
          },
          "yaxis": {
           "automargin": true,
           "gridcolor": "white",
           "linecolor": "white",
           "ticks": "",
           "title": {
            "standoff": 15
           },
           "zerolinecolor": "white",
           "zerolinewidth": 2
          }
         }
        },
        "title": {
         "text": "Nombre de victimes d'incident par arme à feu par Etat"
        },
        "xaxis": {
         "anchor": "y",
         "domain": [
          0,
          1
         ],
         "title": {
          "text": "Etat"
         }
        },
        "yaxis": {
         "anchor": "x",
         "domain": [
          0,
          1
         ],
         "title": {
          "text": "Nombre de victimes par incident"
         }
        }
       }
      },
      "text/html": [
       "<div>                            <div id=\"fb6e88bb-cde0-4f1b-bc7d-9136725ecd40\" class=\"plotly-graph-div\" style=\"height:525px; width:100%;\"></div>            <script type=\"text/javascript\">                require([\"plotly\"], function(Plotly) {                    window.PLOTLYENV=window.PLOTLYENV || {};                                    if (document.getElementById(\"fb6e88bb-cde0-4f1b-bc7d-9136725ecd40\")) {                    Plotly.newPlot(                        \"fb6e88bb-cde0-4f1b-bc7d-9136725ecd40\",                        [{\"alignmentgroup\":\"True\",\"hovertemplate\":\"Type de victime=n_injured\\u003cbr\\u003eEtat=%{x}\\u003cbr\\u003eNombre de victimes par incident=%{y}\\u003cextra\\u003e\\u003c\\u002fextra\\u003e\",\"legendgroup\":\"n_injured\",\"marker\":{\"color\":\"firebrick\",\"pattern\":{\"shape\":\"\"}},\"name\":\"n_injured\",\"offsetgroup\":\"n_injured\",\"orientation\":\"v\",\"showlegend\":true,\"textposition\":\"auto\",\"x\":[\"Alabama\",\"Arizona\",\"Arkansas\",\"California\",\"Colorado\",\"Connecticut\",\"Delaware\",\"District of Columbia\",\"Florida\",\"Georgia\",\"Idaho\",\"Illinois\",\"Indiana\",\"Iowa\",\"Kansas\",\"Kentucky\",\"Louisiana\",\"Maine\",\"Maryland\",\"Massachusetts\",\"Michigan\",\"Minnesota\",\"Mississippi\",\"Missouri\",\"Montana\",\"Nebraska\",\"Nevada\",\"New Hampshire\",\"New Jersey\",\"New Mexico\",\"New York\",\"North Carolina\",\"North Dakota\",\"Ohio\",\"Oklahoma\",\"Oregon\",\"Pennsylvania\",\"Rhode Island\",\"South Carolina\",\"South Dakota\",\"Tennessee\",\"Texas\",\"Utah\",\"Vermont\",\"Virginia\",\"Washington\",\"West Virginia\",\"Wisconsin\",\"Wyoming\"],\"xaxis\":\"x\",\"y\":[2952,1060,1302,7504,1088,1221,838,1377,6858,3964,135,13106,2819,801,902,1818,4225,132,10668,1635,2857,878,1827,9335,130,654,919,137,2475,528,4942,4488,126,5475,1485,673,4882,338,3010,107,4324,5792,375,67,11053,1240,609,2076,52],\"yaxis\":\"y\",\"type\":\"bar\"},{\"alignmentgroup\":\"True\",\"hovertemplate\":\"Type de victime=n_killed\\u003cbr\\u003eEtat=%{x}\\u003cbr\\u003eNombre de victimes par incident=%{y}\\u003cextra\\u003e\\u003c\\u002fextra\\u003e\",\"legendgroup\":\"n_killed\",\"marker\":{\"color\":\"steelblue\",\"pattern\":{\"shape\":\"\"}},\"name\":\"n_killed\",\"offsetgroup\":\"n_killed\",\"orientation\":\"v\",\"showlegend\":true,\"textposition\":\"auto\",\"x\":[\"Alabama\",\"Arizona\",\"Arkansas\",\"California\",\"Colorado\",\"Connecticut\",\"Delaware\",\"District of Columbia\",\"Florida\",\"Georgia\",\"Idaho\",\"Illinois\",\"Indiana\",\"Iowa\",\"Kansas\",\"Kentucky\",\"Louisiana\",\"Maine\",\"Maryland\",\"Massachusetts\",\"Michigan\",\"Minnesota\",\"Mississippi\",\"Missouri\",\"Montana\",\"Nebraska\",\"Nevada\",\"New Hampshire\",\"New Jersey\",\"New Mexico\",\"New York\",\"North Carolina\",\"North Dakota\",\"Ohio\",\"Oklahoma\",\"Oregon\",\"Pennsylvania\",\"Rhode Island\",\"South Carolina\",\"South Dakota\",\"Tennessee\",\"Texas\",\"Utah\",\"Vermont\",\"Virginia\",\"Washington\",\"West Virginia\",\"Wisconsin\",\"Wyoming\"],\"xaxis\":\"x\",\"y\":[1821,1063,735,5397,742,326,209,430,3734,2348,158,3124,1485,250,512,1018,2021,111,4921,441,1480,419,1133,5227,148,213,754,85,1108,476,1653,2110,64,2326,885,419,2254,56,1517,82,1716,4714,259,53,4621,790,311,815,71],\"yaxis\":\"y\",\"type\":\"bar\"}],                        {\"template\":{\"data\":{\"histogram2dcontour\":[{\"type\":\"histogram2dcontour\",\"colorbar\":{\"outlinewidth\":0,\"ticks\":\"\"},\"colorscale\":[[0.0,\"#0d0887\"],[0.1111111111111111,\"#46039f\"],[0.2222222222222222,\"#7201a8\"],[0.3333333333333333,\"#9c179e\"],[0.4444444444444444,\"#bd3786\"],[0.5555555555555556,\"#d8576b\"],[0.6666666666666666,\"#ed7953\"],[0.7777777777777778,\"#fb9f3a\"],[0.8888888888888888,\"#fdca26\"],[1.0,\"#f0f921\"]]}],\"choropleth\":[{\"type\":\"choropleth\",\"colorbar\":{\"outlinewidth\":0,\"ticks\":\"\"}}],\"histogram2d\":[{\"type\":\"histogram2d\",\"colorbar\":{\"outlinewidth\":0,\"ticks\":\"\"},\"colorscale\":[[0.0,\"#0d0887\"],[0.1111111111111111,\"#46039f\"],[0.2222222222222222,\"#7201a8\"],[0.3333333333333333,\"#9c179e\"],[0.4444444444444444,\"#bd3786\"],[0.5555555555555556,\"#d8576b\"],[0.6666666666666666,\"#ed7953\"],[0.7777777777777778,\"#fb9f3a\"],[0.8888888888888888,\"#fdca26\"],[1.0,\"#f0f921\"]]}],\"heatmap\":[{\"type\":\"heatmap\",\"colorbar\":{\"outlinewidth\":0,\"ticks\":\"\"},\"colorscale\":[[0.0,\"#0d0887\"],[0.1111111111111111,\"#46039f\"],[0.2222222222222222,\"#7201a8\"],[0.3333333333333333,\"#9c179e\"],[0.4444444444444444,\"#bd3786\"],[0.5555555555555556,\"#d8576b\"],[0.6666666666666666,\"#ed7953\"],[0.7777777777777778,\"#fb9f3a\"],[0.8888888888888888,\"#fdca26\"],[1.0,\"#f0f921\"]]}],\"heatmapgl\":[{\"type\":\"heatmapgl\",\"colorbar\":{\"outlinewidth\":0,\"ticks\":\"\"},\"colorscale\":[[0.0,\"#0d0887\"],[0.1111111111111111,\"#46039f\"],[0.2222222222222222,\"#7201a8\"],[0.3333333333333333,\"#9c179e\"],[0.4444444444444444,\"#bd3786\"],[0.5555555555555556,\"#d8576b\"],[0.6666666666666666,\"#ed7953\"],[0.7777777777777778,\"#fb9f3a\"],[0.8888888888888888,\"#fdca26\"],[1.0,\"#f0f921\"]]}],\"contourcarpet\":[{\"type\":\"contourcarpet\",\"colorbar\":{\"outlinewidth\":0,\"ticks\":\"\"}}],\"contour\":[{\"type\":\"contour\",\"colorbar\":{\"outlinewidth\":0,\"ticks\":\"\"},\"colorscale\":[[0.0,\"#0d0887\"],[0.1111111111111111,\"#46039f\"],[0.2222222222222222,\"#7201a8\"],[0.3333333333333333,\"#9c179e\"],[0.4444444444444444,\"#bd3786\"],[0.5555555555555556,\"#d8576b\"],[0.6666666666666666,\"#ed7953\"],[0.7777777777777778,\"#fb9f3a\"],[0.8888888888888888,\"#fdca26\"],[1.0,\"#f0f921\"]]}],\"surface\":[{\"type\":\"surface\",\"colorbar\":{\"outlinewidth\":0,\"ticks\":\"\"},\"colorscale\":[[0.0,\"#0d0887\"],[0.1111111111111111,\"#46039f\"],[0.2222222222222222,\"#7201a8\"],[0.3333333333333333,\"#9c179e\"],[0.4444444444444444,\"#bd3786\"],[0.5555555555555556,\"#d8576b\"],[0.6666666666666666,\"#ed7953\"],[0.7777777777777778,\"#fb9f3a\"],[0.8888888888888888,\"#fdca26\"],[1.0,\"#f0f921\"]]}],\"mesh3d\":[{\"type\":\"mesh3d\",\"colorbar\":{\"outlinewidth\":0,\"ticks\":\"\"}}],\"scatter\":[{\"fillpattern\":{\"fillmode\":\"overlay\",\"size\":10,\"solidity\":0.2},\"type\":\"scatter\"}],\"parcoords\":[{\"type\":\"parcoords\",\"line\":{\"colorbar\":{\"outlinewidth\":0,\"ticks\":\"\"}}}],\"scatterpolargl\":[{\"type\":\"scatterpolargl\",\"marker\":{\"colorbar\":{\"outlinewidth\":0,\"ticks\":\"\"}}}],\"bar\":[{\"error_x\":{\"color\":\"#2a3f5f\"},\"error_y\":{\"color\":\"#2a3f5f\"},\"marker\":{\"line\":{\"color\":\"#E5ECF6\",\"width\":0.5},\"pattern\":{\"fillmode\":\"overlay\",\"size\":10,\"solidity\":0.2}},\"type\":\"bar\"}],\"scattergeo\":[{\"type\":\"scattergeo\",\"marker\":{\"colorbar\":{\"outlinewidth\":0,\"ticks\":\"\"}}}],\"scatterpolar\":[{\"type\":\"scatterpolar\",\"marker\":{\"colorbar\":{\"outlinewidth\":0,\"ticks\":\"\"}}}],\"histogram\":[{\"marker\":{\"pattern\":{\"fillmode\":\"overlay\",\"size\":10,\"solidity\":0.2}},\"type\":\"histogram\"}],\"scattergl\":[{\"type\":\"scattergl\",\"marker\":{\"colorbar\":{\"outlinewidth\":0,\"ticks\":\"\"}}}],\"scatter3d\":[{\"type\":\"scatter3d\",\"line\":{\"colorbar\":{\"outlinewidth\":0,\"ticks\":\"\"}},\"marker\":{\"colorbar\":{\"outlinewidth\":0,\"ticks\":\"\"}}}],\"scattermapbox\":[{\"type\":\"scattermapbox\",\"marker\":{\"colorbar\":{\"outlinewidth\":0,\"ticks\":\"\"}}}],\"scatterternary\":[{\"type\":\"scatterternary\",\"marker\":{\"colorbar\":{\"outlinewidth\":0,\"ticks\":\"\"}}}],\"scattercarpet\":[{\"type\":\"scattercarpet\",\"marker\":{\"colorbar\":{\"outlinewidth\":0,\"ticks\":\"\"}}}],\"carpet\":[{\"aaxis\":{\"endlinecolor\":\"#2a3f5f\",\"gridcolor\":\"white\",\"linecolor\":\"white\",\"minorgridcolor\":\"white\",\"startlinecolor\":\"#2a3f5f\"},\"baxis\":{\"endlinecolor\":\"#2a3f5f\",\"gridcolor\":\"white\",\"linecolor\":\"white\",\"minorgridcolor\":\"white\",\"startlinecolor\":\"#2a3f5f\"},\"type\":\"carpet\"}],\"table\":[{\"cells\":{\"fill\":{\"color\":\"#EBF0F8\"},\"line\":{\"color\":\"white\"}},\"header\":{\"fill\":{\"color\":\"#C8D4E3\"},\"line\":{\"color\":\"white\"}},\"type\":\"table\"}],\"barpolar\":[{\"marker\":{\"line\":{\"color\":\"#E5ECF6\",\"width\":0.5},\"pattern\":{\"fillmode\":\"overlay\",\"size\":10,\"solidity\":0.2}},\"type\":\"barpolar\"}],\"pie\":[{\"automargin\":true,\"type\":\"pie\"}]},\"layout\":{\"autotypenumbers\":\"strict\",\"colorway\":[\"#636efa\",\"#EF553B\",\"#00cc96\",\"#ab63fa\",\"#FFA15A\",\"#19d3f3\",\"#FF6692\",\"#B6E880\",\"#FF97FF\",\"#FECB52\"],\"font\":{\"color\":\"#2a3f5f\"},\"hovermode\":\"closest\",\"hoverlabel\":{\"align\":\"left\"},\"paper_bgcolor\":\"white\",\"plot_bgcolor\":\"#E5ECF6\",\"polar\":{\"bgcolor\":\"#E5ECF6\",\"angularaxis\":{\"gridcolor\":\"white\",\"linecolor\":\"white\",\"ticks\":\"\"},\"radialaxis\":{\"gridcolor\":\"white\",\"linecolor\":\"white\",\"ticks\":\"\"}},\"ternary\":{\"bgcolor\":\"#E5ECF6\",\"aaxis\":{\"gridcolor\":\"white\",\"linecolor\":\"white\",\"ticks\":\"\"},\"baxis\":{\"gridcolor\":\"white\",\"linecolor\":\"white\",\"ticks\":\"\"},\"caxis\":{\"gridcolor\":\"white\",\"linecolor\":\"white\",\"ticks\":\"\"}},\"coloraxis\":{\"colorbar\":{\"outlinewidth\":0,\"ticks\":\"\"}},\"colorscale\":{\"sequential\":[[0.0,\"#0d0887\"],[0.1111111111111111,\"#46039f\"],[0.2222222222222222,\"#7201a8\"],[0.3333333333333333,\"#9c179e\"],[0.4444444444444444,\"#bd3786\"],[0.5555555555555556,\"#d8576b\"],[0.6666666666666666,\"#ed7953\"],[0.7777777777777778,\"#fb9f3a\"],[0.8888888888888888,\"#fdca26\"],[1.0,\"#f0f921\"]],\"sequentialminus\":[[0.0,\"#0d0887\"],[0.1111111111111111,\"#46039f\"],[0.2222222222222222,\"#7201a8\"],[0.3333333333333333,\"#9c179e\"],[0.4444444444444444,\"#bd3786\"],[0.5555555555555556,\"#d8576b\"],[0.6666666666666666,\"#ed7953\"],[0.7777777777777778,\"#fb9f3a\"],[0.8888888888888888,\"#fdca26\"],[1.0,\"#f0f921\"]],\"diverging\":[[0,\"#8e0152\"],[0.1,\"#c51b7d\"],[0.2,\"#de77ae\"],[0.3,\"#f1b6da\"],[0.4,\"#fde0ef\"],[0.5,\"#f7f7f7\"],[0.6,\"#e6f5d0\"],[0.7,\"#b8e186\"],[0.8,\"#7fbc41\"],[0.9,\"#4d9221\"],[1,\"#276419\"]]},\"xaxis\":{\"gridcolor\":\"white\",\"linecolor\":\"white\",\"ticks\":\"\",\"title\":{\"standoff\":15},\"zerolinecolor\":\"white\",\"automargin\":true,\"zerolinewidth\":2},\"yaxis\":{\"gridcolor\":\"white\",\"linecolor\":\"white\",\"ticks\":\"\",\"title\":{\"standoff\":15},\"zerolinecolor\":\"white\",\"automargin\":true,\"zerolinewidth\":2},\"scene\":{\"xaxis\":{\"backgroundcolor\":\"#E5ECF6\",\"gridcolor\":\"white\",\"linecolor\":\"white\",\"showbackground\":true,\"ticks\":\"\",\"zerolinecolor\":\"white\",\"gridwidth\":2},\"yaxis\":{\"backgroundcolor\":\"#E5ECF6\",\"gridcolor\":\"white\",\"linecolor\":\"white\",\"showbackground\":true,\"ticks\":\"\",\"zerolinecolor\":\"white\",\"gridwidth\":2},\"zaxis\":{\"backgroundcolor\":\"#E5ECF6\",\"gridcolor\":\"white\",\"linecolor\":\"white\",\"showbackground\":true,\"ticks\":\"\",\"zerolinecolor\":\"white\",\"gridwidth\":2}},\"shapedefaults\":{\"line\":{\"color\":\"#2a3f5f\"}},\"annotationdefaults\":{\"arrowcolor\":\"#2a3f5f\",\"arrowhead\":0,\"arrowwidth\":1},\"geo\":{\"bgcolor\":\"white\",\"landcolor\":\"#E5ECF6\",\"subunitcolor\":\"white\",\"showland\":true,\"showlakes\":true,\"lakecolor\":\"white\"},\"title\":{\"x\":0.05},\"mapbox\":{\"style\":\"light\"}}},\"xaxis\":{\"anchor\":\"y\",\"domain\":[0.0,1.0],\"title\":{\"text\":\"Etat\"}},\"yaxis\":{\"anchor\":\"x\",\"domain\":[0.0,1.0],\"title\":{\"text\":\"Nombre de victimes par incident\"}},\"legend\":{\"title\":{\"text\":\"Type de victime\"},\"tracegroupgap\":0},\"title\":{\"text\":\"Nombre de victimes d'incident par arme \\u00e0 feu par Etat\"},\"barmode\":\"group\"},                        {\"responsive\": true}                    ).then(function(){\n",
       "                            \n",
       "var gd = document.getElementById('fb6e88bb-cde0-4f1b-bc7d-9136725ecd40');\n",
       "var x = new MutationObserver(function (mutations, observer) {{\n",
       "        var display = window.getComputedStyle(gd).display;\n",
       "        if (!display || display === 'none') {{\n",
       "            console.log([gd, 'removed!']);\n",
       "            Plotly.purge(gd);\n",
       "            observer.disconnect();\n",
       "        }}\n",
       "}});\n",
       "\n",
       "// Listen for the removal of the full notebook cells\n",
       "var notebookContainer = gd.closest('#notebook-container');\n",
       "if (notebookContainer) {{\n",
       "    x.observe(notebookContainer, {childList: true});\n",
       "}}\n",
       "\n",
       "// Listen for the clearing of the current output cell\n",
       "var outputEl = gd.closest('.output');\n",
       "if (outputEl) {{\n",
       "    x.observe(outputEl, {childList: true});\n",
       "}}\n",
       "\n",
       "                        })                };                });            </script>        </div>"
      ]
     },
     "metadata": {},
     "output_type": "display_data"
    }
   ],
   "source": [
    "grouped_data5 = base_totale.groupby('state').agg({\n",
    "    'n_injured': 'sum',\n",
    "    'n_killed': 'sum'\n",
    "}).reset_index()\n",
    "\n",
    "\n",
    "fig5 = px.bar(\n",
    "    grouped_data5,\n",
    "    x=grouped_data5['state'],\n",
    "    y=['n_injured', 'n_killed'],\n",
    "    labels={\"state\": \"Etat\", \"value\": \"Nombre de victimes par incident\", \"variable\": \"Type de victime\"},\n",
    "    title=\"Nombre de victimes d'incident par arme à feu par Etat\",\n",
    "    color_discrete_map={\"n_injured\": \"firebrick\", \"n_killed\": \"steelblue\"},\n",
    ")\n",
    "\n",
    "fig5.update_layout(barmode='group')  # Display bars side by side\n",
    "\n",
    "fig5.show()"
   ]
  },
  {
   "cell_type": "code",
   "execution_count": 80,
   "metadata": {},
   "outputs": [
    {
     "data": {
      "application/vnd.plotly.v1+json": {
       "config": {
        "plotlyServerURL": "https://plot.ly"
       },
       "data": [
        {
         "alignmentgroup": "True",
         "hovertemplate": "Type de victime=n_injured<br>Etat=%{x}<br>Moyenne du nombre de victimes par incident=%{y}<extra></extra>",
         "legendgroup": "n_injured",
         "marker": {
          "color": "firebrick",
          "pattern": {
           "shape": ""
          }
         },
         "name": "n_injured",
         "offsetgroup": "n_injured",
         "orientation": "v",
         "showlegend": true,
         "textposition": "auto",
         "type": "bar",
         "x": [
          "Alabama",
          "Arizona",
          "Arkansas",
          "California",
          "Colorado",
          "Connecticut",
          "Delaware",
          "District of Columbia",
          "Florida",
          "Georgia",
          "Idaho",
          "Illinois",
          "Indiana",
          "Iowa",
          "Kansas",
          "Kentucky",
          "Louisiana",
          "Maine",
          "Maryland",
          "Massachusetts",
          "Michigan",
          "Minnesota",
          "Mississippi",
          "Missouri",
          "Montana",
          "Nebraska",
          "Nevada",
          "New Hampshire",
          "New Jersey",
          "New Mexico",
          "New York",
          "North Carolina",
          "North Dakota",
          "Ohio",
          "Oklahoma",
          "Oregon",
          "Pennsylvania",
          "Rhode Island",
          "South Carolina",
          "South Dakota",
          "Tennessee",
          "Texas",
          "Utah",
          "Vermont",
          "Virginia",
          "Washington",
          "West Virginia",
          "Wisconsin",
          "Wyoming"
         ],
         "xaxis": "x",
         "y": [
          0.5493114998139189,
          0.4667547335975341,
          0.47276688453159044,
          0.4693226593282882,
          0.3542819928362097,
          0.40877134248409774,
          0.5100426049908704,
          0.44491114701130857,
          0.4715346534653465,
          0.45463929349696064,
          0.2132701421800948,
          0.7772045306291882,
          0.5054688900842746,
          0.3281442031954117,
          0.43532818532818535,
          0.452914798206278,
          0.5453724022202143,
          0.14814814814814814,
          0.5957114138932321,
          0.28228591160220995,
          0.4944617514710973,
          0.38525669153137343,
          0.5224478124106376,
          0.6183757286698464,
          0.20933977455716588,
          0.41003134796238244,
          0.48908994145822243,
          0.14668094218415417,
          0.4732313575525813,
          0.3304130162703379,
          0.5204844655081622,
          0.5303084012761432,
          0.22784810126582278,
          0.5567419158023185,
          0.4468853445681613,
          0.3035633739287325,
          0.5695286980867942,
          0.3862857142857143,
          0.4462564862861379,
          0.2053742802303263,
          0.5867824670918713,
          0.4450591670508683,
          0.3662109375,
          0.14660831509846828,
          0.5760671287851149,
          0.37473556965850713,
          0.40654205607476634,
          0.44217252396166135,
          0.10612244897959183
         ],
         "yaxis": "y"
        },
        {
         "alignmentgroup": "True",
         "hovertemplate": "Type de victime=n_killed<br>Etat=%{x}<br>Moyenne du nombre de victimes par incident=%{y}<extra></extra>",
         "legendgroup": "n_killed",
         "marker": {
          "color": "steelblue",
          "pattern": {
           "shape": ""
          }
         },
         "name": "n_killed",
         "offsetgroup": "n_killed",
         "orientation": "v",
         "showlegend": true,
         "textposition": "auto",
         "type": "bar",
         "x": [
          "Alabama",
          "Arizona",
          "Arkansas",
          "California",
          "Colorado",
          "Connecticut",
          "Delaware",
          "District of Columbia",
          "Florida",
          "Georgia",
          "Idaho",
          "Illinois",
          "Indiana",
          "Iowa",
          "Kansas",
          "Kentucky",
          "Louisiana",
          "Maine",
          "Maryland",
          "Massachusetts",
          "Michigan",
          "Minnesota",
          "Mississippi",
          "Missouri",
          "Montana",
          "Nebraska",
          "Nevada",
          "New Hampshire",
          "New Jersey",
          "New Mexico",
          "New York",
          "North Carolina",
          "North Dakota",
          "Ohio",
          "Oklahoma",
          "Oregon",
          "Pennsylvania",
          "Rhode Island",
          "South Carolina",
          "South Dakota",
          "Tennessee",
          "Texas",
          "Utah",
          "Vermont",
          "Virginia",
          "Washington",
          "West Virginia",
          "Wisconsin",
          "Wyoming"
         ],
         "xaxis": "x",
         "y": [
          0.3388537402307406,
          0.468075737560546,
          0.2668845315904139,
          0.33754456188629683,
          0.2416151090849886,
          0.10913960495480415,
          0.12720632988435787,
          0.13893376413570274,
          0.25673817381738173,
          0.26929693772221586,
          0.24960505529225907,
          0.1852576647097195,
          0.26627218934911245,
          0.10241704219582139,
          0.2471042471042471,
          0.2536123567513702,
          0.2608751774880599,
          0.12457912457912458,
          0.27479338842975204,
          0.07613950276243094,
          0.25614399446175146,
          0.18385256691531374,
          0.3239919931369746,
          0.34625066242713304,
          0.23832528180354268,
          0.1335423197492163,
          0.4012772751463544,
          0.09100642398286937,
          0.2118546845124283,
          0.2978723404255319,
          0.1740916271721959,
          0.24932057190121706,
          0.11573236889692586,
          0.23652633719747815,
          0.2663256093891062,
          0.18899413622011726,
          0.2629491367242184,
          0.064,
          0.22490733876945887,
          0.15738963531669867,
          0.23286741756004886,
          0.36222529583525437,
          0.2529296875,
          0.11597374179431072,
          0.2408401521863762,
          0.2387428226050166,
          0.2076101468624833,
          0.17358892438764642,
          0.14489795918367346
         ],
         "yaxis": "y"
        }
       ],
       "layout": {
        "barmode": "group",
        "legend": {
         "title": {
          "text": "Type de victime"
         },
         "tracegroupgap": 0
        },
        "template": {
         "data": {
          "bar": [
           {
            "error_x": {
             "color": "#2a3f5f"
            },
            "error_y": {
             "color": "#2a3f5f"
            },
            "marker": {
             "line": {
              "color": "#E5ECF6",
              "width": 0.5
             },
             "pattern": {
              "fillmode": "overlay",
              "size": 10,
              "solidity": 0.2
             }
            },
            "type": "bar"
           }
          ],
          "barpolar": [
           {
            "marker": {
             "line": {
              "color": "#E5ECF6",
              "width": 0.5
             },
             "pattern": {
              "fillmode": "overlay",
              "size": 10,
              "solidity": 0.2
             }
            },
            "type": "barpolar"
           }
          ],
          "carpet": [
           {
            "aaxis": {
             "endlinecolor": "#2a3f5f",
             "gridcolor": "white",
             "linecolor": "white",
             "minorgridcolor": "white",
             "startlinecolor": "#2a3f5f"
            },
            "baxis": {
             "endlinecolor": "#2a3f5f",
             "gridcolor": "white",
             "linecolor": "white",
             "minorgridcolor": "white",
             "startlinecolor": "#2a3f5f"
            },
            "type": "carpet"
           }
          ],
          "choropleth": [
           {
            "colorbar": {
             "outlinewidth": 0,
             "ticks": ""
            },
            "type": "choropleth"
           }
          ],
          "contour": [
           {
            "colorbar": {
             "outlinewidth": 0,
             "ticks": ""
            },
            "colorscale": [
             [
              0,
              "#0d0887"
             ],
             [
              0.1111111111111111,
              "#46039f"
             ],
             [
              0.2222222222222222,
              "#7201a8"
             ],
             [
              0.3333333333333333,
              "#9c179e"
             ],
             [
              0.4444444444444444,
              "#bd3786"
             ],
             [
              0.5555555555555556,
              "#d8576b"
             ],
             [
              0.6666666666666666,
              "#ed7953"
             ],
             [
              0.7777777777777778,
              "#fb9f3a"
             ],
             [
              0.8888888888888888,
              "#fdca26"
             ],
             [
              1,
              "#f0f921"
             ]
            ],
            "type": "contour"
           }
          ],
          "contourcarpet": [
           {
            "colorbar": {
             "outlinewidth": 0,
             "ticks": ""
            },
            "type": "contourcarpet"
           }
          ],
          "heatmap": [
           {
            "colorbar": {
             "outlinewidth": 0,
             "ticks": ""
            },
            "colorscale": [
             [
              0,
              "#0d0887"
             ],
             [
              0.1111111111111111,
              "#46039f"
             ],
             [
              0.2222222222222222,
              "#7201a8"
             ],
             [
              0.3333333333333333,
              "#9c179e"
             ],
             [
              0.4444444444444444,
              "#bd3786"
             ],
             [
              0.5555555555555556,
              "#d8576b"
             ],
             [
              0.6666666666666666,
              "#ed7953"
             ],
             [
              0.7777777777777778,
              "#fb9f3a"
             ],
             [
              0.8888888888888888,
              "#fdca26"
             ],
             [
              1,
              "#f0f921"
             ]
            ],
            "type": "heatmap"
           }
          ],
          "heatmapgl": [
           {
            "colorbar": {
             "outlinewidth": 0,
             "ticks": ""
            },
            "colorscale": [
             [
              0,
              "#0d0887"
             ],
             [
              0.1111111111111111,
              "#46039f"
             ],
             [
              0.2222222222222222,
              "#7201a8"
             ],
             [
              0.3333333333333333,
              "#9c179e"
             ],
             [
              0.4444444444444444,
              "#bd3786"
             ],
             [
              0.5555555555555556,
              "#d8576b"
             ],
             [
              0.6666666666666666,
              "#ed7953"
             ],
             [
              0.7777777777777778,
              "#fb9f3a"
             ],
             [
              0.8888888888888888,
              "#fdca26"
             ],
             [
              1,
              "#f0f921"
             ]
            ],
            "type": "heatmapgl"
           }
          ],
          "histogram": [
           {
            "marker": {
             "pattern": {
              "fillmode": "overlay",
              "size": 10,
              "solidity": 0.2
             }
            },
            "type": "histogram"
           }
          ],
          "histogram2d": [
           {
            "colorbar": {
             "outlinewidth": 0,
             "ticks": ""
            },
            "colorscale": [
             [
              0,
              "#0d0887"
             ],
             [
              0.1111111111111111,
              "#46039f"
             ],
             [
              0.2222222222222222,
              "#7201a8"
             ],
             [
              0.3333333333333333,
              "#9c179e"
             ],
             [
              0.4444444444444444,
              "#bd3786"
             ],
             [
              0.5555555555555556,
              "#d8576b"
             ],
             [
              0.6666666666666666,
              "#ed7953"
             ],
             [
              0.7777777777777778,
              "#fb9f3a"
             ],
             [
              0.8888888888888888,
              "#fdca26"
             ],
             [
              1,
              "#f0f921"
             ]
            ],
            "type": "histogram2d"
           }
          ],
          "histogram2dcontour": [
           {
            "colorbar": {
             "outlinewidth": 0,
             "ticks": ""
            },
            "colorscale": [
             [
              0,
              "#0d0887"
             ],
             [
              0.1111111111111111,
              "#46039f"
             ],
             [
              0.2222222222222222,
              "#7201a8"
             ],
             [
              0.3333333333333333,
              "#9c179e"
             ],
             [
              0.4444444444444444,
              "#bd3786"
             ],
             [
              0.5555555555555556,
              "#d8576b"
             ],
             [
              0.6666666666666666,
              "#ed7953"
             ],
             [
              0.7777777777777778,
              "#fb9f3a"
             ],
             [
              0.8888888888888888,
              "#fdca26"
             ],
             [
              1,
              "#f0f921"
             ]
            ],
            "type": "histogram2dcontour"
           }
          ],
          "mesh3d": [
           {
            "colorbar": {
             "outlinewidth": 0,
             "ticks": ""
            },
            "type": "mesh3d"
           }
          ],
          "parcoords": [
           {
            "line": {
             "colorbar": {
              "outlinewidth": 0,
              "ticks": ""
             }
            },
            "type": "parcoords"
           }
          ],
          "pie": [
           {
            "automargin": true,
            "type": "pie"
           }
          ],
          "scatter": [
           {
            "fillpattern": {
             "fillmode": "overlay",
             "size": 10,
             "solidity": 0.2
            },
            "type": "scatter"
           }
          ],
          "scatter3d": [
           {
            "line": {
             "colorbar": {
              "outlinewidth": 0,
              "ticks": ""
             }
            },
            "marker": {
             "colorbar": {
              "outlinewidth": 0,
              "ticks": ""
             }
            },
            "type": "scatter3d"
           }
          ],
          "scattercarpet": [
           {
            "marker": {
             "colorbar": {
              "outlinewidth": 0,
              "ticks": ""
             }
            },
            "type": "scattercarpet"
           }
          ],
          "scattergeo": [
           {
            "marker": {
             "colorbar": {
              "outlinewidth": 0,
              "ticks": ""
             }
            },
            "type": "scattergeo"
           }
          ],
          "scattergl": [
           {
            "marker": {
             "colorbar": {
              "outlinewidth": 0,
              "ticks": ""
             }
            },
            "type": "scattergl"
           }
          ],
          "scattermapbox": [
           {
            "marker": {
             "colorbar": {
              "outlinewidth": 0,
              "ticks": ""
             }
            },
            "type": "scattermapbox"
           }
          ],
          "scatterpolar": [
           {
            "marker": {
             "colorbar": {
              "outlinewidth": 0,
              "ticks": ""
             }
            },
            "type": "scatterpolar"
           }
          ],
          "scatterpolargl": [
           {
            "marker": {
             "colorbar": {
              "outlinewidth": 0,
              "ticks": ""
             }
            },
            "type": "scatterpolargl"
           }
          ],
          "scatterternary": [
           {
            "marker": {
             "colorbar": {
              "outlinewidth": 0,
              "ticks": ""
             }
            },
            "type": "scatterternary"
           }
          ],
          "surface": [
           {
            "colorbar": {
             "outlinewidth": 0,
             "ticks": ""
            },
            "colorscale": [
             [
              0,
              "#0d0887"
             ],
             [
              0.1111111111111111,
              "#46039f"
             ],
             [
              0.2222222222222222,
              "#7201a8"
             ],
             [
              0.3333333333333333,
              "#9c179e"
             ],
             [
              0.4444444444444444,
              "#bd3786"
             ],
             [
              0.5555555555555556,
              "#d8576b"
             ],
             [
              0.6666666666666666,
              "#ed7953"
             ],
             [
              0.7777777777777778,
              "#fb9f3a"
             ],
             [
              0.8888888888888888,
              "#fdca26"
             ],
             [
              1,
              "#f0f921"
             ]
            ],
            "type": "surface"
           }
          ],
          "table": [
           {
            "cells": {
             "fill": {
              "color": "#EBF0F8"
             },
             "line": {
              "color": "white"
             }
            },
            "header": {
             "fill": {
              "color": "#C8D4E3"
             },
             "line": {
              "color": "white"
             }
            },
            "type": "table"
           }
          ]
         },
         "layout": {
          "annotationdefaults": {
           "arrowcolor": "#2a3f5f",
           "arrowhead": 0,
           "arrowwidth": 1
          },
          "autotypenumbers": "strict",
          "coloraxis": {
           "colorbar": {
            "outlinewidth": 0,
            "ticks": ""
           }
          },
          "colorscale": {
           "diverging": [
            [
             0,
             "#8e0152"
            ],
            [
             0.1,
             "#c51b7d"
            ],
            [
             0.2,
             "#de77ae"
            ],
            [
             0.3,
             "#f1b6da"
            ],
            [
             0.4,
             "#fde0ef"
            ],
            [
             0.5,
             "#f7f7f7"
            ],
            [
             0.6,
             "#e6f5d0"
            ],
            [
             0.7,
             "#b8e186"
            ],
            [
             0.8,
             "#7fbc41"
            ],
            [
             0.9,
             "#4d9221"
            ],
            [
             1,
             "#276419"
            ]
           ],
           "sequential": [
            [
             0,
             "#0d0887"
            ],
            [
             0.1111111111111111,
             "#46039f"
            ],
            [
             0.2222222222222222,
             "#7201a8"
            ],
            [
             0.3333333333333333,
             "#9c179e"
            ],
            [
             0.4444444444444444,
             "#bd3786"
            ],
            [
             0.5555555555555556,
             "#d8576b"
            ],
            [
             0.6666666666666666,
             "#ed7953"
            ],
            [
             0.7777777777777778,
             "#fb9f3a"
            ],
            [
             0.8888888888888888,
             "#fdca26"
            ],
            [
             1,
             "#f0f921"
            ]
           ],
           "sequentialminus": [
            [
             0,
             "#0d0887"
            ],
            [
             0.1111111111111111,
             "#46039f"
            ],
            [
             0.2222222222222222,
             "#7201a8"
            ],
            [
             0.3333333333333333,
             "#9c179e"
            ],
            [
             0.4444444444444444,
             "#bd3786"
            ],
            [
             0.5555555555555556,
             "#d8576b"
            ],
            [
             0.6666666666666666,
             "#ed7953"
            ],
            [
             0.7777777777777778,
             "#fb9f3a"
            ],
            [
             0.8888888888888888,
             "#fdca26"
            ],
            [
             1,
             "#f0f921"
            ]
           ]
          },
          "colorway": [
           "#636efa",
           "#EF553B",
           "#00cc96",
           "#ab63fa",
           "#FFA15A",
           "#19d3f3",
           "#FF6692",
           "#B6E880",
           "#FF97FF",
           "#FECB52"
          ],
          "font": {
           "color": "#2a3f5f"
          },
          "geo": {
           "bgcolor": "white",
           "lakecolor": "white",
           "landcolor": "#E5ECF6",
           "showlakes": true,
           "showland": true,
           "subunitcolor": "white"
          },
          "hoverlabel": {
           "align": "left"
          },
          "hovermode": "closest",
          "mapbox": {
           "style": "light"
          },
          "paper_bgcolor": "white",
          "plot_bgcolor": "#E5ECF6",
          "polar": {
           "angularaxis": {
            "gridcolor": "white",
            "linecolor": "white",
            "ticks": ""
           },
           "bgcolor": "#E5ECF6",
           "radialaxis": {
            "gridcolor": "white",
            "linecolor": "white",
            "ticks": ""
           }
          },
          "scene": {
           "xaxis": {
            "backgroundcolor": "#E5ECF6",
            "gridcolor": "white",
            "gridwidth": 2,
            "linecolor": "white",
            "showbackground": true,
            "ticks": "",
            "zerolinecolor": "white"
           },
           "yaxis": {
            "backgroundcolor": "#E5ECF6",
            "gridcolor": "white",
            "gridwidth": 2,
            "linecolor": "white",
            "showbackground": true,
            "ticks": "",
            "zerolinecolor": "white"
           },
           "zaxis": {
            "backgroundcolor": "#E5ECF6",
            "gridcolor": "white",
            "gridwidth": 2,
            "linecolor": "white",
            "showbackground": true,
            "ticks": "",
            "zerolinecolor": "white"
           }
          },
          "shapedefaults": {
           "line": {
            "color": "#2a3f5f"
           }
          },
          "ternary": {
           "aaxis": {
            "gridcolor": "white",
            "linecolor": "white",
            "ticks": ""
           },
           "baxis": {
            "gridcolor": "white",
            "linecolor": "white",
            "ticks": ""
           },
           "bgcolor": "#E5ECF6",
           "caxis": {
            "gridcolor": "white",
            "linecolor": "white",
            "ticks": ""
           }
          },
          "title": {
           "x": 0.05
          },
          "xaxis": {
           "automargin": true,
           "gridcolor": "white",
           "linecolor": "white",
           "ticks": "",
           "title": {
            "standoff": 15
           },
           "zerolinecolor": "white",
           "zerolinewidth": 2
          },
          "yaxis": {
           "automargin": true,
           "gridcolor": "white",
           "linecolor": "white",
           "ticks": "",
           "title": {
            "standoff": 15
           },
           "zerolinecolor": "white",
           "zerolinewidth": 2
          }
         }
        },
        "title": {
         "text": "Nombre moyen de victimes d'incident par arme à feu par Etat"
        },
        "xaxis": {
         "anchor": "y",
         "domain": [
          0,
          1
         ],
         "title": {
          "text": "Etat"
         }
        },
        "yaxis": {
         "anchor": "x",
         "domain": [
          0,
          1
         ],
         "title": {
          "text": "Moyenne du nombre de victimes par incident"
         }
        }
       }
      },
      "text/html": [
       "<div>                            <div id=\"493738da-65c2-4b4b-b811-90d09fea07be\" class=\"plotly-graph-div\" style=\"height:525px; width:100%;\"></div>            <script type=\"text/javascript\">                require([\"plotly\"], function(Plotly) {                    window.PLOTLYENV=window.PLOTLYENV || {};                                    if (document.getElementById(\"493738da-65c2-4b4b-b811-90d09fea07be\")) {                    Plotly.newPlot(                        \"493738da-65c2-4b4b-b811-90d09fea07be\",                        [{\"alignmentgroup\":\"True\",\"hovertemplate\":\"Type de victime=n_injured\\u003cbr\\u003eEtat=%{x}\\u003cbr\\u003eMoyenne du nombre de victimes par incident=%{y}\\u003cextra\\u003e\\u003c\\u002fextra\\u003e\",\"legendgroup\":\"n_injured\",\"marker\":{\"color\":\"firebrick\",\"pattern\":{\"shape\":\"\"}},\"name\":\"n_injured\",\"offsetgroup\":\"n_injured\",\"orientation\":\"v\",\"showlegend\":true,\"textposition\":\"auto\",\"x\":[\"Alabama\",\"Arizona\",\"Arkansas\",\"California\",\"Colorado\",\"Connecticut\",\"Delaware\",\"District of Columbia\",\"Florida\",\"Georgia\",\"Idaho\",\"Illinois\",\"Indiana\",\"Iowa\",\"Kansas\",\"Kentucky\",\"Louisiana\",\"Maine\",\"Maryland\",\"Massachusetts\",\"Michigan\",\"Minnesota\",\"Mississippi\",\"Missouri\",\"Montana\",\"Nebraska\",\"Nevada\",\"New Hampshire\",\"New Jersey\",\"New Mexico\",\"New York\",\"North Carolina\",\"North Dakota\",\"Ohio\",\"Oklahoma\",\"Oregon\",\"Pennsylvania\",\"Rhode Island\",\"South Carolina\",\"South Dakota\",\"Tennessee\",\"Texas\",\"Utah\",\"Vermont\",\"Virginia\",\"Washington\",\"West Virginia\",\"Wisconsin\",\"Wyoming\"],\"xaxis\":\"x\",\"y\":[0.5493114998139189,0.4667547335975341,0.47276688453159044,0.4693226593282882,0.3542819928362097,0.40877134248409774,0.5100426049908704,0.44491114701130857,0.4715346534653465,0.45463929349696064,0.2132701421800948,0.7772045306291882,0.5054688900842746,0.3281442031954117,0.43532818532818535,0.452914798206278,0.5453724022202143,0.14814814814814814,0.5957114138932321,0.28228591160220995,0.4944617514710973,0.38525669153137343,0.5224478124106376,0.6183757286698464,0.20933977455716588,0.41003134796238244,0.48908994145822243,0.14668094218415417,0.4732313575525813,0.3304130162703379,0.5204844655081622,0.5303084012761432,0.22784810126582278,0.5567419158023185,0.4468853445681613,0.3035633739287325,0.5695286980867942,0.3862857142857143,0.4462564862861379,0.2053742802303263,0.5867824670918713,0.4450591670508683,0.3662109375,0.14660831509846828,0.5760671287851149,0.37473556965850713,0.40654205607476634,0.44217252396166135,0.10612244897959183],\"yaxis\":\"y\",\"type\":\"bar\"},{\"alignmentgroup\":\"True\",\"hovertemplate\":\"Type de victime=n_killed\\u003cbr\\u003eEtat=%{x}\\u003cbr\\u003eMoyenne du nombre de victimes par incident=%{y}\\u003cextra\\u003e\\u003c\\u002fextra\\u003e\",\"legendgroup\":\"n_killed\",\"marker\":{\"color\":\"steelblue\",\"pattern\":{\"shape\":\"\"}},\"name\":\"n_killed\",\"offsetgroup\":\"n_killed\",\"orientation\":\"v\",\"showlegend\":true,\"textposition\":\"auto\",\"x\":[\"Alabama\",\"Arizona\",\"Arkansas\",\"California\",\"Colorado\",\"Connecticut\",\"Delaware\",\"District of Columbia\",\"Florida\",\"Georgia\",\"Idaho\",\"Illinois\",\"Indiana\",\"Iowa\",\"Kansas\",\"Kentucky\",\"Louisiana\",\"Maine\",\"Maryland\",\"Massachusetts\",\"Michigan\",\"Minnesota\",\"Mississippi\",\"Missouri\",\"Montana\",\"Nebraska\",\"Nevada\",\"New Hampshire\",\"New Jersey\",\"New Mexico\",\"New York\",\"North Carolina\",\"North Dakota\",\"Ohio\",\"Oklahoma\",\"Oregon\",\"Pennsylvania\",\"Rhode Island\",\"South Carolina\",\"South Dakota\",\"Tennessee\",\"Texas\",\"Utah\",\"Vermont\",\"Virginia\",\"Washington\",\"West Virginia\",\"Wisconsin\",\"Wyoming\"],\"xaxis\":\"x\",\"y\":[0.3388537402307406,0.468075737560546,0.2668845315904139,0.33754456188629683,0.2416151090849886,0.10913960495480415,0.12720632988435787,0.13893376413570274,0.25673817381738173,0.26929693772221586,0.24960505529225907,0.1852576647097195,0.26627218934911245,0.10241704219582139,0.2471042471042471,0.2536123567513702,0.2608751774880599,0.12457912457912458,0.27479338842975204,0.07613950276243094,0.25614399446175146,0.18385256691531374,0.3239919931369746,0.34625066242713304,0.23832528180354268,0.1335423197492163,0.4012772751463544,0.09100642398286937,0.2118546845124283,0.2978723404255319,0.1740916271721959,0.24932057190121706,0.11573236889692586,0.23652633719747815,0.2663256093891062,0.18899413622011726,0.2629491367242184,0.064,0.22490733876945887,0.15738963531669867,0.23286741756004886,0.36222529583525437,0.2529296875,0.11597374179431072,0.2408401521863762,0.2387428226050166,0.2076101468624833,0.17358892438764642,0.14489795918367346],\"yaxis\":\"y\",\"type\":\"bar\"}],                        {\"template\":{\"data\":{\"histogram2dcontour\":[{\"type\":\"histogram2dcontour\",\"colorbar\":{\"outlinewidth\":0,\"ticks\":\"\"},\"colorscale\":[[0.0,\"#0d0887\"],[0.1111111111111111,\"#46039f\"],[0.2222222222222222,\"#7201a8\"],[0.3333333333333333,\"#9c179e\"],[0.4444444444444444,\"#bd3786\"],[0.5555555555555556,\"#d8576b\"],[0.6666666666666666,\"#ed7953\"],[0.7777777777777778,\"#fb9f3a\"],[0.8888888888888888,\"#fdca26\"],[1.0,\"#f0f921\"]]}],\"choropleth\":[{\"type\":\"choropleth\",\"colorbar\":{\"outlinewidth\":0,\"ticks\":\"\"}}],\"histogram2d\":[{\"type\":\"histogram2d\",\"colorbar\":{\"outlinewidth\":0,\"ticks\":\"\"},\"colorscale\":[[0.0,\"#0d0887\"],[0.1111111111111111,\"#46039f\"],[0.2222222222222222,\"#7201a8\"],[0.3333333333333333,\"#9c179e\"],[0.4444444444444444,\"#bd3786\"],[0.5555555555555556,\"#d8576b\"],[0.6666666666666666,\"#ed7953\"],[0.7777777777777778,\"#fb9f3a\"],[0.8888888888888888,\"#fdca26\"],[1.0,\"#f0f921\"]]}],\"heatmap\":[{\"type\":\"heatmap\",\"colorbar\":{\"outlinewidth\":0,\"ticks\":\"\"},\"colorscale\":[[0.0,\"#0d0887\"],[0.1111111111111111,\"#46039f\"],[0.2222222222222222,\"#7201a8\"],[0.3333333333333333,\"#9c179e\"],[0.4444444444444444,\"#bd3786\"],[0.5555555555555556,\"#d8576b\"],[0.6666666666666666,\"#ed7953\"],[0.7777777777777778,\"#fb9f3a\"],[0.8888888888888888,\"#fdca26\"],[1.0,\"#f0f921\"]]}],\"heatmapgl\":[{\"type\":\"heatmapgl\",\"colorbar\":{\"outlinewidth\":0,\"ticks\":\"\"},\"colorscale\":[[0.0,\"#0d0887\"],[0.1111111111111111,\"#46039f\"],[0.2222222222222222,\"#7201a8\"],[0.3333333333333333,\"#9c179e\"],[0.4444444444444444,\"#bd3786\"],[0.5555555555555556,\"#d8576b\"],[0.6666666666666666,\"#ed7953\"],[0.7777777777777778,\"#fb9f3a\"],[0.8888888888888888,\"#fdca26\"],[1.0,\"#f0f921\"]]}],\"contourcarpet\":[{\"type\":\"contourcarpet\",\"colorbar\":{\"outlinewidth\":0,\"ticks\":\"\"}}],\"contour\":[{\"type\":\"contour\",\"colorbar\":{\"outlinewidth\":0,\"ticks\":\"\"},\"colorscale\":[[0.0,\"#0d0887\"],[0.1111111111111111,\"#46039f\"],[0.2222222222222222,\"#7201a8\"],[0.3333333333333333,\"#9c179e\"],[0.4444444444444444,\"#bd3786\"],[0.5555555555555556,\"#d8576b\"],[0.6666666666666666,\"#ed7953\"],[0.7777777777777778,\"#fb9f3a\"],[0.8888888888888888,\"#fdca26\"],[1.0,\"#f0f921\"]]}],\"surface\":[{\"type\":\"surface\",\"colorbar\":{\"outlinewidth\":0,\"ticks\":\"\"},\"colorscale\":[[0.0,\"#0d0887\"],[0.1111111111111111,\"#46039f\"],[0.2222222222222222,\"#7201a8\"],[0.3333333333333333,\"#9c179e\"],[0.4444444444444444,\"#bd3786\"],[0.5555555555555556,\"#d8576b\"],[0.6666666666666666,\"#ed7953\"],[0.7777777777777778,\"#fb9f3a\"],[0.8888888888888888,\"#fdca26\"],[1.0,\"#f0f921\"]]}],\"mesh3d\":[{\"type\":\"mesh3d\",\"colorbar\":{\"outlinewidth\":0,\"ticks\":\"\"}}],\"scatter\":[{\"fillpattern\":{\"fillmode\":\"overlay\",\"size\":10,\"solidity\":0.2},\"type\":\"scatter\"}],\"parcoords\":[{\"type\":\"parcoords\",\"line\":{\"colorbar\":{\"outlinewidth\":0,\"ticks\":\"\"}}}],\"scatterpolargl\":[{\"type\":\"scatterpolargl\",\"marker\":{\"colorbar\":{\"outlinewidth\":0,\"ticks\":\"\"}}}],\"bar\":[{\"error_x\":{\"color\":\"#2a3f5f\"},\"error_y\":{\"color\":\"#2a3f5f\"},\"marker\":{\"line\":{\"color\":\"#E5ECF6\",\"width\":0.5},\"pattern\":{\"fillmode\":\"overlay\",\"size\":10,\"solidity\":0.2}},\"type\":\"bar\"}],\"scattergeo\":[{\"type\":\"scattergeo\",\"marker\":{\"colorbar\":{\"outlinewidth\":0,\"ticks\":\"\"}}}],\"scatterpolar\":[{\"type\":\"scatterpolar\",\"marker\":{\"colorbar\":{\"outlinewidth\":0,\"ticks\":\"\"}}}],\"histogram\":[{\"marker\":{\"pattern\":{\"fillmode\":\"overlay\",\"size\":10,\"solidity\":0.2}},\"type\":\"histogram\"}],\"scattergl\":[{\"type\":\"scattergl\",\"marker\":{\"colorbar\":{\"outlinewidth\":0,\"ticks\":\"\"}}}],\"scatter3d\":[{\"type\":\"scatter3d\",\"line\":{\"colorbar\":{\"outlinewidth\":0,\"ticks\":\"\"}},\"marker\":{\"colorbar\":{\"outlinewidth\":0,\"ticks\":\"\"}}}],\"scattermapbox\":[{\"type\":\"scattermapbox\",\"marker\":{\"colorbar\":{\"outlinewidth\":0,\"ticks\":\"\"}}}],\"scatterternary\":[{\"type\":\"scatterternary\",\"marker\":{\"colorbar\":{\"outlinewidth\":0,\"ticks\":\"\"}}}],\"scattercarpet\":[{\"type\":\"scattercarpet\",\"marker\":{\"colorbar\":{\"outlinewidth\":0,\"ticks\":\"\"}}}],\"carpet\":[{\"aaxis\":{\"endlinecolor\":\"#2a3f5f\",\"gridcolor\":\"white\",\"linecolor\":\"white\",\"minorgridcolor\":\"white\",\"startlinecolor\":\"#2a3f5f\"},\"baxis\":{\"endlinecolor\":\"#2a3f5f\",\"gridcolor\":\"white\",\"linecolor\":\"white\",\"minorgridcolor\":\"white\",\"startlinecolor\":\"#2a3f5f\"},\"type\":\"carpet\"}],\"table\":[{\"cells\":{\"fill\":{\"color\":\"#EBF0F8\"},\"line\":{\"color\":\"white\"}},\"header\":{\"fill\":{\"color\":\"#C8D4E3\"},\"line\":{\"color\":\"white\"}},\"type\":\"table\"}],\"barpolar\":[{\"marker\":{\"line\":{\"color\":\"#E5ECF6\",\"width\":0.5},\"pattern\":{\"fillmode\":\"overlay\",\"size\":10,\"solidity\":0.2}},\"type\":\"barpolar\"}],\"pie\":[{\"automargin\":true,\"type\":\"pie\"}]},\"layout\":{\"autotypenumbers\":\"strict\",\"colorway\":[\"#636efa\",\"#EF553B\",\"#00cc96\",\"#ab63fa\",\"#FFA15A\",\"#19d3f3\",\"#FF6692\",\"#B6E880\",\"#FF97FF\",\"#FECB52\"],\"font\":{\"color\":\"#2a3f5f\"},\"hovermode\":\"closest\",\"hoverlabel\":{\"align\":\"left\"},\"paper_bgcolor\":\"white\",\"plot_bgcolor\":\"#E5ECF6\",\"polar\":{\"bgcolor\":\"#E5ECF6\",\"angularaxis\":{\"gridcolor\":\"white\",\"linecolor\":\"white\",\"ticks\":\"\"},\"radialaxis\":{\"gridcolor\":\"white\",\"linecolor\":\"white\",\"ticks\":\"\"}},\"ternary\":{\"bgcolor\":\"#E5ECF6\",\"aaxis\":{\"gridcolor\":\"white\",\"linecolor\":\"white\",\"ticks\":\"\"},\"baxis\":{\"gridcolor\":\"white\",\"linecolor\":\"white\",\"ticks\":\"\"},\"caxis\":{\"gridcolor\":\"white\",\"linecolor\":\"white\",\"ticks\":\"\"}},\"coloraxis\":{\"colorbar\":{\"outlinewidth\":0,\"ticks\":\"\"}},\"colorscale\":{\"sequential\":[[0.0,\"#0d0887\"],[0.1111111111111111,\"#46039f\"],[0.2222222222222222,\"#7201a8\"],[0.3333333333333333,\"#9c179e\"],[0.4444444444444444,\"#bd3786\"],[0.5555555555555556,\"#d8576b\"],[0.6666666666666666,\"#ed7953\"],[0.7777777777777778,\"#fb9f3a\"],[0.8888888888888888,\"#fdca26\"],[1.0,\"#f0f921\"]],\"sequentialminus\":[[0.0,\"#0d0887\"],[0.1111111111111111,\"#46039f\"],[0.2222222222222222,\"#7201a8\"],[0.3333333333333333,\"#9c179e\"],[0.4444444444444444,\"#bd3786\"],[0.5555555555555556,\"#d8576b\"],[0.6666666666666666,\"#ed7953\"],[0.7777777777777778,\"#fb9f3a\"],[0.8888888888888888,\"#fdca26\"],[1.0,\"#f0f921\"]],\"diverging\":[[0,\"#8e0152\"],[0.1,\"#c51b7d\"],[0.2,\"#de77ae\"],[0.3,\"#f1b6da\"],[0.4,\"#fde0ef\"],[0.5,\"#f7f7f7\"],[0.6,\"#e6f5d0\"],[0.7,\"#b8e186\"],[0.8,\"#7fbc41\"],[0.9,\"#4d9221\"],[1,\"#276419\"]]},\"xaxis\":{\"gridcolor\":\"white\",\"linecolor\":\"white\",\"ticks\":\"\",\"title\":{\"standoff\":15},\"zerolinecolor\":\"white\",\"automargin\":true,\"zerolinewidth\":2},\"yaxis\":{\"gridcolor\":\"white\",\"linecolor\":\"white\",\"ticks\":\"\",\"title\":{\"standoff\":15},\"zerolinecolor\":\"white\",\"automargin\":true,\"zerolinewidth\":2},\"scene\":{\"xaxis\":{\"backgroundcolor\":\"#E5ECF6\",\"gridcolor\":\"white\",\"linecolor\":\"white\",\"showbackground\":true,\"ticks\":\"\",\"zerolinecolor\":\"white\",\"gridwidth\":2},\"yaxis\":{\"backgroundcolor\":\"#E5ECF6\",\"gridcolor\":\"white\",\"linecolor\":\"white\",\"showbackground\":true,\"ticks\":\"\",\"zerolinecolor\":\"white\",\"gridwidth\":2},\"zaxis\":{\"backgroundcolor\":\"#E5ECF6\",\"gridcolor\":\"white\",\"linecolor\":\"white\",\"showbackground\":true,\"ticks\":\"\",\"zerolinecolor\":\"white\",\"gridwidth\":2}},\"shapedefaults\":{\"line\":{\"color\":\"#2a3f5f\"}},\"annotationdefaults\":{\"arrowcolor\":\"#2a3f5f\",\"arrowhead\":0,\"arrowwidth\":1},\"geo\":{\"bgcolor\":\"white\",\"landcolor\":\"#E5ECF6\",\"subunitcolor\":\"white\",\"showland\":true,\"showlakes\":true,\"lakecolor\":\"white\"},\"title\":{\"x\":0.05},\"mapbox\":{\"style\":\"light\"}}},\"xaxis\":{\"anchor\":\"y\",\"domain\":[0.0,1.0],\"title\":{\"text\":\"Etat\"}},\"yaxis\":{\"anchor\":\"x\",\"domain\":[0.0,1.0],\"title\":{\"text\":\"Moyenne du nombre de victimes par incident\"}},\"legend\":{\"title\":{\"text\":\"Type de victime\"},\"tracegroupgap\":0},\"title\":{\"text\":\"Nombre moyen de victimes d'incident par arme \\u00e0 feu par Etat\"},\"barmode\":\"group\"},                        {\"responsive\": true}                    ).then(function(){\n",
       "                            \n",
       "var gd = document.getElementById('493738da-65c2-4b4b-b811-90d09fea07be');\n",
       "var x = new MutationObserver(function (mutations, observer) {{\n",
       "        var display = window.getComputedStyle(gd).display;\n",
       "        if (!display || display === 'none') {{\n",
       "            console.log([gd, 'removed!']);\n",
       "            Plotly.purge(gd);\n",
       "            observer.disconnect();\n",
       "        }}\n",
       "}});\n",
       "\n",
       "// Listen for the removal of the full notebook cells\n",
       "var notebookContainer = gd.closest('#notebook-container');\n",
       "if (notebookContainer) {{\n",
       "    x.observe(notebookContainer, {childList: true});\n",
       "}}\n",
       "\n",
       "// Listen for the clearing of the current output cell\n",
       "var outputEl = gd.closest('.output');\n",
       "if (outputEl) {{\n",
       "    x.observe(outputEl, {childList: true});\n",
       "}}\n",
       "\n",
       "                        })                };                });            </script>        </div>"
      ]
     },
     "metadata": {},
     "output_type": "display_data"
    }
   ],
   "source": [
    "grouped_data6 = base_totale.groupby('state').agg({\n",
    "    'n_injured': 'mean',\n",
    "    'n_killed': 'mean'\n",
    "}).reset_index()\n",
    "\n",
    "\n",
    "fig6 = px.bar(\n",
    "    grouped_data6,\n",
    "    x=grouped_data6['state'],\n",
    "    y=['n_injured', 'n_killed'],\n",
    "    labels={\"state\": \"Etat\", \"value\": \"Moyenne du nombre de victimes par incident\", \"variable\": \"Type de victime\"},\n",
    "    title=\"Nombre moyen de victimes d'incident par arme à feu par Etat\",\n",
    "    color_discrete_map={\"n_injured\": \"firebrick\", \"n_killed\": \"steelblue\"},\n",
    ")\n",
    "\n",
    "fig6.update_layout(barmode='group')  # Display bars side by side\n",
    "\n",
    "fig6.show()"
   ]
  },
  {
   "cell_type": "code",
   "execution_count": 85,
   "metadata": {},
   "outputs": [
    {
     "data": {
      "application/vnd.plotly.v1+json": {
       "config": {
        "plotlyServerURL": "https://plot.ly"
       },
       "data": [
        {
         "alignmentgroup": "True",
         "hovertemplate": "Type de victime=injured_per_1K<br>Etat=%{x}<br>nombre de victimes pour 1000 par incident=%{y}<extra></extra>",
         "legendgroup": "injured_per_1K",
         "marker": {
          "color": "#00cc96",
          "pattern": {
           "shape": ""
          }
         },
         "name": "injured_per_1K",
         "offsetgroup": "injured_per_1K",
         "orientation": "v",
         "showlegend": true,
         "textposition": "auto",
         "type": "bar",
         "x": [
          "Alabama",
          "Arizona",
          "Arkansas",
          "California",
          "Colorado",
          "Connecticut",
          "Delaware",
          "District of Columbia",
          "Florida",
          "Georgia",
          "Idaho",
          "Illinois",
          "Indiana",
          "Iowa",
          "Kansas",
          "Kentucky",
          "Louisiana",
          "Maine",
          "Maryland",
          "Massachusetts",
          "Michigan",
          "Minnesota",
          "Mississippi",
          "Missouri",
          "Montana",
          "Nebraska",
          "Nevada",
          "New Hampshire",
          "New Jersey",
          "New Mexico",
          "New York",
          "North Carolina",
          "North Dakota",
          "Ohio",
          "Oklahoma",
          "Oregon",
          "Pennsylvania",
          "Rhode Island",
          "South Carolina",
          "South Dakota",
          "Tennessee",
          "Texas",
          "Utah",
          "Vermont",
          "Virginia",
          "Washington",
          "West Virginia",
          "Wisconsin",
          "Wyoming"
         ],
         "xaxis": "x",
         "y": [
          0.1668852266713588,
          0.015571235169132993,
          0.22867855712380433,
          0.015174992584019649,
          0.07449665105235119,
          0.04932466090205571,
          0.11434531138949108,
          0.06561053588755991,
          0.04735122248553287,
          0.13631054822867655,
          0.1224355833066537,
          0.020776255637486866,
          0.10374729243488612,
          0.16669310344369037,
          0.1481478824382235,
          0.13040926588105103,
          0.18087901779273546,
          0.12097892960390977,
          0.08397878254237807,
          0.04053785413624845,
          0.05537320874513834,
          0.06708884136127566,
          0.447683980804193,
          0.10711107821863317,
          0.24435463263019663,
          0.10086557142356582,
          0.02920095162895472,
          0.055379374810434284,
          0.08944890771905853,
          0.08957545945110824,
          0.04733113961022633,
          0.14151979377947552,
          0.30241962340452344,
          0.07725508397600324,
          0.09362501562820601,
          0.06429568172001973,
          0.06444691852142766,
          0.06676792780147711,
          0.18682677506946224,
          0.1801185331449664,
          0.10823101404837186,
          0.024208261689838983,
          0.04713166591461914,
          0.21077862757568339,
          0.5752940414741243,
          0.03563083054057136,
          0.4209124540178198,
          0.0692352724403485,
          0.14437273130052458
         ],
         "yaxis": "y"
        },
        {
         "alignmentgroup": "True",
         "hovertemplate": "Type de victime=killed_per_1K<br>Etat=%{x}<br>nombre de victimes pour 1000 par incident=%{y}<extra></extra>",
         "legendgroup": "killed_per_1K",
         "marker": {
          "color": "#ab63fa",
          "pattern": {
           "shape": ""
          }
         },
         "name": "killed_per_1K",
         "offsetgroup": "killed_per_1K",
         "orientation": "v",
         "showlegend": true,
         "textposition": "auto",
         "type": "bar",
         "x": [
          "Alabama",
          "Arizona",
          "Arkansas",
          "California",
          "Colorado",
          "Connecticut",
          "Delaware",
          "District of Columbia",
          "Florida",
          "Georgia",
          "Idaho",
          "Illinois",
          "Indiana",
          "Iowa",
          "Kansas",
          "Kentucky",
          "Louisiana",
          "Maine",
          "Maryland",
          "Massachusetts",
          "Michigan",
          "Minnesota",
          "Mississippi",
          "Missouri",
          "Montana",
          "Nebraska",
          "Nevada",
          "New Hampshire",
          "New Jersey",
          "New Mexico",
          "New York",
          "North Carolina",
          "North Dakota",
          "Ohio",
          "Oklahoma",
          "Oregon",
          "Pennsylvania",
          "Rhode Island",
          "South Carolina",
          "South Dakota",
          "Tennessee",
          "Texas",
          "Utah",
          "Vermont",
          "Virginia",
          "Washington",
          "West Virginia",
          "Wisconsin",
          "Wyoming"
         ],
         "xaxis": "x",
         "y": [
          0.1029464762088565,
          0.01561530470263054,
          0.12909273386021214,
          0.01091410380809622,
          0.05080562047871745,
          0.013169401682285142,
          0.028518102721245393,
          0.020488402637364386,
          0.025781490924610635,
          0.08074096045432202,
          0.14329497898112065,
          0.004952313643484584,
          0.054652262953460755,
          0.05202656162412308,
          0.08409281131748385,
          0.07302345031183165,
          0.08652224732760198,
          0.10173228171237866,
          0.038738244178012984,
          0.010934063409226645,
          0.02868475636780005,
          0.032016201059652055,
          0.27762777791524396,
          0.05997531931963531,
          0.2781883509943777,
          0.03285071362877602,
          0.02395812571080725,
          0.03435946612326214,
          0.0400441978798856,
          0.08075363389910516,
          0.01583131804445652,
          0.06653448415211528,
          0.15360996744356745,
          0.03282106398688284,
          0.0557967264854965,
          0.0400295551867582,
          0.029754886183387532,
          0.011062141884268397,
          0.09415821188716751,
          0.13803476371857237,
          0.04295199354926135,
          0.019702649448532627,
          0.032552270591696957,
          0.16673533226136147,
          0.2405169425180429,
          0.022700287199234975,
          0.2149487244655862,
          0.027180513987901746,
          0.19712430619879315
         ],
         "yaxis": "y"
        }
       ],
       "layout": {
        "barmode": "group",
        "legend": {
         "title": {
          "text": "Type de victime"
         },
         "tracegroupgap": 0
        },
        "template": {
         "data": {
          "bar": [
           {
            "error_x": {
             "color": "#2a3f5f"
            },
            "error_y": {
             "color": "#2a3f5f"
            },
            "marker": {
             "line": {
              "color": "#E5ECF6",
              "width": 0.5
             },
             "pattern": {
              "fillmode": "overlay",
              "size": 10,
              "solidity": 0.2
             }
            },
            "type": "bar"
           }
          ],
          "barpolar": [
           {
            "marker": {
             "line": {
              "color": "#E5ECF6",
              "width": 0.5
             },
             "pattern": {
              "fillmode": "overlay",
              "size": 10,
              "solidity": 0.2
             }
            },
            "type": "barpolar"
           }
          ],
          "carpet": [
           {
            "aaxis": {
             "endlinecolor": "#2a3f5f",
             "gridcolor": "white",
             "linecolor": "white",
             "minorgridcolor": "white",
             "startlinecolor": "#2a3f5f"
            },
            "baxis": {
             "endlinecolor": "#2a3f5f",
             "gridcolor": "white",
             "linecolor": "white",
             "minorgridcolor": "white",
             "startlinecolor": "#2a3f5f"
            },
            "type": "carpet"
           }
          ],
          "choropleth": [
           {
            "colorbar": {
             "outlinewidth": 0,
             "ticks": ""
            },
            "type": "choropleth"
           }
          ],
          "contour": [
           {
            "colorbar": {
             "outlinewidth": 0,
             "ticks": ""
            },
            "colorscale": [
             [
              0,
              "#0d0887"
             ],
             [
              0.1111111111111111,
              "#46039f"
             ],
             [
              0.2222222222222222,
              "#7201a8"
             ],
             [
              0.3333333333333333,
              "#9c179e"
             ],
             [
              0.4444444444444444,
              "#bd3786"
             ],
             [
              0.5555555555555556,
              "#d8576b"
             ],
             [
              0.6666666666666666,
              "#ed7953"
             ],
             [
              0.7777777777777778,
              "#fb9f3a"
             ],
             [
              0.8888888888888888,
              "#fdca26"
             ],
             [
              1,
              "#f0f921"
             ]
            ],
            "type": "contour"
           }
          ],
          "contourcarpet": [
           {
            "colorbar": {
             "outlinewidth": 0,
             "ticks": ""
            },
            "type": "contourcarpet"
           }
          ],
          "heatmap": [
           {
            "colorbar": {
             "outlinewidth": 0,
             "ticks": ""
            },
            "colorscale": [
             [
              0,
              "#0d0887"
             ],
             [
              0.1111111111111111,
              "#46039f"
             ],
             [
              0.2222222222222222,
              "#7201a8"
             ],
             [
              0.3333333333333333,
              "#9c179e"
             ],
             [
              0.4444444444444444,
              "#bd3786"
             ],
             [
              0.5555555555555556,
              "#d8576b"
             ],
             [
              0.6666666666666666,
              "#ed7953"
             ],
             [
              0.7777777777777778,
              "#fb9f3a"
             ],
             [
              0.8888888888888888,
              "#fdca26"
             ],
             [
              1,
              "#f0f921"
             ]
            ],
            "type": "heatmap"
           }
          ],
          "heatmapgl": [
           {
            "colorbar": {
             "outlinewidth": 0,
             "ticks": ""
            },
            "colorscale": [
             [
              0,
              "#0d0887"
             ],
             [
              0.1111111111111111,
              "#46039f"
             ],
             [
              0.2222222222222222,
              "#7201a8"
             ],
             [
              0.3333333333333333,
              "#9c179e"
             ],
             [
              0.4444444444444444,
              "#bd3786"
             ],
             [
              0.5555555555555556,
              "#d8576b"
             ],
             [
              0.6666666666666666,
              "#ed7953"
             ],
             [
              0.7777777777777778,
              "#fb9f3a"
             ],
             [
              0.8888888888888888,
              "#fdca26"
             ],
             [
              1,
              "#f0f921"
             ]
            ],
            "type": "heatmapgl"
           }
          ],
          "histogram": [
           {
            "marker": {
             "pattern": {
              "fillmode": "overlay",
              "size": 10,
              "solidity": 0.2
             }
            },
            "type": "histogram"
           }
          ],
          "histogram2d": [
           {
            "colorbar": {
             "outlinewidth": 0,
             "ticks": ""
            },
            "colorscale": [
             [
              0,
              "#0d0887"
             ],
             [
              0.1111111111111111,
              "#46039f"
             ],
             [
              0.2222222222222222,
              "#7201a8"
             ],
             [
              0.3333333333333333,
              "#9c179e"
             ],
             [
              0.4444444444444444,
              "#bd3786"
             ],
             [
              0.5555555555555556,
              "#d8576b"
             ],
             [
              0.6666666666666666,
              "#ed7953"
             ],
             [
              0.7777777777777778,
              "#fb9f3a"
             ],
             [
              0.8888888888888888,
              "#fdca26"
             ],
             [
              1,
              "#f0f921"
             ]
            ],
            "type": "histogram2d"
           }
          ],
          "histogram2dcontour": [
           {
            "colorbar": {
             "outlinewidth": 0,
             "ticks": ""
            },
            "colorscale": [
             [
              0,
              "#0d0887"
             ],
             [
              0.1111111111111111,
              "#46039f"
             ],
             [
              0.2222222222222222,
              "#7201a8"
             ],
             [
              0.3333333333333333,
              "#9c179e"
             ],
             [
              0.4444444444444444,
              "#bd3786"
             ],
             [
              0.5555555555555556,
              "#d8576b"
             ],
             [
              0.6666666666666666,
              "#ed7953"
             ],
             [
              0.7777777777777778,
              "#fb9f3a"
             ],
             [
              0.8888888888888888,
              "#fdca26"
             ],
             [
              1,
              "#f0f921"
             ]
            ],
            "type": "histogram2dcontour"
           }
          ],
          "mesh3d": [
           {
            "colorbar": {
             "outlinewidth": 0,
             "ticks": ""
            },
            "type": "mesh3d"
           }
          ],
          "parcoords": [
           {
            "line": {
             "colorbar": {
              "outlinewidth": 0,
              "ticks": ""
             }
            },
            "type": "parcoords"
           }
          ],
          "pie": [
           {
            "automargin": true,
            "type": "pie"
           }
          ],
          "scatter": [
           {
            "fillpattern": {
             "fillmode": "overlay",
             "size": 10,
             "solidity": 0.2
            },
            "type": "scatter"
           }
          ],
          "scatter3d": [
           {
            "line": {
             "colorbar": {
              "outlinewidth": 0,
              "ticks": ""
             }
            },
            "marker": {
             "colorbar": {
              "outlinewidth": 0,
              "ticks": ""
             }
            },
            "type": "scatter3d"
           }
          ],
          "scattercarpet": [
           {
            "marker": {
             "colorbar": {
              "outlinewidth": 0,
              "ticks": ""
             }
            },
            "type": "scattercarpet"
           }
          ],
          "scattergeo": [
           {
            "marker": {
             "colorbar": {
              "outlinewidth": 0,
              "ticks": ""
             }
            },
            "type": "scattergeo"
           }
          ],
          "scattergl": [
           {
            "marker": {
             "colorbar": {
              "outlinewidth": 0,
              "ticks": ""
             }
            },
            "type": "scattergl"
           }
          ],
          "scattermapbox": [
           {
            "marker": {
             "colorbar": {
              "outlinewidth": 0,
              "ticks": ""
             }
            },
            "type": "scattermapbox"
           }
          ],
          "scatterpolar": [
           {
            "marker": {
             "colorbar": {
              "outlinewidth": 0,
              "ticks": ""
             }
            },
            "type": "scatterpolar"
           }
          ],
          "scatterpolargl": [
           {
            "marker": {
             "colorbar": {
              "outlinewidth": 0,
              "ticks": ""
             }
            },
            "type": "scatterpolargl"
           }
          ],
          "scatterternary": [
           {
            "marker": {
             "colorbar": {
              "outlinewidth": 0,
              "ticks": ""
             }
            },
            "type": "scatterternary"
           }
          ],
          "surface": [
           {
            "colorbar": {
             "outlinewidth": 0,
             "ticks": ""
            },
            "colorscale": [
             [
              0,
              "#0d0887"
             ],
             [
              0.1111111111111111,
              "#46039f"
             ],
             [
              0.2222222222222222,
              "#7201a8"
             ],
             [
              0.3333333333333333,
              "#9c179e"
             ],
             [
              0.4444444444444444,
              "#bd3786"
             ],
             [
              0.5555555555555556,
              "#d8576b"
             ],
             [
              0.6666666666666666,
              "#ed7953"
             ],
             [
              0.7777777777777778,
              "#fb9f3a"
             ],
             [
              0.8888888888888888,
              "#fdca26"
             ],
             [
              1,
              "#f0f921"
             ]
            ],
            "type": "surface"
           }
          ],
          "table": [
           {
            "cells": {
             "fill": {
              "color": "#EBF0F8"
             },
             "line": {
              "color": "white"
             }
            },
            "header": {
             "fill": {
              "color": "#C8D4E3"
             },
             "line": {
              "color": "white"
             }
            },
            "type": "table"
           }
          ]
         },
         "layout": {
          "annotationdefaults": {
           "arrowcolor": "#2a3f5f",
           "arrowhead": 0,
           "arrowwidth": 1
          },
          "autotypenumbers": "strict",
          "coloraxis": {
           "colorbar": {
            "outlinewidth": 0,
            "ticks": ""
           }
          },
          "colorscale": {
           "diverging": [
            [
             0,
             "#8e0152"
            ],
            [
             0.1,
             "#c51b7d"
            ],
            [
             0.2,
             "#de77ae"
            ],
            [
             0.3,
             "#f1b6da"
            ],
            [
             0.4,
             "#fde0ef"
            ],
            [
             0.5,
             "#f7f7f7"
            ],
            [
             0.6,
             "#e6f5d0"
            ],
            [
             0.7,
             "#b8e186"
            ],
            [
             0.8,
             "#7fbc41"
            ],
            [
             0.9,
             "#4d9221"
            ],
            [
             1,
             "#276419"
            ]
           ],
           "sequential": [
            [
             0,
             "#0d0887"
            ],
            [
             0.1111111111111111,
             "#46039f"
            ],
            [
             0.2222222222222222,
             "#7201a8"
            ],
            [
             0.3333333333333333,
             "#9c179e"
            ],
            [
             0.4444444444444444,
             "#bd3786"
            ],
            [
             0.5555555555555556,
             "#d8576b"
            ],
            [
             0.6666666666666666,
             "#ed7953"
            ],
            [
             0.7777777777777778,
             "#fb9f3a"
            ],
            [
             0.8888888888888888,
             "#fdca26"
            ],
            [
             1,
             "#f0f921"
            ]
           ],
           "sequentialminus": [
            [
             0,
             "#0d0887"
            ],
            [
             0.1111111111111111,
             "#46039f"
            ],
            [
             0.2222222222222222,
             "#7201a8"
            ],
            [
             0.3333333333333333,
             "#9c179e"
            ],
            [
             0.4444444444444444,
             "#bd3786"
            ],
            [
             0.5555555555555556,
             "#d8576b"
            ],
            [
             0.6666666666666666,
             "#ed7953"
            ],
            [
             0.7777777777777778,
             "#fb9f3a"
            ],
            [
             0.8888888888888888,
             "#fdca26"
            ],
            [
             1,
             "#f0f921"
            ]
           ]
          },
          "colorway": [
           "#636efa",
           "#EF553B",
           "#00cc96",
           "#ab63fa",
           "#FFA15A",
           "#19d3f3",
           "#FF6692",
           "#B6E880",
           "#FF97FF",
           "#FECB52"
          ],
          "font": {
           "color": "#2a3f5f"
          },
          "geo": {
           "bgcolor": "white",
           "lakecolor": "white",
           "landcolor": "#E5ECF6",
           "showlakes": true,
           "showland": true,
           "subunitcolor": "white"
          },
          "hoverlabel": {
           "align": "left"
          },
          "hovermode": "closest",
          "mapbox": {
           "style": "light"
          },
          "paper_bgcolor": "white",
          "plot_bgcolor": "#E5ECF6",
          "polar": {
           "angularaxis": {
            "gridcolor": "white",
            "linecolor": "white",
            "ticks": ""
           },
           "bgcolor": "#E5ECF6",
           "radialaxis": {
            "gridcolor": "white",
            "linecolor": "white",
            "ticks": ""
           }
          },
          "scene": {
           "xaxis": {
            "backgroundcolor": "#E5ECF6",
            "gridcolor": "white",
            "gridwidth": 2,
            "linecolor": "white",
            "showbackground": true,
            "ticks": "",
            "zerolinecolor": "white"
           },
           "yaxis": {
            "backgroundcolor": "#E5ECF6",
            "gridcolor": "white",
            "gridwidth": 2,
            "linecolor": "white",
            "showbackground": true,
            "ticks": "",
            "zerolinecolor": "white"
           },
           "zaxis": {
            "backgroundcolor": "#E5ECF6",
            "gridcolor": "white",
            "gridwidth": 2,
            "linecolor": "white",
            "showbackground": true,
            "ticks": "",
            "zerolinecolor": "white"
           }
          },
          "shapedefaults": {
           "line": {
            "color": "#2a3f5f"
           }
          },
          "ternary": {
           "aaxis": {
            "gridcolor": "white",
            "linecolor": "white",
            "ticks": ""
           },
           "baxis": {
            "gridcolor": "white",
            "linecolor": "white",
            "ticks": ""
           },
           "bgcolor": "#E5ECF6",
           "caxis": {
            "gridcolor": "white",
            "linecolor": "white",
            "ticks": ""
           }
          },
          "title": {
           "x": 0.05
          },
          "xaxis": {
           "automargin": true,
           "gridcolor": "white",
           "linecolor": "white",
           "ticks": "",
           "title": {
            "standoff": 15
           },
           "zerolinecolor": "white",
           "zerolinewidth": 2
          },
          "yaxis": {
           "automargin": true,
           "gridcolor": "white",
           "linecolor": "white",
           "ticks": "",
           "title": {
            "standoff": 15
           },
           "zerolinecolor": "white",
           "zerolinewidth": 2
          }
         }
        },
        "title": {
         "text": "Nombre moyen de victimes d'incident par arme à feu par Etat"
        },
        "xaxis": {
         "anchor": "y",
         "domain": [
          0,
          1
         ],
         "title": {
          "text": "Etat"
         }
        },
        "yaxis": {
         "anchor": "x",
         "domain": [
          0,
          1
         ],
         "title": {
          "text": "nombre de victimes pour 1000 par incident"
         }
        }
       }
      },
      "text/html": [
       "<div>                            <div id=\"83b0ea36-a60a-4ec3-9067-d34f0c2f0323\" class=\"plotly-graph-div\" style=\"height:525px; width:100%;\"></div>            <script type=\"text/javascript\">                require([\"plotly\"], function(Plotly) {                    window.PLOTLYENV=window.PLOTLYENV || {};                                    if (document.getElementById(\"83b0ea36-a60a-4ec3-9067-d34f0c2f0323\")) {                    Plotly.newPlot(                        \"83b0ea36-a60a-4ec3-9067-d34f0c2f0323\",                        [{\"alignmentgroup\":\"True\",\"hovertemplate\":\"Type de victime=injured_per_1K\\u003cbr\\u003eEtat=%{x}\\u003cbr\\u003enombre de victimes pour 1000 par incident=%{y}\\u003cextra\\u003e\\u003c\\u002fextra\\u003e\",\"legendgroup\":\"injured_per_1K\",\"marker\":{\"color\":\"#00cc96\",\"pattern\":{\"shape\":\"\"}},\"name\":\"injured_per_1K\",\"offsetgroup\":\"injured_per_1K\",\"orientation\":\"v\",\"showlegend\":true,\"textposition\":\"auto\",\"x\":[\"Alabama\",\"Arizona\",\"Arkansas\",\"California\",\"Colorado\",\"Connecticut\",\"Delaware\",\"District of Columbia\",\"Florida\",\"Georgia\",\"Idaho\",\"Illinois\",\"Indiana\",\"Iowa\",\"Kansas\",\"Kentucky\",\"Louisiana\",\"Maine\",\"Maryland\",\"Massachusetts\",\"Michigan\",\"Minnesota\",\"Mississippi\",\"Missouri\",\"Montana\",\"Nebraska\",\"Nevada\",\"New Hampshire\",\"New Jersey\",\"New Mexico\",\"New York\",\"North Carolina\",\"North Dakota\",\"Ohio\",\"Oklahoma\",\"Oregon\",\"Pennsylvania\",\"Rhode Island\",\"South Carolina\",\"South Dakota\",\"Tennessee\",\"Texas\",\"Utah\",\"Vermont\",\"Virginia\",\"Washington\",\"West Virginia\",\"Wisconsin\",\"Wyoming\"],\"xaxis\":\"x\",\"y\":[0.1668852266713588,0.015571235169132993,0.22867855712380433,0.015174992584019649,0.07449665105235119,0.04932466090205571,0.11434531138949108,0.06561053588755991,0.04735122248553287,0.13631054822867655,0.1224355833066537,0.020776255637486866,0.10374729243488612,0.16669310344369037,0.1481478824382235,0.13040926588105103,0.18087901779273546,0.12097892960390977,0.08397878254237807,0.04053785413624845,0.05537320874513834,0.06708884136127566,0.447683980804193,0.10711107821863317,0.24435463263019663,0.10086557142356582,0.02920095162895472,0.055379374810434284,0.08944890771905853,0.08957545945110824,0.04733113961022633,0.14151979377947552,0.30241962340452344,0.07725508397600324,0.09362501562820601,0.06429568172001973,0.06444691852142766,0.06676792780147711,0.18682677506946224,0.1801185331449664,0.10823101404837186,0.024208261689838983,0.04713166591461914,0.21077862757568339,0.5752940414741243,0.03563083054057136,0.4209124540178198,0.0692352724403485,0.14437273130052458],\"yaxis\":\"y\",\"type\":\"bar\"},{\"alignmentgroup\":\"True\",\"hovertemplate\":\"Type de victime=killed_per_1K\\u003cbr\\u003eEtat=%{x}\\u003cbr\\u003enombre de victimes pour 1000 par incident=%{y}\\u003cextra\\u003e\\u003c\\u002fextra\\u003e\",\"legendgroup\":\"killed_per_1K\",\"marker\":{\"color\":\"#ab63fa\",\"pattern\":{\"shape\":\"\"}},\"name\":\"killed_per_1K\",\"offsetgroup\":\"killed_per_1K\",\"orientation\":\"v\",\"showlegend\":true,\"textposition\":\"auto\",\"x\":[\"Alabama\",\"Arizona\",\"Arkansas\",\"California\",\"Colorado\",\"Connecticut\",\"Delaware\",\"District of Columbia\",\"Florida\",\"Georgia\",\"Idaho\",\"Illinois\",\"Indiana\",\"Iowa\",\"Kansas\",\"Kentucky\",\"Louisiana\",\"Maine\",\"Maryland\",\"Massachusetts\",\"Michigan\",\"Minnesota\",\"Mississippi\",\"Missouri\",\"Montana\",\"Nebraska\",\"Nevada\",\"New Hampshire\",\"New Jersey\",\"New Mexico\",\"New York\",\"North Carolina\",\"North Dakota\",\"Ohio\",\"Oklahoma\",\"Oregon\",\"Pennsylvania\",\"Rhode Island\",\"South Carolina\",\"South Dakota\",\"Tennessee\",\"Texas\",\"Utah\",\"Vermont\",\"Virginia\",\"Washington\",\"West Virginia\",\"Wisconsin\",\"Wyoming\"],\"xaxis\":\"x\",\"y\":[0.1029464762088565,0.01561530470263054,0.12909273386021214,0.01091410380809622,0.05080562047871745,0.013169401682285142,0.028518102721245393,0.020488402637364386,0.025781490924610635,0.08074096045432202,0.14329497898112065,0.004952313643484584,0.054652262953460755,0.05202656162412308,0.08409281131748385,0.07302345031183165,0.08652224732760198,0.10173228171237866,0.038738244178012984,0.010934063409226645,0.02868475636780005,0.032016201059652055,0.27762777791524396,0.05997531931963531,0.2781883509943777,0.03285071362877602,0.02395812571080725,0.03435946612326214,0.0400441978798856,0.08075363389910516,0.01583131804445652,0.06653448415211528,0.15360996744356745,0.03282106398688284,0.0557967264854965,0.0400295551867582,0.029754886183387532,0.011062141884268397,0.09415821188716751,0.13803476371857237,0.04295199354926135,0.019702649448532627,0.032552270591696957,0.16673533226136147,0.2405169425180429,0.022700287199234975,0.2149487244655862,0.027180513987901746,0.19712430619879315],\"yaxis\":\"y\",\"type\":\"bar\"}],                        {\"template\":{\"data\":{\"histogram2dcontour\":[{\"type\":\"histogram2dcontour\",\"colorbar\":{\"outlinewidth\":0,\"ticks\":\"\"},\"colorscale\":[[0.0,\"#0d0887\"],[0.1111111111111111,\"#46039f\"],[0.2222222222222222,\"#7201a8\"],[0.3333333333333333,\"#9c179e\"],[0.4444444444444444,\"#bd3786\"],[0.5555555555555556,\"#d8576b\"],[0.6666666666666666,\"#ed7953\"],[0.7777777777777778,\"#fb9f3a\"],[0.8888888888888888,\"#fdca26\"],[1.0,\"#f0f921\"]]}],\"choropleth\":[{\"type\":\"choropleth\",\"colorbar\":{\"outlinewidth\":0,\"ticks\":\"\"}}],\"histogram2d\":[{\"type\":\"histogram2d\",\"colorbar\":{\"outlinewidth\":0,\"ticks\":\"\"},\"colorscale\":[[0.0,\"#0d0887\"],[0.1111111111111111,\"#46039f\"],[0.2222222222222222,\"#7201a8\"],[0.3333333333333333,\"#9c179e\"],[0.4444444444444444,\"#bd3786\"],[0.5555555555555556,\"#d8576b\"],[0.6666666666666666,\"#ed7953\"],[0.7777777777777778,\"#fb9f3a\"],[0.8888888888888888,\"#fdca26\"],[1.0,\"#f0f921\"]]}],\"heatmap\":[{\"type\":\"heatmap\",\"colorbar\":{\"outlinewidth\":0,\"ticks\":\"\"},\"colorscale\":[[0.0,\"#0d0887\"],[0.1111111111111111,\"#46039f\"],[0.2222222222222222,\"#7201a8\"],[0.3333333333333333,\"#9c179e\"],[0.4444444444444444,\"#bd3786\"],[0.5555555555555556,\"#d8576b\"],[0.6666666666666666,\"#ed7953\"],[0.7777777777777778,\"#fb9f3a\"],[0.8888888888888888,\"#fdca26\"],[1.0,\"#f0f921\"]]}],\"heatmapgl\":[{\"type\":\"heatmapgl\",\"colorbar\":{\"outlinewidth\":0,\"ticks\":\"\"},\"colorscale\":[[0.0,\"#0d0887\"],[0.1111111111111111,\"#46039f\"],[0.2222222222222222,\"#7201a8\"],[0.3333333333333333,\"#9c179e\"],[0.4444444444444444,\"#bd3786\"],[0.5555555555555556,\"#d8576b\"],[0.6666666666666666,\"#ed7953\"],[0.7777777777777778,\"#fb9f3a\"],[0.8888888888888888,\"#fdca26\"],[1.0,\"#f0f921\"]]}],\"contourcarpet\":[{\"type\":\"contourcarpet\",\"colorbar\":{\"outlinewidth\":0,\"ticks\":\"\"}}],\"contour\":[{\"type\":\"contour\",\"colorbar\":{\"outlinewidth\":0,\"ticks\":\"\"},\"colorscale\":[[0.0,\"#0d0887\"],[0.1111111111111111,\"#46039f\"],[0.2222222222222222,\"#7201a8\"],[0.3333333333333333,\"#9c179e\"],[0.4444444444444444,\"#bd3786\"],[0.5555555555555556,\"#d8576b\"],[0.6666666666666666,\"#ed7953\"],[0.7777777777777778,\"#fb9f3a\"],[0.8888888888888888,\"#fdca26\"],[1.0,\"#f0f921\"]]}],\"surface\":[{\"type\":\"surface\",\"colorbar\":{\"outlinewidth\":0,\"ticks\":\"\"},\"colorscale\":[[0.0,\"#0d0887\"],[0.1111111111111111,\"#46039f\"],[0.2222222222222222,\"#7201a8\"],[0.3333333333333333,\"#9c179e\"],[0.4444444444444444,\"#bd3786\"],[0.5555555555555556,\"#d8576b\"],[0.6666666666666666,\"#ed7953\"],[0.7777777777777778,\"#fb9f3a\"],[0.8888888888888888,\"#fdca26\"],[1.0,\"#f0f921\"]]}],\"mesh3d\":[{\"type\":\"mesh3d\",\"colorbar\":{\"outlinewidth\":0,\"ticks\":\"\"}}],\"scatter\":[{\"fillpattern\":{\"fillmode\":\"overlay\",\"size\":10,\"solidity\":0.2},\"type\":\"scatter\"}],\"parcoords\":[{\"type\":\"parcoords\",\"line\":{\"colorbar\":{\"outlinewidth\":0,\"ticks\":\"\"}}}],\"scatterpolargl\":[{\"type\":\"scatterpolargl\",\"marker\":{\"colorbar\":{\"outlinewidth\":0,\"ticks\":\"\"}}}],\"bar\":[{\"error_x\":{\"color\":\"#2a3f5f\"},\"error_y\":{\"color\":\"#2a3f5f\"},\"marker\":{\"line\":{\"color\":\"#E5ECF6\",\"width\":0.5},\"pattern\":{\"fillmode\":\"overlay\",\"size\":10,\"solidity\":0.2}},\"type\":\"bar\"}],\"scattergeo\":[{\"type\":\"scattergeo\",\"marker\":{\"colorbar\":{\"outlinewidth\":0,\"ticks\":\"\"}}}],\"scatterpolar\":[{\"type\":\"scatterpolar\",\"marker\":{\"colorbar\":{\"outlinewidth\":0,\"ticks\":\"\"}}}],\"histogram\":[{\"marker\":{\"pattern\":{\"fillmode\":\"overlay\",\"size\":10,\"solidity\":0.2}},\"type\":\"histogram\"}],\"scattergl\":[{\"type\":\"scattergl\",\"marker\":{\"colorbar\":{\"outlinewidth\":0,\"ticks\":\"\"}}}],\"scatter3d\":[{\"type\":\"scatter3d\",\"line\":{\"colorbar\":{\"outlinewidth\":0,\"ticks\":\"\"}},\"marker\":{\"colorbar\":{\"outlinewidth\":0,\"ticks\":\"\"}}}],\"scattermapbox\":[{\"type\":\"scattermapbox\",\"marker\":{\"colorbar\":{\"outlinewidth\":0,\"ticks\":\"\"}}}],\"scatterternary\":[{\"type\":\"scatterternary\",\"marker\":{\"colorbar\":{\"outlinewidth\":0,\"ticks\":\"\"}}}],\"scattercarpet\":[{\"type\":\"scattercarpet\",\"marker\":{\"colorbar\":{\"outlinewidth\":0,\"ticks\":\"\"}}}],\"carpet\":[{\"aaxis\":{\"endlinecolor\":\"#2a3f5f\",\"gridcolor\":\"white\",\"linecolor\":\"white\",\"minorgridcolor\":\"white\",\"startlinecolor\":\"#2a3f5f\"},\"baxis\":{\"endlinecolor\":\"#2a3f5f\",\"gridcolor\":\"white\",\"linecolor\":\"white\",\"minorgridcolor\":\"white\",\"startlinecolor\":\"#2a3f5f\"},\"type\":\"carpet\"}],\"table\":[{\"cells\":{\"fill\":{\"color\":\"#EBF0F8\"},\"line\":{\"color\":\"white\"}},\"header\":{\"fill\":{\"color\":\"#C8D4E3\"},\"line\":{\"color\":\"white\"}},\"type\":\"table\"}],\"barpolar\":[{\"marker\":{\"line\":{\"color\":\"#E5ECF6\",\"width\":0.5},\"pattern\":{\"fillmode\":\"overlay\",\"size\":10,\"solidity\":0.2}},\"type\":\"barpolar\"}],\"pie\":[{\"automargin\":true,\"type\":\"pie\"}]},\"layout\":{\"autotypenumbers\":\"strict\",\"colorway\":[\"#636efa\",\"#EF553B\",\"#00cc96\",\"#ab63fa\",\"#FFA15A\",\"#19d3f3\",\"#FF6692\",\"#B6E880\",\"#FF97FF\",\"#FECB52\"],\"font\":{\"color\":\"#2a3f5f\"},\"hovermode\":\"closest\",\"hoverlabel\":{\"align\":\"left\"},\"paper_bgcolor\":\"white\",\"plot_bgcolor\":\"#E5ECF6\",\"polar\":{\"bgcolor\":\"#E5ECF6\",\"angularaxis\":{\"gridcolor\":\"white\",\"linecolor\":\"white\",\"ticks\":\"\"},\"radialaxis\":{\"gridcolor\":\"white\",\"linecolor\":\"white\",\"ticks\":\"\"}},\"ternary\":{\"bgcolor\":\"#E5ECF6\",\"aaxis\":{\"gridcolor\":\"white\",\"linecolor\":\"white\",\"ticks\":\"\"},\"baxis\":{\"gridcolor\":\"white\",\"linecolor\":\"white\",\"ticks\":\"\"},\"caxis\":{\"gridcolor\":\"white\",\"linecolor\":\"white\",\"ticks\":\"\"}},\"coloraxis\":{\"colorbar\":{\"outlinewidth\":0,\"ticks\":\"\"}},\"colorscale\":{\"sequential\":[[0.0,\"#0d0887\"],[0.1111111111111111,\"#46039f\"],[0.2222222222222222,\"#7201a8\"],[0.3333333333333333,\"#9c179e\"],[0.4444444444444444,\"#bd3786\"],[0.5555555555555556,\"#d8576b\"],[0.6666666666666666,\"#ed7953\"],[0.7777777777777778,\"#fb9f3a\"],[0.8888888888888888,\"#fdca26\"],[1.0,\"#f0f921\"]],\"sequentialminus\":[[0.0,\"#0d0887\"],[0.1111111111111111,\"#46039f\"],[0.2222222222222222,\"#7201a8\"],[0.3333333333333333,\"#9c179e\"],[0.4444444444444444,\"#bd3786\"],[0.5555555555555556,\"#d8576b\"],[0.6666666666666666,\"#ed7953\"],[0.7777777777777778,\"#fb9f3a\"],[0.8888888888888888,\"#fdca26\"],[1.0,\"#f0f921\"]],\"diverging\":[[0,\"#8e0152\"],[0.1,\"#c51b7d\"],[0.2,\"#de77ae\"],[0.3,\"#f1b6da\"],[0.4,\"#fde0ef\"],[0.5,\"#f7f7f7\"],[0.6,\"#e6f5d0\"],[0.7,\"#b8e186\"],[0.8,\"#7fbc41\"],[0.9,\"#4d9221\"],[1,\"#276419\"]]},\"xaxis\":{\"gridcolor\":\"white\",\"linecolor\":\"white\",\"ticks\":\"\",\"title\":{\"standoff\":15},\"zerolinecolor\":\"white\",\"automargin\":true,\"zerolinewidth\":2},\"yaxis\":{\"gridcolor\":\"white\",\"linecolor\":\"white\",\"ticks\":\"\",\"title\":{\"standoff\":15},\"zerolinecolor\":\"white\",\"automargin\":true,\"zerolinewidth\":2},\"scene\":{\"xaxis\":{\"backgroundcolor\":\"#E5ECF6\",\"gridcolor\":\"white\",\"linecolor\":\"white\",\"showbackground\":true,\"ticks\":\"\",\"zerolinecolor\":\"white\",\"gridwidth\":2},\"yaxis\":{\"backgroundcolor\":\"#E5ECF6\",\"gridcolor\":\"white\",\"linecolor\":\"white\",\"showbackground\":true,\"ticks\":\"\",\"zerolinecolor\":\"white\",\"gridwidth\":2},\"zaxis\":{\"backgroundcolor\":\"#E5ECF6\",\"gridcolor\":\"white\",\"linecolor\":\"white\",\"showbackground\":true,\"ticks\":\"\",\"zerolinecolor\":\"white\",\"gridwidth\":2}},\"shapedefaults\":{\"line\":{\"color\":\"#2a3f5f\"}},\"annotationdefaults\":{\"arrowcolor\":\"#2a3f5f\",\"arrowhead\":0,\"arrowwidth\":1},\"geo\":{\"bgcolor\":\"white\",\"landcolor\":\"#E5ECF6\",\"subunitcolor\":\"white\",\"showland\":true,\"showlakes\":true,\"lakecolor\":\"white\"},\"title\":{\"x\":0.05},\"mapbox\":{\"style\":\"light\"}}},\"xaxis\":{\"anchor\":\"y\",\"domain\":[0.0,1.0],\"title\":{\"text\":\"Etat\"}},\"yaxis\":{\"anchor\":\"x\",\"domain\":[0.0,1.0],\"title\":{\"text\":\"nombre de victimes pour 1000 par incident\"}},\"legend\":{\"title\":{\"text\":\"Type de victime\"},\"tracegroupgap\":0},\"title\":{\"text\":\"Nombre moyen de victimes d'incident par arme \\u00e0 feu par Etat\"},\"barmode\":\"group\"},                        {\"responsive\": true}                    ).then(function(){\n",
       "                            \n",
       "var gd = document.getElementById('83b0ea36-a60a-4ec3-9067-d34f0c2f0323');\n",
       "var x = new MutationObserver(function (mutations, observer) {{\n",
       "        var display = window.getComputedStyle(gd).display;\n",
       "        if (!display || display === 'none') {{\n",
       "            console.log([gd, 'removed!']);\n",
       "            Plotly.purge(gd);\n",
       "            observer.disconnect();\n",
       "        }}\n",
       "}});\n",
       "\n",
       "// Listen for the removal of the full notebook cells\n",
       "var notebookContainer = gd.closest('#notebook-container');\n",
       "if (notebookContainer) {{\n",
       "    x.observe(notebookContainer, {childList: true});\n",
       "}}\n",
       "\n",
       "// Listen for the clearing of the current output cell\n",
       "var outputEl = gd.closest('.output');\n",
       "if (outputEl) {{\n",
       "    x.observe(outputEl, {childList: true});\n",
       "}}\n",
       "\n",
       "                        })                };                });            </script>        </div>"
      ]
     },
     "metadata": {},
     "output_type": "display_data"
    }
   ],
   "source": [
    "grouped_data7 = base_totale.groupby('state').agg({\n",
    "    'n_injured': 'sum',\n",
    "    'n_killed': 'sum',\n",
    "    'resident_pop_year_2015':'sum'\n",
    "}).reset_index()\n",
    "grouped_data7['injured_per_1K']=grouped_data7[\"n_injured\"]/grouped_data7['resident_pop_year_2015']*100\n",
    "grouped_data7['killed_per_1K']=grouped_data7[\"n_killed\"]/grouped_data7['resident_pop_year_2015']*100\n",
    "\n",
    "fig7 = px.bar(\n",
    "    grouped_data7,\n",
    "    x=grouped_data7['state'],\n",
    "    y=['injured_per_1K', 'killed_per_1K'],\n",
    "    labels={\"state\": \"Etat\", \"value\": \"nombre de victimes pour 1000 par incident\", \"variable\": \"Type de victime\"},\n",
    "    title=\"Nombre moyen de victimes d'incident par arme à feu par Etat\",\n",
    "    color_discrete_map={\"n_injured\": \"firebrick\", \"n_killed\": \"steelblue\"},\n",
    ")\n",
    "\n",
    "fig7.update_layout(barmode='group')  # Display bars side by side\n",
    "\n",
    "fig7.show()#truc chelou pour le nombre "
   ]
  },
  {
   "cell_type": "code",
   "execution_count": 83,
   "metadata": {},
   "outputs": [
    {
     "data": {
      "text/html": [
       "<div>\n",
       "<style scoped>\n",
       "    .dataframe tbody tr th:only-of-type {\n",
       "        vertical-align: middle;\n",
       "    }\n",
       "\n",
       "    .dataframe tbody tr th {\n",
       "        vertical-align: top;\n",
       "    }\n",
       "\n",
       "    .dataframe thead th {\n",
       "        text-align: right;\n",
       "    }\n",
       "</style>\n",
       "<table border=\"1\" class=\"dataframe\">\n",
       "  <thead>\n",
       "    <tr style=\"text-align: right;\">\n",
       "      <th></th>\n",
       "      <th>state</th>\n",
       "      <th>n_injured</th>\n",
       "      <th>n_killed</th>\n",
       "      <th>resident_pop_year_2015</th>\n",
       "      <th>injured_per_1K</th>\n",
       "      <th>killed_per_1K</th>\n",
       "    </tr>\n",
       "  </thead>\n",
       "  <tbody>\n",
       "    <tr>\n",
       "      <th>0</th>\n",
       "      <td>Alabama</td>\n",
       "      <td>2952</td>\n",
       "      <td>1821</td>\n",
       "      <td>1.768880e+06</td>\n",
       "      <td>0.001669</td>\n",
       "      <td>0.001029</td>\n",
       "    </tr>\n",
       "    <tr>\n",
       "      <th>1</th>\n",
       "      <td>Arizona</td>\n",
       "      <td>1060</td>\n",
       "      <td>1063</td>\n",
       "      <td>6.807424e+06</td>\n",
       "      <td>0.000156</td>\n",
       "      <td>0.000156</td>\n",
       "    </tr>\n",
       "    <tr>\n",
       "      <th>2</th>\n",
       "      <td>Arkansas</td>\n",
       "      <td>1302</td>\n",
       "      <td>735</td>\n",
       "      <td>5.693581e+05</td>\n",
       "      <td>0.002287</td>\n",
       "      <td>0.001291</td>\n",
       "    </tr>\n",
       "    <tr>\n",
       "      <th>3</th>\n",
       "      <td>California</td>\n",
       "      <td>7504</td>\n",
       "      <td>5397</td>\n",
       "      <td>4.944978e+07</td>\n",
       "      <td>0.000152</td>\n",
       "      <td>0.000109</td>\n",
       "    </tr>\n",
       "    <tr>\n",
       "      <th>4</th>\n",
       "      <td>Colorado</td>\n",
       "      <td>1088</td>\n",
       "      <td>742</td>\n",
       "      <td>1.460468e+06</td>\n",
       "      <td>0.000745</td>\n",
       "      <td>0.000508</td>\n",
       "    </tr>\n",
       "    <tr>\n",
       "      <th>5</th>\n",
       "      <td>Connecticut</td>\n",
       "      <td>1221</td>\n",
       "      <td>326</td>\n",
       "      <td>2.475435e+06</td>\n",
       "      <td>0.000493</td>\n",
       "      <td>0.000132</td>\n",
       "    </tr>\n",
       "    <tr>\n",
       "      <th>6</th>\n",
       "      <td>Delaware</td>\n",
       "      <td>838</td>\n",
       "      <td>209</td>\n",
       "      <td>7.328678e+05</td>\n",
       "      <td>0.001143</td>\n",
       "      <td>0.000285</td>\n",
       "    </tr>\n",
       "    <tr>\n",
       "      <th>7</th>\n",
       "      <td>District of Columbia</td>\n",
       "      <td>1377</td>\n",
       "      <td>430</td>\n",
       "      <td>2.098748e+06</td>\n",
       "      <td>0.000656</td>\n",
       "      <td>0.000205</td>\n",
       "    </tr>\n",
       "    <tr>\n",
       "      <th>8</th>\n",
       "      <td>Florida</td>\n",
       "      <td>6858</td>\n",
       "      <td>3734</td>\n",
       "      <td>1.448326e+07</td>\n",
       "      <td>0.000474</td>\n",
       "      <td>0.000258</td>\n",
       "    </tr>\n",
       "    <tr>\n",
       "      <th>9</th>\n",
       "      <td>Georgia</td>\n",
       "      <td>3964</td>\n",
       "      <td>2348</td>\n",
       "      <td>2.908065e+06</td>\n",
       "      <td>0.001363</td>\n",
       "      <td>0.000807</td>\n",
       "    </tr>\n",
       "    <tr>\n",
       "      <th>10</th>\n",
       "      <td>Idaho</td>\n",
       "      <td>135</td>\n",
       "      <td>158</td>\n",
       "      <td>1.102621e+05</td>\n",
       "      <td>0.001224</td>\n",
       "      <td>0.001433</td>\n",
       "    </tr>\n",
       "    <tr>\n",
       "      <th>11</th>\n",
       "      <td>Illinois</td>\n",
       "      <td>13106</td>\n",
       "      <td>3124</td>\n",
       "      <td>6.308163e+07</td>\n",
       "      <td>0.000208</td>\n",
       "      <td>0.000050</td>\n",
       "    </tr>\n",
       "    <tr>\n",
       "      <th>12</th>\n",
       "      <td>Indiana</td>\n",
       "      <td>2819</td>\n",
       "      <td>1485</td>\n",
       "      <td>2.717179e+06</td>\n",
       "      <td>0.001037</td>\n",
       "      <td>0.000547</td>\n",
       "    </tr>\n",
       "    <tr>\n",
       "      <th>13</th>\n",
       "      <td>Iowa</td>\n",
       "      <td>801</td>\n",
       "      <td>250</td>\n",
       "      <td>4.805238e+05</td>\n",
       "      <td>0.001667</td>\n",
       "      <td>0.000520</td>\n",
       "    </tr>\n",
       "    <tr>\n",
       "      <th>14</th>\n",
       "      <td>Kansas</td>\n",
       "      <td>902</td>\n",
       "      <td>512</td>\n",
       "      <td>6.088511e+05</td>\n",
       "      <td>0.001481</td>\n",
       "      <td>0.000841</td>\n",
       "    </tr>\n",
       "    <tr>\n",
       "      <th>15</th>\n",
       "      <td>Kentucky</td>\n",
       "      <td>1818</td>\n",
       "      <td>1018</td>\n",
       "      <td>1.394073e+06</td>\n",
       "      <td>0.001304</td>\n",
       "      <td>0.000730</td>\n",
       "    </tr>\n",
       "    <tr>\n",
       "      <th>16</th>\n",
       "      <td>Louisiana</td>\n",
       "      <td>4225</td>\n",
       "      <td>2021</td>\n",
       "      <td>2.335815e+06</td>\n",
       "      <td>0.001809</td>\n",
       "      <td>0.000865</td>\n",
       "    </tr>\n",
       "    <tr>\n",
       "      <th>17</th>\n",
       "      <td>Maine</td>\n",
       "      <td>132</td>\n",
       "      <td>111</td>\n",
       "      <td>1.091099e+05</td>\n",
       "      <td>0.001210</td>\n",
       "      <td>0.001017</td>\n",
       "    </tr>\n",
       "    <tr>\n",
       "      <th>18</th>\n",
       "      <td>Maryland</td>\n",
       "      <td>10668</td>\n",
       "      <td>4921</td>\n",
       "      <td>1.270321e+07</td>\n",
       "      <td>0.000840</td>\n",
       "      <td>0.000387</td>\n",
       "    </tr>\n",
       "    <tr>\n",
       "      <th>19</th>\n",
       "      <td>Massachusetts</td>\n",
       "      <td>1635</td>\n",
       "      <td>441</td>\n",
       "      <td>4.033267e+06</td>\n",
       "      <td>0.000405</td>\n",
       "      <td>0.000109</td>\n",
       "    </tr>\n",
       "    <tr>\n",
       "      <th>20</th>\n",
       "      <td>Michigan</td>\n",
       "      <td>2857</td>\n",
       "      <td>1480</td>\n",
       "      <td>5.159535e+06</td>\n",
       "      <td>0.000554</td>\n",
       "      <td>0.000287</td>\n",
       "    </tr>\n",
       "    <tr>\n",
       "      <th>21</th>\n",
       "      <td>Minnesota</td>\n",
       "      <td>878</td>\n",
       "      <td>419</td>\n",
       "      <td>1.308712e+06</td>\n",
       "      <td>0.000671</td>\n",
       "      <td>0.000320</td>\n",
       "    </tr>\n",
       "    <tr>\n",
       "      <th>22</th>\n",
       "      <td>Mississippi</td>\n",
       "      <td>1827</td>\n",
       "      <td>1133</td>\n",
       "      <td>4.081004e+05</td>\n",
       "      <td>0.004477</td>\n",
       "      <td>0.002776</td>\n",
       "    </tr>\n",
       "    <tr>\n",
       "      <th>23</th>\n",
       "      <td>Missouri</td>\n",
       "      <td>9335</td>\n",
       "      <td>5227</td>\n",
       "      <td>8.715252e+06</td>\n",
       "      <td>0.001071</td>\n",
       "      <td>0.000600</td>\n",
       "    </tr>\n",
       "    <tr>\n",
       "      <th>24</th>\n",
       "      <td>Montana</td>\n",
       "      <td>130</td>\n",
       "      <td>148</td>\n",
       "      <td>5.320136e+04</td>\n",
       "      <td>0.002444</td>\n",
       "      <td>0.002782</td>\n",
       "    </tr>\n",
       "    <tr>\n",
       "      <th>25</th>\n",
       "      <td>Nebraska</td>\n",
       "      <td>654</td>\n",
       "      <td>213</td>\n",
       "      <td>6.483877e+05</td>\n",
       "      <td>0.001009</td>\n",
       "      <td>0.000329</td>\n",
       "    </tr>\n",
       "    <tr>\n",
       "      <th>26</th>\n",
       "      <td>Nevada</td>\n",
       "      <td>919</td>\n",
       "      <td>754</td>\n",
       "      <td>3.147158e+06</td>\n",
       "      <td>0.000292</td>\n",
       "      <td>0.000240</td>\n",
       "    </tr>\n",
       "    <tr>\n",
       "      <th>27</th>\n",
       "      <td>New Hampshire</td>\n",
       "      <td>137</td>\n",
       "      <td>85</td>\n",
       "      <td>2.473845e+05</td>\n",
       "      <td>0.000554</td>\n",
       "      <td>0.000344</td>\n",
       "    </tr>\n",
       "    <tr>\n",
       "      <th>28</th>\n",
       "      <td>New Jersey</td>\n",
       "      <td>2475</td>\n",
       "      <td>1108</td>\n",
       "      <td>2.766943e+06</td>\n",
       "      <td>0.000894</td>\n",
       "      <td>0.000400</td>\n",
       "    </tr>\n",
       "    <tr>\n",
       "      <th>29</th>\n",
       "      <td>New Mexico</td>\n",
       "      <td>528</td>\n",
       "      <td>476</td>\n",
       "      <td>5.894472e+05</td>\n",
       "      <td>0.000896</td>\n",
       "      <td>0.000808</td>\n",
       "    </tr>\n",
       "    <tr>\n",
       "      <th>30</th>\n",
       "      <td>New York</td>\n",
       "      <td>4942</td>\n",
       "      <td>1653</td>\n",
       "      <td>1.044133e+07</td>\n",
       "      <td>0.000473</td>\n",
       "      <td>0.000158</td>\n",
       "    </tr>\n",
       "    <tr>\n",
       "      <th>31</th>\n",
       "      <td>North Carolina</td>\n",
       "      <td>4488</td>\n",
       "      <td>2110</td>\n",
       "      <td>3.171288e+06</td>\n",
       "      <td>0.001415</td>\n",
       "      <td>0.000665</td>\n",
       "    </tr>\n",
       "    <tr>\n",
       "      <th>32</th>\n",
       "      <td>North Dakota</td>\n",
       "      <td>126</td>\n",
       "      <td>64</td>\n",
       "      <td>4.166396e+04</td>\n",
       "      <td>0.003024</td>\n",
       "      <td>0.001536</td>\n",
       "    </tr>\n",
       "    <tr>\n",
       "      <th>33</th>\n",
       "      <td>Ohio</td>\n",
       "      <td>5475</td>\n",
       "      <td>2326</td>\n",
       "      <td>7.086912e+06</td>\n",
       "      <td>0.000773</td>\n",
       "      <td>0.000328</td>\n",
       "    </tr>\n",
       "    <tr>\n",
       "      <th>34</th>\n",
       "      <td>Oklahoma</td>\n",
       "      <td>1485</td>\n",
       "      <td>885</td>\n",
       "      <td>1.586115e+06</td>\n",
       "      <td>0.000936</td>\n",
       "      <td>0.000558</td>\n",
       "    </tr>\n",
       "    <tr>\n",
       "      <th>35</th>\n",
       "      <td>Oregon</td>\n",
       "      <td>673</td>\n",
       "      <td>419</td>\n",
       "      <td>1.046727e+06</td>\n",
       "      <td>0.000643</td>\n",
       "      <td>0.000400</td>\n",
       "    </tr>\n",
       "    <tr>\n",
       "      <th>36</th>\n",
       "      <td>Pennsylvania</td>\n",
       "      <td>4882</td>\n",
       "      <td>2254</td>\n",
       "      <td>7.575226e+06</td>\n",
       "      <td>0.000644</td>\n",
       "      <td>0.000298</td>\n",
       "    </tr>\n",
       "    <tr>\n",
       "      <th>37</th>\n",
       "      <td>Rhode Island</td>\n",
       "      <td>338</td>\n",
       "      <td>56</td>\n",
       "      <td>5.062311e+05</td>\n",
       "      <td>0.000668</td>\n",
       "      <td>0.000111</td>\n",
       "    </tr>\n",
       "    <tr>\n",
       "      <th>38</th>\n",
       "      <td>South Carolina</td>\n",
       "      <td>3010</td>\n",
       "      <td>1517</td>\n",
       "      <td>1.611118e+06</td>\n",
       "      <td>0.001868</td>\n",
       "      <td>0.000942</td>\n",
       "    </tr>\n",
       "    <tr>\n",
       "      <th>39</th>\n",
       "      <td>South Dakota</td>\n",
       "      <td>107</td>\n",
       "      <td>82</td>\n",
       "      <td>5.940532e+04</td>\n",
       "      <td>0.001801</td>\n",
       "      <td>0.001380</td>\n",
       "    </tr>\n",
       "    <tr>\n",
       "      <th>40</th>\n",
       "      <td>Tennessee</td>\n",
       "      <td>4324</td>\n",
       "      <td>1716</td>\n",
       "      <td>3.995158e+06</td>\n",
       "      <td>0.001082</td>\n",
       "      <td>0.000430</td>\n",
       "    </tr>\n",
       "    <tr>\n",
       "      <th>41</th>\n",
       "      <td>Texas</td>\n",
       "      <td>5792</td>\n",
       "      <td>4714</td>\n",
       "      <td>2.392572e+07</td>\n",
       "      <td>0.000242</td>\n",
       "      <td>0.000197</td>\n",
       "    </tr>\n",
       "    <tr>\n",
       "      <th>42</th>\n",
       "      <td>Utah</td>\n",
       "      <td>375</td>\n",
       "      <td>259</td>\n",
       "      <td>7.956434e+05</td>\n",
       "      <td>0.000471</td>\n",
       "      <td>0.000326</td>\n",
       "    </tr>\n",
       "    <tr>\n",
       "      <th>43</th>\n",
       "      <td>Vermont</td>\n",
       "      <td>67</td>\n",
       "      <td>53</td>\n",
       "      <td>3.178690e+04</td>\n",
       "      <td>0.002108</td>\n",
       "      <td>0.001667</td>\n",
       "    </tr>\n",
       "    <tr>\n",
       "      <th>44</th>\n",
       "      <td>Virginia</td>\n",
       "      <td>11053</td>\n",
       "      <td>4621</td>\n",
       "      <td>1.921278e+06</td>\n",
       "      <td>0.005753</td>\n",
       "      <td>0.002405</td>\n",
       "    </tr>\n",
       "    <tr>\n",
       "      <th>45</th>\n",
       "      <td>Washington</td>\n",
       "      <td>1240</td>\n",
       "      <td>790</td>\n",
       "      <td>3.480132e+06</td>\n",
       "      <td>0.000356</td>\n",
       "      <td>0.000227</td>\n",
       "    </tr>\n",
       "    <tr>\n",
       "      <th>46</th>\n",
       "      <td>West Virginia</td>\n",
       "      <td>609</td>\n",
       "      <td>311</td>\n",
       "      <td>1.446857e+05</td>\n",
       "      <td>0.004209</td>\n",
       "      <td>0.002149</td>\n",
       "    </tr>\n",
       "    <tr>\n",
       "      <th>47</th>\n",
       "      <td>Wisconsin</td>\n",
       "      <td>2076</td>\n",
       "      <td>815</td>\n",
       "      <td>2.998472e+06</td>\n",
       "      <td>0.000692</td>\n",
       "      <td>0.000272</td>\n",
       "    </tr>\n",
       "    <tr>\n",
       "      <th>48</th>\n",
       "      <td>Wyoming</td>\n",
       "      <td>52</td>\n",
       "      <td>71</td>\n",
       "      <td>3.601788e+04</td>\n",
       "      <td>0.001444</td>\n",
       "      <td>0.001971</td>\n",
       "    </tr>\n",
       "  </tbody>\n",
       "</table>\n",
       "</div>"
      ],
      "text/plain": [
       "                   state  n_injured  n_killed  resident_pop_year_2015  \\\n",
       "0                Alabama       2952      1821            1.768880e+06   \n",
       "1                Arizona       1060      1063            6.807424e+06   \n",
       "2               Arkansas       1302       735            5.693581e+05   \n",
       "3             California       7504      5397            4.944978e+07   \n",
       "4               Colorado       1088       742            1.460468e+06   \n",
       "5            Connecticut       1221       326            2.475435e+06   \n",
       "6               Delaware        838       209            7.328678e+05   \n",
       "7   District of Columbia       1377       430            2.098748e+06   \n",
       "8                Florida       6858      3734            1.448326e+07   \n",
       "9                Georgia       3964      2348            2.908065e+06   \n",
       "10                 Idaho        135       158            1.102621e+05   \n",
       "11              Illinois      13106      3124            6.308163e+07   \n",
       "12               Indiana       2819      1485            2.717179e+06   \n",
       "13                  Iowa        801       250            4.805238e+05   \n",
       "14                Kansas        902       512            6.088511e+05   \n",
       "15              Kentucky       1818      1018            1.394073e+06   \n",
       "16             Louisiana       4225      2021            2.335815e+06   \n",
       "17                 Maine        132       111            1.091099e+05   \n",
       "18              Maryland      10668      4921            1.270321e+07   \n",
       "19         Massachusetts       1635       441            4.033267e+06   \n",
       "20              Michigan       2857      1480            5.159535e+06   \n",
       "21             Minnesota        878       419            1.308712e+06   \n",
       "22           Mississippi       1827      1133            4.081004e+05   \n",
       "23              Missouri       9335      5227            8.715252e+06   \n",
       "24               Montana        130       148            5.320136e+04   \n",
       "25              Nebraska        654       213            6.483877e+05   \n",
       "26                Nevada        919       754            3.147158e+06   \n",
       "27         New Hampshire        137        85            2.473845e+05   \n",
       "28            New Jersey       2475      1108            2.766943e+06   \n",
       "29            New Mexico        528       476            5.894472e+05   \n",
       "30              New York       4942      1653            1.044133e+07   \n",
       "31        North Carolina       4488      2110            3.171288e+06   \n",
       "32          North Dakota        126        64            4.166396e+04   \n",
       "33                  Ohio       5475      2326            7.086912e+06   \n",
       "34              Oklahoma       1485       885            1.586115e+06   \n",
       "35                Oregon        673       419            1.046727e+06   \n",
       "36          Pennsylvania       4882      2254            7.575226e+06   \n",
       "37          Rhode Island        338        56            5.062311e+05   \n",
       "38        South Carolina       3010      1517            1.611118e+06   \n",
       "39          South Dakota        107        82            5.940532e+04   \n",
       "40             Tennessee       4324      1716            3.995158e+06   \n",
       "41                 Texas       5792      4714            2.392572e+07   \n",
       "42                  Utah        375       259            7.956434e+05   \n",
       "43               Vermont         67        53            3.178690e+04   \n",
       "44              Virginia      11053      4621            1.921278e+06   \n",
       "45            Washington       1240       790            3.480132e+06   \n",
       "46         West Virginia        609       311            1.446857e+05   \n",
       "47             Wisconsin       2076       815            2.998472e+06   \n",
       "48               Wyoming         52        71            3.601788e+04   \n",
       "\n",
       "    injured_per_1K  killed_per_1K  \n",
       "0         0.001669       0.001029  \n",
       "1         0.000156       0.000156  \n",
       "2         0.002287       0.001291  \n",
       "3         0.000152       0.000109  \n",
       "4         0.000745       0.000508  \n",
       "5         0.000493       0.000132  \n",
       "6         0.001143       0.000285  \n",
       "7         0.000656       0.000205  \n",
       "8         0.000474       0.000258  \n",
       "9         0.001363       0.000807  \n",
       "10        0.001224       0.001433  \n",
       "11        0.000208       0.000050  \n",
       "12        0.001037       0.000547  \n",
       "13        0.001667       0.000520  \n",
       "14        0.001481       0.000841  \n",
       "15        0.001304       0.000730  \n",
       "16        0.001809       0.000865  \n",
       "17        0.001210       0.001017  \n",
       "18        0.000840       0.000387  \n",
       "19        0.000405       0.000109  \n",
       "20        0.000554       0.000287  \n",
       "21        0.000671       0.000320  \n",
       "22        0.004477       0.002776  \n",
       "23        0.001071       0.000600  \n",
       "24        0.002444       0.002782  \n",
       "25        0.001009       0.000329  \n",
       "26        0.000292       0.000240  \n",
       "27        0.000554       0.000344  \n",
       "28        0.000894       0.000400  \n",
       "29        0.000896       0.000808  \n",
       "30        0.000473       0.000158  \n",
       "31        0.001415       0.000665  \n",
       "32        0.003024       0.001536  \n",
       "33        0.000773       0.000328  \n",
       "34        0.000936       0.000558  \n",
       "35        0.000643       0.000400  \n",
       "36        0.000644       0.000298  \n",
       "37        0.000668       0.000111  \n",
       "38        0.001868       0.000942  \n",
       "39        0.001801       0.001380  \n",
       "40        0.001082       0.000430  \n",
       "41        0.000242       0.000197  \n",
       "42        0.000471       0.000326  \n",
       "43        0.002108       0.001667  \n",
       "44        0.005753       0.002405  \n",
       "45        0.000356       0.000227  \n",
       "46        0.004209       0.002149  \n",
       "47        0.000692       0.000272  \n",
       "48        0.001444       0.001971  "
      ]
     },
     "execution_count": 83,
     "metadata": {},
     "output_type": "execute_result"
    }
   ],
   "source": [
    "grouped_data7 = base_totale.groupby('state').agg({\n",
    "    'n_injured': 'sum',\n",
    "    'n_killed': 'sum',\n",
    "    'resident_pop_year_2015':'sum'\n",
    "}).reset_index()\n",
    "grouped_data7['injured_per_1K']=grouped_data7[\"n_injured\"]/grouped_data7['resident_pop_year_2015']\n",
    "grouped_data7['killed_per_1K']=grouped_data7[\"n_killed\"]/grouped_data7['resident_pop_year_2015']\n",
    "grouped_data7"
   ]
  },
  {
   "cell_type": "code",
   "execution_count": 79,
   "metadata": {},
   "outputs": [
    {
     "data": {
      "text/html": [
       "<div>\n",
       "<style scoped>\n",
       "    .dataframe tbody tr th:only-of-type {\n",
       "        vertical-align: middle;\n",
       "    }\n",
       "\n",
       "    .dataframe tbody tr th {\n",
       "        vertical-align: top;\n",
       "    }\n",
       "\n",
       "    .dataframe thead th {\n",
       "        text-align: right;\n",
       "    }\n",
       "</style>\n",
       "<table border=\"1\" class=\"dataframe\">\n",
       "  <thead>\n",
       "    <tr style=\"text-align: right;\">\n",
       "      <th></th>\n",
       "      <th>state</th>\n",
       "      <th>n_injured</th>\n",
       "      <th>n_killed</th>\n",
       "    </tr>\n",
       "  </thead>\n",
       "  <tbody>\n",
       "    <tr>\n",
       "      <th>0</th>\n",
       "      <td>Alabama</td>\n",
       "      <td>2952</td>\n",
       "      <td>1821</td>\n",
       "    </tr>\n",
       "    <tr>\n",
       "      <th>1</th>\n",
       "      <td>Arizona</td>\n",
       "      <td>1060</td>\n",
       "      <td>1063</td>\n",
       "    </tr>\n",
       "    <tr>\n",
       "      <th>2</th>\n",
       "      <td>Arkansas</td>\n",
       "      <td>1302</td>\n",
       "      <td>735</td>\n",
       "    </tr>\n",
       "    <tr>\n",
       "      <th>3</th>\n",
       "      <td>California</td>\n",
       "      <td>7504</td>\n",
       "      <td>5397</td>\n",
       "    </tr>\n",
       "    <tr>\n",
       "      <th>4</th>\n",
       "      <td>Colorado</td>\n",
       "      <td>1088</td>\n",
       "      <td>742</td>\n",
       "    </tr>\n",
       "    <tr>\n",
       "      <th>5</th>\n",
       "      <td>Connecticut</td>\n",
       "      <td>1221</td>\n",
       "      <td>326</td>\n",
       "    </tr>\n",
       "    <tr>\n",
       "      <th>6</th>\n",
       "      <td>Delaware</td>\n",
       "      <td>838</td>\n",
       "      <td>209</td>\n",
       "    </tr>\n",
       "    <tr>\n",
       "      <th>7</th>\n",
       "      <td>District of Columbia</td>\n",
       "      <td>1377</td>\n",
       "      <td>430</td>\n",
       "    </tr>\n",
       "    <tr>\n",
       "      <th>8</th>\n",
       "      <td>Florida</td>\n",
       "      <td>6858</td>\n",
       "      <td>3734</td>\n",
       "    </tr>\n",
       "    <tr>\n",
       "      <th>9</th>\n",
       "      <td>Georgia</td>\n",
       "      <td>3964</td>\n",
       "      <td>2348</td>\n",
       "    </tr>\n",
       "    <tr>\n",
       "      <th>10</th>\n",
       "      <td>Idaho</td>\n",
       "      <td>135</td>\n",
       "      <td>158</td>\n",
       "    </tr>\n",
       "    <tr>\n",
       "      <th>11</th>\n",
       "      <td>Illinois</td>\n",
       "      <td>13106</td>\n",
       "      <td>3124</td>\n",
       "    </tr>\n",
       "    <tr>\n",
       "      <th>12</th>\n",
       "      <td>Indiana</td>\n",
       "      <td>2819</td>\n",
       "      <td>1485</td>\n",
       "    </tr>\n",
       "    <tr>\n",
       "      <th>13</th>\n",
       "      <td>Iowa</td>\n",
       "      <td>801</td>\n",
       "      <td>250</td>\n",
       "    </tr>\n",
       "    <tr>\n",
       "      <th>14</th>\n",
       "      <td>Kansas</td>\n",
       "      <td>902</td>\n",
       "      <td>512</td>\n",
       "    </tr>\n",
       "    <tr>\n",
       "      <th>15</th>\n",
       "      <td>Kentucky</td>\n",
       "      <td>1818</td>\n",
       "      <td>1018</td>\n",
       "    </tr>\n",
       "    <tr>\n",
       "      <th>16</th>\n",
       "      <td>Louisiana</td>\n",
       "      <td>4225</td>\n",
       "      <td>2021</td>\n",
       "    </tr>\n",
       "    <tr>\n",
       "      <th>17</th>\n",
       "      <td>Maine</td>\n",
       "      <td>132</td>\n",
       "      <td>111</td>\n",
       "    </tr>\n",
       "    <tr>\n",
       "      <th>18</th>\n",
       "      <td>Maryland</td>\n",
       "      <td>10668</td>\n",
       "      <td>4921</td>\n",
       "    </tr>\n",
       "    <tr>\n",
       "      <th>19</th>\n",
       "      <td>Massachusetts</td>\n",
       "      <td>1635</td>\n",
       "      <td>441</td>\n",
       "    </tr>\n",
       "    <tr>\n",
       "      <th>20</th>\n",
       "      <td>Michigan</td>\n",
       "      <td>2857</td>\n",
       "      <td>1480</td>\n",
       "    </tr>\n",
       "    <tr>\n",
       "      <th>21</th>\n",
       "      <td>Minnesota</td>\n",
       "      <td>878</td>\n",
       "      <td>419</td>\n",
       "    </tr>\n",
       "    <tr>\n",
       "      <th>22</th>\n",
       "      <td>Mississippi</td>\n",
       "      <td>1827</td>\n",
       "      <td>1133</td>\n",
       "    </tr>\n",
       "    <tr>\n",
       "      <th>23</th>\n",
       "      <td>Missouri</td>\n",
       "      <td>9335</td>\n",
       "      <td>5227</td>\n",
       "    </tr>\n",
       "    <tr>\n",
       "      <th>24</th>\n",
       "      <td>Montana</td>\n",
       "      <td>130</td>\n",
       "      <td>148</td>\n",
       "    </tr>\n",
       "    <tr>\n",
       "      <th>25</th>\n",
       "      <td>Nebraska</td>\n",
       "      <td>654</td>\n",
       "      <td>213</td>\n",
       "    </tr>\n",
       "    <tr>\n",
       "      <th>26</th>\n",
       "      <td>Nevada</td>\n",
       "      <td>919</td>\n",
       "      <td>754</td>\n",
       "    </tr>\n",
       "    <tr>\n",
       "      <th>27</th>\n",
       "      <td>New Hampshire</td>\n",
       "      <td>137</td>\n",
       "      <td>85</td>\n",
       "    </tr>\n",
       "    <tr>\n",
       "      <th>28</th>\n",
       "      <td>New Jersey</td>\n",
       "      <td>2475</td>\n",
       "      <td>1108</td>\n",
       "    </tr>\n",
       "    <tr>\n",
       "      <th>29</th>\n",
       "      <td>New Mexico</td>\n",
       "      <td>528</td>\n",
       "      <td>476</td>\n",
       "    </tr>\n",
       "    <tr>\n",
       "      <th>30</th>\n",
       "      <td>New York</td>\n",
       "      <td>4942</td>\n",
       "      <td>1653</td>\n",
       "    </tr>\n",
       "    <tr>\n",
       "      <th>31</th>\n",
       "      <td>North Carolina</td>\n",
       "      <td>4488</td>\n",
       "      <td>2110</td>\n",
       "    </tr>\n",
       "    <tr>\n",
       "      <th>32</th>\n",
       "      <td>North Dakota</td>\n",
       "      <td>126</td>\n",
       "      <td>64</td>\n",
       "    </tr>\n",
       "    <tr>\n",
       "      <th>33</th>\n",
       "      <td>Ohio</td>\n",
       "      <td>5475</td>\n",
       "      <td>2326</td>\n",
       "    </tr>\n",
       "    <tr>\n",
       "      <th>34</th>\n",
       "      <td>Oklahoma</td>\n",
       "      <td>1485</td>\n",
       "      <td>885</td>\n",
       "    </tr>\n",
       "    <tr>\n",
       "      <th>35</th>\n",
       "      <td>Oregon</td>\n",
       "      <td>673</td>\n",
       "      <td>419</td>\n",
       "    </tr>\n",
       "    <tr>\n",
       "      <th>36</th>\n",
       "      <td>Pennsylvania</td>\n",
       "      <td>4882</td>\n",
       "      <td>2254</td>\n",
       "    </tr>\n",
       "    <tr>\n",
       "      <th>37</th>\n",
       "      <td>Rhode Island</td>\n",
       "      <td>338</td>\n",
       "      <td>56</td>\n",
       "    </tr>\n",
       "    <tr>\n",
       "      <th>38</th>\n",
       "      <td>South Carolina</td>\n",
       "      <td>3010</td>\n",
       "      <td>1517</td>\n",
       "    </tr>\n",
       "    <tr>\n",
       "      <th>39</th>\n",
       "      <td>South Dakota</td>\n",
       "      <td>107</td>\n",
       "      <td>82</td>\n",
       "    </tr>\n",
       "    <tr>\n",
       "      <th>40</th>\n",
       "      <td>Tennessee</td>\n",
       "      <td>4324</td>\n",
       "      <td>1716</td>\n",
       "    </tr>\n",
       "    <tr>\n",
       "      <th>41</th>\n",
       "      <td>Texas</td>\n",
       "      <td>5792</td>\n",
       "      <td>4714</td>\n",
       "    </tr>\n",
       "    <tr>\n",
       "      <th>42</th>\n",
       "      <td>Utah</td>\n",
       "      <td>375</td>\n",
       "      <td>259</td>\n",
       "    </tr>\n",
       "    <tr>\n",
       "      <th>43</th>\n",
       "      <td>Vermont</td>\n",
       "      <td>67</td>\n",
       "      <td>53</td>\n",
       "    </tr>\n",
       "    <tr>\n",
       "      <th>44</th>\n",
       "      <td>Virginia</td>\n",
       "      <td>11053</td>\n",
       "      <td>4621</td>\n",
       "    </tr>\n",
       "    <tr>\n",
       "      <th>45</th>\n",
       "      <td>Washington</td>\n",
       "      <td>1240</td>\n",
       "      <td>790</td>\n",
       "    </tr>\n",
       "    <tr>\n",
       "      <th>46</th>\n",
       "      <td>West Virginia</td>\n",
       "      <td>609</td>\n",
       "      <td>311</td>\n",
       "    </tr>\n",
       "    <tr>\n",
       "      <th>47</th>\n",
       "      <td>Wisconsin</td>\n",
       "      <td>2076</td>\n",
       "      <td>815</td>\n",
       "    </tr>\n",
       "    <tr>\n",
       "      <th>48</th>\n",
       "      <td>Wyoming</td>\n",
       "      <td>52</td>\n",
       "      <td>71</td>\n",
       "    </tr>\n",
       "  </tbody>\n",
       "</table>\n",
       "</div>"
      ],
      "text/plain": [
       "                   state  n_injured  n_killed\n",
       "0                Alabama       2952      1821\n",
       "1                Arizona       1060      1063\n",
       "2               Arkansas       1302       735\n",
       "3             California       7504      5397\n",
       "4               Colorado       1088       742\n",
       "5            Connecticut       1221       326\n",
       "6               Delaware        838       209\n",
       "7   District of Columbia       1377       430\n",
       "8                Florida       6858      3734\n",
       "9                Georgia       3964      2348\n",
       "10                 Idaho        135       158\n",
       "11              Illinois      13106      3124\n",
       "12               Indiana       2819      1485\n",
       "13                  Iowa        801       250\n",
       "14                Kansas        902       512\n",
       "15              Kentucky       1818      1018\n",
       "16             Louisiana       4225      2021\n",
       "17                 Maine        132       111\n",
       "18              Maryland      10668      4921\n",
       "19         Massachusetts       1635       441\n",
       "20              Michigan       2857      1480\n",
       "21             Minnesota        878       419\n",
       "22           Mississippi       1827      1133\n",
       "23              Missouri       9335      5227\n",
       "24               Montana        130       148\n",
       "25              Nebraska        654       213\n",
       "26                Nevada        919       754\n",
       "27         New Hampshire        137        85\n",
       "28            New Jersey       2475      1108\n",
       "29            New Mexico        528       476\n",
       "30              New York       4942      1653\n",
       "31        North Carolina       4488      2110\n",
       "32          North Dakota        126        64\n",
       "33                  Ohio       5475      2326\n",
       "34              Oklahoma       1485       885\n",
       "35                Oregon        673       419\n",
       "36          Pennsylvania       4882      2254\n",
       "37          Rhode Island        338        56\n",
       "38        South Carolina       3010      1517\n",
       "39          South Dakota        107        82\n",
       "40             Tennessee       4324      1716\n",
       "41                 Texas       5792      4714\n",
       "42                  Utah        375       259\n",
       "43               Vermont         67        53\n",
       "44              Virginia      11053      4621\n",
       "45            Washington       1240       790\n",
       "46         West Virginia        609       311\n",
       "47             Wisconsin       2076       815\n",
       "48               Wyoming         52        71"
      ]
     },
     "execution_count": 79,
     "metadata": {},
     "output_type": "execute_result"
    }
   ],
   "source": [
    "grouped_data5"
   ]
  }
 ],
 "metadata": {
  "kernelspec": {
   "display_name": "base",
   "language": "python",
   "name": "python3"
  },
  "language_info": {
   "codemirror_mode": {
    "name": "ipython",
    "version": 3
   },
   "file_extension": ".py",
   "mimetype": "text/x-python",
   "name": "python",
   "nbconvert_exporter": "python",
   "pygments_lexer": "ipython3",
   "version": "3.10.13"
  }
 },
 "nbformat": 4,
 "nbformat_minor": 2
}
